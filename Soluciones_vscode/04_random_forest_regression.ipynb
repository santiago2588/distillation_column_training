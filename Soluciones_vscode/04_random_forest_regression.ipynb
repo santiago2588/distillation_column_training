{
 "cells": [
  {
   "cell_type": "code",
   "execution_count": 53,
   "id": "650c3902",
   "metadata": {},
   "outputs": [],
   "source": [
    "import yaml\n",
    "import os"
   ]
  },
  {
   "cell_type": "code",
   "execution_count": 54,
   "id": "a0bbd9e9",
   "metadata": {},
   "outputs": [],
   "source": [
    "# Data wrangling\n",
    "import pandas as pd\n",
    "import numpy as np"
   ]
  },
  {
   "cell_type": "code",
   "execution_count": 55,
   "id": "a6390121",
   "metadata": {},
   "outputs": [],
   "source": [
    "# Data visualization\n",
    "import matplotlib.pyplot as plt\n",
    "import seaborn as sns\n",
    "import plotly.express as px\n",
    "from tqdm import tqdm"
   ]
  },
  {
   "cell_type": "code",
   "execution_count": 56,
   "id": "9b42e388",
   "metadata": {},
   "outputs": [],
   "source": [
    "# Models\n",
    "from sklearn.ensemble import RandomForestRegressor"
   ]
  },
  {
   "cell_type": "code",
   "execution_count": 57,
   "id": "b0996335",
   "metadata": {},
   "outputs": [],
   "source": [
    "#Hyperparameter optimization\n",
    "import optuna"
   ]
  },
  {
   "cell_type": "code",
   "execution_count": 58,
   "id": "9963d95c",
   "metadata": {},
   "outputs": [],
   "source": [
    "# Models Pipelines\n",
    "from sklearn.pipeline import Pipeline"
   ]
  },
  {
   "cell_type": "code",
   "execution_count": 59,
   "id": "c5d5c5e5",
   "metadata": {},
   "outputs": [],
   "source": [
    "# Model evaluation\n",
    "from sklearn.model_selection import train_test_split\n",
    "from sklearn.metrics import mean_squared_error, mean_absolute_error, r2_score"
   ]
  },
  {
   "cell_type": "code",
   "execution_count": 60,
   "id": "e40279ca",
   "metadata": {},
   "outputs": [],
   "source": [
    "import mlflow\n",
    "import mlflow.sklearn"
   ]
  },
  {
   "cell_type": "code",
   "execution_count": 61,
   "id": "480022b1",
   "metadata": {},
   "outputs": [
    {
     "data": {
      "text/plain": [
       "<Experiment: artifact_location=('file:///c:/Users/mjkipsz2/OneDrive - The University of '\n",
       " 'Manchester/Desktop/distillation_colum_yield/notebooks/mlruns/550582570200691247'), creation_time=1736352237514, experiment_id='550582570200691247', last_update_time=1736352237514, lifecycle_stage='active', name='distillation_tower', tags={}>"
      ]
     },
     "execution_count": 61,
     "metadata": {},
     "output_type": "execute_result"
    }
   ],
   "source": [
    "mlflow.set_tracking_uri(\"file:./mlruns\")\n",
    "mlflow.set_experiment(\"distillation_tower\")"
   ]
  },
  {
   "cell_type": "code",
   "execution_count": 62,
   "id": "10e17ed6",
   "metadata": {},
   "outputs": [],
   "source": [
    "# Save model\n",
    "import joblib"
   ]
  },
  {
   "cell_type": "code",
   "execution_count": 63,
   "id": "49fa3a41",
   "metadata": {},
   "outputs": [
    {
     "data": {
      "text/html": [
       "<div>\n",
       "<style scoped>\n",
       "    .dataframe tbody tr th:only-of-type {\n",
       "        vertical-align: middle;\n",
       "    }\n",
       "\n",
       "    .dataframe tbody tr th {\n",
       "        vertical-align: top;\n",
       "    }\n",
       "\n",
       "    .dataframe thead th {\n",
       "        text-align: right;\n",
       "    }\n",
       "</style>\n",
       "<table border=\"1\" class=\"dataframe\">\n",
       "  <thead>\n",
       "    <tr style=\"text-align: right;\">\n",
       "      <th></th>\n",
       "      <th>PressureC1_diff</th>\n",
       "      <th>FlowC1</th>\n",
       "      <th>Temp1</th>\n",
       "      <th>Yield</th>\n",
       "    </tr>\n",
       "  </thead>\n",
       "  <tbody>\n",
       "    <tr>\n",
       "      <th>0</th>\n",
       "      <td>0.0000</td>\n",
       "      <td>432.0636</td>\n",
       "      <td>139.9857</td>\n",
       "      <td>69.400623</td>\n",
       "    </tr>\n",
       "    <tr>\n",
       "      <th>1</th>\n",
       "      <td>-9.9628</td>\n",
       "      <td>487.4029</td>\n",
       "      <td>131.0470</td>\n",
       "      <td>66.532666</td>\n",
       "    </tr>\n",
       "    <tr>\n",
       "      <th>2</th>\n",
       "      <td>-0.0695</td>\n",
       "      <td>437.3516</td>\n",
       "      <td>118.2666</td>\n",
       "      <td>71.102193</td>\n",
       "    </tr>\n",
       "    <tr>\n",
       "      <th>3</th>\n",
       "      <td>0.2257</td>\n",
       "      <td>481.8314</td>\n",
       "      <td>118.1769</td>\n",
       "      <td>69.793481</td>\n",
       "    </tr>\n",
       "    <tr>\n",
       "      <th>4</th>\n",
       "      <td>-0.1678</td>\n",
       "      <td>412.6471</td>\n",
       "      <td>120.7891</td>\n",
       "      <td>71.489516</td>\n",
       "    </tr>\n",
       "  </tbody>\n",
       "</table>\n",
       "</div>"
      ],
      "text/plain": [
       "   PressureC1_diff    FlowC1     Temp1      Yield\n",
       "0           0.0000  432.0636  139.9857  69.400623\n",
       "1          -9.9628  487.4029  131.0470  66.532666\n",
       "2          -0.0695  437.3516  118.2666  71.102193\n",
       "3           0.2257  481.8314  118.1769  69.793481\n",
       "4          -0.1678  412.6471  120.7891  71.489516"
      ]
     },
     "execution_count": 63,
     "metadata": {},
     "output_type": "execute_result"
    }
   ],
   "source": [
    "# Load the configuration file\n",
    "with open('../config.yaml', 'r') as config_file:\n",
    "    config = yaml.safe_load(config_file)\n",
    "\n",
    "# Access the settings\n",
    "project_folder = config['projectFolder']\n",
    "df_path = os.path.join(project_folder, config['transformedDataFile'])\n",
    "df = pd.read_csv(df_path)\n",
    "\n",
    "# Display the first few rows\n",
    "df.head()"
   ]
  },
  {
   "cell_type": "code",
   "execution_count": 64,
   "id": "4622d4db",
   "metadata": {},
   "outputs": [],
   "source": [
    "# Define features (X) and target variable (y)\n",
    "X = df.drop('Yield', axis=1)  # Features (all columns except 'Job Offer')\n",
    "y = df['Yield']  # Target variable"
   ]
  },
  {
   "cell_type": "code",
   "execution_count": 65,
   "id": "0000b366",
   "metadata": {},
   "outputs": [
    {
     "name": "stdout",
     "output_type": "stream",
     "text": [
      "Training data shape: (202, 3)\n",
      "Testing data shape: (51, 3)\n"
     ]
    }
   ],
   "source": [
    "from sklearn.model_selection import train_test_split\n",
    "# Split the data into training and testing sets\n",
    "X_train, X_test, y_train, y_test = train_test_split(X, y, test_size=0.2, random_state=42)\n",
    "# Check the shape of the data\n",
    "print(f\"Training data shape: {X_train.shape}\")\n",
    "print(f\"Testing data shape: {X_test.shape}\")"
   ]
  },
  {
   "cell_type": "code",
   "execution_count": 66,
   "id": "eea16c3d",
   "metadata": {},
   "outputs": [],
   "source": [
    "def get_metrics(y_true, y_pred):\n",
    "\n",
    "    dict_metrics = {\n",
    "        'MSE': mean_squared_error(y_true, y_pred),\n",
    "        'MAE': mean_absolute_error(y_true, y_pred),\n",
    "        'R2 Score': r2_score(y_true, y_pred),\n",
    "        \n",
    "    }\n",
    "    return dict_metrics"
   ]
  },
  {
   "cell_type": "code",
   "execution_count": 67,
   "id": "497a4f0e",
   "metadata": {},
   "outputs": [
    {
     "data": {
      "text/plain": [
       "{'MSE': 0.5588840302677203,\n",
       " 'MAE': 0.5822903208509888,\n",
       " 'R2 Score': 0.7260009601685249}"
      ]
     },
     "execution_count": 67,
     "metadata": {},
     "output_type": "execute_result"
    }
   ],
   "source": [
    "# Creating pipeline with Random Forest\n",
    "pip_model_rf = Pipeline(steps=[\n",
    "    ('model', RandomForestRegressor(random_state=2023))\n",
    "])\n",
    "\n",
    "# Fit pipeline with PCA\n",
    "pip_model_rf.fit(X_train, y_train)\n",
    "\n",
    "# Generate Predictions using the correctly fitted pipeline\n",
    "y_pred = pip_model_rf.predict(X_test)\n",
    "\n",
    "# Evaluate Metrics\n",
    "metrics = get_metrics(y_test, y_pred)\n",
    "\n",
    "# View Results\n",
    "metrics"
   ]
  },
  {
   "cell_type": "code",
   "execution_count": 68,
   "id": "e62f28d8",
   "metadata": {},
   "outputs": [
    {
     "name": "stderr",
     "output_type": "stream",
     "text": [
      "[I 2025-01-09 15:39:38,078] A new study created in memory with name: no-name-44866442-5a36-49ed-9d8e-db6d5538d5f8\n",
      "[I 2025-01-09 15:39:38,410] Trial 0 finished with value: 0.5697561784240338 and parameters: {'n_estimators': 274, 'max_depth': 46, 'min_samples_split': 4, 'min_samples_leaf': 2}. Best is trial 0 with value: 0.5697561784240338.\n",
      "[I 2025-01-09 15:39:38,482] Trial 1 finished with value: 1.0339824184255388 and parameters: {'n_estimators': 66, 'max_depth': 24, 'min_samples_split': 20, 'min_samples_leaf': 10}. Best is trial 0 with value: 0.5697561784240338.\n",
      "[I 2025-01-09 15:39:38,755] Trial 2 finished with value: 1.0133399101852134 and parameters: {'n_estimators': 227, 'max_depth': 47, 'min_samples_split': 14, 'min_samples_leaf': 10}. Best is trial 0 with value: 0.5697561784240338.\n",
      "[I 2025-01-09 15:39:38,951] Trial 3 finished with value: 0.571796950219291 and parameters: {'n_estimators': 187, 'max_depth': 44, 'min_samples_split': 5, 'min_samples_leaf': 1}. Best is trial 0 with value: 0.5697561784240338.\n",
      "[I 2025-01-09 15:39:39,063] Trial 4 finished with value: 0.9321626011532314 and parameters: {'n_estimators': 78, 'max_depth': 27, 'min_samples_split': 16, 'min_samples_leaf': 8}. Best is trial 0 with value: 0.5697561784240338.\n",
      "[I 2025-01-09 15:39:39,227] Trial 5 finished with value: 0.813151728848628 and parameters: {'n_estimators': 130, 'max_depth': 30, 'min_samples_split': 8, 'min_samples_leaf': 6}. Best is trial 0 with value: 0.5697561784240338.\n",
      "[I 2025-01-09 15:39:39,540] Trial 6 finished with value: 1.0118650777614384 and parameters: {'n_estimators': 296, 'max_depth': 43, 'min_samples_split': 6, 'min_samples_leaf': 10}. Best is trial 0 with value: 0.5697561784240338.\n",
      "[I 2025-01-09 15:39:39,740] Trial 7 finished with value: 0.657872807774298 and parameters: {'n_estimators': 169, 'max_depth': 16, 'min_samples_split': 3, 'min_samples_leaf': 3}. Best is trial 0 with value: 0.5697561784240338.\n",
      "[I 2025-01-09 15:39:40,054] Trial 8 finished with value: 0.961598104627003 and parameters: {'n_estimators': 261, 'max_depth': 18, 'min_samples_split': 3, 'min_samples_leaf': 9}. Best is trial 0 with value: 0.5697561784240338.\n",
      "[I 2025-01-09 15:39:40,360] Trial 9 finished with value: 0.8709324680199125 and parameters: {'n_estimators': 296, 'max_depth': 8, 'min_samples_split': 12, 'min_samples_leaf': 7}. Best is trial 0 with value: 0.5697561784240338.\n",
      "[I 2025-01-09 15:39:40,659] Trial 10 finished with value: 0.7034480177881478 and parameters: {'n_estimators': 213, 'max_depth': 38, 'min_samples_split': 9, 'min_samples_leaf': 4}. Best is trial 0 with value: 0.5697561784240338.\n",
      "[I 2025-01-09 15:39:40,995] Trial 11 finished with value: 0.5784504957245741 and parameters: {'n_estimators': 164, 'max_depth': 50, 'min_samples_split': 5, 'min_samples_leaf': 1}. Best is trial 0 with value: 0.5697561784240338.\n",
      "[I 2025-01-09 15:39:41,321] Trial 12 finished with value: 0.534898083282669 and parameters: {'n_estimators': 226, 'max_depth': 38, 'min_samples_split': 2, 'min_samples_leaf': 1}. Best is trial 12 with value: 0.534898083282669.\n",
      "[I 2025-01-09 15:39:41,633] Trial 13 finished with value: 0.6383556075582281 and parameters: {'n_estimators': 250, 'max_depth': 36, 'min_samples_split': 2, 'min_samples_leaf': 3}. Best is trial 12 with value: 0.534898083282669.\n",
      "[I 2025-01-09 15:39:41,971] Trial 14 finished with value: 0.6155029520888449 and parameters: {'n_estimators': 259, 'max_depth': 37, 'min_samples_split': 9, 'min_samples_leaf': 2}. Best is trial 12 with value: 0.534898083282669.\n",
      "[I 2025-01-09 15:39:42,244] Trial 15 finished with value: 0.6979259635017335 and parameters: {'n_estimators': 214, 'max_depth': 41, 'min_samples_split': 7, 'min_samples_leaf': 4}. Best is trial 12 with value: 0.534898083282669.\n",
      "[I 2025-01-09 15:39:42,415] Trial 16 finished with value: 0.7574510314371995 and parameters: {'n_estimators': 125, 'max_depth': 32, 'min_samples_split': 2, 'min_samples_leaf': 5}. Best is trial 12 with value: 0.534898083282669.\n",
      "[I 2025-01-09 15:39:42,813] Trial 17 finished with value: 0.6560556270963872 and parameters: {'n_estimators': 272, 'max_depth': 47, 'min_samples_split': 11, 'min_samples_leaf': 2}. Best is trial 12 with value: 0.534898083282669.\n",
      "[I 2025-01-09 15:39:43,163] Trial 18 finished with value: 0.545128275169903 and parameters: {'n_estimators': 237, 'max_depth': 33, 'min_samples_split': 4, 'min_samples_leaf': 1}. Best is trial 12 with value: 0.534898083282669.\n",
      "[I 2025-01-09 15:39:43,473] Trial 19 finished with value: 0.5643908848092303 and parameters: {'n_estimators': 232, 'max_depth': 22, 'min_samples_split': 6, 'min_samples_leaf': 1}. Best is trial 12 with value: 0.534898083282669.\n",
      "[I 2025-01-09 15:39:43,688] Trial 20 finished with value: 0.8048929832165072 and parameters: {'n_estimators': 193, 'max_depth': 33, 'min_samples_split': 19, 'min_samples_leaf': 5}. Best is trial 12 with value: 0.534898083282669.\n",
      "[I 2025-01-09 15:39:43,978] Trial 21 finished with value: 0.5643908848092303 and parameters: {'n_estimators': 232, 'max_depth': 23, 'min_samples_split': 6, 'min_samples_leaf': 1}. Best is trial 12 with value: 0.534898083282669.\n",
      "[I 2025-01-09 15:39:44,325] Trial 22 finished with value: 0.6409582141053787 and parameters: {'n_estimators': 232, 'max_depth': 18, 'min_samples_split': 4, 'min_samples_leaf': 3}. Best is trial 12 with value: 0.534898083282669.\n",
      "[I 2025-01-09 15:39:44,604] Trial 23 finished with value: 0.5470418894181709 and parameters: {'n_estimators': 199, 'max_depth': 12, 'min_samples_split': 2, 'min_samples_leaf': 1}. Best is trial 12 with value: 0.534898083282669.\n",
      "[I 2025-01-09 15:39:44,774] Trial 24 finished with value: 0.6320495964108375 and parameters: {'n_estimators': 142, 'max_depth': 7, 'min_samples_split': 2, 'min_samples_leaf': 2}. Best is trial 12 with value: 0.534898083282669.\n",
      "[I 2025-01-09 15:39:45,071] Trial 25 finished with value: 0.5515250726569624 and parameters: {'n_estimators': 206, 'max_depth': 11, 'min_samples_split': 4, 'min_samples_leaf': 1}. Best is trial 12 with value: 0.534898083282669.\n",
      "[I 2025-01-09 15:39:45,276] Trial 26 finished with value: 0.713046162115931 and parameters: {'n_estimators': 153, 'max_depth': 28, 'min_samples_split': 2, 'min_samples_leaf': 4}. Best is trial 12 with value: 0.534898083282669.\n",
      "[I 2025-01-09 15:39:45,518] Trial 27 finished with value: 0.6865608127292449 and parameters: {'n_estimators': 188, 'max_depth': 34, 'min_samples_split': 10, 'min_samples_leaf': 3}. Best is trial 12 with value: 0.534898083282669.\n",
      "[I 2025-01-09 15:39:45,825] Trial 28 finished with value: 0.592196556345355 and parameters: {'n_estimators': 247, 'max_depth': 40, 'min_samples_split': 7, 'min_samples_leaf': 2}. Best is trial 12 with value: 0.534898083282669.\n",
      "[I 2025-01-09 15:39:45,940] Trial 29 finished with value: 0.6170219072133941 and parameters: {'n_estimators': 94, 'max_depth': 15, 'min_samples_split': 4, 'min_samples_leaf': 2}. Best is trial 12 with value: 0.534898083282669.\n",
      "[I 2025-01-09 15:39:46,278] Trial 30 finished with value: 0.5500664589163291 and parameters: {'n_estimators': 201, 'max_depth': 26, 'min_samples_split': 3, 'min_samples_leaf': 1}. Best is trial 12 with value: 0.534898083282669.\n",
      "[I 2025-01-09 15:39:46,571] Trial 31 finished with value: 0.5558740536553404 and parameters: {'n_estimators': 201, 'max_depth': 11, 'min_samples_split': 3, 'min_samples_leaf': 1}. Best is trial 12 with value: 0.534898083282669.\n",
      "[I 2025-01-09 15:39:46,810] Trial 32 finished with value: 0.5923142837789307 and parameters: {'n_estimators': 178, 'max_depth': 26, 'min_samples_split': 5, 'min_samples_leaf': 2}. Best is trial 12 with value: 0.534898083282669.\n",
      "[I 2025-01-09 15:39:47,108] Trial 33 finished with value: 0.5394181847577334 and parameters: {'n_estimators': 219, 'max_depth': 31, 'min_samples_split': 3, 'min_samples_leaf': 1}. Best is trial 12 with value: 0.534898083282669.\n",
      "[I 2025-01-09 15:39:47,401] Trial 34 finished with value: 0.5730537776641461 and parameters: {'n_estimators': 222, 'max_depth': 30, 'min_samples_split': 4, 'min_samples_leaf': 2}. Best is trial 12 with value: 0.534898083282669.\n",
      "[I 2025-01-09 15:39:47,771] Trial 35 finished with value: 0.6813895947025518 and parameters: {'n_estimators': 280, 'max_depth': 35, 'min_samples_split': 13, 'min_samples_leaf': 1}. Best is trial 12 with value: 0.534898083282669.\n",
      "[I 2025-01-09 15:39:48,185] Trial 36 finished with value: 0.6403047689255409 and parameters: {'n_estimators': 249, 'max_depth': 31, 'min_samples_split': 5, 'min_samples_leaf': 3}. Best is trial 12 with value: 0.534898083282669.\n",
      "[I 2025-01-09 15:39:48,473] Trial 37 finished with value: 0.6971248060336903 and parameters: {'n_estimators': 238, 'max_depth': 38, 'min_samples_split': 15, 'min_samples_leaf': 1}. Best is trial 12 with value: 0.534898083282669.\n",
      "[I 2025-01-09 15:39:48,777] Trial 38 finished with value: 0.573383793334178 and parameters: {'n_estimators': 220, 'max_depth': 21, 'min_samples_split': 2, 'min_samples_leaf': 2}. Best is trial 12 with value: 0.534898083282669.\n",
      "[I 2025-01-09 15:39:49,076] Trial 39 finished with value: 0.924478862157951 and parameters: {'n_estimators': 275, 'max_depth': 44, 'min_samples_split': 3, 'min_samples_leaf': 8}. Best is trial 12 with value: 0.534898083282669.\n",
      "[I 2025-01-09 15:39:49,304] Trial 40 finished with value: 0.8155115060553129 and parameters: {'n_estimators': 184, 'max_depth': 29, 'min_samples_split': 7, 'min_samples_leaf': 6}. Best is trial 12 with value: 0.534898083282669.\n",
      "[I 2025-01-09 15:39:49,578] Trial 41 finished with value: 0.5500664589163291 and parameters: {'n_estimators': 201, 'max_depth': 26, 'min_samples_split': 3, 'min_samples_leaf': 1}. Best is trial 12 with value: 0.534898083282669.\n",
      "[I 2025-01-09 15:39:49,929] Trial 42 finished with value: 0.5694873318572762 and parameters: {'n_estimators': 196, 'max_depth': 40, 'min_samples_split': 5, 'min_samples_leaf': 1}. Best is trial 12 with value: 0.534898083282669.\n",
      "[I 2025-01-09 15:39:50,137] Trial 43 finished with value: 0.6787120330481835 and parameters: {'n_estimators': 166, 'max_depth': 5, 'min_samples_split': 3, 'min_samples_leaf': 1}. Best is trial 12 with value: 0.534898083282669.\n",
      "[I 2025-01-09 15:39:50,482] Trial 44 finished with value: 0.6463058593934168 and parameters: {'n_estimators': 215, 'max_depth': 20, 'min_samples_split': 2, 'min_samples_leaf': 3}. Best is trial 12 with value: 0.534898083282669.\n",
      "[I 2025-01-09 15:39:50,563] Trial 45 finished with value: 0.5722161609598897 and parameters: {'n_estimators': 51, 'max_depth': 26, 'min_samples_split': 4, 'min_samples_leaf': 1}. Best is trial 12 with value: 0.534898083282669.\n",
      "[I 2025-01-09 15:39:50,953] Trial 46 finished with value: 0.5678768787165991 and parameters: {'n_estimators': 265, 'max_depth': 33, 'min_samples_split': 3, 'min_samples_leaf': 2}. Best is trial 12 with value: 0.534898083282669.\n",
      "[I 2025-01-09 15:39:51,261] Trial 47 finished with value: 0.7216034679365059 and parameters: {'n_estimators': 208, 'max_depth': 14, 'min_samples_split': 18, 'min_samples_leaf': 2}. Best is trial 12 with value: 0.534898083282669.\n",
      "[I 2025-01-09 15:39:51,568] Trial 48 finished with value: 0.9639331882366354 and parameters: {'n_estimators': 239, 'max_depth': 24, 'min_samples_split': 8, 'min_samples_leaf': 9}. Best is trial 12 with value: 0.534898083282669.\n",
      "[I 2025-01-09 15:39:51,822] Trial 49 finished with value: 0.5748539350912915 and parameters: {'n_estimators': 178, 'max_depth': 36, 'min_samples_split': 5, 'min_samples_leaf': 1}. Best is trial 12 with value: 0.534898083282669.\n"
     ]
    },
    {
     "name": "stdout",
     "output_type": "stream",
     "text": [
      "Best Parameters: {'n_estimators': 226, 'max_depth': 38, 'min_samples_split': 2, 'min_samples_leaf': 1}\n"
     ]
    }
   ],
   "source": [
    "#Hyperparameters optimization with Optuna\n",
    "\n",
    "# Define the objective function for Optuna\n",
    "def objective(trial):\n",
    "    # Suggest hyperparameters\n",
    "    n_estimators = trial.suggest_int('n_estimators', 50, 300)\n",
    "    max_depth = trial.suggest_int('max_depth', 5, 50)\n",
    "    min_samples_split = trial.suggest_int('min_samples_split', 2, 20)\n",
    "    min_samples_leaf = trial.suggest_int('min_samples_leaf', 1, 10)\n",
    "\n",
    "    # Create a pipeline with the suggested hyperparameters\n",
    "    pip_model_rf = Pipeline(steps=[\n",
    "        ('model', RandomForestRegressor(\n",
    "            n_estimators=n_estimators,\n",
    "            max_depth=max_depth,\n",
    "            min_samples_split=min_samples_split,\n",
    "            min_samples_leaf=min_samples_leaf,\n",
    "            random_state=2023\n",
    "        ))\n",
    "    ])\n",
    "\n",
    "    # Fit the pipeline\n",
    "    pip_model_rf.fit(X_train, y_train)\n",
    "\n",
    "    # Predict on the validation set\n",
    "    y_pred = pip_model_rf.predict(X_test)\n",
    "\n",
    "    # Calculate the mean squared error\n",
    "    mse = mean_squared_error(y_test, y_pred)\n",
    "    return mse\n",
    "\n",
    "# Create an Optuna study\n",
    "study = optuna.create_study(direction='minimize')  # Minimize MSE\n",
    "study.optimize(objective, n_trials=50)  # Run 50 trials\n",
    "\n",
    "# Get the best hyperparameters\n",
    "best_params = study.best_params\n",
    "print(\"Best Parameters:\", best_params)\n"
   ]
  },
  {
   "cell_type": "code",
   "execution_count": 69,
   "id": "9c6fc6e5",
   "metadata": {},
   "outputs": [
    {
     "data": {
      "application/vnd.jupyter.widget-view+json": {
       "model_id": "565aeee9073c48f9a62e06112ff3b4c8",
       "version_major": 2,
       "version_minor": 0
      },
      "text/plain": [
       "Downloading artifacts:   0%|          | 0/7 [00:00<?, ?it/s]"
      ]
     },
     "metadata": {},
     "output_type": "display_data"
    }
   ],
   "source": [
    "# Start an MLflow run with a specific run name\n",
    "with mlflow.start_run(run_name=\"rf_regression_run\"):\n",
    "    # Train the final model\n",
    "    final_model = RandomForestRegressor(\n",
    "        n_estimators=best_params['n_estimators'],\n",
    "        max_depth=best_params['max_depth'],\n",
    "        min_samples_split=best_params['min_samples_split'],\n",
    "        min_samples_leaf=best_params['min_samples_leaf'],\n",
    "        random_state=2023\n",
    "    )\n",
    "    final_model.fit(X_train, y_train)\n",
    "\n",
    "    # Add model signature and input example\n",
    "    signature = mlflow.models.infer_signature(X_train, y_train)\n",
    "    input_example = X_train.iloc[:5]\n",
    "\n",
    "    # Log metrics\n",
    "    y_pred = final_model.predict(X_test)\n",
    "    metrics = get_metrics(y_test, y_pred)\n",
    "    mlflow.log_metrics(metrics)\n",
    "\n",
    "    # Log parameters\n",
    "    mlflow.log_params(best_params)\n",
    "\n",
    "    # Log the model with signature and input example\n",
    "    mlflow.sklearn.log_model(\n",
    "        final_model, \n",
    "        \"random_forest_model\",\n",
    "        signature=signature,\n",
    "        input_example=input_example\n",
    "    )"
   ]
  },
  {
   "cell_type": "code",
   "execution_count": 70,
   "id": "adff19ec",
   "metadata": {},
   "outputs": [
    {
     "data": {
      "application/vnd.plotly.v1+json": {
       "config": {
        "plotlyServerURL": "https://plot.ly"
       },
       "data": [
        {
         "mode": "markers",
         "name": "Objective Value",
         "type": "scatter",
         "x": [
          0,
          1,
          2,
          3,
          4,
          5,
          6,
          7,
          8,
          9,
          10,
          11,
          12,
          13,
          14,
          15,
          16,
          17,
          18,
          19,
          20,
          21,
          22,
          23,
          24,
          25,
          26,
          27,
          28,
          29,
          30,
          31,
          32,
          33,
          34,
          35,
          36,
          37,
          38,
          39,
          40,
          41,
          42,
          43,
          44,
          45,
          46,
          47,
          48,
          49
         ],
         "y": [
          0.5697561784240338,
          1.0339824184255388,
          1.0133399101852134,
          0.571796950219291,
          0.9321626011532314,
          0.813151728848628,
          1.0118650777614384,
          0.657872807774298,
          0.961598104627003,
          0.8709324680199125,
          0.7034480177881478,
          0.5784504957245741,
          0.534898083282669,
          0.6383556075582281,
          0.6155029520888449,
          0.6979259635017335,
          0.7574510314371995,
          0.6560556270963872,
          0.545128275169903,
          0.5643908848092303,
          0.8048929832165072,
          0.5643908848092303,
          0.6409582141053787,
          0.5470418894181709,
          0.6320495964108375,
          0.5515250726569624,
          0.713046162115931,
          0.6865608127292449,
          0.592196556345355,
          0.6170219072133941,
          0.5500664589163291,
          0.5558740536553404,
          0.5923142837789307,
          0.5394181847577334,
          0.5730537776641461,
          0.6813895947025518,
          0.6403047689255409,
          0.6971248060336903,
          0.573383793334178,
          0.924478862157951,
          0.8155115060553129,
          0.5500664589163291,
          0.5694873318572762,
          0.6787120330481835,
          0.6463058593934168,
          0.5722161609598897,
          0.5678768787165991,
          0.7216034679365059,
          0.9639331882366354,
          0.5748539350912915
         ]
        },
        {
         "mode": "lines",
         "name": "Best Value",
         "type": "scatter",
         "x": [
          0,
          1,
          2,
          3,
          4,
          5,
          6,
          7,
          8,
          9,
          10,
          11,
          12,
          13,
          14,
          15,
          16,
          17,
          18,
          19,
          20,
          21,
          22,
          23,
          24,
          25,
          26,
          27,
          28,
          29,
          30,
          31,
          32,
          33,
          34,
          35,
          36,
          37,
          38,
          39,
          40,
          41,
          42,
          43,
          44,
          45,
          46,
          47,
          48,
          49
         ],
         "y": [
          0.5697561784240338,
          0.5697561784240338,
          0.5697561784240338,
          0.5697561784240338,
          0.5697561784240338,
          0.5697561784240338,
          0.5697561784240338,
          0.5697561784240338,
          0.5697561784240338,
          0.5697561784240338,
          0.5697561784240338,
          0.5697561784240338,
          0.534898083282669,
          0.534898083282669,
          0.534898083282669,
          0.534898083282669,
          0.534898083282669,
          0.534898083282669,
          0.534898083282669,
          0.534898083282669,
          0.534898083282669,
          0.534898083282669,
          0.534898083282669,
          0.534898083282669,
          0.534898083282669,
          0.534898083282669,
          0.534898083282669,
          0.534898083282669,
          0.534898083282669,
          0.534898083282669,
          0.534898083282669,
          0.534898083282669,
          0.534898083282669,
          0.534898083282669,
          0.534898083282669,
          0.534898083282669,
          0.534898083282669,
          0.534898083282669,
          0.534898083282669,
          0.534898083282669,
          0.534898083282669,
          0.534898083282669,
          0.534898083282669,
          0.534898083282669,
          0.534898083282669,
          0.534898083282669,
          0.534898083282669,
          0.534898083282669,
          0.534898083282669,
          0.534898083282669
         ]
        },
        {
         "marker": {
          "color": "#cccccc"
         },
         "mode": "markers",
         "name": "Infeasible Trial",
         "showlegend": false,
         "type": "scatter",
         "x": [],
         "y": []
        }
       ],
       "layout": {
        "template": {
         "data": {
          "bar": [
           {
            "error_x": {
             "color": "#2a3f5f"
            },
            "error_y": {
             "color": "#2a3f5f"
            },
            "marker": {
             "line": {
              "color": "#E5ECF6",
              "width": 0.5
             },
             "pattern": {
              "fillmode": "overlay",
              "size": 10,
              "solidity": 0.2
             }
            },
            "type": "bar"
           }
          ],
          "barpolar": [
           {
            "marker": {
             "line": {
              "color": "#E5ECF6",
              "width": 0.5
             },
             "pattern": {
              "fillmode": "overlay",
              "size": 10,
              "solidity": 0.2
             }
            },
            "type": "barpolar"
           }
          ],
          "carpet": [
           {
            "aaxis": {
             "endlinecolor": "#2a3f5f",
             "gridcolor": "white",
             "linecolor": "white",
             "minorgridcolor": "white",
             "startlinecolor": "#2a3f5f"
            },
            "baxis": {
             "endlinecolor": "#2a3f5f",
             "gridcolor": "white",
             "linecolor": "white",
             "minorgridcolor": "white",
             "startlinecolor": "#2a3f5f"
            },
            "type": "carpet"
           }
          ],
          "choropleth": [
           {
            "colorbar": {
             "outlinewidth": 0,
             "ticks": ""
            },
            "type": "choropleth"
           }
          ],
          "contour": [
           {
            "colorbar": {
             "outlinewidth": 0,
             "ticks": ""
            },
            "colorscale": [
             [
              0,
              "#0d0887"
             ],
             [
              0.1111111111111111,
              "#46039f"
             ],
             [
              0.2222222222222222,
              "#7201a8"
             ],
             [
              0.3333333333333333,
              "#9c179e"
             ],
             [
              0.4444444444444444,
              "#bd3786"
             ],
             [
              0.5555555555555556,
              "#d8576b"
             ],
             [
              0.6666666666666666,
              "#ed7953"
             ],
             [
              0.7777777777777778,
              "#fb9f3a"
             ],
             [
              0.8888888888888888,
              "#fdca26"
             ],
             [
              1,
              "#f0f921"
             ]
            ],
            "type": "contour"
           }
          ],
          "contourcarpet": [
           {
            "colorbar": {
             "outlinewidth": 0,
             "ticks": ""
            },
            "type": "contourcarpet"
           }
          ],
          "heatmap": [
           {
            "colorbar": {
             "outlinewidth": 0,
             "ticks": ""
            },
            "colorscale": [
             [
              0,
              "#0d0887"
             ],
             [
              0.1111111111111111,
              "#46039f"
             ],
             [
              0.2222222222222222,
              "#7201a8"
             ],
             [
              0.3333333333333333,
              "#9c179e"
             ],
             [
              0.4444444444444444,
              "#bd3786"
             ],
             [
              0.5555555555555556,
              "#d8576b"
             ],
             [
              0.6666666666666666,
              "#ed7953"
             ],
             [
              0.7777777777777778,
              "#fb9f3a"
             ],
             [
              0.8888888888888888,
              "#fdca26"
             ],
             [
              1,
              "#f0f921"
             ]
            ],
            "type": "heatmap"
           }
          ],
          "heatmapgl": [
           {
            "colorbar": {
             "outlinewidth": 0,
             "ticks": ""
            },
            "colorscale": [
             [
              0,
              "#0d0887"
             ],
             [
              0.1111111111111111,
              "#46039f"
             ],
             [
              0.2222222222222222,
              "#7201a8"
             ],
             [
              0.3333333333333333,
              "#9c179e"
             ],
             [
              0.4444444444444444,
              "#bd3786"
             ],
             [
              0.5555555555555556,
              "#d8576b"
             ],
             [
              0.6666666666666666,
              "#ed7953"
             ],
             [
              0.7777777777777778,
              "#fb9f3a"
             ],
             [
              0.8888888888888888,
              "#fdca26"
             ],
             [
              1,
              "#f0f921"
             ]
            ],
            "type": "heatmapgl"
           }
          ],
          "histogram": [
           {
            "marker": {
             "pattern": {
              "fillmode": "overlay",
              "size": 10,
              "solidity": 0.2
             }
            },
            "type": "histogram"
           }
          ],
          "histogram2d": [
           {
            "colorbar": {
             "outlinewidth": 0,
             "ticks": ""
            },
            "colorscale": [
             [
              0,
              "#0d0887"
             ],
             [
              0.1111111111111111,
              "#46039f"
             ],
             [
              0.2222222222222222,
              "#7201a8"
             ],
             [
              0.3333333333333333,
              "#9c179e"
             ],
             [
              0.4444444444444444,
              "#bd3786"
             ],
             [
              0.5555555555555556,
              "#d8576b"
             ],
             [
              0.6666666666666666,
              "#ed7953"
             ],
             [
              0.7777777777777778,
              "#fb9f3a"
             ],
             [
              0.8888888888888888,
              "#fdca26"
             ],
             [
              1,
              "#f0f921"
             ]
            ],
            "type": "histogram2d"
           }
          ],
          "histogram2dcontour": [
           {
            "colorbar": {
             "outlinewidth": 0,
             "ticks": ""
            },
            "colorscale": [
             [
              0,
              "#0d0887"
             ],
             [
              0.1111111111111111,
              "#46039f"
             ],
             [
              0.2222222222222222,
              "#7201a8"
             ],
             [
              0.3333333333333333,
              "#9c179e"
             ],
             [
              0.4444444444444444,
              "#bd3786"
             ],
             [
              0.5555555555555556,
              "#d8576b"
             ],
             [
              0.6666666666666666,
              "#ed7953"
             ],
             [
              0.7777777777777778,
              "#fb9f3a"
             ],
             [
              0.8888888888888888,
              "#fdca26"
             ],
             [
              1,
              "#f0f921"
             ]
            ],
            "type": "histogram2dcontour"
           }
          ],
          "mesh3d": [
           {
            "colorbar": {
             "outlinewidth": 0,
             "ticks": ""
            },
            "type": "mesh3d"
           }
          ],
          "parcoords": [
           {
            "line": {
             "colorbar": {
              "outlinewidth": 0,
              "ticks": ""
             }
            },
            "type": "parcoords"
           }
          ],
          "pie": [
           {
            "automargin": true,
            "type": "pie"
           }
          ],
          "scatter": [
           {
            "fillpattern": {
             "fillmode": "overlay",
             "size": 10,
             "solidity": 0.2
            },
            "type": "scatter"
           }
          ],
          "scatter3d": [
           {
            "line": {
             "colorbar": {
              "outlinewidth": 0,
              "ticks": ""
             }
            },
            "marker": {
             "colorbar": {
              "outlinewidth": 0,
              "ticks": ""
             }
            },
            "type": "scatter3d"
           }
          ],
          "scattercarpet": [
           {
            "marker": {
             "colorbar": {
              "outlinewidth": 0,
              "ticks": ""
             }
            },
            "type": "scattercarpet"
           }
          ],
          "scattergeo": [
           {
            "marker": {
             "colorbar": {
              "outlinewidth": 0,
              "ticks": ""
             }
            },
            "type": "scattergeo"
           }
          ],
          "scattergl": [
           {
            "marker": {
             "colorbar": {
              "outlinewidth": 0,
              "ticks": ""
             }
            },
            "type": "scattergl"
           }
          ],
          "scattermapbox": [
           {
            "marker": {
             "colorbar": {
              "outlinewidth": 0,
              "ticks": ""
             }
            },
            "type": "scattermapbox"
           }
          ],
          "scatterpolar": [
           {
            "marker": {
             "colorbar": {
              "outlinewidth": 0,
              "ticks": ""
             }
            },
            "type": "scatterpolar"
           }
          ],
          "scatterpolargl": [
           {
            "marker": {
             "colorbar": {
              "outlinewidth": 0,
              "ticks": ""
             }
            },
            "type": "scatterpolargl"
           }
          ],
          "scatterternary": [
           {
            "marker": {
             "colorbar": {
              "outlinewidth": 0,
              "ticks": ""
             }
            },
            "type": "scatterternary"
           }
          ],
          "surface": [
           {
            "colorbar": {
             "outlinewidth": 0,
             "ticks": ""
            },
            "colorscale": [
             [
              0,
              "#0d0887"
             ],
             [
              0.1111111111111111,
              "#46039f"
             ],
             [
              0.2222222222222222,
              "#7201a8"
             ],
             [
              0.3333333333333333,
              "#9c179e"
             ],
             [
              0.4444444444444444,
              "#bd3786"
             ],
             [
              0.5555555555555556,
              "#d8576b"
             ],
             [
              0.6666666666666666,
              "#ed7953"
             ],
             [
              0.7777777777777778,
              "#fb9f3a"
             ],
             [
              0.8888888888888888,
              "#fdca26"
             ],
             [
              1,
              "#f0f921"
             ]
            ],
            "type": "surface"
           }
          ],
          "table": [
           {
            "cells": {
             "fill": {
              "color": "#EBF0F8"
             },
             "line": {
              "color": "white"
             }
            },
            "header": {
             "fill": {
              "color": "#C8D4E3"
             },
             "line": {
              "color": "white"
             }
            },
            "type": "table"
           }
          ]
         },
         "layout": {
          "annotationdefaults": {
           "arrowcolor": "#2a3f5f",
           "arrowhead": 0,
           "arrowwidth": 1
          },
          "autotypenumbers": "strict",
          "coloraxis": {
           "colorbar": {
            "outlinewidth": 0,
            "ticks": ""
           }
          },
          "colorscale": {
           "diverging": [
            [
             0,
             "#8e0152"
            ],
            [
             0.1,
             "#c51b7d"
            ],
            [
             0.2,
             "#de77ae"
            ],
            [
             0.3,
             "#f1b6da"
            ],
            [
             0.4,
             "#fde0ef"
            ],
            [
             0.5,
             "#f7f7f7"
            ],
            [
             0.6,
             "#e6f5d0"
            ],
            [
             0.7,
             "#b8e186"
            ],
            [
             0.8,
             "#7fbc41"
            ],
            [
             0.9,
             "#4d9221"
            ],
            [
             1,
             "#276419"
            ]
           ],
           "sequential": [
            [
             0,
             "#0d0887"
            ],
            [
             0.1111111111111111,
             "#46039f"
            ],
            [
             0.2222222222222222,
             "#7201a8"
            ],
            [
             0.3333333333333333,
             "#9c179e"
            ],
            [
             0.4444444444444444,
             "#bd3786"
            ],
            [
             0.5555555555555556,
             "#d8576b"
            ],
            [
             0.6666666666666666,
             "#ed7953"
            ],
            [
             0.7777777777777778,
             "#fb9f3a"
            ],
            [
             0.8888888888888888,
             "#fdca26"
            ],
            [
             1,
             "#f0f921"
            ]
           ],
           "sequentialminus": [
            [
             0,
             "#0d0887"
            ],
            [
             0.1111111111111111,
             "#46039f"
            ],
            [
             0.2222222222222222,
             "#7201a8"
            ],
            [
             0.3333333333333333,
             "#9c179e"
            ],
            [
             0.4444444444444444,
             "#bd3786"
            ],
            [
             0.5555555555555556,
             "#d8576b"
            ],
            [
             0.6666666666666666,
             "#ed7953"
            ],
            [
             0.7777777777777778,
             "#fb9f3a"
            ],
            [
             0.8888888888888888,
             "#fdca26"
            ],
            [
             1,
             "#f0f921"
            ]
           ]
          },
          "colorway": [
           "#636efa",
           "#EF553B",
           "#00cc96",
           "#ab63fa",
           "#FFA15A",
           "#19d3f3",
           "#FF6692",
           "#B6E880",
           "#FF97FF",
           "#FECB52"
          ],
          "font": {
           "color": "#2a3f5f"
          },
          "geo": {
           "bgcolor": "white",
           "lakecolor": "white",
           "landcolor": "#E5ECF6",
           "showlakes": true,
           "showland": true,
           "subunitcolor": "white"
          },
          "hoverlabel": {
           "align": "left"
          },
          "hovermode": "closest",
          "mapbox": {
           "style": "light"
          },
          "paper_bgcolor": "white",
          "plot_bgcolor": "#E5ECF6",
          "polar": {
           "angularaxis": {
            "gridcolor": "white",
            "linecolor": "white",
            "ticks": ""
           },
           "bgcolor": "#E5ECF6",
           "radialaxis": {
            "gridcolor": "white",
            "linecolor": "white",
            "ticks": ""
           }
          },
          "scene": {
           "xaxis": {
            "backgroundcolor": "#E5ECF6",
            "gridcolor": "white",
            "gridwidth": 2,
            "linecolor": "white",
            "showbackground": true,
            "ticks": "",
            "zerolinecolor": "white"
           },
           "yaxis": {
            "backgroundcolor": "#E5ECF6",
            "gridcolor": "white",
            "gridwidth": 2,
            "linecolor": "white",
            "showbackground": true,
            "ticks": "",
            "zerolinecolor": "white"
           },
           "zaxis": {
            "backgroundcolor": "#E5ECF6",
            "gridcolor": "white",
            "gridwidth": 2,
            "linecolor": "white",
            "showbackground": true,
            "ticks": "",
            "zerolinecolor": "white"
           }
          },
          "shapedefaults": {
           "line": {
            "color": "#2a3f5f"
           }
          },
          "ternary": {
           "aaxis": {
            "gridcolor": "white",
            "linecolor": "white",
            "ticks": ""
           },
           "baxis": {
            "gridcolor": "white",
            "linecolor": "white",
            "ticks": ""
           },
           "bgcolor": "#E5ECF6",
           "caxis": {
            "gridcolor": "white",
            "linecolor": "white",
            "ticks": ""
           }
          },
          "title": {
           "x": 0.05
          },
          "xaxis": {
           "automargin": true,
           "gridcolor": "white",
           "linecolor": "white",
           "ticks": "",
           "title": {
            "standoff": 15
           },
           "zerolinecolor": "white",
           "zerolinewidth": 2
          },
          "yaxis": {
           "automargin": true,
           "gridcolor": "white",
           "linecolor": "white",
           "ticks": "",
           "title": {
            "standoff": 15
           },
           "zerolinecolor": "white",
           "zerolinewidth": 2
          }
         }
        },
        "title": {
         "text": "Optimization History Plot"
        },
        "xaxis": {
         "title": {
          "text": "Trial"
         }
        },
        "yaxis": {
         "title": {
          "text": "Objective Value"
         }
        }
       }
      }
     },
     "metadata": {},
     "output_type": "display_data"
    }
   ],
   "source": [
    "# Visualize the optimization history\n",
    "optuna.visualization.plot_optimization_history(study).show()"
   ]
  },
  {
   "cell_type": "code",
   "execution_count": 71,
   "id": "ef688bd9",
   "metadata": {},
   "outputs": [
    {
     "data": {
      "application/vnd.plotly.v1+json": {
       "config": {
        "plotlyServerURL": "https://plot.ly"
       },
       "data": [
        {
         "cliponaxis": false,
         "hovertemplate": [
          "max_depth (IntDistribution): 0.004989877810611983<extra></extra>",
          "n_estimators (IntDistribution): 0.006355467246662605<extra></extra>",
          "min_samples_split (IntDistribution): 0.009826532504241625<extra></extra>",
          "min_samples_leaf (IntDistribution): 0.9788281224384837<extra></extra>"
         ],
         "name": "Objective Value",
         "orientation": "h",
         "text": [
          "<0.01",
          "<0.01",
          "<0.01",
          "0.98"
         ],
         "textposition": "outside",
         "type": "bar",
         "x": [
          0.004989877810611983,
          0.006355467246662605,
          0.009826532504241625,
          0.9788281224384837
         ],
         "y": [
          "max_depth",
          "n_estimators",
          "min_samples_split",
          "min_samples_leaf"
         ]
        }
       ],
       "layout": {
        "template": {
         "data": {
          "bar": [
           {
            "error_x": {
             "color": "#2a3f5f"
            },
            "error_y": {
             "color": "#2a3f5f"
            },
            "marker": {
             "line": {
              "color": "#E5ECF6",
              "width": 0.5
             },
             "pattern": {
              "fillmode": "overlay",
              "size": 10,
              "solidity": 0.2
             }
            },
            "type": "bar"
           }
          ],
          "barpolar": [
           {
            "marker": {
             "line": {
              "color": "#E5ECF6",
              "width": 0.5
             },
             "pattern": {
              "fillmode": "overlay",
              "size": 10,
              "solidity": 0.2
             }
            },
            "type": "barpolar"
           }
          ],
          "carpet": [
           {
            "aaxis": {
             "endlinecolor": "#2a3f5f",
             "gridcolor": "white",
             "linecolor": "white",
             "minorgridcolor": "white",
             "startlinecolor": "#2a3f5f"
            },
            "baxis": {
             "endlinecolor": "#2a3f5f",
             "gridcolor": "white",
             "linecolor": "white",
             "minorgridcolor": "white",
             "startlinecolor": "#2a3f5f"
            },
            "type": "carpet"
           }
          ],
          "choropleth": [
           {
            "colorbar": {
             "outlinewidth": 0,
             "ticks": ""
            },
            "type": "choropleth"
           }
          ],
          "contour": [
           {
            "colorbar": {
             "outlinewidth": 0,
             "ticks": ""
            },
            "colorscale": [
             [
              0,
              "#0d0887"
             ],
             [
              0.1111111111111111,
              "#46039f"
             ],
             [
              0.2222222222222222,
              "#7201a8"
             ],
             [
              0.3333333333333333,
              "#9c179e"
             ],
             [
              0.4444444444444444,
              "#bd3786"
             ],
             [
              0.5555555555555556,
              "#d8576b"
             ],
             [
              0.6666666666666666,
              "#ed7953"
             ],
             [
              0.7777777777777778,
              "#fb9f3a"
             ],
             [
              0.8888888888888888,
              "#fdca26"
             ],
             [
              1,
              "#f0f921"
             ]
            ],
            "type": "contour"
           }
          ],
          "contourcarpet": [
           {
            "colorbar": {
             "outlinewidth": 0,
             "ticks": ""
            },
            "type": "contourcarpet"
           }
          ],
          "heatmap": [
           {
            "colorbar": {
             "outlinewidth": 0,
             "ticks": ""
            },
            "colorscale": [
             [
              0,
              "#0d0887"
             ],
             [
              0.1111111111111111,
              "#46039f"
             ],
             [
              0.2222222222222222,
              "#7201a8"
             ],
             [
              0.3333333333333333,
              "#9c179e"
             ],
             [
              0.4444444444444444,
              "#bd3786"
             ],
             [
              0.5555555555555556,
              "#d8576b"
             ],
             [
              0.6666666666666666,
              "#ed7953"
             ],
             [
              0.7777777777777778,
              "#fb9f3a"
             ],
             [
              0.8888888888888888,
              "#fdca26"
             ],
             [
              1,
              "#f0f921"
             ]
            ],
            "type": "heatmap"
           }
          ],
          "heatmapgl": [
           {
            "colorbar": {
             "outlinewidth": 0,
             "ticks": ""
            },
            "colorscale": [
             [
              0,
              "#0d0887"
             ],
             [
              0.1111111111111111,
              "#46039f"
             ],
             [
              0.2222222222222222,
              "#7201a8"
             ],
             [
              0.3333333333333333,
              "#9c179e"
             ],
             [
              0.4444444444444444,
              "#bd3786"
             ],
             [
              0.5555555555555556,
              "#d8576b"
             ],
             [
              0.6666666666666666,
              "#ed7953"
             ],
             [
              0.7777777777777778,
              "#fb9f3a"
             ],
             [
              0.8888888888888888,
              "#fdca26"
             ],
             [
              1,
              "#f0f921"
             ]
            ],
            "type": "heatmapgl"
           }
          ],
          "histogram": [
           {
            "marker": {
             "pattern": {
              "fillmode": "overlay",
              "size": 10,
              "solidity": 0.2
             }
            },
            "type": "histogram"
           }
          ],
          "histogram2d": [
           {
            "colorbar": {
             "outlinewidth": 0,
             "ticks": ""
            },
            "colorscale": [
             [
              0,
              "#0d0887"
             ],
             [
              0.1111111111111111,
              "#46039f"
             ],
             [
              0.2222222222222222,
              "#7201a8"
             ],
             [
              0.3333333333333333,
              "#9c179e"
             ],
             [
              0.4444444444444444,
              "#bd3786"
             ],
             [
              0.5555555555555556,
              "#d8576b"
             ],
             [
              0.6666666666666666,
              "#ed7953"
             ],
             [
              0.7777777777777778,
              "#fb9f3a"
             ],
             [
              0.8888888888888888,
              "#fdca26"
             ],
             [
              1,
              "#f0f921"
             ]
            ],
            "type": "histogram2d"
           }
          ],
          "histogram2dcontour": [
           {
            "colorbar": {
             "outlinewidth": 0,
             "ticks": ""
            },
            "colorscale": [
             [
              0,
              "#0d0887"
             ],
             [
              0.1111111111111111,
              "#46039f"
             ],
             [
              0.2222222222222222,
              "#7201a8"
             ],
             [
              0.3333333333333333,
              "#9c179e"
             ],
             [
              0.4444444444444444,
              "#bd3786"
             ],
             [
              0.5555555555555556,
              "#d8576b"
             ],
             [
              0.6666666666666666,
              "#ed7953"
             ],
             [
              0.7777777777777778,
              "#fb9f3a"
             ],
             [
              0.8888888888888888,
              "#fdca26"
             ],
             [
              1,
              "#f0f921"
             ]
            ],
            "type": "histogram2dcontour"
           }
          ],
          "mesh3d": [
           {
            "colorbar": {
             "outlinewidth": 0,
             "ticks": ""
            },
            "type": "mesh3d"
           }
          ],
          "parcoords": [
           {
            "line": {
             "colorbar": {
              "outlinewidth": 0,
              "ticks": ""
             }
            },
            "type": "parcoords"
           }
          ],
          "pie": [
           {
            "automargin": true,
            "type": "pie"
           }
          ],
          "scatter": [
           {
            "fillpattern": {
             "fillmode": "overlay",
             "size": 10,
             "solidity": 0.2
            },
            "type": "scatter"
           }
          ],
          "scatter3d": [
           {
            "line": {
             "colorbar": {
              "outlinewidth": 0,
              "ticks": ""
             }
            },
            "marker": {
             "colorbar": {
              "outlinewidth": 0,
              "ticks": ""
             }
            },
            "type": "scatter3d"
           }
          ],
          "scattercarpet": [
           {
            "marker": {
             "colorbar": {
              "outlinewidth": 0,
              "ticks": ""
             }
            },
            "type": "scattercarpet"
           }
          ],
          "scattergeo": [
           {
            "marker": {
             "colorbar": {
              "outlinewidth": 0,
              "ticks": ""
             }
            },
            "type": "scattergeo"
           }
          ],
          "scattergl": [
           {
            "marker": {
             "colorbar": {
              "outlinewidth": 0,
              "ticks": ""
             }
            },
            "type": "scattergl"
           }
          ],
          "scattermapbox": [
           {
            "marker": {
             "colorbar": {
              "outlinewidth": 0,
              "ticks": ""
             }
            },
            "type": "scattermapbox"
           }
          ],
          "scatterpolar": [
           {
            "marker": {
             "colorbar": {
              "outlinewidth": 0,
              "ticks": ""
             }
            },
            "type": "scatterpolar"
           }
          ],
          "scatterpolargl": [
           {
            "marker": {
             "colorbar": {
              "outlinewidth": 0,
              "ticks": ""
             }
            },
            "type": "scatterpolargl"
           }
          ],
          "scatterternary": [
           {
            "marker": {
             "colorbar": {
              "outlinewidth": 0,
              "ticks": ""
             }
            },
            "type": "scatterternary"
           }
          ],
          "surface": [
           {
            "colorbar": {
             "outlinewidth": 0,
             "ticks": ""
            },
            "colorscale": [
             [
              0,
              "#0d0887"
             ],
             [
              0.1111111111111111,
              "#46039f"
             ],
             [
              0.2222222222222222,
              "#7201a8"
             ],
             [
              0.3333333333333333,
              "#9c179e"
             ],
             [
              0.4444444444444444,
              "#bd3786"
             ],
             [
              0.5555555555555556,
              "#d8576b"
             ],
             [
              0.6666666666666666,
              "#ed7953"
             ],
             [
              0.7777777777777778,
              "#fb9f3a"
             ],
             [
              0.8888888888888888,
              "#fdca26"
             ],
             [
              1,
              "#f0f921"
             ]
            ],
            "type": "surface"
           }
          ],
          "table": [
           {
            "cells": {
             "fill": {
              "color": "#EBF0F8"
             },
             "line": {
              "color": "white"
             }
            },
            "header": {
             "fill": {
              "color": "#C8D4E3"
             },
             "line": {
              "color": "white"
             }
            },
            "type": "table"
           }
          ]
         },
         "layout": {
          "annotationdefaults": {
           "arrowcolor": "#2a3f5f",
           "arrowhead": 0,
           "arrowwidth": 1
          },
          "autotypenumbers": "strict",
          "coloraxis": {
           "colorbar": {
            "outlinewidth": 0,
            "ticks": ""
           }
          },
          "colorscale": {
           "diverging": [
            [
             0,
             "#8e0152"
            ],
            [
             0.1,
             "#c51b7d"
            ],
            [
             0.2,
             "#de77ae"
            ],
            [
             0.3,
             "#f1b6da"
            ],
            [
             0.4,
             "#fde0ef"
            ],
            [
             0.5,
             "#f7f7f7"
            ],
            [
             0.6,
             "#e6f5d0"
            ],
            [
             0.7,
             "#b8e186"
            ],
            [
             0.8,
             "#7fbc41"
            ],
            [
             0.9,
             "#4d9221"
            ],
            [
             1,
             "#276419"
            ]
           ],
           "sequential": [
            [
             0,
             "#0d0887"
            ],
            [
             0.1111111111111111,
             "#46039f"
            ],
            [
             0.2222222222222222,
             "#7201a8"
            ],
            [
             0.3333333333333333,
             "#9c179e"
            ],
            [
             0.4444444444444444,
             "#bd3786"
            ],
            [
             0.5555555555555556,
             "#d8576b"
            ],
            [
             0.6666666666666666,
             "#ed7953"
            ],
            [
             0.7777777777777778,
             "#fb9f3a"
            ],
            [
             0.8888888888888888,
             "#fdca26"
            ],
            [
             1,
             "#f0f921"
            ]
           ],
           "sequentialminus": [
            [
             0,
             "#0d0887"
            ],
            [
             0.1111111111111111,
             "#46039f"
            ],
            [
             0.2222222222222222,
             "#7201a8"
            ],
            [
             0.3333333333333333,
             "#9c179e"
            ],
            [
             0.4444444444444444,
             "#bd3786"
            ],
            [
             0.5555555555555556,
             "#d8576b"
            ],
            [
             0.6666666666666666,
             "#ed7953"
            ],
            [
             0.7777777777777778,
             "#fb9f3a"
            ],
            [
             0.8888888888888888,
             "#fdca26"
            ],
            [
             1,
             "#f0f921"
            ]
           ]
          },
          "colorway": [
           "#636efa",
           "#EF553B",
           "#00cc96",
           "#ab63fa",
           "#FFA15A",
           "#19d3f3",
           "#FF6692",
           "#B6E880",
           "#FF97FF",
           "#FECB52"
          ],
          "font": {
           "color": "#2a3f5f"
          },
          "geo": {
           "bgcolor": "white",
           "lakecolor": "white",
           "landcolor": "#E5ECF6",
           "showlakes": true,
           "showland": true,
           "subunitcolor": "white"
          },
          "hoverlabel": {
           "align": "left"
          },
          "hovermode": "closest",
          "mapbox": {
           "style": "light"
          },
          "paper_bgcolor": "white",
          "plot_bgcolor": "#E5ECF6",
          "polar": {
           "angularaxis": {
            "gridcolor": "white",
            "linecolor": "white",
            "ticks": ""
           },
           "bgcolor": "#E5ECF6",
           "radialaxis": {
            "gridcolor": "white",
            "linecolor": "white",
            "ticks": ""
           }
          },
          "scene": {
           "xaxis": {
            "backgroundcolor": "#E5ECF6",
            "gridcolor": "white",
            "gridwidth": 2,
            "linecolor": "white",
            "showbackground": true,
            "ticks": "",
            "zerolinecolor": "white"
           },
           "yaxis": {
            "backgroundcolor": "#E5ECF6",
            "gridcolor": "white",
            "gridwidth": 2,
            "linecolor": "white",
            "showbackground": true,
            "ticks": "",
            "zerolinecolor": "white"
           },
           "zaxis": {
            "backgroundcolor": "#E5ECF6",
            "gridcolor": "white",
            "gridwidth": 2,
            "linecolor": "white",
            "showbackground": true,
            "ticks": "",
            "zerolinecolor": "white"
           }
          },
          "shapedefaults": {
           "line": {
            "color": "#2a3f5f"
           }
          },
          "ternary": {
           "aaxis": {
            "gridcolor": "white",
            "linecolor": "white",
            "ticks": ""
           },
           "baxis": {
            "gridcolor": "white",
            "linecolor": "white",
            "ticks": ""
           },
           "bgcolor": "#E5ECF6",
           "caxis": {
            "gridcolor": "white",
            "linecolor": "white",
            "ticks": ""
           }
          },
          "title": {
           "x": 0.05
          },
          "xaxis": {
           "automargin": true,
           "gridcolor": "white",
           "linecolor": "white",
           "ticks": "",
           "title": {
            "standoff": 15
           },
           "zerolinecolor": "white",
           "zerolinewidth": 2
          },
          "yaxis": {
           "automargin": true,
           "gridcolor": "white",
           "linecolor": "white",
           "ticks": "",
           "title": {
            "standoff": 15
           },
           "zerolinecolor": "white",
           "zerolinewidth": 2
          }
         }
        },
        "title": {
         "text": "Hyperparameter Importances"
        },
        "xaxis": {
         "title": {
          "text": "Hyperparameter Importance"
         }
        },
        "yaxis": {
         "title": {
          "text": "Hyperparameter"
         }
        }
       }
      }
     },
     "metadata": {},
     "output_type": "display_data"
    }
   ],
   "source": [
    "# Visualize the parameter importance\n",
    "optuna.visualization.plot_param_importances(study).show()"
   ]
  },
  {
   "cell_type": "code",
   "execution_count": 72,
   "id": "d59e3f7b-215b-4b5c-a1f4-7939f327b8aa",
   "metadata": {},
   "outputs": [],
   "source": [
    "#joblib.dump(tuned_model, 'CIC_hybrid_no_outliers_Norsok_scikit.joblib')"
   ]
  }
 ],
 "metadata": {
  "kernelspec": {
   "display_name": "Python (Poetry_dist_tower)",
   "language": "python",
   "name": "my_poetry_kernel"
  },
  "language_info": {
   "codemirror_mode": {
    "name": "ipython",
    "version": 3
   },
   "file_extension": ".py",
   "mimetype": "text/x-python",
   "name": "python",
   "nbconvert_exporter": "python",
   "pygments_lexer": "ipython3",
   "version": "3.10.14"
  }
 },
 "nbformat": 4,
 "nbformat_minor": 5
}
