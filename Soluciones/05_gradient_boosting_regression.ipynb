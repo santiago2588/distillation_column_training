{
  "cells": [
    {
      "cell_type": "markdown",
      "metadata": {
        "id": "view-in-github",
        "colab_type": "text"
      },
      "source": [
        "<a href=\"https://colab.research.google.com/github/santiago2588/distillation_column_training/blob/main/Soluciones_colab/05_gradient_boosting_regression.ipynb\" target=\"_parent\"><img src=\"https://colab.research.google.com/assets/colab-badge.svg\" alt=\"Open In Colab\"/></a>"
      ]
    },
    {
      "cell_type": "code",
      "execution_count": 1,
      "id": "a0bbd9e9",
      "metadata": {
        "id": "a0bbd9e9"
      },
      "outputs": [],
      "source": [
        "# Data wrangling\n",
        "import pandas as pd\n",
        "import numpy as np"
      ]
    },
    {
      "cell_type": "code",
      "execution_count": 2,
      "id": "a6390121",
      "metadata": {
        "id": "a6390121"
      },
      "outputs": [],
      "source": [
        "# Data visualization\n",
        "import matplotlib.pyplot as plt\n",
        "import seaborn as sns\n",
        "import plotly.express as px\n",
        "from tqdm import tqdm"
      ]
    },
    {
      "cell_type": "code",
      "execution_count": 3,
      "id": "9b42e388",
      "metadata": {
        "id": "9b42e388"
      },
      "outputs": [],
      "source": [
        "# Models\n",
        "from sklearn.ensemble import GradientBoostingRegressor"
      ]
    },
    {
      "cell_type": "code",
      "execution_count": 4,
      "id": "9963d95c",
      "metadata": {
        "id": "9963d95c"
      },
      "outputs": [],
      "source": [
        "# Models Pipelines\n",
        "from sklearn.pipeline import Pipeline"
      ]
    },
    {
      "cell_type": "code",
      "source": [
        "# Install the optuna library\n",
        "!pip install optuna -q"
      ],
      "metadata": {
        "colab": {
          "base_uri": "https://localhost:8080/"
        },
        "id": "RJ97nTFhLng2",
        "outputId": "adc3ae83-7d45-4355-d321-daa950610bbb"
      },
      "id": "RJ97nTFhLng2",
      "execution_count": 6,
      "outputs": [
        {
          "output_type": "stream",
          "name": "stdout",
          "text": [
            "\u001b[?25l   \u001b[90m━━━━━━━━━━━━━━━━━━━━━━━━━━━━━━━━━━━━━━━━\u001b[0m \u001b[32m0.0/395.9 kB\u001b[0m \u001b[31m?\u001b[0m eta \u001b[36m-:--:--\u001b[0m\r\u001b[2K   \u001b[91m━━━━━━━━━━━━━━━━━━━━━━━━━━━━━━━━━\u001b[0m\u001b[90m╺\u001b[0m\u001b[90m━━━━━━\u001b[0m \u001b[32m327.7/395.9 kB\u001b[0m \u001b[31m9.4 MB/s\u001b[0m eta \u001b[36m0:00:01\u001b[0m\r\u001b[2K   \u001b[90m━━━━━━━━━━━━━━━━━━━━━━━━━━━━━━━━━━━━━━━━\u001b[0m \u001b[32m395.9/395.9 kB\u001b[0m \u001b[31m7.0 MB/s\u001b[0m eta \u001b[36m0:00:00\u001b[0m\n",
            "\u001b[?25h\u001b[?25l   \u001b[90m━━━━━━━━━━━━━━━━━━━━━━━━━━━━━━━━━━━━━━━━\u001b[0m \u001b[32m0.0/242.7 kB\u001b[0m \u001b[31m?\u001b[0m eta \u001b[36m-:--:--\u001b[0m\r\u001b[2K   \u001b[90m━━━━━━━━━━━━━━━━━━━━━━━━━━━━━━━━━━━━━━━━\u001b[0m \u001b[32m242.7/242.7 kB\u001b[0m \u001b[31m14.0 MB/s\u001b[0m eta \u001b[36m0:00:00\u001b[0m\n",
            "\u001b[?25h"
          ]
        }
      ]
    },
    {
      "cell_type": "code",
      "execution_count": 7,
      "id": "5daecf1c",
      "metadata": {
        "id": "5daecf1c"
      },
      "outputs": [],
      "source": [
        "#Hyperparameter optimization\n",
        "import optuna"
      ]
    },
    {
      "cell_type": "code",
      "execution_count": 8,
      "id": "c5d5c5e5",
      "metadata": {
        "id": "c5d5c5e5"
      },
      "outputs": [],
      "source": [
        "# Model evaluation\n",
        "from sklearn.model_selection import train_test_split\n",
        "from sklearn.metrics import mean_squared_error, mean_absolute_error, r2_score"
      ]
    },
    {
      "cell_type": "code",
      "execution_count": 9,
      "id": "10e17ed6",
      "metadata": {
        "id": "10e17ed6"
      },
      "outputs": [],
      "source": [
        "# Save model\n",
        "import joblib"
      ]
    },
    {
      "cell_type": "code",
      "execution_count": 10,
      "id": "49fa3a41",
      "metadata": {
        "colab": {
          "base_uri": "https://localhost:8080/"
        },
        "id": "49fa3a41",
        "outputId": "68c67a6e-eab6-49aa-8ecc-59790e8a7832"
      },
      "outputs": [
        {
          "output_type": "stream",
          "name": "stdout",
          "text": [
            "--2025-07-07 14:00:09--  https://raw.githubusercontent.com/santiago2588/distillation_column_training/main/data/transformed_data.csv\n",
            "Resolving raw.githubusercontent.com (raw.githubusercontent.com)... 185.199.108.133, 185.199.109.133, 185.199.110.133, ...\n",
            "Connecting to raw.githubusercontent.com (raw.githubusercontent.com)|185.199.108.133|:443... connected.\n",
            "HTTP request sent, awaiting response... 200 OK\n",
            "Length: 12344 (12K) [text/plain]\n",
            "Saving to: ‘transformed_data.csv’\n",
            "\n",
            "transformed_data.cs 100%[===================>]  12.05K  --.-KB/s    in 0.003s  \n",
            "\n",
            "2025-07-07 14:00:10 (4.43 MB/s) - ‘transformed_data.csv’ saved [12344/12344]\n",
            "\n"
          ]
        }
      ],
      "source": [
        "!wget https://raw.githubusercontent.com/santiago2588/distillation_column_training/main/data/transformed_data.csv -O transformed_data.csv"
      ]
    },
    {
      "cell_type": "code",
      "source": [
        "import pandas as pd\n",
        "\n",
        "# Read the CSV file into a DataFrame\n",
        "df = pd.read_csv(\"transformed_data.csv\")\n",
        "\n",
        "# Display the first few rows to confirm it loaded correctly\n",
        "df.head()"
      ],
      "metadata": {
        "colab": {
          "base_uri": "https://localhost:8080/",
          "height": 206
        },
        "id": "5U-2XjAyL-Vd",
        "outputId": "fc714c73-f206-43fd-9616-455079b0c560"
      },
      "id": "5U-2XjAyL-Vd",
      "execution_count": 11,
      "outputs": [
        {
          "output_type": "execute_result",
          "data": {
            "text/plain": [
              "   PressureC1_diff    FlowC1     Temp1      Yield\n",
              "0           0.0000  432.0636  139.9857  69.400623\n",
              "1          -9.9628  487.4029  131.0470  66.532666\n",
              "2          -0.0695  437.3516  118.2666  71.102193\n",
              "3           0.2257  481.8314  118.1769  69.793481\n",
              "4          -0.1678  412.6471  120.7891  71.489516"
            ],
            "text/html": [
              "\n",
              "  <div id=\"df-692b43c2-0993-489b-b1ec-b88f1efc2c4d\" class=\"colab-df-container\">\n",
              "    <div>\n",
              "<style scoped>\n",
              "    .dataframe tbody tr th:only-of-type {\n",
              "        vertical-align: middle;\n",
              "    }\n",
              "\n",
              "    .dataframe tbody tr th {\n",
              "        vertical-align: top;\n",
              "    }\n",
              "\n",
              "    .dataframe thead th {\n",
              "        text-align: right;\n",
              "    }\n",
              "</style>\n",
              "<table border=\"1\" class=\"dataframe\">\n",
              "  <thead>\n",
              "    <tr style=\"text-align: right;\">\n",
              "      <th></th>\n",
              "      <th>PressureC1_diff</th>\n",
              "      <th>FlowC1</th>\n",
              "      <th>Temp1</th>\n",
              "      <th>Yield</th>\n",
              "    </tr>\n",
              "  </thead>\n",
              "  <tbody>\n",
              "    <tr>\n",
              "      <th>0</th>\n",
              "      <td>0.0000</td>\n",
              "      <td>432.0636</td>\n",
              "      <td>139.9857</td>\n",
              "      <td>69.400623</td>\n",
              "    </tr>\n",
              "    <tr>\n",
              "      <th>1</th>\n",
              "      <td>-9.9628</td>\n",
              "      <td>487.4029</td>\n",
              "      <td>131.0470</td>\n",
              "      <td>66.532666</td>\n",
              "    </tr>\n",
              "    <tr>\n",
              "      <th>2</th>\n",
              "      <td>-0.0695</td>\n",
              "      <td>437.3516</td>\n",
              "      <td>118.2666</td>\n",
              "      <td>71.102193</td>\n",
              "    </tr>\n",
              "    <tr>\n",
              "      <th>3</th>\n",
              "      <td>0.2257</td>\n",
              "      <td>481.8314</td>\n",
              "      <td>118.1769</td>\n",
              "      <td>69.793481</td>\n",
              "    </tr>\n",
              "    <tr>\n",
              "      <th>4</th>\n",
              "      <td>-0.1678</td>\n",
              "      <td>412.6471</td>\n",
              "      <td>120.7891</td>\n",
              "      <td>71.489516</td>\n",
              "    </tr>\n",
              "  </tbody>\n",
              "</table>\n",
              "</div>\n",
              "    <div class=\"colab-df-buttons\">\n",
              "\n",
              "  <div class=\"colab-df-container\">\n",
              "    <button class=\"colab-df-convert\" onclick=\"convertToInteractive('df-692b43c2-0993-489b-b1ec-b88f1efc2c4d')\"\n",
              "            title=\"Convert this dataframe to an interactive table.\"\n",
              "            style=\"display:none;\">\n",
              "\n",
              "  <svg xmlns=\"http://www.w3.org/2000/svg\" height=\"24px\" viewBox=\"0 -960 960 960\">\n",
              "    <path d=\"M120-120v-720h720v720H120Zm60-500h600v-160H180v160Zm220 220h160v-160H400v160Zm0 220h160v-160H400v160ZM180-400h160v-160H180v160Zm440 0h160v-160H620v160ZM180-180h160v-160H180v160Zm440 0h160v-160H620v160Z\"/>\n",
              "  </svg>\n",
              "    </button>\n",
              "\n",
              "  <style>\n",
              "    .colab-df-container {\n",
              "      display:flex;\n",
              "      gap: 12px;\n",
              "    }\n",
              "\n",
              "    .colab-df-convert {\n",
              "      background-color: #E8F0FE;\n",
              "      border: none;\n",
              "      border-radius: 50%;\n",
              "      cursor: pointer;\n",
              "      display: none;\n",
              "      fill: #1967D2;\n",
              "      height: 32px;\n",
              "      padding: 0 0 0 0;\n",
              "      width: 32px;\n",
              "    }\n",
              "\n",
              "    .colab-df-convert:hover {\n",
              "      background-color: #E2EBFA;\n",
              "      box-shadow: 0px 1px 2px rgba(60, 64, 67, 0.3), 0px 1px 3px 1px rgba(60, 64, 67, 0.15);\n",
              "      fill: #174EA6;\n",
              "    }\n",
              "\n",
              "    .colab-df-buttons div {\n",
              "      margin-bottom: 4px;\n",
              "    }\n",
              "\n",
              "    [theme=dark] .colab-df-convert {\n",
              "      background-color: #3B4455;\n",
              "      fill: #D2E3FC;\n",
              "    }\n",
              "\n",
              "    [theme=dark] .colab-df-convert:hover {\n",
              "      background-color: #434B5C;\n",
              "      box-shadow: 0px 1px 3px 1px rgba(0, 0, 0, 0.15);\n",
              "      filter: drop-shadow(0px 1px 2px rgba(0, 0, 0, 0.3));\n",
              "      fill: #FFFFFF;\n",
              "    }\n",
              "  </style>\n",
              "\n",
              "    <script>\n",
              "      const buttonEl =\n",
              "        document.querySelector('#df-692b43c2-0993-489b-b1ec-b88f1efc2c4d button.colab-df-convert');\n",
              "      buttonEl.style.display =\n",
              "        google.colab.kernel.accessAllowed ? 'block' : 'none';\n",
              "\n",
              "      async function convertToInteractive(key) {\n",
              "        const element = document.querySelector('#df-692b43c2-0993-489b-b1ec-b88f1efc2c4d');\n",
              "        const dataTable =\n",
              "          await google.colab.kernel.invokeFunction('convertToInteractive',\n",
              "                                                    [key], {});\n",
              "        if (!dataTable) return;\n",
              "\n",
              "        const docLinkHtml = 'Like what you see? Visit the ' +\n",
              "          '<a target=\"_blank\" href=https://colab.research.google.com/notebooks/data_table.ipynb>data table notebook</a>'\n",
              "          + ' to learn more about interactive tables.';\n",
              "        element.innerHTML = '';\n",
              "        dataTable['output_type'] = 'display_data';\n",
              "        await google.colab.output.renderOutput(dataTable, element);\n",
              "        const docLink = document.createElement('div');\n",
              "        docLink.innerHTML = docLinkHtml;\n",
              "        element.appendChild(docLink);\n",
              "      }\n",
              "    </script>\n",
              "  </div>\n",
              "\n",
              "\n",
              "    <div id=\"df-96a9d3cb-1e7a-4c75-a5e6-045f635f7e7e\">\n",
              "      <button class=\"colab-df-quickchart\" onclick=\"quickchart('df-96a9d3cb-1e7a-4c75-a5e6-045f635f7e7e')\"\n",
              "                title=\"Suggest charts\"\n",
              "                style=\"display:none;\">\n",
              "\n",
              "<svg xmlns=\"http://www.w3.org/2000/svg\" height=\"24px\"viewBox=\"0 0 24 24\"\n",
              "     width=\"24px\">\n",
              "    <g>\n",
              "        <path d=\"M19 3H5c-1.1 0-2 .9-2 2v14c0 1.1.9 2 2 2h14c1.1 0 2-.9 2-2V5c0-1.1-.9-2-2-2zM9 17H7v-7h2v7zm4 0h-2V7h2v10zm4 0h-2v-4h2v4z\"/>\n",
              "    </g>\n",
              "</svg>\n",
              "      </button>\n",
              "\n",
              "<style>\n",
              "  .colab-df-quickchart {\n",
              "      --bg-color: #E8F0FE;\n",
              "      --fill-color: #1967D2;\n",
              "      --hover-bg-color: #E2EBFA;\n",
              "      --hover-fill-color: #174EA6;\n",
              "      --disabled-fill-color: #AAA;\n",
              "      --disabled-bg-color: #DDD;\n",
              "  }\n",
              "\n",
              "  [theme=dark] .colab-df-quickchart {\n",
              "      --bg-color: #3B4455;\n",
              "      --fill-color: #D2E3FC;\n",
              "      --hover-bg-color: #434B5C;\n",
              "      --hover-fill-color: #FFFFFF;\n",
              "      --disabled-bg-color: #3B4455;\n",
              "      --disabled-fill-color: #666;\n",
              "  }\n",
              "\n",
              "  .colab-df-quickchart {\n",
              "    background-color: var(--bg-color);\n",
              "    border: none;\n",
              "    border-radius: 50%;\n",
              "    cursor: pointer;\n",
              "    display: none;\n",
              "    fill: var(--fill-color);\n",
              "    height: 32px;\n",
              "    padding: 0;\n",
              "    width: 32px;\n",
              "  }\n",
              "\n",
              "  .colab-df-quickchart:hover {\n",
              "    background-color: var(--hover-bg-color);\n",
              "    box-shadow: 0 1px 2px rgba(60, 64, 67, 0.3), 0 1px 3px 1px rgba(60, 64, 67, 0.15);\n",
              "    fill: var(--button-hover-fill-color);\n",
              "  }\n",
              "\n",
              "  .colab-df-quickchart-complete:disabled,\n",
              "  .colab-df-quickchart-complete:disabled:hover {\n",
              "    background-color: var(--disabled-bg-color);\n",
              "    fill: var(--disabled-fill-color);\n",
              "    box-shadow: none;\n",
              "  }\n",
              "\n",
              "  .colab-df-spinner {\n",
              "    border: 2px solid var(--fill-color);\n",
              "    border-color: transparent;\n",
              "    border-bottom-color: var(--fill-color);\n",
              "    animation:\n",
              "      spin 1s steps(1) infinite;\n",
              "  }\n",
              "\n",
              "  @keyframes spin {\n",
              "    0% {\n",
              "      border-color: transparent;\n",
              "      border-bottom-color: var(--fill-color);\n",
              "      border-left-color: var(--fill-color);\n",
              "    }\n",
              "    20% {\n",
              "      border-color: transparent;\n",
              "      border-left-color: var(--fill-color);\n",
              "      border-top-color: var(--fill-color);\n",
              "    }\n",
              "    30% {\n",
              "      border-color: transparent;\n",
              "      border-left-color: var(--fill-color);\n",
              "      border-top-color: var(--fill-color);\n",
              "      border-right-color: var(--fill-color);\n",
              "    }\n",
              "    40% {\n",
              "      border-color: transparent;\n",
              "      border-right-color: var(--fill-color);\n",
              "      border-top-color: var(--fill-color);\n",
              "    }\n",
              "    60% {\n",
              "      border-color: transparent;\n",
              "      border-right-color: var(--fill-color);\n",
              "    }\n",
              "    80% {\n",
              "      border-color: transparent;\n",
              "      border-right-color: var(--fill-color);\n",
              "      border-bottom-color: var(--fill-color);\n",
              "    }\n",
              "    90% {\n",
              "      border-color: transparent;\n",
              "      border-bottom-color: var(--fill-color);\n",
              "    }\n",
              "  }\n",
              "</style>\n",
              "\n",
              "      <script>\n",
              "        async function quickchart(key) {\n",
              "          const quickchartButtonEl =\n",
              "            document.querySelector('#' + key + ' button');\n",
              "          quickchartButtonEl.disabled = true;  // To prevent multiple clicks.\n",
              "          quickchartButtonEl.classList.add('colab-df-spinner');\n",
              "          try {\n",
              "            const charts = await google.colab.kernel.invokeFunction(\n",
              "                'suggestCharts', [key], {});\n",
              "          } catch (error) {\n",
              "            console.error('Error during call to suggestCharts:', error);\n",
              "          }\n",
              "          quickchartButtonEl.classList.remove('colab-df-spinner');\n",
              "          quickchartButtonEl.classList.add('colab-df-quickchart-complete');\n",
              "        }\n",
              "        (() => {\n",
              "          let quickchartButtonEl =\n",
              "            document.querySelector('#df-96a9d3cb-1e7a-4c75-a5e6-045f635f7e7e button');\n",
              "          quickchartButtonEl.style.display =\n",
              "            google.colab.kernel.accessAllowed ? 'block' : 'none';\n",
              "        })();\n",
              "      </script>\n",
              "    </div>\n",
              "\n",
              "    </div>\n",
              "  </div>\n"
            ],
            "application/vnd.google.colaboratory.intrinsic+json": {
              "type": "dataframe",
              "variable_name": "df",
              "summary": "{\n  \"name\": \"df\",\n  \"rows\": 253,\n  \"fields\": [\n    {\n      \"column\": \"PressureC1_diff\",\n      \"properties\": {\n        \"dtype\": \"number\",\n        \"std\": 5.363855071106938,\n        \"min\": -29.8827,\n        \"max\": 38.14160000000001,\n        \"num_unique_values\": 230,\n        \"samples\": [\n          1.5603000000000122,\n          0.2546000000000106,\n          0.034700000000015\n        ],\n        \"semantic_type\": \"\",\n        \"description\": \"\"\n      }\n    },\n    {\n      \"column\": \"FlowC1\",\n      \"properties\": {\n        \"dtype\": \"number\",\n        \"std\": 83.15947312147954,\n        \"min\": 181.798024,\n        \"max\": 493.493212,\n        \"num_unique_values\": 249,\n        \"samples\": [\n          411.9007,\n          493.493212,\n          216.8331\n        ],\n        \"semantic_type\": \"\",\n        \"description\": \"\"\n      }\n    },\n    {\n      \"column\": \"Temp1\",\n      \"properties\": {\n        \"dtype\": \"number\",\n        \"std\": 11.921749338605228,\n        \"min\": 113.9631,\n        \"max\": 164.12032,\n        \"num_unique_values\": 246,\n        \"samples\": [\n          135.0188,\n          120.8903,\n          134.0731\n        ],\n        \"semantic_type\": \"\",\n        \"description\": \"\"\n      }\n    },\n    {\n      \"column\": \"Yield\",\n      \"properties\": {\n        \"dtype\": \"number\",\n        \"std\": 1.3458767417516304,\n        \"min\": 65.20380122,\n        \"max\": 73.47196291,\n        \"num_unique_values\": 253,\n        \"samples\": [\n          69.47875431,\n          69.16105249,\n          68.97093693\n        ],\n        \"semantic_type\": \"\",\n        \"description\": \"\"\n      }\n    }\n  ]\n}"
            }
          },
          "metadata": {},
          "execution_count": 11
        }
      ]
    },
    {
      "cell_type": "code",
      "execution_count": 12,
      "id": "8ef7e435",
      "metadata": {
        "id": "8ef7e435"
      },
      "outputs": [],
      "source": [
        "# Define features (X) and target variable (y)\n",
        "X = df.drop('Yield', axis=1)  # Features (all columns except 'Job Offer')\n",
        "y = df['Yield']  # Target variable"
      ]
    },
    {
      "cell_type": "code",
      "execution_count": 13,
      "id": "70582ae6",
      "metadata": {
        "colab": {
          "base_uri": "https://localhost:8080/"
        },
        "id": "70582ae6",
        "outputId": "62d0c99f-cb46-474c-d469-371720b278a3"
      },
      "outputs": [
        {
          "output_type": "stream",
          "name": "stdout",
          "text": [
            "Training data shape: (202, 3)\n",
            "Testing data shape: (51, 3)\n"
          ]
        }
      ],
      "source": [
        "from sklearn.model_selection import train_test_split\n",
        "# Split the data into training and testing sets\n",
        "X_train, X_test, y_train, y_test = train_test_split(X, y, test_size=0.2, random_state=42)\n",
        "# Check the shape of the data\n",
        "print(f\"Training data shape: {X_train.shape}\")\n",
        "print(f\"Testing data shape: {X_test.shape}\")"
      ]
    },
    {
      "cell_type": "code",
      "execution_count": 14,
      "id": "eea16c3d",
      "metadata": {
        "id": "eea16c3d"
      },
      "outputs": [],
      "source": [
        "def get_metrics(y_true, y_pred):\n",
        "\n",
        "    dict_metrics = {\n",
        "        'MSE': mean_squared_error(y_true, y_pred),\n",
        "        'MAE': mean_absolute_error(y_true, y_pred),\n",
        "        'R2 Score': r2_score(y_true, y_pred),\n",
        "\n",
        "    }\n",
        "    return dict_metrics"
      ]
    },
    {
      "cell_type": "code",
      "execution_count": 15,
      "id": "ed8e4a65",
      "metadata": {
        "colab": {
          "base_uri": "https://localhost:8080/"
        },
        "id": "ed8e4a65",
        "outputId": "a4b8635d-6482-4cac-ffb7-3e9d19aaa56d"
      },
      "outputs": [
        {
          "output_type": "execute_result",
          "data": {
            "text/plain": [
              "{'MSE': 0.5607937224219373,\n",
              " 'MAE': 0.554537030979557,\n",
              " 'R2 Score': 0.7250647125960571}"
            ]
          },
          "metadata": {},
          "execution_count": 15
        }
      ],
      "source": [
        "# Creating pipeline with Boosted Trees\n",
        "pip_model_bt = Pipeline(steps=[\n",
        "    ('model', GradientBoostingRegressor(random_state=2023))\n",
        "])\n",
        "\n",
        "# Fit pipeline\n",
        "pip_model_bt.fit(X_train, y_train)\n",
        "\n",
        "# Generate Predictions using the correctly fitted pipeline\n",
        "y_pred = pip_model_bt.predict(X_test)\n",
        "\n",
        "# Evaluate Metrics\n",
        "metrics = get_metrics(y_test, y_pred)\n",
        "\n",
        "# View Results\n",
        "metrics"
      ]
    },
    {
      "cell_type": "code",
      "execution_count": 16,
      "id": "c2ab6fe4",
      "metadata": {
        "colab": {
          "base_uri": "https://localhost:8080/"
        },
        "collapsed": true,
        "id": "c2ab6fe4",
        "outputId": "eaa8ea00-b101-4b07-9177-765339530d98"
      },
      "outputs": [
        {
          "output_type": "stream",
          "name": "stderr",
          "text": [
            "[I 2025-07-07 14:00:34,149] A new study created in memory with name: no-name-eb9f03fc-5e64-4286-b56d-15146b099beb\n",
            "[I 2025-07-07 14:00:34,525] Trial 0 finished with value: 0.6580079139516993 and parameters: {'n_estimators': 357, 'max_depth': 8, 'learning_rate': 0.23167256523522226, 'subsample': 0.7723470266271654, 'min_samples_split': 12, 'min_samples_leaf': 14}. Best is trial 0 with value: 0.6580079139516993.\n",
            "[I 2025-07-07 14:00:34,953] Trial 1 finished with value: 0.44276927671751265 and parameters: {'n_estimators': 331, 'max_depth': 9, 'learning_rate': 0.05960718069034, 'subsample': 0.9114165755101982, 'min_samples_split': 7, 'min_samples_leaf': 5}. Best is trial 1 with value: 0.44276927671751265.\n",
            "[I 2025-07-07 14:00:35,125] Trial 2 finished with value: 0.8982886305623583 and parameters: {'n_estimators': 185, 'max_depth': 10, 'learning_rate': 0.25702420521367036, 'subsample': 0.6574346003208865, 'min_samples_split': 10, 'min_samples_leaf': 20}. Best is trial 1 with value: 0.44276927671751265.\n",
            "[I 2025-07-07 14:00:35,277] Trial 3 finished with value: 0.6555223147620594 and parameters: {'n_estimators': 143, 'max_depth': 7, 'learning_rate': 0.2474332983675057, 'subsample': 0.9645296750873362, 'min_samples_split': 16, 'min_samples_leaf': 18}. Best is trial 1 with value: 0.44276927671751265.\n",
            "[I 2025-07-07 14:00:35,736] Trial 4 finished with value: 0.5333178042422709 and parameters: {'n_estimators': 407, 'max_depth': 10, 'learning_rate': 0.03265371753762152, 'subsample': 0.7174013134811739, 'min_samples_split': 9, 'min_samples_leaf': 8}. Best is trial 1 with value: 0.44276927671751265.\n",
            "[I 2025-07-07 14:00:35,861] Trial 5 finished with value: 0.935845912416954 and parameters: {'n_estimators': 142, 'max_depth': 6, 'learning_rate': 0.08803446834243511, 'subsample': 0.5382113989992482, 'min_samples_split': 15, 'min_samples_leaf': 18}. Best is trial 1 with value: 0.44276927671751265.\n",
            "[I 2025-07-07 14:00:36,292] Trial 6 finished with value: 0.5275354870922594 and parameters: {'n_estimators': 498, 'max_depth': 2, 'learning_rate': 0.07470410378671193, 'subsample': 0.5899378495186919, 'min_samples_split': 3, 'min_samples_leaf': 3}. Best is trial 1 with value: 0.44276927671751265.\n",
            "[I 2025-07-07 14:00:36,618] Trial 7 finished with value: 0.7823518870175978 and parameters: {'n_estimators': 317, 'max_depth': 4, 'learning_rate': 0.022150368986808385, 'subsample': 0.8995706824989932, 'min_samples_split': 11, 'min_samples_leaf': 19}. Best is trial 1 with value: 0.44276927671751265.\n",
            "[I 2025-07-07 14:00:37,042] Trial 8 finished with value: 0.8087049095546243 and parameters: {'n_estimators': 442, 'max_depth': 8, 'learning_rate': 0.0738755490096241, 'subsample': 0.7017580681105284, 'min_samples_split': 10, 'min_samples_leaf': 18}. Best is trial 1 with value: 0.44276927671751265.\n",
            "[I 2025-07-07 14:00:37,348] Trial 9 finished with value: 0.6963552737591029 and parameters: {'n_estimators': 333, 'max_depth': 2, 'learning_rate': 0.15099592537208406, 'subsample': 0.8798230189984111, 'min_samples_split': 2, 'min_samples_leaf': 16}. Best is trial 1 with value: 0.44276927671751265.\n",
            "[I 2025-07-07 14:00:37,463] Trial 10 finished with value: 1.4341716445856991 and parameters: {'n_estimators': 52, 'max_depth': 5, 'learning_rate': 0.01104497798979972, 'subsample': 0.80766570693217, 'min_samples_split': 6, 'min_samples_leaf': 4}. Best is trial 1 with value: 0.44276927671751265.\n",
            "[I 2025-07-07 14:00:37,913] Trial 11 finished with value: 0.6572940544123749 and parameters: {'n_estimators': 488, 'max_depth': 2, 'learning_rate': 0.04175338931878052, 'subsample': 0.5159338539895557, 'min_samples_split': 2, 'min_samples_leaf': 1}. Best is trial 1 with value: 0.44276927671751265.\n",
            "[I 2025-07-07 14:00:38,179] Trial 12 finished with value: 0.5662416653457432 and parameters: {'n_estimators': 246, 'max_depth': 4, 'learning_rate': 0.09503627976587302, 'subsample': 0.6318431139865394, 'min_samples_split': 6, 'min_samples_leaf': 7}. Best is trial 1 with value: 0.44276927671751265.\n",
            "[I 2025-07-07 14:00:38,789] Trial 13 finished with value: 0.43371265944794657 and parameters: {'n_estimators': 493, 'max_depth': 9, 'learning_rate': 0.06069022281176825, 'subsample': 0.5979723750252124, 'min_samples_split': 5, 'min_samples_leaf': 1}. Best is trial 13 with value: 0.43371265944794657.\n",
            "[I 2025-07-07 14:00:39,283] Trial 14 finished with value: 0.4133251814866756 and parameters: {'n_estimators': 395, 'max_depth': 9, 'learning_rate': 0.025033470935946007, 'subsample': 0.826244872083275, 'min_samples_split': 20, 'min_samples_leaf': 6}. Best is trial 14 with value: 0.4133251814866756.\n",
            "[I 2025-07-07 14:00:39,780] Trial 15 finished with value: 0.6081528638895599 and parameters: {'n_estimators': 410, 'max_depth': 8, 'learning_rate': 0.017830212607523994, 'subsample': 0.816016493701896, 'min_samples_split': 20, 'min_samples_leaf': 11}. Best is trial 14 with value: 0.4133251814866756.\n",
            "[I 2025-07-07 14:00:40,631] Trial 16 finished with value: 0.4605951894317873 and parameters: {'n_estimators': 441, 'max_depth': 9, 'learning_rate': 0.02877682384850411, 'subsample': 0.9990010380334962, 'min_samples_split': 19, 'min_samples_leaf': 2}. Best is trial 14 with value: 0.4133251814866756.\n",
            "[I 2025-07-07 14:00:41,016] Trial 17 finished with value: 0.5650931169857211 and parameters: {'n_estimators': 262, 'max_depth': 7, 'learning_rate': 0.014223732519594924, 'subsample': 0.5774751414754704, 'min_samples_split': 15, 'min_samples_leaf': 7}. Best is trial 14 with value: 0.4133251814866756.\n",
            "[I 2025-07-07 14:00:41,614] Trial 18 finished with value: 0.6073921292696094 and parameters: {'n_estimators': 385, 'max_depth': 9, 'learning_rate': 0.040774856466557624, 'subsample': 0.8442308552919782, 'min_samples_split': 17, 'min_samples_leaf': 11}. Best is trial 14 with value: 0.4133251814866756.\n",
            "[I 2025-07-07 14:00:42,425] Trial 19 finished with value: 0.4421635865658479 and parameters: {'n_estimators': 457, 'max_depth': 10, 'learning_rate': 0.12628429739289673, 'subsample': 0.7513858223699069, 'min_samples_split': 13, 'min_samples_leaf': 5}. Best is trial 14 with value: 0.4133251814866756.\n",
            "[I 2025-07-07 14:00:42,867] Trial 20 finished with value: 0.61424878731634 and parameters: {'n_estimators': 383, 'max_depth': 7, 'learning_rate': 0.049912951512010986, 'subsample': 0.6635802412444373, 'min_samples_split': 4, 'min_samples_leaf': 9}. Best is trial 14 with value: 0.4133251814866756.\n",
            "[I 2025-07-07 14:00:43,450] Trial 21 finished with value: 0.44021222479756633 and parameters: {'n_estimators': 460, 'max_depth': 10, 'learning_rate': 0.13339318792749008, 'subsample': 0.7539010154621779, 'min_samples_split': 13, 'min_samples_leaf': 5}. Best is trial 14 with value: 0.4133251814866756.\n",
            "[I 2025-07-07 14:00:44,051] Trial 22 finished with value: 0.4669218330509367 and parameters: {'n_estimators': 464, 'max_depth': 9, 'learning_rate': 0.16023148607083962, 'subsample': 0.7819241971384865, 'min_samples_split': 18, 'min_samples_leaf': 1}. Best is trial 14 with value: 0.4133251814866756.\n",
            "[I 2025-07-07 14:00:44,634] Trial 23 finished with value: 0.43350774180113943 and parameters: {'n_estimators': 498, 'max_depth': 10, 'learning_rate': 0.024815603078612754, 'subsample': 0.7189650899265838, 'min_samples_split': 13, 'min_samples_leaf': 6}. Best is trial 14 with value: 0.4133251814866756.\n",
            "[I 2025-07-07 14:00:45,083] Trial 24 finished with value: 0.6703243913205367 and parameters: {'n_estimators': 419, 'max_depth': 8, 'learning_rate': 0.019533069003237064, 'subsample': 0.702496491780804, 'min_samples_split': 8, 'min_samples_leaf': 13}. Best is trial 14 with value: 0.4133251814866756.\n",
            "[I 2025-07-07 14:00:45,604] Trial 25 finished with value: 0.5959848942998578 and parameters: {'n_estimators': 495, 'max_depth': 9, 'learning_rate': 0.03162270685654635, 'subsample': 0.600560485295023, 'min_samples_split': 5, 'min_samples_leaf': 9}. Best is trial 14 with value: 0.4133251814866756.\n",
            "[I 2025-07-07 14:00:46,035] Trial 26 finished with value: 0.41646779727113964 and parameters: {'n_estimators': 297, 'max_depth': 10, 'learning_rate': 0.022797226521174708, 'subsample': 0.8519605798760607, 'min_samples_split': 14, 'min_samples_leaf': 3}. Best is trial 14 with value: 0.4133251814866756.\n",
            "[I 2025-07-07 14:00:46,346] Trial 27 finished with value: 0.4530993743821097 and parameters: {'n_estimators': 224, 'max_depth': 10, 'learning_rate': 0.025057846754766668, 'subsample': 0.875359693125705, 'min_samples_split': 14, 'min_samples_leaf': 6}. Best is trial 14 with value: 0.4133251814866756.\n",
            "[I 2025-07-07 14:00:46,778] Trial 28 finished with value: 0.44871857302589757 and parameters: {'n_estimators': 304, 'max_depth': 10, 'learning_rate': 0.013750879276964278, 'subsample': 0.939524279314996, 'min_samples_split': 18, 'min_samples_leaf': 3}. Best is trial 14 with value: 0.4133251814866756.\n",
            "[I 2025-07-07 14:00:47,293] Trial 29 finished with value: 0.5535505119101274 and parameters: {'n_estimators': 365, 'max_depth': 6, 'learning_rate': 0.016085290319984385, 'subsample': 0.8350964508567403, 'min_samples_split': 12, 'min_samples_leaf': 9}. Best is trial 14 with value: 0.4133251814866756.\n",
            "[I 2025-07-07 14:00:47,709] Trial 30 finished with value: 0.7293353369985519 and parameters: {'n_estimators': 357, 'max_depth': 8, 'learning_rate': 0.010130569994185382, 'subsample': 0.7871379726997092, 'min_samples_split': 20, 'min_samples_leaf': 13}. Best is trial 14 with value: 0.4133251814866756.\n",
            "[I 2025-07-07 14:00:48,113] Trial 31 finished with value: 0.43198646643768696 and parameters: {'n_estimators': 285, 'max_depth': 9, 'learning_rate': 0.04000774865039654, 'subsample': 0.8458854819401146, 'min_samples_split': 12, 'min_samples_leaf': 3}. Best is trial 14 with value: 0.4133251814866756.\n",
            "[I 2025-07-07 14:00:48,532] Trial 32 finished with value: 0.43732239522906363 and parameters: {'n_estimators': 278, 'max_depth': 9, 'learning_rate': 0.0391268580649926, 'subsample': 0.8517532759018399, 'min_samples_split': 12, 'min_samples_leaf': 3}. Best is trial 14 with value: 0.4133251814866756.\n",
            "[I 2025-07-07 14:00:48,997] Trial 33 finished with value: 0.45026425146728144 and parameters: {'n_estimators': 296, 'max_depth': 10, 'learning_rate': 0.025012232979903532, 'subsample': 0.9123223823720318, 'min_samples_split': 14, 'min_samples_leaf': 5}. Best is trial 14 with value: 0.4133251814866756.\n",
            "[I 2025-07-07 14:00:49,285] Trial 34 finished with value: 0.44873315167227923 and parameters: {'n_estimators': 209, 'max_depth': 8, 'learning_rate': 0.021486209709858105, 'subsample': 0.7265537244250312, 'min_samples_split': 11, 'min_samples_leaf': 4}. Best is trial 14 with value: 0.4133251814866756.\n",
            "[I 2025-07-07 14:00:49,769] Trial 35 finished with value: 0.4774377980173236 and parameters: {'n_estimators': 339, 'max_depth': 9, 'learning_rate': 0.033528254114896655, 'subsample': 0.8085430417363499, 'min_samples_split': 16, 'min_samples_leaf': 7}. Best is trial 14 with value: 0.4133251814866756.\n",
            "[I 2025-07-07 14:00:50,156] Trial 36 finished with value: 0.43882102735329503 and parameters: {'n_estimators': 286, 'max_depth': 7, 'learning_rate': 0.049264127597464985, 'subsample': 0.8643553328279473, 'min_samples_split': 9, 'min_samples_leaf': 6}. Best is trial 14 with value: 0.4133251814866756.\n",
            "[I 2025-07-07 14:00:50,397] Trial 37 finished with value: 0.4946752607606496 and parameters: {'n_estimators': 143, 'max_depth': 10, 'learning_rate': 0.026236741939285314, 'subsample': 0.9466016095183115, 'min_samples_split': 16, 'min_samples_leaf': 4}. Best is trial 14 with value: 0.4133251814866756.\n",
            "[I 2025-07-07 14:00:50,670] Trial 38 finished with value: 0.4393593887692301 and parameters: {'n_estimators': 165, 'max_depth': 9, 'learning_rate': 0.03362332416966951, 'subsample': 0.6730386603216605, 'min_samples_split': 13, 'min_samples_leaf': 3}. Best is trial 14 with value: 0.4133251814866756.\n",
            "[I 2025-07-07 14:00:51,062] Trial 39 finished with value: 0.484656238354874 and parameters: {'n_estimators': 248, 'max_depth': 10, 'learning_rate': 0.02187525178583123, 'subsample': 0.9106621206367662, 'min_samples_split': 10, 'min_samples_leaf': 2}. Best is trial 14 with value: 0.4133251814866756.\n",
            "[I 2025-07-07 14:00:51,460] Trial 40 finished with value: 0.46593040251989676 and parameters: {'n_estimators': 316, 'max_depth': 7, 'learning_rate': 0.016285414445926374, 'subsample': 0.7709646633602415, 'min_samples_split': 15, 'min_samples_leaf': 6}. Best is trial 14 with value: 0.4133251814866756.\n",
            "[I 2025-07-07 14:00:52,079] Trial 41 finished with value: 0.4937164364966939 and parameters: {'n_estimators': 476, 'max_depth': 9, 'learning_rate': 0.07086145243376807, 'subsample': 0.6346395158546146, 'min_samples_split': 8, 'min_samples_leaf': 1}. Best is trial 14 with value: 0.4133251814866756.\n",
            "[I 2025-07-07 14:00:52,849] Trial 42 finished with value: 0.43031971559147714 and parameters: {'n_estimators': 429, 'max_depth': 9, 'learning_rate': 0.05543921804317975, 'subsample': 0.8158341613937669, 'min_samples_split': 12, 'min_samples_leaf': 2}. Best is trial 14 with value: 0.4133251814866756.\n",
            "[I 2025-07-07 14:00:53,718] Trial 43 finished with value: 0.4397669913521008 and parameters: {'n_estimators': 431, 'max_depth': 8, 'learning_rate': 0.05622346868516628, 'subsample': 0.8215020358211782, 'min_samples_split': 11, 'min_samples_leaf': 2}. Best is trial 14 with value: 0.4133251814866756.\n",
            "[I 2025-07-07 14:00:53,903] Trial 44 finished with value: 0.46656317903639277 and parameters: {'n_estimators': 83, 'max_depth': 10, 'learning_rate': 0.0385214789597463, 'subsample': 0.7241923810469149, 'min_samples_split': 14, 'min_samples_leaf': 4}. Best is trial 14 with value: 0.4133251814866756.\n",
            "[I 2025-07-07 14:00:54,626] Trial 45 finished with value: 0.49836610750799776 and parameters: {'n_estimators': 393, 'max_depth': 5, 'learning_rate': 0.04623765397265961, 'subsample': 0.8891126098563632, 'min_samples_split': 12, 'min_samples_leaf': 8}. Best is trial 14 with value: 0.4133251814866756.\n",
            "[I 2025-07-07 14:00:55,325] Trial 46 finished with value: 0.4707603664748299 and parameters: {'n_estimators': 343, 'max_depth': 10, 'learning_rate': 0.06571912971235465, 'subsample': 0.7989738105979527, 'min_samples_split': 10, 'min_samples_leaf': 2}. Best is trial 14 with value: 0.4133251814866756.\n",
            "[I 2025-07-07 14:00:55,925] Trial 47 finished with value: 0.42177213373102673 and parameters: {'n_estimators': 429, 'max_depth': 8, 'learning_rate': 0.09045012812367154, 'subsample': 0.8416176773854094, 'min_samples_split': 12, 'min_samples_leaf': 3}. Best is trial 14 with value: 0.4133251814866756.\n",
            "[I 2025-07-07 14:00:56,438] Trial 48 finished with value: 0.4252443168530686 and parameters: {'n_estimators': 371, 'max_depth': 8, 'learning_rate': 0.08998542356055032, 'subsample': 0.8314336341510884, 'min_samples_split': 9, 'min_samples_leaf': 3}. Best is trial 14 with value: 0.4133251814866756.\n",
            "[I 2025-07-07 14:00:56,945] Trial 49 finished with value: 0.4067005913288812 and parameters: {'n_estimators': 367, 'max_depth': 6, 'learning_rate': 0.09581182108365248, 'subsample': 0.863749492021017, 'min_samples_split': 9, 'min_samples_leaf': 4}. Best is trial 49 with value: 0.4067005913288812.\n"
          ]
        },
        {
          "output_type": "stream",
          "name": "stdout",
          "text": [
            "Best hyperparameters: {'n_estimators': 367, 'max_depth': 6, 'learning_rate': 0.09581182108365248, 'subsample': 0.863749492021017, 'min_samples_split': 9, 'min_samples_leaf': 4}\n"
          ]
        }
      ],
      "source": [
        "#Optimize hyperparameters with Optuna\n",
        "\n",
        "# Define the objective function\n",
        "def objective(trial):\n",
        "    # Suggest hyperparameters to tune\n",
        "    n_estimators = trial.suggest_int(\"n_estimators\", 50, 500)\n",
        "    max_depth = trial.suggest_int(\"max_depth\", 2, 10)\n",
        "    learning_rate = trial.suggest_float(\"learning_rate\", 0.01, 0.3, log=True)\n",
        "    subsample = trial.suggest_float(\"subsample\", 0.5, 1.0)\n",
        "    min_samples_split = trial.suggest_int(\"min_samples_split\", 2, 20)\n",
        "    min_samples_leaf = trial.suggest_int(\"min_samples_leaf\", 1, 20)\n",
        "\n",
        "    # Create the pipeline with the suggested hyperparameters\n",
        "    pip_model_bt = Pipeline(steps=[\n",
        "        ('model', GradientBoostingRegressor(\n",
        "            n_estimators=n_estimators,\n",
        "            max_depth=max_depth,\n",
        "            learning_rate=learning_rate,\n",
        "            subsample=subsample,\n",
        "            min_samples_split=min_samples_split,\n",
        "            min_samples_leaf=min_samples_leaf,\n",
        "            random_state=2023\n",
        "        ))\n",
        "    ])\n",
        "\n",
        "    # Fit the pipeline\n",
        "    pip_model_bt.fit(X_train, y_train)\n",
        "\n",
        "    # Predict on the test set\n",
        "    y_pred = pip_model_bt.predict(X_test)\n",
        "\n",
        "    # Calculate the evaluation metric (MSE in this case)\n",
        "    mse = mean_squared_error(y_test, y_pred)\n",
        "    return mse  # Optuna minimizes the objective function by default\n",
        "\n",
        "# Create a study object\n",
        "study = optuna.create_study(direction=\"minimize\")  # We want to minimize MSE\n",
        "\n",
        "# Optimize the study\n",
        "study.optimize(objective, n_trials=50)  # Run 50 trials (you can increase this for better results)\n",
        "\n",
        "# Print the best hyperparameters\n",
        "best_params = study.best_params\n",
        "print(\"Best hyperparameters:\", study.best_params)"
      ]
    },
    {
      "cell_type": "code",
      "execution_count": 17,
      "id": "9d68deec",
      "metadata": {
        "colab": {
          "base_uri": "https://localhost:8080/"
        },
        "id": "9d68deec",
        "outputId": "0c42bc04-02f6-4dc8-f1c2-95b4dd1199c5"
      },
      "outputs": [
        {
          "output_type": "stream",
          "name": "stdout",
          "text": [
            "Model Metrics:\n",
            "MSE: 0.4067005913288812\n",
            "MAE: 0.5035124201958735\n",
            "R2 Score: 0.8006105641100069\n",
            "\n",
            "Best Hyperparameters:\n",
            "n_estimators: 367\n",
            "max_depth: 6\n",
            "learning_rate: 0.09581182108365248\n",
            "subsample: 0.863749492021017\n",
            "min_samples_split: 9\n",
            "min_samples_leaf: 4\n"
          ]
        }
      ],
      "source": [
        "# Train the final model\n",
        "final_model = GradientBoostingRegressor(\n",
        "    n_estimators=best_params[\"n_estimators\"],\n",
        "    max_depth=best_params[\"max_depth\"],\n",
        "    learning_rate=best_params[\"learning_rate\"],\n",
        "    subsample=best_params[\"subsample\"],\n",
        "    min_samples_split=best_params[\"min_samples_split\"],\n",
        "    min_samples_leaf=best_params[\"min_samples_leaf\"],\n",
        "    random_state=2023\n",
        ")\n",
        "\n",
        "# Fit the final model\n",
        "final_model.fit(X_train, y_train)\n",
        "\n",
        "# Log metrics\n",
        "y_pred = final_model.predict(X_test)\n",
        "metrics = get_metrics(y_test, y_pred)\n",
        "\n",
        "# Print metrics\n",
        "print(\"Model Metrics:\")\n",
        "for metric_name, metric_value in metrics.items():\n",
        "    print(f\"{metric_name}: {metric_value}\")\n",
        "\n",
        "# Print best parameters\n",
        "print(\"\\nBest Hyperparameters:\")\n",
        "for param_name, param_value in best_params.items():\n",
        "    print(f\"{param_name}: {param_value}\")"
      ]
    },
    {
      "cell_type": "code",
      "execution_count": 18,
      "id": "2d7c9c95",
      "metadata": {
        "colab": {
          "base_uri": "https://localhost:8080/",
          "height": 542
        },
        "id": "2d7c9c95",
        "outputId": "2a28d5ad-f7de-4f03-b043-71868f6afc06"
      },
      "outputs": [
        {
          "output_type": "display_data",
          "data": {
            "text/html": [
              "<html>\n",
              "<head><meta charset=\"utf-8\" /></head>\n",
              "<body>\n",
              "    <div>            <script src=\"https://cdnjs.cloudflare.com/ajax/libs/mathjax/2.7.5/MathJax.js?config=TeX-AMS-MML_SVG\"></script><script type=\"text/javascript\">if (window.MathJax && window.MathJax.Hub && window.MathJax.Hub.Config) {window.MathJax.Hub.Config({SVG: {font: \"STIX-Web\"}});}</script>                <script type=\"text/javascript\">window.PlotlyConfig = {MathJaxConfig: 'local'};</script>\n",
              "        <script charset=\"utf-8\" src=\"https://cdn.plot.ly/plotly-2.35.2.min.js\"></script>                <div id=\"f32a5183-d470-4c2c-b57c-23600d994ff6\" class=\"plotly-graph-div\" style=\"height:525px; width:100%;\"></div>            <script type=\"text/javascript\">                                    window.PLOTLYENV=window.PLOTLYENV || {};                                    if (document.getElementById(\"f32a5183-d470-4c2c-b57c-23600d994ff6\")) {                    Plotly.newPlot(                        \"f32a5183-d470-4c2c-b57c-23600d994ff6\",                        [{\"mode\":\"markers\",\"name\":\"Objective Value\",\"x\":[0,1,2,3,4,5,6,7,8,9,10,11,12,13,14,15,16,17,18,19,20,21,22,23,24,25,26,27,28,29,30,31,32,33,34,35,36,37,38,39,40,41,42,43,44,45,46,47,48,49],\"y\":[0.6580079139516993,0.44276927671751265,0.8982886305623583,0.6555223147620594,0.5333178042422709,0.935845912416954,0.5275354870922594,0.7823518870175978,0.8087049095546243,0.6963552737591029,1.4341716445856991,0.6572940544123749,0.5662416653457432,0.43371265944794657,0.4133251814866756,0.6081528638895599,0.4605951894317873,0.5650931169857211,0.6073921292696094,0.4421635865658479,0.61424878731634,0.44021222479756633,0.4669218330509367,0.43350774180113943,0.6703243913205367,0.5959848942998578,0.41646779727113964,0.4530993743821097,0.44871857302589757,0.5535505119101274,0.7293353369985519,0.43198646643768696,0.43732239522906363,0.45026425146728144,0.44873315167227923,0.4774377980173236,0.43882102735329503,0.4946752607606496,0.4393593887692301,0.484656238354874,0.46593040251989676,0.4937164364966939,0.43031971559147714,0.4397669913521008,0.46656317903639277,0.49836610750799776,0.4707603664748299,0.42177213373102673,0.4252443168530686,0.4067005913288812],\"type\":\"scatter\"},{\"mode\":\"lines\",\"name\":\"Best Value\",\"x\":[0,1,2,3,4,5,6,7,8,9,10,11,12,13,14,15,16,17,18,19,20,21,22,23,24,25,26,27,28,29,30,31,32,33,34,35,36,37,38,39,40,41,42,43,44,45,46,47,48,49],\"y\":[0.6580079139516993,0.44276927671751265,0.44276927671751265,0.44276927671751265,0.44276927671751265,0.44276927671751265,0.44276927671751265,0.44276927671751265,0.44276927671751265,0.44276927671751265,0.44276927671751265,0.44276927671751265,0.44276927671751265,0.43371265944794657,0.4133251814866756,0.4133251814866756,0.4133251814866756,0.4133251814866756,0.4133251814866756,0.4133251814866756,0.4133251814866756,0.4133251814866756,0.4133251814866756,0.4133251814866756,0.4133251814866756,0.4133251814866756,0.4133251814866756,0.4133251814866756,0.4133251814866756,0.4133251814866756,0.4133251814866756,0.4133251814866756,0.4133251814866756,0.4133251814866756,0.4133251814866756,0.4133251814866756,0.4133251814866756,0.4133251814866756,0.4133251814866756,0.4133251814866756,0.4133251814866756,0.4133251814866756,0.4133251814866756,0.4133251814866756,0.4133251814866756,0.4133251814866756,0.4133251814866756,0.4133251814866756,0.4133251814866756,0.4067005913288812],\"type\":\"scatter\"},{\"marker\":{\"color\":\"#cccccc\"},\"mode\":\"markers\",\"name\":\"Infeasible Trial\",\"showlegend\":false,\"x\":[],\"y\":[],\"type\":\"scatter\"}],                        {\"title\":{\"text\":\"Optimization History Plot\"},\"xaxis\":{\"title\":{\"text\":\"Trial\"}},\"yaxis\":{\"title\":{\"text\":\"Objective Value\"}},\"template\":{\"data\":{\"histogram2dcontour\":[{\"type\":\"histogram2dcontour\",\"colorbar\":{\"outlinewidth\":0,\"ticks\":\"\"},\"colorscale\":[[0.0,\"#0d0887\"],[0.1111111111111111,\"#46039f\"],[0.2222222222222222,\"#7201a8\"],[0.3333333333333333,\"#9c179e\"],[0.4444444444444444,\"#bd3786\"],[0.5555555555555556,\"#d8576b\"],[0.6666666666666666,\"#ed7953\"],[0.7777777777777778,\"#fb9f3a\"],[0.8888888888888888,\"#fdca26\"],[1.0,\"#f0f921\"]]}],\"choropleth\":[{\"type\":\"choropleth\",\"colorbar\":{\"outlinewidth\":0,\"ticks\":\"\"}}],\"histogram2d\":[{\"type\":\"histogram2d\",\"colorbar\":{\"outlinewidth\":0,\"ticks\":\"\"},\"colorscale\":[[0.0,\"#0d0887\"],[0.1111111111111111,\"#46039f\"],[0.2222222222222222,\"#7201a8\"],[0.3333333333333333,\"#9c179e\"],[0.4444444444444444,\"#bd3786\"],[0.5555555555555556,\"#d8576b\"],[0.6666666666666666,\"#ed7953\"],[0.7777777777777778,\"#fb9f3a\"],[0.8888888888888888,\"#fdca26\"],[1.0,\"#f0f921\"]]}],\"heatmap\":[{\"type\":\"heatmap\",\"colorbar\":{\"outlinewidth\":0,\"ticks\":\"\"},\"colorscale\":[[0.0,\"#0d0887\"],[0.1111111111111111,\"#46039f\"],[0.2222222222222222,\"#7201a8\"],[0.3333333333333333,\"#9c179e\"],[0.4444444444444444,\"#bd3786\"],[0.5555555555555556,\"#d8576b\"],[0.6666666666666666,\"#ed7953\"],[0.7777777777777778,\"#fb9f3a\"],[0.8888888888888888,\"#fdca26\"],[1.0,\"#f0f921\"]]}],\"heatmapgl\":[{\"type\":\"heatmapgl\",\"colorbar\":{\"outlinewidth\":0,\"ticks\":\"\"},\"colorscale\":[[0.0,\"#0d0887\"],[0.1111111111111111,\"#46039f\"],[0.2222222222222222,\"#7201a8\"],[0.3333333333333333,\"#9c179e\"],[0.4444444444444444,\"#bd3786\"],[0.5555555555555556,\"#d8576b\"],[0.6666666666666666,\"#ed7953\"],[0.7777777777777778,\"#fb9f3a\"],[0.8888888888888888,\"#fdca26\"],[1.0,\"#f0f921\"]]}],\"contourcarpet\":[{\"type\":\"contourcarpet\",\"colorbar\":{\"outlinewidth\":0,\"ticks\":\"\"}}],\"contour\":[{\"type\":\"contour\",\"colorbar\":{\"outlinewidth\":0,\"ticks\":\"\"},\"colorscale\":[[0.0,\"#0d0887\"],[0.1111111111111111,\"#46039f\"],[0.2222222222222222,\"#7201a8\"],[0.3333333333333333,\"#9c179e\"],[0.4444444444444444,\"#bd3786\"],[0.5555555555555556,\"#d8576b\"],[0.6666666666666666,\"#ed7953\"],[0.7777777777777778,\"#fb9f3a\"],[0.8888888888888888,\"#fdca26\"],[1.0,\"#f0f921\"]]}],\"surface\":[{\"type\":\"surface\",\"colorbar\":{\"outlinewidth\":0,\"ticks\":\"\"},\"colorscale\":[[0.0,\"#0d0887\"],[0.1111111111111111,\"#46039f\"],[0.2222222222222222,\"#7201a8\"],[0.3333333333333333,\"#9c179e\"],[0.4444444444444444,\"#bd3786\"],[0.5555555555555556,\"#d8576b\"],[0.6666666666666666,\"#ed7953\"],[0.7777777777777778,\"#fb9f3a\"],[0.8888888888888888,\"#fdca26\"],[1.0,\"#f0f921\"]]}],\"mesh3d\":[{\"type\":\"mesh3d\",\"colorbar\":{\"outlinewidth\":0,\"ticks\":\"\"}}],\"scatter\":[{\"fillpattern\":{\"fillmode\":\"overlay\",\"size\":10,\"solidity\":0.2},\"type\":\"scatter\"}],\"parcoords\":[{\"type\":\"parcoords\",\"line\":{\"colorbar\":{\"outlinewidth\":0,\"ticks\":\"\"}}}],\"scatterpolargl\":[{\"type\":\"scatterpolargl\",\"marker\":{\"colorbar\":{\"outlinewidth\":0,\"ticks\":\"\"}}}],\"bar\":[{\"error_x\":{\"color\":\"#2a3f5f\"},\"error_y\":{\"color\":\"#2a3f5f\"},\"marker\":{\"line\":{\"color\":\"#E5ECF6\",\"width\":0.5},\"pattern\":{\"fillmode\":\"overlay\",\"size\":10,\"solidity\":0.2}},\"type\":\"bar\"}],\"scattergeo\":[{\"type\":\"scattergeo\",\"marker\":{\"colorbar\":{\"outlinewidth\":0,\"ticks\":\"\"}}}],\"scatterpolar\":[{\"type\":\"scatterpolar\",\"marker\":{\"colorbar\":{\"outlinewidth\":0,\"ticks\":\"\"}}}],\"histogram\":[{\"marker\":{\"pattern\":{\"fillmode\":\"overlay\",\"size\":10,\"solidity\":0.2}},\"type\":\"histogram\"}],\"scattergl\":[{\"type\":\"scattergl\",\"marker\":{\"colorbar\":{\"outlinewidth\":0,\"ticks\":\"\"}}}],\"scatter3d\":[{\"type\":\"scatter3d\",\"line\":{\"colorbar\":{\"outlinewidth\":0,\"ticks\":\"\"}},\"marker\":{\"colorbar\":{\"outlinewidth\":0,\"ticks\":\"\"}}}],\"scattermapbox\":[{\"type\":\"scattermapbox\",\"marker\":{\"colorbar\":{\"outlinewidth\":0,\"ticks\":\"\"}}}],\"scatterternary\":[{\"type\":\"scatterternary\",\"marker\":{\"colorbar\":{\"outlinewidth\":0,\"ticks\":\"\"}}}],\"scattercarpet\":[{\"type\":\"scattercarpet\",\"marker\":{\"colorbar\":{\"outlinewidth\":0,\"ticks\":\"\"}}}],\"carpet\":[{\"aaxis\":{\"endlinecolor\":\"#2a3f5f\",\"gridcolor\":\"white\",\"linecolor\":\"white\",\"minorgridcolor\":\"white\",\"startlinecolor\":\"#2a3f5f\"},\"baxis\":{\"endlinecolor\":\"#2a3f5f\",\"gridcolor\":\"white\",\"linecolor\":\"white\",\"minorgridcolor\":\"white\",\"startlinecolor\":\"#2a3f5f\"},\"type\":\"carpet\"}],\"table\":[{\"cells\":{\"fill\":{\"color\":\"#EBF0F8\"},\"line\":{\"color\":\"white\"}},\"header\":{\"fill\":{\"color\":\"#C8D4E3\"},\"line\":{\"color\":\"white\"}},\"type\":\"table\"}],\"barpolar\":[{\"marker\":{\"line\":{\"color\":\"#E5ECF6\",\"width\":0.5},\"pattern\":{\"fillmode\":\"overlay\",\"size\":10,\"solidity\":0.2}},\"type\":\"barpolar\"}],\"pie\":[{\"automargin\":true,\"type\":\"pie\"}]},\"layout\":{\"autotypenumbers\":\"strict\",\"colorway\":[\"#636efa\",\"#EF553B\",\"#00cc96\",\"#ab63fa\",\"#FFA15A\",\"#19d3f3\",\"#FF6692\",\"#B6E880\",\"#FF97FF\",\"#FECB52\"],\"font\":{\"color\":\"#2a3f5f\"},\"hovermode\":\"closest\",\"hoverlabel\":{\"align\":\"left\"},\"paper_bgcolor\":\"white\",\"plot_bgcolor\":\"#E5ECF6\",\"polar\":{\"bgcolor\":\"#E5ECF6\",\"angularaxis\":{\"gridcolor\":\"white\",\"linecolor\":\"white\",\"ticks\":\"\"},\"radialaxis\":{\"gridcolor\":\"white\",\"linecolor\":\"white\",\"ticks\":\"\"}},\"ternary\":{\"bgcolor\":\"#E5ECF6\",\"aaxis\":{\"gridcolor\":\"white\",\"linecolor\":\"white\",\"ticks\":\"\"},\"baxis\":{\"gridcolor\":\"white\",\"linecolor\":\"white\",\"ticks\":\"\"},\"caxis\":{\"gridcolor\":\"white\",\"linecolor\":\"white\",\"ticks\":\"\"}},\"coloraxis\":{\"colorbar\":{\"outlinewidth\":0,\"ticks\":\"\"}},\"colorscale\":{\"sequential\":[[0.0,\"#0d0887\"],[0.1111111111111111,\"#46039f\"],[0.2222222222222222,\"#7201a8\"],[0.3333333333333333,\"#9c179e\"],[0.4444444444444444,\"#bd3786\"],[0.5555555555555556,\"#d8576b\"],[0.6666666666666666,\"#ed7953\"],[0.7777777777777778,\"#fb9f3a\"],[0.8888888888888888,\"#fdca26\"],[1.0,\"#f0f921\"]],\"sequentialminus\":[[0.0,\"#0d0887\"],[0.1111111111111111,\"#46039f\"],[0.2222222222222222,\"#7201a8\"],[0.3333333333333333,\"#9c179e\"],[0.4444444444444444,\"#bd3786\"],[0.5555555555555556,\"#d8576b\"],[0.6666666666666666,\"#ed7953\"],[0.7777777777777778,\"#fb9f3a\"],[0.8888888888888888,\"#fdca26\"],[1.0,\"#f0f921\"]],\"diverging\":[[0,\"#8e0152\"],[0.1,\"#c51b7d\"],[0.2,\"#de77ae\"],[0.3,\"#f1b6da\"],[0.4,\"#fde0ef\"],[0.5,\"#f7f7f7\"],[0.6,\"#e6f5d0\"],[0.7,\"#b8e186\"],[0.8,\"#7fbc41\"],[0.9,\"#4d9221\"],[1,\"#276419\"]]},\"xaxis\":{\"gridcolor\":\"white\",\"linecolor\":\"white\",\"ticks\":\"\",\"title\":{\"standoff\":15},\"zerolinecolor\":\"white\",\"automargin\":true,\"zerolinewidth\":2},\"yaxis\":{\"gridcolor\":\"white\",\"linecolor\":\"white\",\"ticks\":\"\",\"title\":{\"standoff\":15},\"zerolinecolor\":\"white\",\"automargin\":true,\"zerolinewidth\":2},\"scene\":{\"xaxis\":{\"backgroundcolor\":\"#E5ECF6\",\"gridcolor\":\"white\",\"linecolor\":\"white\",\"showbackground\":true,\"ticks\":\"\",\"zerolinecolor\":\"white\",\"gridwidth\":2},\"yaxis\":{\"backgroundcolor\":\"#E5ECF6\",\"gridcolor\":\"white\",\"linecolor\":\"white\",\"showbackground\":true,\"ticks\":\"\",\"zerolinecolor\":\"white\",\"gridwidth\":2},\"zaxis\":{\"backgroundcolor\":\"#E5ECF6\",\"gridcolor\":\"white\",\"linecolor\":\"white\",\"showbackground\":true,\"ticks\":\"\",\"zerolinecolor\":\"white\",\"gridwidth\":2}},\"shapedefaults\":{\"line\":{\"color\":\"#2a3f5f\"}},\"annotationdefaults\":{\"arrowcolor\":\"#2a3f5f\",\"arrowhead\":0,\"arrowwidth\":1},\"geo\":{\"bgcolor\":\"white\",\"landcolor\":\"#E5ECF6\",\"subunitcolor\":\"white\",\"showland\":true,\"showlakes\":true,\"lakecolor\":\"white\"},\"title\":{\"x\":0.05},\"mapbox\":{\"style\":\"light\"}}}},                        {\"responsive\": true}                    ).then(function(){\n",
              "                            \n",
              "var gd = document.getElementById('f32a5183-d470-4c2c-b57c-23600d994ff6');\n",
              "var x = new MutationObserver(function (mutations, observer) {{\n",
              "        var display = window.getComputedStyle(gd).display;\n",
              "        if (!display || display === 'none') {{\n",
              "            console.log([gd, 'removed!']);\n",
              "            Plotly.purge(gd);\n",
              "            observer.disconnect();\n",
              "        }}\n",
              "}});\n",
              "\n",
              "// Listen for the removal of the full notebook cells\n",
              "var notebookContainer = gd.closest('#notebook-container');\n",
              "if (notebookContainer) {{\n",
              "    x.observe(notebookContainer, {childList: true});\n",
              "}}\n",
              "\n",
              "// Listen for the clearing of the current output cell\n",
              "var outputEl = gd.closest('.output');\n",
              "if (outputEl) {{\n",
              "    x.observe(outputEl, {childList: true});\n",
              "}}\n",
              "\n",
              "                        })                };                            </script>        </div>\n",
              "</body>\n",
              "</html>"
            ]
          },
          "metadata": {}
        }
      ],
      "source": [
        "# Visualize the optimization history\n",
        "optuna.visualization.plot_optimization_history(study).show()"
      ]
    },
    {
      "cell_type": "code",
      "execution_count": 19,
      "id": "d079c4bf",
      "metadata": {
        "colab": {
          "base_uri": "https://localhost:8080/",
          "height": 542
        },
        "id": "d079c4bf",
        "outputId": "2107a6cf-03f8-4a49-cbd4-8b0fbcd55b77"
      },
      "outputs": [
        {
          "output_type": "display_data",
          "data": {
            "text/html": [
              "<html>\n",
              "<head><meta charset=\"utf-8\" /></head>\n",
              "<body>\n",
              "    <div>            <script src=\"https://cdnjs.cloudflare.com/ajax/libs/mathjax/2.7.5/MathJax.js?config=TeX-AMS-MML_SVG\"></script><script type=\"text/javascript\">if (window.MathJax && window.MathJax.Hub && window.MathJax.Hub.Config) {window.MathJax.Hub.Config({SVG: {font: \"STIX-Web\"}});}</script>                <script type=\"text/javascript\">window.PlotlyConfig = {MathJaxConfig: 'local'};</script>\n",
              "        <script charset=\"utf-8\" src=\"https://cdn.plot.ly/plotly-2.35.2.min.js\"></script>                <div id=\"f9a3598d-2128-445d-a459-9ea87c08f747\" class=\"plotly-graph-div\" style=\"height:525px; width:100%;\"></div>            <script type=\"text/javascript\">                                    window.PLOTLYENV=window.PLOTLYENV || {};                                    if (document.getElementById(\"f9a3598d-2128-445d-a459-9ea87c08f747\")) {                    Plotly.newPlot(                        \"f9a3598d-2128-445d-a459-9ea87c08f747\",                        [{\"cliponaxis\":false,\"hovertemplate\":[\"min_samples_split (IntDistribution): 0.004282455622216616\\u003cextra\\u003e\\u003c\\u002fextra\\u003e\",\"max_depth (IntDistribution): 0.0060874642889500044\\u003cextra\\u003e\\u003c\\u002fextra\\u003e\",\"learning_rate (FloatDistribution): 0.04596431537684377\\u003cextra\\u003e\\u003c\\u002fextra\\u003e\",\"subsample (FloatDistribution): 0.04849552667556481\\u003cextra\\u003e\\u003c\\u002fextra\\u003e\",\"n_estimators (IntDistribution): 0.3977355744449854\\u003cextra\\u003e\\u003c\\u002fextra\\u003e\",\"min_samples_leaf (IntDistribution): 0.49743466359143945\\u003cextra\\u003e\\u003c\\u002fextra\\u003e\"],\"name\":\"Objective Value\",\"orientation\":\"h\",\"text\":[\"\\u003c0.01\",\"\\u003c0.01\",\"0.05\",\"0.05\",\"0.40\",\"0.50\"],\"textposition\":\"outside\",\"x\":[0.004282455622216616,0.0060874642889500044,0.04596431537684377,0.04849552667556481,0.3977355744449854,0.49743466359143945],\"y\":[\"min_samples_split\",\"max_depth\",\"learning_rate\",\"subsample\",\"n_estimators\",\"min_samples_leaf\"],\"type\":\"bar\"}],                        {\"title\":{\"text\":\"Hyperparameter Importances\"},\"xaxis\":{\"title\":{\"text\":\"Hyperparameter Importance\"}},\"yaxis\":{\"title\":{\"text\":\"Hyperparameter\"}},\"template\":{\"data\":{\"histogram2dcontour\":[{\"type\":\"histogram2dcontour\",\"colorbar\":{\"outlinewidth\":0,\"ticks\":\"\"},\"colorscale\":[[0.0,\"#0d0887\"],[0.1111111111111111,\"#46039f\"],[0.2222222222222222,\"#7201a8\"],[0.3333333333333333,\"#9c179e\"],[0.4444444444444444,\"#bd3786\"],[0.5555555555555556,\"#d8576b\"],[0.6666666666666666,\"#ed7953\"],[0.7777777777777778,\"#fb9f3a\"],[0.8888888888888888,\"#fdca26\"],[1.0,\"#f0f921\"]]}],\"choropleth\":[{\"type\":\"choropleth\",\"colorbar\":{\"outlinewidth\":0,\"ticks\":\"\"}}],\"histogram2d\":[{\"type\":\"histogram2d\",\"colorbar\":{\"outlinewidth\":0,\"ticks\":\"\"},\"colorscale\":[[0.0,\"#0d0887\"],[0.1111111111111111,\"#46039f\"],[0.2222222222222222,\"#7201a8\"],[0.3333333333333333,\"#9c179e\"],[0.4444444444444444,\"#bd3786\"],[0.5555555555555556,\"#d8576b\"],[0.6666666666666666,\"#ed7953\"],[0.7777777777777778,\"#fb9f3a\"],[0.8888888888888888,\"#fdca26\"],[1.0,\"#f0f921\"]]}],\"heatmap\":[{\"type\":\"heatmap\",\"colorbar\":{\"outlinewidth\":0,\"ticks\":\"\"},\"colorscale\":[[0.0,\"#0d0887\"],[0.1111111111111111,\"#46039f\"],[0.2222222222222222,\"#7201a8\"],[0.3333333333333333,\"#9c179e\"],[0.4444444444444444,\"#bd3786\"],[0.5555555555555556,\"#d8576b\"],[0.6666666666666666,\"#ed7953\"],[0.7777777777777778,\"#fb9f3a\"],[0.8888888888888888,\"#fdca26\"],[1.0,\"#f0f921\"]]}],\"heatmapgl\":[{\"type\":\"heatmapgl\",\"colorbar\":{\"outlinewidth\":0,\"ticks\":\"\"},\"colorscale\":[[0.0,\"#0d0887\"],[0.1111111111111111,\"#46039f\"],[0.2222222222222222,\"#7201a8\"],[0.3333333333333333,\"#9c179e\"],[0.4444444444444444,\"#bd3786\"],[0.5555555555555556,\"#d8576b\"],[0.6666666666666666,\"#ed7953\"],[0.7777777777777778,\"#fb9f3a\"],[0.8888888888888888,\"#fdca26\"],[1.0,\"#f0f921\"]]}],\"contourcarpet\":[{\"type\":\"contourcarpet\",\"colorbar\":{\"outlinewidth\":0,\"ticks\":\"\"}}],\"contour\":[{\"type\":\"contour\",\"colorbar\":{\"outlinewidth\":0,\"ticks\":\"\"},\"colorscale\":[[0.0,\"#0d0887\"],[0.1111111111111111,\"#46039f\"],[0.2222222222222222,\"#7201a8\"],[0.3333333333333333,\"#9c179e\"],[0.4444444444444444,\"#bd3786\"],[0.5555555555555556,\"#d8576b\"],[0.6666666666666666,\"#ed7953\"],[0.7777777777777778,\"#fb9f3a\"],[0.8888888888888888,\"#fdca26\"],[1.0,\"#f0f921\"]]}],\"surface\":[{\"type\":\"surface\",\"colorbar\":{\"outlinewidth\":0,\"ticks\":\"\"},\"colorscale\":[[0.0,\"#0d0887\"],[0.1111111111111111,\"#46039f\"],[0.2222222222222222,\"#7201a8\"],[0.3333333333333333,\"#9c179e\"],[0.4444444444444444,\"#bd3786\"],[0.5555555555555556,\"#d8576b\"],[0.6666666666666666,\"#ed7953\"],[0.7777777777777778,\"#fb9f3a\"],[0.8888888888888888,\"#fdca26\"],[1.0,\"#f0f921\"]]}],\"mesh3d\":[{\"type\":\"mesh3d\",\"colorbar\":{\"outlinewidth\":0,\"ticks\":\"\"}}],\"scatter\":[{\"fillpattern\":{\"fillmode\":\"overlay\",\"size\":10,\"solidity\":0.2},\"type\":\"scatter\"}],\"parcoords\":[{\"type\":\"parcoords\",\"line\":{\"colorbar\":{\"outlinewidth\":0,\"ticks\":\"\"}}}],\"scatterpolargl\":[{\"type\":\"scatterpolargl\",\"marker\":{\"colorbar\":{\"outlinewidth\":0,\"ticks\":\"\"}}}],\"bar\":[{\"error_x\":{\"color\":\"#2a3f5f\"},\"error_y\":{\"color\":\"#2a3f5f\"},\"marker\":{\"line\":{\"color\":\"#E5ECF6\",\"width\":0.5},\"pattern\":{\"fillmode\":\"overlay\",\"size\":10,\"solidity\":0.2}},\"type\":\"bar\"}],\"scattergeo\":[{\"type\":\"scattergeo\",\"marker\":{\"colorbar\":{\"outlinewidth\":0,\"ticks\":\"\"}}}],\"scatterpolar\":[{\"type\":\"scatterpolar\",\"marker\":{\"colorbar\":{\"outlinewidth\":0,\"ticks\":\"\"}}}],\"histogram\":[{\"marker\":{\"pattern\":{\"fillmode\":\"overlay\",\"size\":10,\"solidity\":0.2}},\"type\":\"histogram\"}],\"scattergl\":[{\"type\":\"scattergl\",\"marker\":{\"colorbar\":{\"outlinewidth\":0,\"ticks\":\"\"}}}],\"scatter3d\":[{\"type\":\"scatter3d\",\"line\":{\"colorbar\":{\"outlinewidth\":0,\"ticks\":\"\"}},\"marker\":{\"colorbar\":{\"outlinewidth\":0,\"ticks\":\"\"}}}],\"scattermapbox\":[{\"type\":\"scattermapbox\",\"marker\":{\"colorbar\":{\"outlinewidth\":0,\"ticks\":\"\"}}}],\"scatterternary\":[{\"type\":\"scatterternary\",\"marker\":{\"colorbar\":{\"outlinewidth\":0,\"ticks\":\"\"}}}],\"scattercarpet\":[{\"type\":\"scattercarpet\",\"marker\":{\"colorbar\":{\"outlinewidth\":0,\"ticks\":\"\"}}}],\"carpet\":[{\"aaxis\":{\"endlinecolor\":\"#2a3f5f\",\"gridcolor\":\"white\",\"linecolor\":\"white\",\"minorgridcolor\":\"white\",\"startlinecolor\":\"#2a3f5f\"},\"baxis\":{\"endlinecolor\":\"#2a3f5f\",\"gridcolor\":\"white\",\"linecolor\":\"white\",\"minorgridcolor\":\"white\",\"startlinecolor\":\"#2a3f5f\"},\"type\":\"carpet\"}],\"table\":[{\"cells\":{\"fill\":{\"color\":\"#EBF0F8\"},\"line\":{\"color\":\"white\"}},\"header\":{\"fill\":{\"color\":\"#C8D4E3\"},\"line\":{\"color\":\"white\"}},\"type\":\"table\"}],\"barpolar\":[{\"marker\":{\"line\":{\"color\":\"#E5ECF6\",\"width\":0.5},\"pattern\":{\"fillmode\":\"overlay\",\"size\":10,\"solidity\":0.2}},\"type\":\"barpolar\"}],\"pie\":[{\"automargin\":true,\"type\":\"pie\"}]},\"layout\":{\"autotypenumbers\":\"strict\",\"colorway\":[\"#636efa\",\"#EF553B\",\"#00cc96\",\"#ab63fa\",\"#FFA15A\",\"#19d3f3\",\"#FF6692\",\"#B6E880\",\"#FF97FF\",\"#FECB52\"],\"font\":{\"color\":\"#2a3f5f\"},\"hovermode\":\"closest\",\"hoverlabel\":{\"align\":\"left\"},\"paper_bgcolor\":\"white\",\"plot_bgcolor\":\"#E5ECF6\",\"polar\":{\"bgcolor\":\"#E5ECF6\",\"angularaxis\":{\"gridcolor\":\"white\",\"linecolor\":\"white\",\"ticks\":\"\"},\"radialaxis\":{\"gridcolor\":\"white\",\"linecolor\":\"white\",\"ticks\":\"\"}},\"ternary\":{\"bgcolor\":\"#E5ECF6\",\"aaxis\":{\"gridcolor\":\"white\",\"linecolor\":\"white\",\"ticks\":\"\"},\"baxis\":{\"gridcolor\":\"white\",\"linecolor\":\"white\",\"ticks\":\"\"},\"caxis\":{\"gridcolor\":\"white\",\"linecolor\":\"white\",\"ticks\":\"\"}},\"coloraxis\":{\"colorbar\":{\"outlinewidth\":0,\"ticks\":\"\"}},\"colorscale\":{\"sequential\":[[0.0,\"#0d0887\"],[0.1111111111111111,\"#46039f\"],[0.2222222222222222,\"#7201a8\"],[0.3333333333333333,\"#9c179e\"],[0.4444444444444444,\"#bd3786\"],[0.5555555555555556,\"#d8576b\"],[0.6666666666666666,\"#ed7953\"],[0.7777777777777778,\"#fb9f3a\"],[0.8888888888888888,\"#fdca26\"],[1.0,\"#f0f921\"]],\"sequentialminus\":[[0.0,\"#0d0887\"],[0.1111111111111111,\"#46039f\"],[0.2222222222222222,\"#7201a8\"],[0.3333333333333333,\"#9c179e\"],[0.4444444444444444,\"#bd3786\"],[0.5555555555555556,\"#d8576b\"],[0.6666666666666666,\"#ed7953\"],[0.7777777777777778,\"#fb9f3a\"],[0.8888888888888888,\"#fdca26\"],[1.0,\"#f0f921\"]],\"diverging\":[[0,\"#8e0152\"],[0.1,\"#c51b7d\"],[0.2,\"#de77ae\"],[0.3,\"#f1b6da\"],[0.4,\"#fde0ef\"],[0.5,\"#f7f7f7\"],[0.6,\"#e6f5d0\"],[0.7,\"#b8e186\"],[0.8,\"#7fbc41\"],[0.9,\"#4d9221\"],[1,\"#276419\"]]},\"xaxis\":{\"gridcolor\":\"white\",\"linecolor\":\"white\",\"ticks\":\"\",\"title\":{\"standoff\":15},\"zerolinecolor\":\"white\",\"automargin\":true,\"zerolinewidth\":2},\"yaxis\":{\"gridcolor\":\"white\",\"linecolor\":\"white\",\"ticks\":\"\",\"title\":{\"standoff\":15},\"zerolinecolor\":\"white\",\"automargin\":true,\"zerolinewidth\":2},\"scene\":{\"xaxis\":{\"backgroundcolor\":\"#E5ECF6\",\"gridcolor\":\"white\",\"linecolor\":\"white\",\"showbackground\":true,\"ticks\":\"\",\"zerolinecolor\":\"white\",\"gridwidth\":2},\"yaxis\":{\"backgroundcolor\":\"#E5ECF6\",\"gridcolor\":\"white\",\"linecolor\":\"white\",\"showbackground\":true,\"ticks\":\"\",\"zerolinecolor\":\"white\",\"gridwidth\":2},\"zaxis\":{\"backgroundcolor\":\"#E5ECF6\",\"gridcolor\":\"white\",\"linecolor\":\"white\",\"showbackground\":true,\"ticks\":\"\",\"zerolinecolor\":\"white\",\"gridwidth\":2}},\"shapedefaults\":{\"line\":{\"color\":\"#2a3f5f\"}},\"annotationdefaults\":{\"arrowcolor\":\"#2a3f5f\",\"arrowhead\":0,\"arrowwidth\":1},\"geo\":{\"bgcolor\":\"white\",\"landcolor\":\"#E5ECF6\",\"subunitcolor\":\"white\",\"showland\":true,\"showlakes\":true,\"lakecolor\":\"white\"},\"title\":{\"x\":0.05},\"mapbox\":{\"style\":\"light\"}}}},                        {\"responsive\": true}                    ).then(function(){\n",
              "                            \n",
              "var gd = document.getElementById('f9a3598d-2128-445d-a459-9ea87c08f747');\n",
              "var x = new MutationObserver(function (mutations, observer) {{\n",
              "        var display = window.getComputedStyle(gd).display;\n",
              "        if (!display || display === 'none') {{\n",
              "            console.log([gd, 'removed!']);\n",
              "            Plotly.purge(gd);\n",
              "            observer.disconnect();\n",
              "        }}\n",
              "}});\n",
              "\n",
              "// Listen for the removal of the full notebook cells\n",
              "var notebookContainer = gd.closest('#notebook-container');\n",
              "if (notebookContainer) {{\n",
              "    x.observe(notebookContainer, {childList: true});\n",
              "}}\n",
              "\n",
              "// Listen for the clearing of the current output cell\n",
              "var outputEl = gd.closest('.output');\n",
              "if (outputEl) {{\n",
              "    x.observe(outputEl, {childList: true});\n",
              "}}\n",
              "\n",
              "                        })                };                            </script>        </div>\n",
              "</body>\n",
              "</html>"
            ]
          },
          "metadata": {}
        }
      ],
      "source": [
        "# Visualize the parameter importance\n",
        "optuna.visualization.plot_param_importances(study).show()"
      ]
    }
  ],
  "metadata": {
    "kernelspec": {
      "display_name": "Python (Poetry_dist_tower)",
      "language": "python",
      "name": "my_poetry_kernel"
    },
    "language_info": {
      "codemirror_mode": {
        "name": "ipython",
        "version": 3
      },
      "file_extension": ".py",
      "mimetype": "text/x-python",
      "name": "python",
      "nbconvert_exporter": "python",
      "pygments_lexer": "ipython3",
      "version": "3.10.14"
    },
    "colab": {
      "provenance": [],
      "include_colab_link": true
    }
  },
  "nbformat": 4,
  "nbformat_minor": 5
}