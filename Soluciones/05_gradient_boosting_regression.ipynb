{
 "cells": [
  {
   "cell_type": "code",
   "execution_count": 41,
   "id": "a5a912cc",
   "metadata": {},
   "outputs": [],
   "source": [
    "import yaml\n",
    "import os"
   ]
  },
  {
   "cell_type": "code",
   "execution_count": 42,
   "id": "a0bbd9e9",
   "metadata": {},
   "outputs": [],
   "source": [
    "# Data wrangling\n",
    "import pandas as pd\n",
    "import numpy as np"
   ]
  },
  {
   "cell_type": "code",
   "execution_count": 43,
   "id": "a6390121",
   "metadata": {},
   "outputs": [],
   "source": [
    "# Data visualization\n",
    "import matplotlib.pyplot as plt\n",
    "import seaborn as sns\n",
    "import plotly.express as px\n",
    "from tqdm import tqdm"
   ]
  },
  {
   "cell_type": "code",
   "execution_count": 44,
   "id": "9b42e388",
   "metadata": {},
   "outputs": [],
   "source": [
    "# Models\n",
    "from sklearn.ensemble import GradientBoostingRegressor"
   ]
  },
  {
   "cell_type": "code",
   "execution_count": 45,
   "id": "9963d95c",
   "metadata": {},
   "outputs": [],
   "source": [
    "# Models Pipelines\n",
    "from sklearn.pipeline import Pipeline"
   ]
  },
  {
   "cell_type": "code",
   "execution_count": 46,
   "id": "5daecf1c",
   "metadata": {},
   "outputs": [],
   "source": [
    "#Hyperparameter optimization\n",
    "import optuna"
   ]
  },
  {
   "cell_type": "code",
   "execution_count": 47,
   "id": "c5d5c5e5",
   "metadata": {},
   "outputs": [],
   "source": [
    "# Model evaluation\n",
    "from sklearn.model_selection import train_test_split\n",
    "from sklearn.metrics import mean_squared_error, mean_absolute_error, r2_score"
   ]
  },
  {
   "cell_type": "code",
   "execution_count": 48,
   "id": "d985f220",
   "metadata": {},
   "outputs": [],
   "source": [
    "import mlflow\n",
    "import mlflow.sklearn"
   ]
  },
  {
   "cell_type": "code",
   "execution_count": 49,
   "id": "9d1a9a8d",
   "metadata": {},
   "outputs": [
    {
     "data": {
      "text/plain": [
       "<Experiment: artifact_location=('file:///c:/Users/mjkipsz2/OneDrive - The University of '\n",
       " 'Manchester/Desktop/distillation_colum_yield/notebooks/mlruns/550582570200691247'), creation_time=1736352237514, experiment_id='550582570200691247', last_update_time=1736352237514, lifecycle_stage='active', name='distillation_tower', tags={}>"
      ]
     },
     "execution_count": 49,
     "metadata": {},
     "output_type": "execute_result"
    }
   ],
   "source": [
    "mlflow.set_tracking_uri(\"file:./mlruns\")\n",
    "mlflow.set_experiment(\"distillation_tower\")"
   ]
  },
  {
   "cell_type": "code",
   "execution_count": 50,
   "id": "10e17ed6",
   "metadata": {},
   "outputs": [],
   "source": [
    "# Save model\n",
    "import joblib"
   ]
  },
  {
   "cell_type": "code",
   "execution_count": 51,
   "id": "49fa3a41",
   "metadata": {},
   "outputs": [
    {
     "data": {
      "text/html": [
       "<div>\n",
       "<style scoped>\n",
       "    .dataframe tbody tr th:only-of-type {\n",
       "        vertical-align: middle;\n",
       "    }\n",
       "\n",
       "    .dataframe tbody tr th {\n",
       "        vertical-align: top;\n",
       "    }\n",
       "\n",
       "    .dataframe thead th {\n",
       "        text-align: right;\n",
       "    }\n",
       "</style>\n",
       "<table border=\"1\" class=\"dataframe\">\n",
       "  <thead>\n",
       "    <tr style=\"text-align: right;\">\n",
       "      <th></th>\n",
       "      <th>PressureC1_diff</th>\n",
       "      <th>FlowC1</th>\n",
       "      <th>Temp1</th>\n",
       "      <th>Yield</th>\n",
       "    </tr>\n",
       "  </thead>\n",
       "  <tbody>\n",
       "    <tr>\n",
       "      <th>0</th>\n",
       "      <td>0.0000</td>\n",
       "      <td>432.0636</td>\n",
       "      <td>139.9857</td>\n",
       "      <td>69.400623</td>\n",
       "    </tr>\n",
       "    <tr>\n",
       "      <th>1</th>\n",
       "      <td>-9.9628</td>\n",
       "      <td>487.4029</td>\n",
       "      <td>131.0470</td>\n",
       "      <td>66.532666</td>\n",
       "    </tr>\n",
       "    <tr>\n",
       "      <th>2</th>\n",
       "      <td>-0.0695</td>\n",
       "      <td>437.3516</td>\n",
       "      <td>118.2666</td>\n",
       "      <td>71.102193</td>\n",
       "    </tr>\n",
       "    <tr>\n",
       "      <th>3</th>\n",
       "      <td>0.2257</td>\n",
       "      <td>481.8314</td>\n",
       "      <td>118.1769</td>\n",
       "      <td>69.793481</td>\n",
       "    </tr>\n",
       "    <tr>\n",
       "      <th>4</th>\n",
       "      <td>-0.1678</td>\n",
       "      <td>412.6471</td>\n",
       "      <td>120.7891</td>\n",
       "      <td>71.489516</td>\n",
       "    </tr>\n",
       "  </tbody>\n",
       "</table>\n",
       "</div>"
      ],
      "text/plain": [
       "   PressureC1_diff    FlowC1     Temp1      Yield\n",
       "0           0.0000  432.0636  139.9857  69.400623\n",
       "1          -9.9628  487.4029  131.0470  66.532666\n",
       "2          -0.0695  437.3516  118.2666  71.102193\n",
       "3           0.2257  481.8314  118.1769  69.793481\n",
       "4          -0.1678  412.6471  120.7891  71.489516"
      ]
     },
     "execution_count": 51,
     "metadata": {},
     "output_type": "execute_result"
    }
   ],
   "source": [
    "# Load the configuration file\n",
    "with open('../config.yaml', 'r') as config_file:\n",
    "    config = yaml.safe_load(config_file)\n",
    "\n",
    "# Access the settings\n",
    "project_folder = config['projectFolder']\n",
    "df_path = os.path.join(project_folder, config['transformedDataFile'])\n",
    "df = pd.read_csv(df_path)\n",
    "\n",
    "# Display the first few rows\n",
    "df.head()"
   ]
  },
  {
   "cell_type": "code",
   "execution_count": 52,
   "id": "8ef7e435",
   "metadata": {},
   "outputs": [],
   "source": [
    "# Define features (X) and target variable (y)\n",
    "X = df.drop('Yield', axis=1)  # Features (all columns except 'Job Offer')\n",
    "y = df['Yield']  # Target variable"
   ]
  },
  {
   "cell_type": "code",
   "execution_count": 53,
   "id": "70582ae6",
   "metadata": {},
   "outputs": [
    {
     "name": "stdout",
     "output_type": "stream",
     "text": [
      "Training data shape: (202, 3)\n",
      "Testing data shape: (51, 3)\n"
     ]
    }
   ],
   "source": [
    "from sklearn.model_selection import train_test_split\n",
    "# Split the data into training and testing sets\n",
    "X_train, X_test, y_train, y_test = train_test_split(X, y, test_size=0.2, random_state=42)\n",
    "# Check the shape of the data\n",
    "print(f\"Training data shape: {X_train.shape}\")\n",
    "print(f\"Testing data shape: {X_test.shape}\")"
   ]
  },
  {
   "cell_type": "code",
   "execution_count": 54,
   "id": "eea16c3d",
   "metadata": {},
   "outputs": [],
   "source": [
    "def get_metrics(y_true, y_pred):\n",
    "\n",
    "    dict_metrics = {\n",
    "        'MSE': mean_squared_error(y_true, y_pred),\n",
    "        'MAE': mean_absolute_error(y_true, y_pred),\n",
    "        'R2 Score': r2_score(y_true, y_pred),\n",
    "        \n",
    "    }\n",
    "    return dict_metrics"
   ]
  },
  {
   "cell_type": "code",
   "execution_count": 55,
   "id": "ed8e4a65",
   "metadata": {},
   "outputs": [
    {
     "data": {
      "text/plain": [
       "{'MSE': 0.5607937224219373,\n",
       " 'MAE': 0.554537030979557,\n",
       " 'R2 Score': 0.7250647125960571}"
      ]
     },
     "execution_count": 55,
     "metadata": {},
     "output_type": "execute_result"
    }
   ],
   "source": [
    "# Creating pipeline with Boosted Trees\n",
    "pip_model_bt = Pipeline(steps=[\n",
    "    ('model', GradientBoostingRegressor(random_state=2023))\n",
    "])\n",
    "\n",
    "# Fit pipeline\n",
    "pip_model_bt.fit(X_train, y_train)\n",
    "\n",
    "# Generate Predictions using the correctly fitted pipeline\n",
    "y_pred = pip_model_bt.predict(X_test)\n",
    "\n",
    "# Evaluate Metrics\n",
    "metrics = get_metrics(y_test, y_pred)\n",
    "\n",
    "# View Results\n",
    "metrics"
   ]
  },
  {
   "cell_type": "code",
   "execution_count": 56,
   "id": "c2ab6fe4",
   "metadata": {},
   "outputs": [
    {
     "name": "stderr",
     "output_type": "stream",
     "text": [
      "[I 2025-01-09 16:07:19,798] A new study created in memory with name: no-name-62019d2f-ce3d-496a-88ee-2554675d2d85\n",
      "[I 2025-01-09 16:07:19,971] Trial 0 finished with value: 0.663999864126606 and parameters: {'n_estimators': 253, 'max_depth': 3, 'learning_rate': 0.08048749212128051, 'subsample': 0.8656064018113124, 'min_samples_split': 13, 'min_samples_leaf': 14}. Best is trial 0 with value: 0.663999864126606.\n",
      "[I 2025-01-09 16:07:20,114] Trial 1 finished with value: 0.7275764291272345 and parameters: {'n_estimators': 228, 'max_depth': 3, 'learning_rate': 0.0150007964781999, 'subsample': 0.9075488927550652, 'min_samples_split': 9, 'min_samples_leaf': 5}. Best is trial 0 with value: 0.663999864126606.\n",
      "[I 2025-01-09 16:07:20,220] Trial 2 finished with value: 0.9294199078669626 and parameters: {'n_estimators': 176, 'max_depth': 3, 'learning_rate': 0.013955900394825966, 'subsample': 0.7793362841737754, 'min_samples_split': 3, 'min_samples_leaf': 9}. Best is trial 0 with value: 0.663999864126606.\n",
      "[I 2025-01-09 16:07:20,498] Trial 3 finished with value: 0.63604751961813 and parameters: {'n_estimators': 443, 'max_depth': 7, 'learning_rate': 0.010402074997972752, 'subsample': 0.6794481864113995, 'min_samples_split': 10, 'min_samples_leaf': 10}. Best is trial 3 with value: 0.63604751961813.\n",
      "[I 2025-01-09 16:07:20,582] Trial 4 finished with value: 1.3774991514669295 and parameters: {'n_estimators': 69, 'max_depth': 2, 'learning_rate': 0.017461514278331095, 'subsample': 0.5823755633767145, 'min_samples_split': 5, 'min_samples_leaf': 11}. Best is trial 3 with value: 0.63604751961813.\n",
      "[I 2025-01-09 16:07:20,919] Trial 5 finished with value: 0.4945195097383434 and parameters: {'n_estimators': 411, 'max_depth': 7, 'learning_rate': 0.1266051336845121, 'subsample': 0.7363233594269685, 'min_samples_split': 11, 'min_samples_leaf': 5}. Best is trial 5 with value: 0.4945195097383434.\n",
      "[I 2025-01-09 16:07:21,235] Trial 6 finished with value: 0.6998287735195395 and parameters: {'n_estimators': 473, 'max_depth': 8, 'learning_rate': 0.05679804861097601, 'subsample': 0.6641781981180239, 'min_samples_split': 14, 'min_samples_leaf': 15}. Best is trial 5 with value: 0.4945195097383434.\n",
      "[I 2025-01-09 16:07:21,714] Trial 7 finished with value: 0.5512008892878884 and parameters: {'n_estimators': 466, 'max_depth': 7, 'learning_rate': 0.016051984977208226, 'subsample': 0.987194240390886, 'min_samples_split': 13, 'min_samples_leaf': 10}. Best is trial 5 with value: 0.4945195097383434.\n",
      "[I 2025-01-09 16:07:21,952] Trial 8 finished with value: 0.7258697526312169 and parameters: {'n_estimators': 298, 'max_depth': 3, 'learning_rate': 0.15284264345051843, 'subsample': 0.9985509432993378, 'min_samples_split': 15, 'min_samples_leaf': 15}. Best is trial 5 with value: 0.4945195097383434.\n",
      "[I 2025-01-09 16:07:22,127] Trial 9 finished with value: 0.764054063516281 and parameters: {'n_estimators': 207, 'max_depth': 6, 'learning_rate': 0.19491699071140944, 'subsample': 0.517299393368745, 'min_samples_split': 17, 'min_samples_leaf': 13}. Best is trial 5 with value: 0.4945195097383434.\n",
      "[I 2025-01-09 16:07:22,503] Trial 10 finished with value: 0.5876955502217365 and parameters: {'n_estimators': 344, 'max_depth': 10, 'learning_rate': 0.27402794016117943, 'subsample': 0.8035245425425926, 'min_samples_split': 20, 'min_samples_leaf': 1}. Best is trial 5 with value: 0.4945195097383434.\n",
      "[I 2025-01-09 16:07:22,924] Trial 11 finished with value: 0.46352024790613316 and parameters: {'n_estimators': 386, 'max_depth': 6, 'learning_rate': 0.029111905846473274, 'subsample': 0.9941454889049247, 'min_samples_split': 7, 'min_samples_leaf': 6}. Best is trial 11 with value: 0.46352024790613316.\n",
      "[I 2025-01-09 16:07:23,417] Trial 12 finished with value: 0.4482526748775319 and parameters: {'n_estimators': 380, 'max_depth': 5, 'learning_rate': 0.02895873371660838, 'subsample': 0.7142110472285503, 'min_samples_split': 7, 'min_samples_leaf': 5}. Best is trial 12 with value: 0.4482526748775319.\n",
      "[I 2025-01-09 16:07:23,993] Trial 13 finished with value: 0.4381004832194227 and parameters: {'n_estimators': 366, 'max_depth': 5, 'learning_rate': 0.029370986565858948, 'subsample': 0.8660200734020251, 'min_samples_split': 7, 'min_samples_leaf': 5}. Best is trial 13 with value: 0.4381004832194227.\n",
      "[I 2025-01-09 16:07:24,582] Trial 14 finished with value: 0.7645007710257605 and parameters: {'n_estimators': 331, 'max_depth': 5, 'learning_rate': 0.03177666931576256, 'subsample': 0.8688687003327618, 'min_samples_split': 2, 'min_samples_leaf': 20}. Best is trial 13 with value: 0.4381004832194227.\n",
      "[I 2025-01-09 16:07:25,104] Trial 15 finished with value: 0.4991261001743687 and parameters: {'n_estimators': 384, 'max_depth': 5, 'learning_rate': 0.03907271015809585, 'subsample': 0.6943079206055078, 'min_samples_split': 7, 'min_samples_leaf': 1}. Best is trial 13 with value: 0.4381004832194227.\n",
      "[I 2025-01-09 16:07:26,065] Trial 16 finished with value: 0.5447983245782637 and parameters: {'n_estimators': 498, 'max_depth': 5, 'learning_rate': 0.05241718804970831, 'subsample': 0.6144889734254166, 'min_samples_split': 7, 'min_samples_leaf': 7}. Best is trial 13 with value: 0.4381004832194227.\n",
      "[I 2025-01-09 16:07:26,565] Trial 17 finished with value: 0.459916397653557 and parameters: {'n_estimators': 299, 'max_depth': 4, 'learning_rate': 0.023863626974608077, 'subsample': 0.80343315075543, 'min_samples_split': 5, 'min_samples_leaf': 3}. Best is trial 13 with value: 0.4381004832194227.\n",
      "[I 2025-01-09 16:07:27,091] Trial 18 finished with value: 0.461399540765524 and parameters: {'n_estimators': 346, 'max_depth': 8, 'learning_rate': 0.0764483808208693, 'subsample': 0.9238140772754324, 'min_samples_split': 9, 'min_samples_leaf': 3}. Best is trial 13 with value: 0.4381004832194227.\n",
      "[I 2025-01-09 16:07:27,309] Trial 19 finished with value: 0.6265613647645081 and parameters: {'n_estimators': 143, 'max_depth': 10, 'learning_rate': 0.023337766411174913, 'subsample': 0.7292495324812239, 'min_samples_split': 4, 'min_samples_leaf': 8}. Best is trial 13 with value: 0.4381004832194227.\n",
      "[I 2025-01-09 16:07:27,836] Trial 20 finished with value: 0.4505681863289462 and parameters: {'n_estimators': 417, 'max_depth': 4, 'learning_rate': 0.047765047154731705, 'subsample': 0.8538939560818968, 'min_samples_split': 6, 'min_samples_leaf': 3}. Best is trial 13 with value: 0.4381004832194227.\n",
      "[I 2025-01-09 16:07:28,258] Trial 21 finished with value: 0.4452970559515301 and parameters: {'n_estimators': 421, 'max_depth': 4, 'learning_rate': 0.04327987719717864, 'subsample': 0.8380487986658336, 'min_samples_split': 6, 'min_samples_leaf': 3}. Best is trial 13 with value: 0.4381004832194227.\n",
      "[I 2025-01-09 16:07:28,993] Trial 22 finished with value: 0.4352248312640545 and parameters: {'n_estimators': 383, 'max_depth': 4, 'learning_rate': 0.03332239108062019, 'subsample': 0.8321977537317766, 'min_samples_split': 9, 'min_samples_leaf': 5}. Best is trial 22 with value: 0.4352248312640545.\n",
      "[I 2025-01-09 16:07:29,507] Trial 23 finished with value: 0.4741826937664073 and parameters: {'n_estimators': 421, 'max_depth': 4, 'learning_rate': 0.07256950761914156, 'subsample': 0.9336629925065004, 'min_samples_split': 9, 'min_samples_leaf': 3}. Best is trial 22 with value: 0.4352248312640545.\n",
      "[I 2025-01-09 16:07:29,825] Trial 24 finished with value: 0.6162501362197371 and parameters: {'n_estimators': 364, 'max_depth': 2, 'learning_rate': 0.043062853344155966, 'subsample': 0.8307874702975944, 'min_samples_split': 11, 'min_samples_leaf': 7}. Best is trial 22 with value: 0.4352248312640545.\n",
      "[I 2025-01-09 16:07:30,187] Trial 25 finished with value: 0.4640513476002523 and parameters: {'n_estimators': 315, 'max_depth': 4, 'learning_rate': 0.03619383584484062, 'subsample': 0.7684417767181233, 'min_samples_split': 4, 'min_samples_leaf': 1}. Best is trial 22 with value: 0.4352248312640545.\n",
      "[I 2025-01-09 16:07:30,723] Trial 26 finished with value: 0.7181975917134376 and parameters: {'n_estimators': 461, 'max_depth': 6, 'learning_rate': 0.019679433469079157, 'subsample': 0.8906817521429176, 'min_samples_split': 9, 'min_samples_leaf': 19}. Best is trial 22 with value: 0.4352248312640545.\n",
      "[I 2025-01-09 16:07:30,988] Trial 27 finished with value: 0.45046314160481143 and parameters: {'n_estimators': 277, 'max_depth': 4, 'learning_rate': 0.096555755470495, 'subsample': 0.8226955997729558, 'min_samples_split': 8, 'min_samples_leaf': 4}. Best is trial 22 with value: 0.4352248312640545.\n",
      "[I 2025-01-09 16:07:31,382] Trial 28 finished with value: 0.6561192038350327 and parameters: {'n_estimators': 500, 'max_depth': 2, 'learning_rate': 0.023450239631257683, 'subsample': 0.9559731161119273, 'min_samples_split': 5, 'min_samples_leaf': 8}. Best is trial 22 with value: 0.4352248312640545.\n",
      "[I 2025-01-09 16:07:31,774] Trial 29 finished with value: 0.4428571401295777 and parameters: {'n_estimators': 430, 'max_depth': 5, 'learning_rate': 0.05674245687800316, 'subsample': 0.8670975704028293, 'min_samples_split': 12, 'min_samples_leaf': 6}. Best is trial 22 with value: 0.4352248312640545.\n",
      "[I 2025-01-09 16:07:32,044] Trial 30 finished with value: 0.6475977752345585 and parameters: {'n_estimators': 252, 'max_depth': 6, 'learning_rate': 0.06377968188381924, 'subsample': 0.8809126755649067, 'min_samples_split': 13, 'min_samples_leaf': 12}. Best is trial 22 with value: 0.4352248312640545.\n",
      "[I 2025-01-09 16:07:32,393] Trial 31 finished with value: 0.42320091996291365 and parameters: {'n_estimators': 404, 'max_depth': 5, 'learning_rate': 0.09699380177096777, 'subsample': 0.8471151993646462, 'min_samples_split': 11, 'min_samples_leaf': 6}. Best is trial 31 with value: 0.42320091996291365.\n",
      "[I 2025-01-09 16:07:32,794] Trial 32 finished with value: 0.4409779527124847 and parameters: {'n_estimators': 390, 'max_depth': 5, 'learning_rate': 0.0937818662041516, 'subsample': 0.9103669713021265, 'min_samples_split': 12, 'min_samples_leaf': 6}. Best is trial 31 with value: 0.42320091996291365.\n",
      "[I 2025-01-09 16:07:33,100] Trial 33 finished with value: 0.5305765417959564 and parameters: {'n_estimators': 365, 'max_depth': 3, 'learning_rate': 0.09309971368983616, 'subsample': 0.9395809494728491, 'min_samples_split': 12, 'min_samples_leaf': 8}. Best is trial 31 with value: 0.42320091996291365.\n",
      "[I 2025-01-09 16:07:33,468] Trial 34 finished with value: 0.4846377588663306 and parameters: {'n_estimators': 406, 'max_depth': 5, 'learning_rate': 0.10412222486863723, 'subsample': 0.9089426374537757, 'min_samples_split': 16, 'min_samples_leaf': 5}. Best is trial 31 with value: 0.42320091996291365.\n",
      "[I 2025-01-09 16:07:33,812] Trial 35 finished with value: 0.6322243162979203 and parameters: {'n_estimators': 447, 'max_depth': 5, 'learning_rate': 0.1351400985989055, 'subsample': 0.7770613872518448, 'min_samples_split': 11, 'min_samples_leaf': 9}. Best is trial 31 with value: 0.42320091996291365.\n",
      "[I 2025-01-09 16:07:34,297] Trial 36 finished with value: 0.486474880411889 and parameters: {'n_estimators': 392, 'max_depth': 7, 'learning_rate': 0.18176887903158764, 'subsample': 0.8971191080091152, 'min_samples_split': 10, 'min_samples_leaf': 6}. Best is trial 31 with value: 0.42320091996291365.\n",
      "[I 2025-01-09 16:07:34,663] Trial 37 finished with value: 0.5190408306714579 and parameters: {'n_estimators': 358, 'max_depth': 3, 'learning_rate': 0.11415659180133157, 'subsample': 0.8042276071216778, 'min_samples_split': 10, 'min_samples_leaf': 4}. Best is trial 31 with value: 0.42320091996291365.\n",
      "[I 2025-01-09 16:07:34,761] Trial 38 finished with value: 1.2915962143390047 and parameters: {'n_estimators': 54, 'max_depth': 8, 'learning_rate': 0.012869451127389797, 'subsample': 0.9514743453981357, 'min_samples_split': 14, 'min_samples_leaf': 7}. Best is trial 31 with value: 0.42320091996291365.\n",
      "[I 2025-01-09 16:07:35,162] Trial 39 finished with value: 0.6357401461742355 and parameters: {'n_estimators': 326, 'max_depth': 6, 'learning_rate': 0.08290948748776732, 'subsample': 0.7534227508837537, 'min_samples_split': 12, 'min_samples_leaf': 10}. Best is trial 31 with value: 0.42320091996291365.\n",
      "[I 2025-01-09 16:07:35,291] Trial 40 finished with value: 0.53356280983644 and parameters: {'n_estimators': 107, 'max_depth': 3, 'learning_rate': 0.06462277453637259, 'subsample': 0.8457440741200851, 'min_samples_split': 8, 'min_samples_leaf': 4}. Best is trial 31 with value: 0.42320091996291365.\n",
      "[I 2025-01-09 16:07:35,723] Trial 41 finished with value: 0.4451678416366665 and parameters: {'n_estimators': 434, 'max_depth': 5, 'learning_rate': 0.05745473944933141, 'subsample': 0.8739664320269183, 'min_samples_split': 12, 'min_samples_leaf': 6}. Best is trial 31 with value: 0.42320091996291365.\n",
      "[I 2025-01-09 16:07:36,231] Trial 42 finished with value: 0.4570964273902531 and parameters: {'n_estimators': 457, 'max_depth': 6, 'learning_rate': 0.03486009945229414, 'subsample': 0.9173529456943825, 'min_samples_split': 14, 'min_samples_leaf': 6}. Best is trial 31 with value: 0.42320091996291365.\n",
      "[I 2025-01-09 16:07:36,663] Trial 43 finished with value: 0.5643631863885249 and parameters: {'n_estimators': 400, 'max_depth': 4, 'learning_rate': 0.15787044065860426, 'subsample': 0.8607838733358579, 'min_samples_split': 10, 'min_samples_leaf': 9}. Best is trial 31 with value: 0.42320091996291365.\n",
      "[I 2025-01-09 16:07:37,179] Trial 44 finished with value: 0.40442235412206484 and parameters: {'n_estimators': 478, 'max_depth': 5, 'learning_rate': 0.08774254593744789, 'subsample': 0.813261893309714, 'min_samples_split': 13, 'min_samples_leaf': 2}. Best is trial 44 with value: 0.40442235412206484.\n",
      "[I 2025-01-09 16:07:37,793] Trial 45 finished with value: 0.43287464558863803 and parameters: {'n_estimators': 484, 'max_depth': 7, 'learning_rate': 0.12668042620839592, 'subsample': 0.8073108263059734, 'min_samples_split': 17, 'min_samples_leaf': 2}. Best is trial 44 with value: 0.40442235412206484.\n",
      "[I 2025-01-09 16:07:38,334] Trial 46 finished with value: 0.5153619984239453 and parameters: {'n_estimators': 478, 'max_depth': 7, 'learning_rate': 0.2460113027708909, 'subsample': 0.8105111790007425, 'min_samples_split': 19, 'min_samples_leaf': 2}. Best is trial 44 with value: 0.40442235412206484.\n",
      "[I 2025-01-09 16:07:39,004] Trial 47 finished with value: 0.42652195513995705 and parameters: {'n_estimators': 487, 'max_depth': 9, 'learning_rate': 0.12481829909399901, 'subsample': 0.7898025355065382, 'min_samples_split': 17, 'min_samples_leaf': 2}. Best is trial 44 with value: 0.40442235412206484.\n",
      "[I 2025-01-09 16:07:39,738] Trial 48 finished with value: 0.45027744553926663 and parameters: {'n_estimators': 480, 'max_depth': 9, 'learning_rate': 0.12219756248157493, 'subsample': 0.7892569614321132, 'min_samples_split': 17, 'min_samples_leaf': 2}. Best is trial 44 with value: 0.40442235412206484.\n",
      "[I 2025-01-09 16:07:40,329] Trial 49 finished with value: 0.5133308530678806 and parameters: {'n_estimators': 482, 'max_depth': 9, 'learning_rate': 0.2124361272514387, 'subsample': 0.759558121299952, 'min_samples_split': 18, 'min_samples_leaf': 2}. Best is trial 44 with value: 0.40442235412206484.\n"
     ]
    },
    {
     "name": "stdout",
     "output_type": "stream",
     "text": [
      "Best hyperparameters: {'n_estimators': 478, 'max_depth': 5, 'learning_rate': 0.08774254593744789, 'subsample': 0.813261893309714, 'min_samples_split': 13, 'min_samples_leaf': 2}\n"
     ]
    }
   ],
   "source": [
    "#Optimize hyperparameters with Optuna\n",
    "\n",
    "# Define the objective function\n",
    "def objective(trial):\n",
    "    # Suggest hyperparameters to tune\n",
    "    n_estimators = trial.suggest_int(\"n_estimators\", 50, 500)\n",
    "    max_depth = trial.suggest_int(\"max_depth\", 2, 10)\n",
    "    learning_rate = trial.suggest_float(\"learning_rate\", 0.01, 0.3, log=True)\n",
    "    subsample = trial.suggest_float(\"subsample\", 0.5, 1.0)\n",
    "    min_samples_split = trial.suggest_int(\"min_samples_split\", 2, 20)\n",
    "    min_samples_leaf = trial.suggest_int(\"min_samples_leaf\", 1, 20)\n",
    "\n",
    "    # Create the pipeline with the suggested hyperparameters\n",
    "    pip_model_bt = Pipeline(steps=[\n",
    "        ('model', GradientBoostingRegressor(\n",
    "            n_estimators=n_estimators,\n",
    "            max_depth=max_depth,\n",
    "            learning_rate=learning_rate,\n",
    "            subsample=subsample,\n",
    "            min_samples_split=min_samples_split,\n",
    "            min_samples_leaf=min_samples_leaf,\n",
    "            random_state=2023\n",
    "        ))\n",
    "    ])\n",
    "\n",
    "    # Fit the pipeline\n",
    "    pip_model_bt.fit(X_train, y_train)\n",
    "\n",
    "    # Predict on the test set\n",
    "    y_pred = pip_model_bt.predict(X_test)\n",
    "\n",
    "    # Calculate the evaluation metric (MSE in this case)\n",
    "    mse = mean_squared_error(y_test, y_pred)\n",
    "    return mse  # Optuna minimizes the objective function by default\n",
    "\n",
    "# Create a study object\n",
    "study = optuna.create_study(direction=\"minimize\")  # We want to minimize MSE\n",
    "\n",
    "# Optimize the study\n",
    "study.optimize(objective, n_trials=50)  # Run 50 trials (you can increase this for better results)\n",
    "\n",
    "# Print the best hyperparameters\n",
    "best_params = study.best_params\n",
    "print(\"Best hyperparameters:\", study.best_params)"
   ]
  },
  {
   "cell_type": "code",
   "execution_count": 57,
   "id": "9d68deec",
   "metadata": {},
   "outputs": [
    {
     "data": {
      "application/vnd.jupyter.widget-view+json": {
       "model_id": "5287d989216545b3bb00a1c1b4e1b824",
       "version_major": 2,
       "version_minor": 0
      },
      "text/plain": [
       "Downloading artifacts:   0%|          | 0/7 [00:00<?, ?it/s]"
      ]
     },
     "metadata": {},
     "output_type": "display_data"
    }
   ],
   "source": [
    "# Start an MLflow run with a specific run name\n",
    "with mlflow.start_run(run_name=\"gb_regression_run\"):\n",
    "    # Train the final model\n",
    "    final_model = GradientBoostingRegressor(\n",
    "        n_estimators=best_params[\"n_estimators\"],\n",
    "        max_depth=best_params[\"max_depth\"],\n",
    "        learning_rate=best_params[\"learning_rate\"],\n",
    "        subsample=best_params[\"subsample\"],\n",
    "        min_samples_split=best_params[\"min_samples_split\"],\n",
    "        min_samples_leaf=best_params[\"min_samples_leaf\"],\n",
    "        random_state=2023\n",
    "    )\n",
    "\n",
    "    # Fit the final model\n",
    "    final_model.fit(X_train, y_train)\n",
    "\n",
    "    # Add model signature and input example\n",
    "    signature = mlflow.models.infer_signature(X_train, y_train)\n",
    "    input_example = X_train.iloc[:5]\n",
    "\n",
    "    # Log metrics\n",
    "    y_pred = final_model.predict(X_test)\n",
    "    metrics = get_metrics(y_test, y_pred)\n",
    "    mlflow.log_metrics(metrics)\n",
    "\n",
    "    # Log parameters\n",
    "    mlflow.log_params(best_params)\n",
    "\n",
    "    # Log the model with signature and input example\n",
    "    mlflow.sklearn.log_model(\n",
    "        final_model, \n",
    "        \"gradient_boosting_model\",\n",
    "        signature=signature,\n",
    "        input_example=input_example\n",
    "    )"
   ]
  },
  {
   "cell_type": "code",
   "execution_count": 58,
   "id": "2d7c9c95",
   "metadata": {},
   "outputs": [
    {
     "data": {
      "application/vnd.plotly.v1+json": {
       "config": {
        "plotlyServerURL": "https://plot.ly"
       },
       "data": [
        {
         "mode": "markers",
         "name": "Objective Value",
         "type": "scatter",
         "x": [
          0,
          1,
          2,
          3,
          4,
          5,
          6,
          7,
          8,
          9,
          10,
          11,
          12,
          13,
          14,
          15,
          16,
          17,
          18,
          19,
          20,
          21,
          22,
          23,
          24,
          25,
          26,
          27,
          28,
          29,
          30,
          31,
          32,
          33,
          34,
          35,
          36,
          37,
          38,
          39,
          40,
          41,
          42,
          43,
          44,
          45,
          46,
          47,
          48,
          49
         ],
         "y": [
          0.663999864126606,
          0.7275764291272345,
          0.9294199078669626,
          0.63604751961813,
          1.3774991514669295,
          0.4945195097383434,
          0.6998287735195395,
          0.5512008892878884,
          0.7258697526312169,
          0.764054063516281,
          0.5876955502217365,
          0.46352024790613316,
          0.4482526748775319,
          0.4381004832194227,
          0.7645007710257605,
          0.4991261001743687,
          0.5447983245782637,
          0.459916397653557,
          0.461399540765524,
          0.6265613647645081,
          0.4505681863289462,
          0.4452970559515301,
          0.4352248312640545,
          0.4741826937664073,
          0.6162501362197371,
          0.4640513476002523,
          0.7181975917134376,
          0.45046314160481143,
          0.6561192038350327,
          0.4428571401295777,
          0.6475977752345585,
          0.42320091996291365,
          0.4409779527124847,
          0.5305765417959564,
          0.4846377588663306,
          0.6322243162979203,
          0.486474880411889,
          0.5190408306714579,
          1.2915962143390047,
          0.6357401461742355,
          0.53356280983644,
          0.4451678416366665,
          0.4570964273902531,
          0.5643631863885249,
          0.40442235412206484,
          0.43287464558863803,
          0.5153619984239453,
          0.42652195513995705,
          0.45027744553926663,
          0.5133308530678806
         ]
        },
        {
         "mode": "lines",
         "name": "Best Value",
         "type": "scatter",
         "x": [
          0,
          1,
          2,
          3,
          4,
          5,
          6,
          7,
          8,
          9,
          10,
          11,
          12,
          13,
          14,
          15,
          16,
          17,
          18,
          19,
          20,
          21,
          22,
          23,
          24,
          25,
          26,
          27,
          28,
          29,
          30,
          31,
          32,
          33,
          34,
          35,
          36,
          37,
          38,
          39,
          40,
          41,
          42,
          43,
          44,
          45,
          46,
          47,
          48,
          49
         ],
         "y": [
          0.663999864126606,
          0.663999864126606,
          0.663999864126606,
          0.63604751961813,
          0.63604751961813,
          0.4945195097383434,
          0.4945195097383434,
          0.4945195097383434,
          0.4945195097383434,
          0.4945195097383434,
          0.4945195097383434,
          0.46352024790613316,
          0.4482526748775319,
          0.4381004832194227,
          0.4381004832194227,
          0.4381004832194227,
          0.4381004832194227,
          0.4381004832194227,
          0.4381004832194227,
          0.4381004832194227,
          0.4381004832194227,
          0.4381004832194227,
          0.4352248312640545,
          0.4352248312640545,
          0.4352248312640545,
          0.4352248312640545,
          0.4352248312640545,
          0.4352248312640545,
          0.4352248312640545,
          0.4352248312640545,
          0.4352248312640545,
          0.42320091996291365,
          0.42320091996291365,
          0.42320091996291365,
          0.42320091996291365,
          0.42320091996291365,
          0.42320091996291365,
          0.42320091996291365,
          0.42320091996291365,
          0.42320091996291365,
          0.42320091996291365,
          0.42320091996291365,
          0.42320091996291365,
          0.42320091996291365,
          0.40442235412206484,
          0.40442235412206484,
          0.40442235412206484,
          0.40442235412206484,
          0.40442235412206484,
          0.40442235412206484
         ]
        },
        {
         "marker": {
          "color": "#cccccc"
         },
         "mode": "markers",
         "name": "Infeasible Trial",
         "showlegend": false,
         "type": "scatter",
         "x": [],
         "y": []
        }
       ],
       "layout": {
        "template": {
         "data": {
          "bar": [
           {
            "error_x": {
             "color": "#2a3f5f"
            },
            "error_y": {
             "color": "#2a3f5f"
            },
            "marker": {
             "line": {
              "color": "#E5ECF6",
              "width": 0.5
             },
             "pattern": {
              "fillmode": "overlay",
              "size": 10,
              "solidity": 0.2
             }
            },
            "type": "bar"
           }
          ],
          "barpolar": [
           {
            "marker": {
             "line": {
              "color": "#E5ECF6",
              "width": 0.5
             },
             "pattern": {
              "fillmode": "overlay",
              "size": 10,
              "solidity": 0.2
             }
            },
            "type": "barpolar"
           }
          ],
          "carpet": [
           {
            "aaxis": {
             "endlinecolor": "#2a3f5f",
             "gridcolor": "white",
             "linecolor": "white",
             "minorgridcolor": "white",
             "startlinecolor": "#2a3f5f"
            },
            "baxis": {
             "endlinecolor": "#2a3f5f",
             "gridcolor": "white",
             "linecolor": "white",
             "minorgridcolor": "white",
             "startlinecolor": "#2a3f5f"
            },
            "type": "carpet"
           }
          ],
          "choropleth": [
           {
            "colorbar": {
             "outlinewidth": 0,
             "ticks": ""
            },
            "type": "choropleth"
           }
          ],
          "contour": [
           {
            "colorbar": {
             "outlinewidth": 0,
             "ticks": ""
            },
            "colorscale": [
             [
              0,
              "#0d0887"
             ],
             [
              0.1111111111111111,
              "#46039f"
             ],
             [
              0.2222222222222222,
              "#7201a8"
             ],
             [
              0.3333333333333333,
              "#9c179e"
             ],
             [
              0.4444444444444444,
              "#bd3786"
             ],
             [
              0.5555555555555556,
              "#d8576b"
             ],
             [
              0.6666666666666666,
              "#ed7953"
             ],
             [
              0.7777777777777778,
              "#fb9f3a"
             ],
             [
              0.8888888888888888,
              "#fdca26"
             ],
             [
              1,
              "#f0f921"
             ]
            ],
            "type": "contour"
           }
          ],
          "contourcarpet": [
           {
            "colorbar": {
             "outlinewidth": 0,
             "ticks": ""
            },
            "type": "contourcarpet"
           }
          ],
          "heatmap": [
           {
            "colorbar": {
             "outlinewidth": 0,
             "ticks": ""
            },
            "colorscale": [
             [
              0,
              "#0d0887"
             ],
             [
              0.1111111111111111,
              "#46039f"
             ],
             [
              0.2222222222222222,
              "#7201a8"
             ],
             [
              0.3333333333333333,
              "#9c179e"
             ],
             [
              0.4444444444444444,
              "#bd3786"
             ],
             [
              0.5555555555555556,
              "#d8576b"
             ],
             [
              0.6666666666666666,
              "#ed7953"
             ],
             [
              0.7777777777777778,
              "#fb9f3a"
             ],
             [
              0.8888888888888888,
              "#fdca26"
             ],
             [
              1,
              "#f0f921"
             ]
            ],
            "type": "heatmap"
           }
          ],
          "heatmapgl": [
           {
            "colorbar": {
             "outlinewidth": 0,
             "ticks": ""
            },
            "colorscale": [
             [
              0,
              "#0d0887"
             ],
             [
              0.1111111111111111,
              "#46039f"
             ],
             [
              0.2222222222222222,
              "#7201a8"
             ],
             [
              0.3333333333333333,
              "#9c179e"
             ],
             [
              0.4444444444444444,
              "#bd3786"
             ],
             [
              0.5555555555555556,
              "#d8576b"
             ],
             [
              0.6666666666666666,
              "#ed7953"
             ],
             [
              0.7777777777777778,
              "#fb9f3a"
             ],
             [
              0.8888888888888888,
              "#fdca26"
             ],
             [
              1,
              "#f0f921"
             ]
            ],
            "type": "heatmapgl"
           }
          ],
          "histogram": [
           {
            "marker": {
             "pattern": {
              "fillmode": "overlay",
              "size": 10,
              "solidity": 0.2
             }
            },
            "type": "histogram"
           }
          ],
          "histogram2d": [
           {
            "colorbar": {
             "outlinewidth": 0,
             "ticks": ""
            },
            "colorscale": [
             [
              0,
              "#0d0887"
             ],
             [
              0.1111111111111111,
              "#46039f"
             ],
             [
              0.2222222222222222,
              "#7201a8"
             ],
             [
              0.3333333333333333,
              "#9c179e"
             ],
             [
              0.4444444444444444,
              "#bd3786"
             ],
             [
              0.5555555555555556,
              "#d8576b"
             ],
             [
              0.6666666666666666,
              "#ed7953"
             ],
             [
              0.7777777777777778,
              "#fb9f3a"
             ],
             [
              0.8888888888888888,
              "#fdca26"
             ],
             [
              1,
              "#f0f921"
             ]
            ],
            "type": "histogram2d"
           }
          ],
          "histogram2dcontour": [
           {
            "colorbar": {
             "outlinewidth": 0,
             "ticks": ""
            },
            "colorscale": [
             [
              0,
              "#0d0887"
             ],
             [
              0.1111111111111111,
              "#46039f"
             ],
             [
              0.2222222222222222,
              "#7201a8"
             ],
             [
              0.3333333333333333,
              "#9c179e"
             ],
             [
              0.4444444444444444,
              "#bd3786"
             ],
             [
              0.5555555555555556,
              "#d8576b"
             ],
             [
              0.6666666666666666,
              "#ed7953"
             ],
             [
              0.7777777777777778,
              "#fb9f3a"
             ],
             [
              0.8888888888888888,
              "#fdca26"
             ],
             [
              1,
              "#f0f921"
             ]
            ],
            "type": "histogram2dcontour"
           }
          ],
          "mesh3d": [
           {
            "colorbar": {
             "outlinewidth": 0,
             "ticks": ""
            },
            "type": "mesh3d"
           }
          ],
          "parcoords": [
           {
            "line": {
             "colorbar": {
              "outlinewidth": 0,
              "ticks": ""
             }
            },
            "type": "parcoords"
           }
          ],
          "pie": [
           {
            "automargin": true,
            "type": "pie"
           }
          ],
          "scatter": [
           {
            "fillpattern": {
             "fillmode": "overlay",
             "size": 10,
             "solidity": 0.2
            },
            "type": "scatter"
           }
          ],
          "scatter3d": [
           {
            "line": {
             "colorbar": {
              "outlinewidth": 0,
              "ticks": ""
             }
            },
            "marker": {
             "colorbar": {
              "outlinewidth": 0,
              "ticks": ""
             }
            },
            "type": "scatter3d"
           }
          ],
          "scattercarpet": [
           {
            "marker": {
             "colorbar": {
              "outlinewidth": 0,
              "ticks": ""
             }
            },
            "type": "scattercarpet"
           }
          ],
          "scattergeo": [
           {
            "marker": {
             "colorbar": {
              "outlinewidth": 0,
              "ticks": ""
             }
            },
            "type": "scattergeo"
           }
          ],
          "scattergl": [
           {
            "marker": {
             "colorbar": {
              "outlinewidth": 0,
              "ticks": ""
             }
            },
            "type": "scattergl"
           }
          ],
          "scattermapbox": [
           {
            "marker": {
             "colorbar": {
              "outlinewidth": 0,
              "ticks": ""
             }
            },
            "type": "scattermapbox"
           }
          ],
          "scatterpolar": [
           {
            "marker": {
             "colorbar": {
              "outlinewidth": 0,
              "ticks": ""
             }
            },
            "type": "scatterpolar"
           }
          ],
          "scatterpolargl": [
           {
            "marker": {
             "colorbar": {
              "outlinewidth": 0,
              "ticks": ""
             }
            },
            "type": "scatterpolargl"
           }
          ],
          "scatterternary": [
           {
            "marker": {
             "colorbar": {
              "outlinewidth": 0,
              "ticks": ""
             }
            },
            "type": "scatterternary"
           }
          ],
          "surface": [
           {
            "colorbar": {
             "outlinewidth": 0,
             "ticks": ""
            },
            "colorscale": [
             [
              0,
              "#0d0887"
             ],
             [
              0.1111111111111111,
              "#46039f"
             ],
             [
              0.2222222222222222,
              "#7201a8"
             ],
             [
              0.3333333333333333,
              "#9c179e"
             ],
             [
              0.4444444444444444,
              "#bd3786"
             ],
             [
              0.5555555555555556,
              "#d8576b"
             ],
             [
              0.6666666666666666,
              "#ed7953"
             ],
             [
              0.7777777777777778,
              "#fb9f3a"
             ],
             [
              0.8888888888888888,
              "#fdca26"
             ],
             [
              1,
              "#f0f921"
             ]
            ],
            "type": "surface"
           }
          ],
          "table": [
           {
            "cells": {
             "fill": {
              "color": "#EBF0F8"
             },
             "line": {
              "color": "white"
             }
            },
            "header": {
             "fill": {
              "color": "#C8D4E3"
             },
             "line": {
              "color": "white"
             }
            },
            "type": "table"
           }
          ]
         },
         "layout": {
          "annotationdefaults": {
           "arrowcolor": "#2a3f5f",
           "arrowhead": 0,
           "arrowwidth": 1
          },
          "autotypenumbers": "strict",
          "coloraxis": {
           "colorbar": {
            "outlinewidth": 0,
            "ticks": ""
           }
          },
          "colorscale": {
           "diverging": [
            [
             0,
             "#8e0152"
            ],
            [
             0.1,
             "#c51b7d"
            ],
            [
             0.2,
             "#de77ae"
            ],
            [
             0.3,
             "#f1b6da"
            ],
            [
             0.4,
             "#fde0ef"
            ],
            [
             0.5,
             "#f7f7f7"
            ],
            [
             0.6,
             "#e6f5d0"
            ],
            [
             0.7,
             "#b8e186"
            ],
            [
             0.8,
             "#7fbc41"
            ],
            [
             0.9,
             "#4d9221"
            ],
            [
             1,
             "#276419"
            ]
           ],
           "sequential": [
            [
             0,
             "#0d0887"
            ],
            [
             0.1111111111111111,
             "#46039f"
            ],
            [
             0.2222222222222222,
             "#7201a8"
            ],
            [
             0.3333333333333333,
             "#9c179e"
            ],
            [
             0.4444444444444444,
             "#bd3786"
            ],
            [
             0.5555555555555556,
             "#d8576b"
            ],
            [
             0.6666666666666666,
             "#ed7953"
            ],
            [
             0.7777777777777778,
             "#fb9f3a"
            ],
            [
             0.8888888888888888,
             "#fdca26"
            ],
            [
             1,
             "#f0f921"
            ]
           ],
           "sequentialminus": [
            [
             0,
             "#0d0887"
            ],
            [
             0.1111111111111111,
             "#46039f"
            ],
            [
             0.2222222222222222,
             "#7201a8"
            ],
            [
             0.3333333333333333,
             "#9c179e"
            ],
            [
             0.4444444444444444,
             "#bd3786"
            ],
            [
             0.5555555555555556,
             "#d8576b"
            ],
            [
             0.6666666666666666,
             "#ed7953"
            ],
            [
             0.7777777777777778,
             "#fb9f3a"
            ],
            [
             0.8888888888888888,
             "#fdca26"
            ],
            [
             1,
             "#f0f921"
            ]
           ]
          },
          "colorway": [
           "#636efa",
           "#EF553B",
           "#00cc96",
           "#ab63fa",
           "#FFA15A",
           "#19d3f3",
           "#FF6692",
           "#B6E880",
           "#FF97FF",
           "#FECB52"
          ],
          "font": {
           "color": "#2a3f5f"
          },
          "geo": {
           "bgcolor": "white",
           "lakecolor": "white",
           "landcolor": "#E5ECF6",
           "showlakes": true,
           "showland": true,
           "subunitcolor": "white"
          },
          "hoverlabel": {
           "align": "left"
          },
          "hovermode": "closest",
          "mapbox": {
           "style": "light"
          },
          "paper_bgcolor": "white",
          "plot_bgcolor": "#E5ECF6",
          "polar": {
           "angularaxis": {
            "gridcolor": "white",
            "linecolor": "white",
            "ticks": ""
           },
           "bgcolor": "#E5ECF6",
           "radialaxis": {
            "gridcolor": "white",
            "linecolor": "white",
            "ticks": ""
           }
          },
          "scene": {
           "xaxis": {
            "backgroundcolor": "#E5ECF6",
            "gridcolor": "white",
            "gridwidth": 2,
            "linecolor": "white",
            "showbackground": true,
            "ticks": "",
            "zerolinecolor": "white"
           },
           "yaxis": {
            "backgroundcolor": "#E5ECF6",
            "gridcolor": "white",
            "gridwidth": 2,
            "linecolor": "white",
            "showbackground": true,
            "ticks": "",
            "zerolinecolor": "white"
           },
           "zaxis": {
            "backgroundcolor": "#E5ECF6",
            "gridcolor": "white",
            "gridwidth": 2,
            "linecolor": "white",
            "showbackground": true,
            "ticks": "",
            "zerolinecolor": "white"
           }
          },
          "shapedefaults": {
           "line": {
            "color": "#2a3f5f"
           }
          },
          "ternary": {
           "aaxis": {
            "gridcolor": "white",
            "linecolor": "white",
            "ticks": ""
           },
           "baxis": {
            "gridcolor": "white",
            "linecolor": "white",
            "ticks": ""
           },
           "bgcolor": "#E5ECF6",
           "caxis": {
            "gridcolor": "white",
            "linecolor": "white",
            "ticks": ""
           }
          },
          "title": {
           "x": 0.05
          },
          "xaxis": {
           "automargin": true,
           "gridcolor": "white",
           "linecolor": "white",
           "ticks": "",
           "title": {
            "standoff": 15
           },
           "zerolinecolor": "white",
           "zerolinewidth": 2
          },
          "yaxis": {
           "automargin": true,
           "gridcolor": "white",
           "linecolor": "white",
           "ticks": "",
           "title": {
            "standoff": 15
           },
           "zerolinecolor": "white",
           "zerolinewidth": 2
          }
         }
        },
        "title": {
         "text": "Optimization History Plot"
        },
        "xaxis": {
         "title": {
          "text": "Trial"
         }
        },
        "yaxis": {
         "title": {
          "text": "Objective Value"
         }
        }
       }
      }
     },
     "metadata": {},
     "output_type": "display_data"
    }
   ],
   "source": [
    "# Visualize the optimization history\n",
    "optuna.visualization.plot_optimization_history(study).show()"
   ]
  },
  {
   "cell_type": "code",
   "execution_count": 59,
   "id": "d079c4bf",
   "metadata": {},
   "outputs": [
    {
     "data": {
      "application/vnd.plotly.v1+json": {
       "config": {
        "plotlyServerURL": "https://plot.ly"
       },
       "data": [
        {
         "cliponaxis": false,
         "hovertemplate": [
          "min_samples_split (IntDistribution): 0.017229771956336282<extra></extra>",
          "learning_rate (FloatDistribution): 0.02710021082027702<extra></extra>",
          "subsample (FloatDistribution): 0.03536358233680898<extra></extra>",
          "max_depth (IntDistribution): 0.052039144588462746<extra></extra>",
          "min_samples_leaf (IntDistribution): 0.20670309527574368<extra></extra>",
          "n_estimators (IntDistribution): 0.6615641950223714<extra></extra>"
         ],
         "name": "Objective Value",
         "orientation": "h",
         "text": [
          "0.02",
          "0.03",
          "0.04",
          "0.05",
          "0.21",
          "0.66"
         ],
         "textposition": "outside",
         "type": "bar",
         "x": [
          0.017229771956336282,
          0.02710021082027702,
          0.03536358233680898,
          0.052039144588462746,
          0.20670309527574368,
          0.6615641950223714
         ],
         "y": [
          "min_samples_split",
          "learning_rate",
          "subsample",
          "max_depth",
          "min_samples_leaf",
          "n_estimators"
         ]
        }
       ],
       "layout": {
        "template": {
         "data": {
          "bar": [
           {
            "error_x": {
             "color": "#2a3f5f"
            },
            "error_y": {
             "color": "#2a3f5f"
            },
            "marker": {
             "line": {
              "color": "#E5ECF6",
              "width": 0.5
             },
             "pattern": {
              "fillmode": "overlay",
              "size": 10,
              "solidity": 0.2
             }
            },
            "type": "bar"
           }
          ],
          "barpolar": [
           {
            "marker": {
             "line": {
              "color": "#E5ECF6",
              "width": 0.5
             },
             "pattern": {
              "fillmode": "overlay",
              "size": 10,
              "solidity": 0.2
             }
            },
            "type": "barpolar"
           }
          ],
          "carpet": [
           {
            "aaxis": {
             "endlinecolor": "#2a3f5f",
             "gridcolor": "white",
             "linecolor": "white",
             "minorgridcolor": "white",
             "startlinecolor": "#2a3f5f"
            },
            "baxis": {
             "endlinecolor": "#2a3f5f",
             "gridcolor": "white",
             "linecolor": "white",
             "minorgridcolor": "white",
             "startlinecolor": "#2a3f5f"
            },
            "type": "carpet"
           }
          ],
          "choropleth": [
           {
            "colorbar": {
             "outlinewidth": 0,
             "ticks": ""
            },
            "type": "choropleth"
           }
          ],
          "contour": [
           {
            "colorbar": {
             "outlinewidth": 0,
             "ticks": ""
            },
            "colorscale": [
             [
              0,
              "#0d0887"
             ],
             [
              0.1111111111111111,
              "#46039f"
             ],
             [
              0.2222222222222222,
              "#7201a8"
             ],
             [
              0.3333333333333333,
              "#9c179e"
             ],
             [
              0.4444444444444444,
              "#bd3786"
             ],
             [
              0.5555555555555556,
              "#d8576b"
             ],
             [
              0.6666666666666666,
              "#ed7953"
             ],
             [
              0.7777777777777778,
              "#fb9f3a"
             ],
             [
              0.8888888888888888,
              "#fdca26"
             ],
             [
              1,
              "#f0f921"
             ]
            ],
            "type": "contour"
           }
          ],
          "contourcarpet": [
           {
            "colorbar": {
             "outlinewidth": 0,
             "ticks": ""
            },
            "type": "contourcarpet"
           }
          ],
          "heatmap": [
           {
            "colorbar": {
             "outlinewidth": 0,
             "ticks": ""
            },
            "colorscale": [
             [
              0,
              "#0d0887"
             ],
             [
              0.1111111111111111,
              "#46039f"
             ],
             [
              0.2222222222222222,
              "#7201a8"
             ],
             [
              0.3333333333333333,
              "#9c179e"
             ],
             [
              0.4444444444444444,
              "#bd3786"
             ],
             [
              0.5555555555555556,
              "#d8576b"
             ],
             [
              0.6666666666666666,
              "#ed7953"
             ],
             [
              0.7777777777777778,
              "#fb9f3a"
             ],
             [
              0.8888888888888888,
              "#fdca26"
             ],
             [
              1,
              "#f0f921"
             ]
            ],
            "type": "heatmap"
           }
          ],
          "heatmapgl": [
           {
            "colorbar": {
             "outlinewidth": 0,
             "ticks": ""
            },
            "colorscale": [
             [
              0,
              "#0d0887"
             ],
             [
              0.1111111111111111,
              "#46039f"
             ],
             [
              0.2222222222222222,
              "#7201a8"
             ],
             [
              0.3333333333333333,
              "#9c179e"
             ],
             [
              0.4444444444444444,
              "#bd3786"
             ],
             [
              0.5555555555555556,
              "#d8576b"
             ],
             [
              0.6666666666666666,
              "#ed7953"
             ],
             [
              0.7777777777777778,
              "#fb9f3a"
             ],
             [
              0.8888888888888888,
              "#fdca26"
             ],
             [
              1,
              "#f0f921"
             ]
            ],
            "type": "heatmapgl"
           }
          ],
          "histogram": [
           {
            "marker": {
             "pattern": {
              "fillmode": "overlay",
              "size": 10,
              "solidity": 0.2
             }
            },
            "type": "histogram"
           }
          ],
          "histogram2d": [
           {
            "colorbar": {
             "outlinewidth": 0,
             "ticks": ""
            },
            "colorscale": [
             [
              0,
              "#0d0887"
             ],
             [
              0.1111111111111111,
              "#46039f"
             ],
             [
              0.2222222222222222,
              "#7201a8"
             ],
             [
              0.3333333333333333,
              "#9c179e"
             ],
             [
              0.4444444444444444,
              "#bd3786"
             ],
             [
              0.5555555555555556,
              "#d8576b"
             ],
             [
              0.6666666666666666,
              "#ed7953"
             ],
             [
              0.7777777777777778,
              "#fb9f3a"
             ],
             [
              0.8888888888888888,
              "#fdca26"
             ],
             [
              1,
              "#f0f921"
             ]
            ],
            "type": "histogram2d"
           }
          ],
          "histogram2dcontour": [
           {
            "colorbar": {
             "outlinewidth": 0,
             "ticks": ""
            },
            "colorscale": [
             [
              0,
              "#0d0887"
             ],
             [
              0.1111111111111111,
              "#46039f"
             ],
             [
              0.2222222222222222,
              "#7201a8"
             ],
             [
              0.3333333333333333,
              "#9c179e"
             ],
             [
              0.4444444444444444,
              "#bd3786"
             ],
             [
              0.5555555555555556,
              "#d8576b"
             ],
             [
              0.6666666666666666,
              "#ed7953"
             ],
             [
              0.7777777777777778,
              "#fb9f3a"
             ],
             [
              0.8888888888888888,
              "#fdca26"
             ],
             [
              1,
              "#f0f921"
             ]
            ],
            "type": "histogram2dcontour"
           }
          ],
          "mesh3d": [
           {
            "colorbar": {
             "outlinewidth": 0,
             "ticks": ""
            },
            "type": "mesh3d"
           }
          ],
          "parcoords": [
           {
            "line": {
             "colorbar": {
              "outlinewidth": 0,
              "ticks": ""
             }
            },
            "type": "parcoords"
           }
          ],
          "pie": [
           {
            "automargin": true,
            "type": "pie"
           }
          ],
          "scatter": [
           {
            "fillpattern": {
             "fillmode": "overlay",
             "size": 10,
             "solidity": 0.2
            },
            "type": "scatter"
           }
          ],
          "scatter3d": [
           {
            "line": {
             "colorbar": {
              "outlinewidth": 0,
              "ticks": ""
             }
            },
            "marker": {
             "colorbar": {
              "outlinewidth": 0,
              "ticks": ""
             }
            },
            "type": "scatter3d"
           }
          ],
          "scattercarpet": [
           {
            "marker": {
             "colorbar": {
              "outlinewidth": 0,
              "ticks": ""
             }
            },
            "type": "scattercarpet"
           }
          ],
          "scattergeo": [
           {
            "marker": {
             "colorbar": {
              "outlinewidth": 0,
              "ticks": ""
             }
            },
            "type": "scattergeo"
           }
          ],
          "scattergl": [
           {
            "marker": {
             "colorbar": {
              "outlinewidth": 0,
              "ticks": ""
             }
            },
            "type": "scattergl"
           }
          ],
          "scattermapbox": [
           {
            "marker": {
             "colorbar": {
              "outlinewidth": 0,
              "ticks": ""
             }
            },
            "type": "scattermapbox"
           }
          ],
          "scatterpolar": [
           {
            "marker": {
             "colorbar": {
              "outlinewidth": 0,
              "ticks": ""
             }
            },
            "type": "scatterpolar"
           }
          ],
          "scatterpolargl": [
           {
            "marker": {
             "colorbar": {
              "outlinewidth": 0,
              "ticks": ""
             }
            },
            "type": "scatterpolargl"
           }
          ],
          "scatterternary": [
           {
            "marker": {
             "colorbar": {
              "outlinewidth": 0,
              "ticks": ""
             }
            },
            "type": "scatterternary"
           }
          ],
          "surface": [
           {
            "colorbar": {
             "outlinewidth": 0,
             "ticks": ""
            },
            "colorscale": [
             [
              0,
              "#0d0887"
             ],
             [
              0.1111111111111111,
              "#46039f"
             ],
             [
              0.2222222222222222,
              "#7201a8"
             ],
             [
              0.3333333333333333,
              "#9c179e"
             ],
             [
              0.4444444444444444,
              "#bd3786"
             ],
             [
              0.5555555555555556,
              "#d8576b"
             ],
             [
              0.6666666666666666,
              "#ed7953"
             ],
             [
              0.7777777777777778,
              "#fb9f3a"
             ],
             [
              0.8888888888888888,
              "#fdca26"
             ],
             [
              1,
              "#f0f921"
             ]
            ],
            "type": "surface"
           }
          ],
          "table": [
           {
            "cells": {
             "fill": {
              "color": "#EBF0F8"
             },
             "line": {
              "color": "white"
             }
            },
            "header": {
             "fill": {
              "color": "#C8D4E3"
             },
             "line": {
              "color": "white"
             }
            },
            "type": "table"
           }
          ]
         },
         "layout": {
          "annotationdefaults": {
           "arrowcolor": "#2a3f5f",
           "arrowhead": 0,
           "arrowwidth": 1
          },
          "autotypenumbers": "strict",
          "coloraxis": {
           "colorbar": {
            "outlinewidth": 0,
            "ticks": ""
           }
          },
          "colorscale": {
           "diverging": [
            [
             0,
             "#8e0152"
            ],
            [
             0.1,
             "#c51b7d"
            ],
            [
             0.2,
             "#de77ae"
            ],
            [
             0.3,
             "#f1b6da"
            ],
            [
             0.4,
             "#fde0ef"
            ],
            [
             0.5,
             "#f7f7f7"
            ],
            [
             0.6,
             "#e6f5d0"
            ],
            [
             0.7,
             "#b8e186"
            ],
            [
             0.8,
             "#7fbc41"
            ],
            [
             0.9,
             "#4d9221"
            ],
            [
             1,
             "#276419"
            ]
           ],
           "sequential": [
            [
             0,
             "#0d0887"
            ],
            [
             0.1111111111111111,
             "#46039f"
            ],
            [
             0.2222222222222222,
             "#7201a8"
            ],
            [
             0.3333333333333333,
             "#9c179e"
            ],
            [
             0.4444444444444444,
             "#bd3786"
            ],
            [
             0.5555555555555556,
             "#d8576b"
            ],
            [
             0.6666666666666666,
             "#ed7953"
            ],
            [
             0.7777777777777778,
             "#fb9f3a"
            ],
            [
             0.8888888888888888,
             "#fdca26"
            ],
            [
             1,
             "#f0f921"
            ]
           ],
           "sequentialminus": [
            [
             0,
             "#0d0887"
            ],
            [
             0.1111111111111111,
             "#46039f"
            ],
            [
             0.2222222222222222,
             "#7201a8"
            ],
            [
             0.3333333333333333,
             "#9c179e"
            ],
            [
             0.4444444444444444,
             "#bd3786"
            ],
            [
             0.5555555555555556,
             "#d8576b"
            ],
            [
             0.6666666666666666,
             "#ed7953"
            ],
            [
             0.7777777777777778,
             "#fb9f3a"
            ],
            [
             0.8888888888888888,
             "#fdca26"
            ],
            [
             1,
             "#f0f921"
            ]
           ]
          },
          "colorway": [
           "#636efa",
           "#EF553B",
           "#00cc96",
           "#ab63fa",
           "#FFA15A",
           "#19d3f3",
           "#FF6692",
           "#B6E880",
           "#FF97FF",
           "#FECB52"
          ],
          "font": {
           "color": "#2a3f5f"
          },
          "geo": {
           "bgcolor": "white",
           "lakecolor": "white",
           "landcolor": "#E5ECF6",
           "showlakes": true,
           "showland": true,
           "subunitcolor": "white"
          },
          "hoverlabel": {
           "align": "left"
          },
          "hovermode": "closest",
          "mapbox": {
           "style": "light"
          },
          "paper_bgcolor": "white",
          "plot_bgcolor": "#E5ECF6",
          "polar": {
           "angularaxis": {
            "gridcolor": "white",
            "linecolor": "white",
            "ticks": ""
           },
           "bgcolor": "#E5ECF6",
           "radialaxis": {
            "gridcolor": "white",
            "linecolor": "white",
            "ticks": ""
           }
          },
          "scene": {
           "xaxis": {
            "backgroundcolor": "#E5ECF6",
            "gridcolor": "white",
            "gridwidth": 2,
            "linecolor": "white",
            "showbackground": true,
            "ticks": "",
            "zerolinecolor": "white"
           },
           "yaxis": {
            "backgroundcolor": "#E5ECF6",
            "gridcolor": "white",
            "gridwidth": 2,
            "linecolor": "white",
            "showbackground": true,
            "ticks": "",
            "zerolinecolor": "white"
           },
           "zaxis": {
            "backgroundcolor": "#E5ECF6",
            "gridcolor": "white",
            "gridwidth": 2,
            "linecolor": "white",
            "showbackground": true,
            "ticks": "",
            "zerolinecolor": "white"
           }
          },
          "shapedefaults": {
           "line": {
            "color": "#2a3f5f"
           }
          },
          "ternary": {
           "aaxis": {
            "gridcolor": "white",
            "linecolor": "white",
            "ticks": ""
           },
           "baxis": {
            "gridcolor": "white",
            "linecolor": "white",
            "ticks": ""
           },
           "bgcolor": "#E5ECF6",
           "caxis": {
            "gridcolor": "white",
            "linecolor": "white",
            "ticks": ""
           }
          },
          "title": {
           "x": 0.05
          },
          "xaxis": {
           "automargin": true,
           "gridcolor": "white",
           "linecolor": "white",
           "ticks": "",
           "title": {
            "standoff": 15
           },
           "zerolinecolor": "white",
           "zerolinewidth": 2
          },
          "yaxis": {
           "automargin": true,
           "gridcolor": "white",
           "linecolor": "white",
           "ticks": "",
           "title": {
            "standoff": 15
           },
           "zerolinecolor": "white",
           "zerolinewidth": 2
          }
         }
        },
        "title": {
         "text": "Hyperparameter Importances"
        },
        "xaxis": {
         "title": {
          "text": "Hyperparameter Importance"
         }
        },
        "yaxis": {
         "title": {
          "text": "Hyperparameter"
         }
        }
       }
      }
     },
     "metadata": {},
     "output_type": "display_data"
    }
   ],
   "source": [
    "# Visualize the parameter importance\n",
    "optuna.visualization.plot_param_importances(study).show()"
   ]
  },
  {
   "cell_type": "code",
   "execution_count": 60,
   "id": "d59e3f7b-215b-4b5c-a1f4-7939f327b8aa",
   "metadata": {},
   "outputs": [
    {
     "data": {
      "text/plain": [
       "['C:/Users/mjkipsz2/OneDrive - The University of Manchester/Desktop/distillation_colum_yield/model/final_model.joblib']"
      ]
     },
     "execution_count": 60,
     "metadata": {},
     "output_type": "execute_result"
    }
   ],
   "source": [
    "joblib.dump(final_model, 'C:/Users/mjkipsz2/OneDrive - The University of Manchester/Desktop/distillation_colum_yield/model/final_model.joblib')"
   ]
  }
 ],
 "metadata": {
  "kernelspec": {
   "display_name": "Python (Poetry_dist_tower)",
   "language": "python",
   "name": "my_poetry_kernel"
  },
  "language_info": {
   "codemirror_mode": {
    "name": "ipython",
    "version": 3
   },
   "file_extension": ".py",
   "mimetype": "text/x-python",
   "name": "python",
   "nbconvert_exporter": "python",
   "pygments_lexer": "ipython3",
   "version": "3.10.14"
  }
 },
 "nbformat": 4,
 "nbformat_minor": 5
}
