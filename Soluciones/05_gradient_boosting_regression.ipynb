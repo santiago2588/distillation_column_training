{
  "cells": [
    {
      "cell_type": "markdown",
      "metadata": {
        "id": "view-in-github",
        "colab_type": "text"
      },
      "source": [
        "<a href=\"https://colab.research.google.com/github/santiago2588/distillation_column_training/blob/main/Soluciones/05_gradient_boosting_regression.ipynb\" target=\"_parent\"><img src=\"https://colab.research.google.com/assets/colab-badge.svg\" alt=\"Open In Colab\"/></a>"
      ]
    },
    {
      "cell_type": "code",
      "execution_count": 1,
      "id": "a0bbd9e9",
      "metadata": {
        "id": "a0bbd9e9"
      },
      "outputs": [],
      "source": [
        "# Data wrangling\n",
        "import pandas as pd\n",
        "import numpy as np"
      ]
    },
    {
      "cell_type": "code",
      "execution_count": 2,
      "id": "a6390121",
      "metadata": {
        "id": "a6390121"
      },
      "outputs": [],
      "source": [
        "# Data visualization\n",
        "import matplotlib.pyplot as plt\n",
        "import seaborn as sns\n",
        "import plotly.express as px\n",
        "from tqdm import tqdm"
      ]
    },
    {
      "cell_type": "code",
      "execution_count": 3,
      "id": "9b42e388",
      "metadata": {
        "id": "9b42e388"
      },
      "outputs": [],
      "source": [
        "# Models\n",
        "from sklearn.ensemble import GradientBoostingRegressor"
      ]
    },
    {
      "cell_type": "code",
      "execution_count": 4,
      "id": "9963d95c",
      "metadata": {
        "id": "9963d95c"
      },
      "outputs": [],
      "source": [
        "# Models Pipelines\n",
        "from sklearn.pipeline import Pipeline"
      ]
    },
    {
      "cell_type": "code",
      "source": [
        "# Install the optuna library\n",
        "!pip install optuna -q"
      ],
      "metadata": {
        "colab": {
          "base_uri": "https://localhost:8080/"
        },
        "id": "RJ97nTFhLng2",
        "outputId": "3a591fb5-119c-4a99-c177-4ebb798b6722"
      },
      "id": "RJ97nTFhLng2",
      "execution_count": 5,
      "outputs": [
        {
          "output_type": "stream",
          "name": "stdout",
          "text": [
            "\u001b[?25l   \u001b[90m━━━━━━━━━━━━━━━━━━━━━━━━━━━━━━━━━━━━━━━━\u001b[0m \u001b[32m0.0/395.9 kB\u001b[0m \u001b[31m?\u001b[0m eta \u001b[36m-:--:--\u001b[0m\r\u001b[2K   \u001b[91m━━━━━━━━━━━━━━━━━━━━━━━━━━━━━━━━━━━━━━━\u001b[0m\u001b[90m╺\u001b[0m \u001b[32m389.1/395.9 kB\u001b[0m \u001b[31m11.1 MB/s\u001b[0m eta \u001b[36m0:00:01\u001b[0m\r\u001b[2K   \u001b[90m━━━━━━━━━━━━━━━━━━━━━━━━━━━━━━━━━━━━━━━━\u001b[0m \u001b[32m395.9/395.9 kB\u001b[0m \u001b[31m7.9 MB/s\u001b[0m eta \u001b[36m0:00:00\u001b[0m\n",
            "\u001b[?25h\u001b[?25l   \u001b[90m━━━━━━━━━━━━━━━━━━━━━━━━━━━━━━━━━━━━━━━━\u001b[0m \u001b[32m0.0/242.7 kB\u001b[0m \u001b[31m?\u001b[0m eta \u001b[36m-:--:--\u001b[0m\r\u001b[2K   \u001b[90m━━━━━━━━━━━━━━━━━━━━━━━━━━━━━━━━━━━━━━━━\u001b[0m \u001b[32m242.7/242.7 kB\u001b[0m \u001b[31m16.7 MB/s\u001b[0m eta \u001b[36m0:00:00\u001b[0m\n",
            "\u001b[?25h"
          ]
        }
      ]
    },
    {
      "cell_type": "code",
      "execution_count": 6,
      "id": "5daecf1c",
      "metadata": {
        "id": "5daecf1c"
      },
      "outputs": [],
      "source": [
        "#Hyperparameter optimization\n",
        "import optuna"
      ]
    },
    {
      "cell_type": "code",
      "execution_count": 7,
      "id": "c5d5c5e5",
      "metadata": {
        "id": "c5d5c5e5"
      },
      "outputs": [],
      "source": [
        "# Model evaluation\n",
        "from sklearn.model_selection import train_test_split\n",
        "from sklearn.metrics import mean_squared_error, mean_absolute_error, r2_score"
      ]
    },
    {
      "cell_type": "code",
      "execution_count": 8,
      "id": "10e17ed6",
      "metadata": {
        "id": "10e17ed6"
      },
      "outputs": [],
      "source": [
        "# Save model\n",
        "import joblib"
      ]
    },
    {
      "cell_type": "code",
      "execution_count": 9,
      "id": "49fa3a41",
      "metadata": {
        "colab": {
          "base_uri": "https://localhost:8080/"
        },
        "id": "49fa3a41",
        "outputId": "f9ebcaf3-5373-49ef-ae36-24a9d17fc21b"
      },
      "outputs": [
        {
          "output_type": "stream",
          "name": "stdout",
          "text": [
            "--2025-07-08 09:53:11--  https://raw.githubusercontent.com/santiago2588/distillation_column_training/main/data/transformed_data.csv\n",
            "Resolving raw.githubusercontent.com (raw.githubusercontent.com)... 185.199.108.133, 185.199.109.133, 185.199.110.133, ...\n",
            "Connecting to raw.githubusercontent.com (raw.githubusercontent.com)|185.199.108.133|:443... connected.\n",
            "HTTP request sent, awaiting response... 200 OK\n",
            "Length: 12344 (12K) [text/plain]\n",
            "Saving to: ‘transformed_data.csv’\n",
            "\n",
            "transformed_data.cs 100%[===================>]  12.05K  --.-KB/s    in 0s      \n",
            "\n",
            "2025-07-08 09:53:12 (23.8 MB/s) - ‘transformed_data.csv’ saved [12344/12344]\n",
            "\n"
          ]
        }
      ],
      "source": [
        "!wget https://raw.githubusercontent.com/santiago2588/distillation_column_training/main/data/transformed_data.csv -O transformed_data.csv"
      ]
    },
    {
      "cell_type": "code",
      "source": [
        "import pandas as pd\n",
        "\n",
        "# Read the CSV file into a DataFrame\n",
        "df = pd.read_csv(\"transformed_data.csv\")\n",
        "\n",
        "# Display the first few rows to confirm it loaded correctly\n",
        "df.head()"
      ],
      "metadata": {
        "colab": {
          "base_uri": "https://localhost:8080/",
          "height": 206
        },
        "id": "5U-2XjAyL-Vd",
        "outputId": "de5eef3d-bcf9-4071-becf-16f7c18da013"
      },
      "id": "5U-2XjAyL-Vd",
      "execution_count": 10,
      "outputs": [
        {
          "output_type": "execute_result",
          "data": {
            "text/plain": [
              "   PressureC1_diff    FlowC1     Temp1      Yield\n",
              "0           0.0000  432.0636  139.9857  69.400623\n",
              "1          -9.9628  487.4029  131.0470  66.532666\n",
              "2          -0.0695  437.3516  118.2666  71.102193\n",
              "3           0.2257  481.8314  118.1769  69.793481\n",
              "4          -0.1678  412.6471  120.7891  71.489516"
            ],
            "text/html": [
              "\n",
              "  <div id=\"df-f44f7237-fe4c-469f-9c99-758a8c088810\" class=\"colab-df-container\">\n",
              "    <div>\n",
              "<style scoped>\n",
              "    .dataframe tbody tr th:only-of-type {\n",
              "        vertical-align: middle;\n",
              "    }\n",
              "\n",
              "    .dataframe tbody tr th {\n",
              "        vertical-align: top;\n",
              "    }\n",
              "\n",
              "    .dataframe thead th {\n",
              "        text-align: right;\n",
              "    }\n",
              "</style>\n",
              "<table border=\"1\" class=\"dataframe\">\n",
              "  <thead>\n",
              "    <tr style=\"text-align: right;\">\n",
              "      <th></th>\n",
              "      <th>PressureC1_diff</th>\n",
              "      <th>FlowC1</th>\n",
              "      <th>Temp1</th>\n",
              "      <th>Yield</th>\n",
              "    </tr>\n",
              "  </thead>\n",
              "  <tbody>\n",
              "    <tr>\n",
              "      <th>0</th>\n",
              "      <td>0.0000</td>\n",
              "      <td>432.0636</td>\n",
              "      <td>139.9857</td>\n",
              "      <td>69.400623</td>\n",
              "    </tr>\n",
              "    <tr>\n",
              "      <th>1</th>\n",
              "      <td>-9.9628</td>\n",
              "      <td>487.4029</td>\n",
              "      <td>131.0470</td>\n",
              "      <td>66.532666</td>\n",
              "    </tr>\n",
              "    <tr>\n",
              "      <th>2</th>\n",
              "      <td>-0.0695</td>\n",
              "      <td>437.3516</td>\n",
              "      <td>118.2666</td>\n",
              "      <td>71.102193</td>\n",
              "    </tr>\n",
              "    <tr>\n",
              "      <th>3</th>\n",
              "      <td>0.2257</td>\n",
              "      <td>481.8314</td>\n",
              "      <td>118.1769</td>\n",
              "      <td>69.793481</td>\n",
              "    </tr>\n",
              "    <tr>\n",
              "      <th>4</th>\n",
              "      <td>-0.1678</td>\n",
              "      <td>412.6471</td>\n",
              "      <td>120.7891</td>\n",
              "      <td>71.489516</td>\n",
              "    </tr>\n",
              "  </tbody>\n",
              "</table>\n",
              "</div>\n",
              "    <div class=\"colab-df-buttons\">\n",
              "\n",
              "  <div class=\"colab-df-container\">\n",
              "    <button class=\"colab-df-convert\" onclick=\"convertToInteractive('df-f44f7237-fe4c-469f-9c99-758a8c088810')\"\n",
              "            title=\"Convert this dataframe to an interactive table.\"\n",
              "            style=\"display:none;\">\n",
              "\n",
              "  <svg xmlns=\"http://www.w3.org/2000/svg\" height=\"24px\" viewBox=\"0 -960 960 960\">\n",
              "    <path d=\"M120-120v-720h720v720H120Zm60-500h600v-160H180v160Zm220 220h160v-160H400v160Zm0 220h160v-160H400v160ZM180-400h160v-160H180v160Zm440 0h160v-160H620v160ZM180-180h160v-160H180v160Zm440 0h160v-160H620v160Z\"/>\n",
              "  </svg>\n",
              "    </button>\n",
              "\n",
              "  <style>\n",
              "    .colab-df-container {\n",
              "      display:flex;\n",
              "      gap: 12px;\n",
              "    }\n",
              "\n",
              "    .colab-df-convert {\n",
              "      background-color: #E8F0FE;\n",
              "      border: none;\n",
              "      border-radius: 50%;\n",
              "      cursor: pointer;\n",
              "      display: none;\n",
              "      fill: #1967D2;\n",
              "      height: 32px;\n",
              "      padding: 0 0 0 0;\n",
              "      width: 32px;\n",
              "    }\n",
              "\n",
              "    .colab-df-convert:hover {\n",
              "      background-color: #E2EBFA;\n",
              "      box-shadow: 0px 1px 2px rgba(60, 64, 67, 0.3), 0px 1px 3px 1px rgba(60, 64, 67, 0.15);\n",
              "      fill: #174EA6;\n",
              "    }\n",
              "\n",
              "    .colab-df-buttons div {\n",
              "      margin-bottom: 4px;\n",
              "    }\n",
              "\n",
              "    [theme=dark] .colab-df-convert {\n",
              "      background-color: #3B4455;\n",
              "      fill: #D2E3FC;\n",
              "    }\n",
              "\n",
              "    [theme=dark] .colab-df-convert:hover {\n",
              "      background-color: #434B5C;\n",
              "      box-shadow: 0px 1px 3px 1px rgba(0, 0, 0, 0.15);\n",
              "      filter: drop-shadow(0px 1px 2px rgba(0, 0, 0, 0.3));\n",
              "      fill: #FFFFFF;\n",
              "    }\n",
              "  </style>\n",
              "\n",
              "    <script>\n",
              "      const buttonEl =\n",
              "        document.querySelector('#df-f44f7237-fe4c-469f-9c99-758a8c088810 button.colab-df-convert');\n",
              "      buttonEl.style.display =\n",
              "        google.colab.kernel.accessAllowed ? 'block' : 'none';\n",
              "\n",
              "      async function convertToInteractive(key) {\n",
              "        const element = document.querySelector('#df-f44f7237-fe4c-469f-9c99-758a8c088810');\n",
              "        const dataTable =\n",
              "          await google.colab.kernel.invokeFunction('convertToInteractive',\n",
              "                                                    [key], {});\n",
              "        if (!dataTable) return;\n",
              "\n",
              "        const docLinkHtml = 'Like what you see? Visit the ' +\n",
              "          '<a target=\"_blank\" href=https://colab.research.google.com/notebooks/data_table.ipynb>data table notebook</a>'\n",
              "          + ' to learn more about interactive tables.';\n",
              "        element.innerHTML = '';\n",
              "        dataTable['output_type'] = 'display_data';\n",
              "        await google.colab.output.renderOutput(dataTable, element);\n",
              "        const docLink = document.createElement('div');\n",
              "        docLink.innerHTML = docLinkHtml;\n",
              "        element.appendChild(docLink);\n",
              "      }\n",
              "    </script>\n",
              "  </div>\n",
              "\n",
              "\n",
              "    <div id=\"df-b8698520-f476-4bb3-9019-9cbcb1a034b0\">\n",
              "      <button class=\"colab-df-quickchart\" onclick=\"quickchart('df-b8698520-f476-4bb3-9019-9cbcb1a034b0')\"\n",
              "                title=\"Suggest charts\"\n",
              "                style=\"display:none;\">\n",
              "\n",
              "<svg xmlns=\"http://www.w3.org/2000/svg\" height=\"24px\"viewBox=\"0 0 24 24\"\n",
              "     width=\"24px\">\n",
              "    <g>\n",
              "        <path d=\"M19 3H5c-1.1 0-2 .9-2 2v14c0 1.1.9 2 2 2h14c1.1 0 2-.9 2-2V5c0-1.1-.9-2-2-2zM9 17H7v-7h2v7zm4 0h-2V7h2v10zm4 0h-2v-4h2v4z\"/>\n",
              "    </g>\n",
              "</svg>\n",
              "      </button>\n",
              "\n",
              "<style>\n",
              "  .colab-df-quickchart {\n",
              "      --bg-color: #E8F0FE;\n",
              "      --fill-color: #1967D2;\n",
              "      --hover-bg-color: #E2EBFA;\n",
              "      --hover-fill-color: #174EA6;\n",
              "      --disabled-fill-color: #AAA;\n",
              "      --disabled-bg-color: #DDD;\n",
              "  }\n",
              "\n",
              "  [theme=dark] .colab-df-quickchart {\n",
              "      --bg-color: #3B4455;\n",
              "      --fill-color: #D2E3FC;\n",
              "      --hover-bg-color: #434B5C;\n",
              "      --hover-fill-color: #FFFFFF;\n",
              "      --disabled-bg-color: #3B4455;\n",
              "      --disabled-fill-color: #666;\n",
              "  }\n",
              "\n",
              "  .colab-df-quickchart {\n",
              "    background-color: var(--bg-color);\n",
              "    border: none;\n",
              "    border-radius: 50%;\n",
              "    cursor: pointer;\n",
              "    display: none;\n",
              "    fill: var(--fill-color);\n",
              "    height: 32px;\n",
              "    padding: 0;\n",
              "    width: 32px;\n",
              "  }\n",
              "\n",
              "  .colab-df-quickchart:hover {\n",
              "    background-color: var(--hover-bg-color);\n",
              "    box-shadow: 0 1px 2px rgba(60, 64, 67, 0.3), 0 1px 3px 1px rgba(60, 64, 67, 0.15);\n",
              "    fill: var(--button-hover-fill-color);\n",
              "  }\n",
              "\n",
              "  .colab-df-quickchart-complete:disabled,\n",
              "  .colab-df-quickchart-complete:disabled:hover {\n",
              "    background-color: var(--disabled-bg-color);\n",
              "    fill: var(--disabled-fill-color);\n",
              "    box-shadow: none;\n",
              "  }\n",
              "\n",
              "  .colab-df-spinner {\n",
              "    border: 2px solid var(--fill-color);\n",
              "    border-color: transparent;\n",
              "    border-bottom-color: var(--fill-color);\n",
              "    animation:\n",
              "      spin 1s steps(1) infinite;\n",
              "  }\n",
              "\n",
              "  @keyframes spin {\n",
              "    0% {\n",
              "      border-color: transparent;\n",
              "      border-bottom-color: var(--fill-color);\n",
              "      border-left-color: var(--fill-color);\n",
              "    }\n",
              "    20% {\n",
              "      border-color: transparent;\n",
              "      border-left-color: var(--fill-color);\n",
              "      border-top-color: var(--fill-color);\n",
              "    }\n",
              "    30% {\n",
              "      border-color: transparent;\n",
              "      border-left-color: var(--fill-color);\n",
              "      border-top-color: var(--fill-color);\n",
              "      border-right-color: var(--fill-color);\n",
              "    }\n",
              "    40% {\n",
              "      border-color: transparent;\n",
              "      border-right-color: var(--fill-color);\n",
              "      border-top-color: var(--fill-color);\n",
              "    }\n",
              "    60% {\n",
              "      border-color: transparent;\n",
              "      border-right-color: var(--fill-color);\n",
              "    }\n",
              "    80% {\n",
              "      border-color: transparent;\n",
              "      border-right-color: var(--fill-color);\n",
              "      border-bottom-color: var(--fill-color);\n",
              "    }\n",
              "    90% {\n",
              "      border-color: transparent;\n",
              "      border-bottom-color: var(--fill-color);\n",
              "    }\n",
              "  }\n",
              "</style>\n",
              "\n",
              "      <script>\n",
              "        async function quickchart(key) {\n",
              "          const quickchartButtonEl =\n",
              "            document.querySelector('#' + key + ' button');\n",
              "          quickchartButtonEl.disabled = true;  // To prevent multiple clicks.\n",
              "          quickchartButtonEl.classList.add('colab-df-spinner');\n",
              "          try {\n",
              "            const charts = await google.colab.kernel.invokeFunction(\n",
              "                'suggestCharts', [key], {});\n",
              "          } catch (error) {\n",
              "            console.error('Error during call to suggestCharts:', error);\n",
              "          }\n",
              "          quickchartButtonEl.classList.remove('colab-df-spinner');\n",
              "          quickchartButtonEl.classList.add('colab-df-quickchart-complete');\n",
              "        }\n",
              "        (() => {\n",
              "          let quickchartButtonEl =\n",
              "            document.querySelector('#df-b8698520-f476-4bb3-9019-9cbcb1a034b0 button');\n",
              "          quickchartButtonEl.style.display =\n",
              "            google.colab.kernel.accessAllowed ? 'block' : 'none';\n",
              "        })();\n",
              "      </script>\n",
              "    </div>\n",
              "\n",
              "    </div>\n",
              "  </div>\n"
            ],
            "application/vnd.google.colaboratory.intrinsic+json": {
              "type": "dataframe",
              "variable_name": "df",
              "summary": "{\n  \"name\": \"df\",\n  \"rows\": 253,\n  \"fields\": [\n    {\n      \"column\": \"PressureC1_diff\",\n      \"properties\": {\n        \"dtype\": \"number\",\n        \"std\": 5.363855071106938,\n        \"min\": -29.8827,\n        \"max\": 38.14160000000001,\n        \"num_unique_values\": 230,\n        \"samples\": [\n          1.5603000000000122,\n          0.2546000000000106,\n          0.034700000000015\n        ],\n        \"semantic_type\": \"\",\n        \"description\": \"\"\n      }\n    },\n    {\n      \"column\": \"FlowC1\",\n      \"properties\": {\n        \"dtype\": \"number\",\n        \"std\": 83.15947312147954,\n        \"min\": 181.798024,\n        \"max\": 493.493212,\n        \"num_unique_values\": 249,\n        \"samples\": [\n          411.9007,\n          493.493212,\n          216.8331\n        ],\n        \"semantic_type\": \"\",\n        \"description\": \"\"\n      }\n    },\n    {\n      \"column\": \"Temp1\",\n      \"properties\": {\n        \"dtype\": \"number\",\n        \"std\": 11.921749338605228,\n        \"min\": 113.9631,\n        \"max\": 164.12032,\n        \"num_unique_values\": 246,\n        \"samples\": [\n          135.0188,\n          120.8903,\n          134.0731\n        ],\n        \"semantic_type\": \"\",\n        \"description\": \"\"\n      }\n    },\n    {\n      \"column\": \"Yield\",\n      \"properties\": {\n        \"dtype\": \"number\",\n        \"std\": 1.3458767417516304,\n        \"min\": 65.20380122,\n        \"max\": 73.47196291,\n        \"num_unique_values\": 253,\n        \"samples\": [\n          69.47875431,\n          69.16105249,\n          68.97093693\n        ],\n        \"semantic_type\": \"\",\n        \"description\": \"\"\n      }\n    }\n  ]\n}"
            }
          },
          "metadata": {},
          "execution_count": 10
        }
      ]
    },
    {
      "cell_type": "code",
      "execution_count": 11,
      "id": "8ef7e435",
      "metadata": {
        "id": "8ef7e435"
      },
      "outputs": [],
      "source": [
        "# Define features (X) and target variable (y)\n",
        "X = df.drop('Yield', axis=1)  # Features (all columns except 'Job Offer')\n",
        "y = df['Yield']  # Target variable"
      ]
    },
    {
      "cell_type": "code",
      "execution_count": 12,
      "id": "70582ae6",
      "metadata": {
        "colab": {
          "base_uri": "https://localhost:8080/"
        },
        "id": "70582ae6",
        "outputId": "9dfa559c-7da5-4e9d-f8de-209e42193cc0"
      },
      "outputs": [
        {
          "output_type": "stream",
          "name": "stdout",
          "text": [
            "Training data shape: (202, 3)\n",
            "Testing data shape: (51, 3)\n"
          ]
        }
      ],
      "source": [
        "from sklearn.model_selection import train_test_split\n",
        "# Split the data into training and testing sets\n",
        "X_train, X_test, y_train, y_test = train_test_split(X, y, test_size=0.2, random_state=42)\n",
        "# Check the shape of the data\n",
        "print(f\"Training data shape: {X_train.shape}\")\n",
        "print(f\"Testing data shape: {X_test.shape}\")"
      ]
    },
    {
      "cell_type": "code",
      "execution_count": 13,
      "id": "eea16c3d",
      "metadata": {
        "id": "eea16c3d"
      },
      "outputs": [],
      "source": [
        "def get_metrics(y_true, y_pred):\n",
        "\n",
        "    dict_metrics = {\n",
        "        'MSE': mean_squared_error(y_true, y_pred),\n",
        "        'MAE': mean_absolute_error(y_true, y_pred),\n",
        "        'R2 Score': r2_score(y_true, y_pred),\n",
        "\n",
        "    }\n",
        "    return dict_metrics"
      ]
    },
    {
      "cell_type": "code",
      "execution_count": 14,
      "id": "ed8e4a65",
      "metadata": {
        "colab": {
          "base_uri": "https://localhost:8080/"
        },
        "id": "ed8e4a65",
        "outputId": "4dc4bbec-6924-45a4-eb43-06dc8e555aa5"
      },
      "outputs": [
        {
          "output_type": "execute_result",
          "data": {
            "text/plain": [
              "{'MSE': 0.5607937224219373,\n",
              " 'MAE': 0.554537030979557,\n",
              " 'R2 Score': 0.7250647125960571}"
            ]
          },
          "metadata": {},
          "execution_count": 14
        }
      ],
      "source": [
        "# Creating pipeline with Boosted Trees\n",
        "pip_model_bt = Pipeline(steps=[\n",
        "    ('model', GradientBoostingRegressor(random_state=2023))\n",
        "])\n",
        "\n",
        "# Fit pipeline\n",
        "pip_model_bt.fit(X_train, y_train)\n",
        "\n",
        "# Generate Predictions using the correctly fitted pipeline\n",
        "y_pred = pip_model_bt.predict(X_test)\n",
        "\n",
        "# Evaluate Metrics\n",
        "metrics = get_metrics(y_test, y_pred)\n",
        "\n",
        "# View Results\n",
        "metrics"
      ]
    },
    {
      "cell_type": "code",
      "execution_count": 15,
      "id": "c2ab6fe4",
      "metadata": {
        "colab": {
          "base_uri": "https://localhost:8080/"
        },
        "collapsed": true,
        "id": "c2ab6fe4",
        "outputId": "fa9ad7c7-e24b-45b7-db86-ced2e3574380"
      },
      "outputs": [
        {
          "output_type": "stream",
          "name": "stderr",
          "text": [
            "[I 2025-07-08 09:53:12,397] A new study created in memory with name: no-name-e0c564e6-5532-46a3-b3ed-0560aa98934c\n",
            "[I 2025-07-08 09:53:12,991] Trial 0 finished with value: 0.9134233654804388 and parameters: {'n_estimators': 482, 'max_depth': 10, 'learning_rate': 0.014428826557538797, 'subsample': 0.6010842781329189, 'min_samples_split': 13, 'min_samples_leaf': 19}. Best is trial 0 with value: 0.9134233654804388.\n",
            "[I 2025-07-08 09:53:13,355] Trial 1 finished with value: 0.7583538002365545 and parameters: {'n_estimators': 238, 'max_depth': 4, 'learning_rate': 0.28611574135821044, 'subsample': 0.7712835451497674, 'min_samples_split': 16, 'min_samples_leaf': 19}. Best is trial 1 with value: 0.7583538002365545.\n",
            "[I 2025-07-08 09:53:13,446] Trial 2 finished with value: 1.3030153927289205 and parameters: {'n_estimators': 55, 'max_depth': 8, 'learning_rate': 0.031547101652186084, 'subsample': 0.6390416423348124, 'min_samples_split': 18, 'min_samples_leaf': 20}. Best is trial 1 with value: 0.7583538002365545.\n",
            "[I 2025-07-08 09:53:13,847] Trial 3 finished with value: 0.5392615444806821 and parameters: {'n_estimators': 235, 'max_depth': 9, 'learning_rate': 0.09342041717227777, 'subsample': 0.8000927616572455, 'min_samples_split': 20, 'min_samples_leaf': 8}. Best is trial 3 with value: 0.5392615444806821.\n",
            "[I 2025-07-08 09:53:14,790] Trial 4 finished with value: 0.49910788543546863 and parameters: {'n_estimators': 288, 'max_depth': 9, 'learning_rate': 0.10055058242507099, 'subsample': 0.6590002433032308, 'min_samples_split': 4, 'min_samples_leaf': 7}. Best is trial 4 with value: 0.49910788543546863.\n",
            "[I 2025-07-08 09:53:15,179] Trial 5 finished with value: 0.7319954827213113 and parameters: {'n_estimators': 88, 'max_depth': 2, 'learning_rate': 0.19389351265467633, 'subsample': 0.7571342522360986, 'min_samples_split': 3, 'min_samples_leaf': 12}. Best is trial 4 with value: 0.49910788543546863.\n",
            "[I 2025-07-08 09:53:16,945] Trial 6 finished with value: 0.7017779268532821 and parameters: {'n_estimators': 446, 'max_depth': 5, 'learning_rate': 0.20347132221823852, 'subsample': 0.6739921652251918, 'min_samples_split': 12, 'min_samples_leaf': 10}. Best is trial 4 with value: 0.49910788543546863.\n",
            "[I 2025-07-08 09:53:17,852] Trial 7 finished with value: 0.38348866534939535 and parameters: {'n_estimators': 290, 'max_depth': 8, 'learning_rate': 0.06186087634647104, 'subsample': 0.7501556056842713, 'min_samples_split': 18, 'min_samples_leaf': 3}. Best is trial 7 with value: 0.38348866534939535.\n",
            "[I 2025-07-08 09:53:18,116] Trial 8 finished with value: 1.247222274774725 and parameters: {'n_estimators': 149, 'max_depth': 2, 'learning_rate': 0.021942450408077057, 'subsample': 0.503639793678768, 'min_samples_split': 15, 'min_samples_leaf': 19}. Best is trial 7 with value: 0.38348866534939535.\n",
            "[I 2025-07-08 09:53:18,841] Trial 9 finished with value: 0.6375990193310437 and parameters: {'n_estimators': 247, 'max_depth': 10, 'learning_rate': 0.20001305207084616, 'subsample': 0.869888443076581, 'min_samples_split': 12, 'min_samples_leaf': 12}. Best is trial 7 with value: 0.38348866534939535.\n",
            "[I 2025-07-08 09:53:19,917] Trial 10 finished with value: 0.5148837252001413 and parameters: {'n_estimators': 368, 'max_depth': 7, 'learning_rate': 0.04845070055611334, 'subsample': 0.9791656302781614, 'min_samples_split': 8, 'min_samples_leaf': 1}. Best is trial 7 with value: 0.38348866534939535.\n",
            "[I 2025-07-08 09:53:20,895] Trial 11 finished with value: 0.42416240722836923 and parameters: {'n_estimators': 337, 'max_depth': 7, 'learning_rate': 0.08551895566854792, 'subsample': 0.6695441703559086, 'min_samples_split': 7, 'min_samples_leaf': 3}. Best is trial 7 with value: 0.38348866534939535.\n",
            "[I 2025-07-08 09:53:21,634] Trial 12 finished with value: 0.47466242001784825 and parameters: {'n_estimators': 358, 'max_depth': 6, 'learning_rate': 0.07228785331533784, 'subsample': 0.8797586595649283, 'min_samples_split': 8, 'min_samples_leaf': 1}. Best is trial 7 with value: 0.38348866534939535.\n",
            "[I 2025-07-08 09:53:22,289] Trial 13 finished with value: 0.39237064015385076 and parameters: {'n_estimators': 342, 'max_depth': 7, 'learning_rate': 0.050312709594907634, 'subsample': 0.5380333248161174, 'min_samples_split': 8, 'min_samples_leaf': 4}. Best is trial 7 with value: 0.38348866534939535.\n",
            "[I 2025-07-08 09:53:23,051] Trial 14 finished with value: 0.42206957759585495 and parameters: {'n_estimators': 408, 'max_depth': 7, 'learning_rate': 0.040966283293254975, 'subsample': 0.5298252400347789, 'min_samples_split': 6, 'min_samples_leaf': 5}. Best is trial 7 with value: 0.38348866534939535.\n",
            "[I 2025-07-08 09:53:23,489] Trial 15 finished with value: 0.5286041860688945 and parameters: {'n_estimators': 181, 'max_depth': 4, 'learning_rate': 0.025978975636274017, 'subsample': 0.5750305242195344, 'min_samples_split': 9, 'min_samples_leaf': 5}. Best is trial 7 with value: 0.38348866534939535.\n",
            "[I 2025-07-08 09:53:24,755] Trial 16 finished with value: 0.38220123004885737 and parameters: {'n_estimators': 297, 'max_depth': 8, 'learning_rate': 0.0602877284947283, 'subsample': 0.7094718561701718, 'min_samples_split': 15, 'min_samples_leaf': 4}. Best is trial 16 with value: 0.38220123004885737.\n",
            "[I 2025-07-08 09:53:25,374] Trial 17 finished with value: 0.7610294102943527 and parameters: {'n_estimators': 290, 'max_depth': 9, 'learning_rate': 0.12437542441196961, 'subsample': 0.7177727690955013, 'min_samples_split': 20, 'min_samples_leaf': 16}. Best is trial 16 with value: 0.38220123004885737.\n",
            "[I 2025-07-08 09:53:25,794] Trial 18 finished with value: 0.6820100836786815 and parameters: {'n_estimators': 206, 'max_depth': 8, 'learning_rate': 0.010148225963961435, 'subsample': 0.8345556498823868, 'min_samples_split': 16, 'min_samples_leaf': 7}. Best is trial 16 with value: 0.38220123004885737.\n",
            "[I 2025-07-08 09:53:26,720] Trial 19 finished with value: 0.387145434375866 and parameters: {'n_estimators': 298, 'max_depth': 8, 'learning_rate': 0.06873004003312773, 'subsample': 0.7263600262504825, 'min_samples_split': 14, 'min_samples_leaf': 3}. Best is trial 16 with value: 0.38220123004885737.\n",
            "[I 2025-07-08 09:53:28,523] Trial 20 finished with value: 0.6550699033999927 and parameters: {'n_estimators': 413, 'max_depth': 6, 'learning_rate': 0.12206678165804163, 'subsample': 0.9290314121753529, 'min_samples_split': 18, 'min_samples_leaf': 14}. Best is trial 16 with value: 0.38220123004885737.\n",
            "[I 2025-07-08 09:53:30,478] Trial 21 finished with value: 0.40456291069964584 and parameters: {'n_estimators': 304, 'max_depth': 8, 'learning_rate': 0.06720952818638992, 'subsample': 0.7070846780005591, 'min_samples_split': 14, 'min_samples_leaf': 3}. Best is trial 16 with value: 0.38220123004885737.\n",
            "[I 2025-07-08 09:53:31,288] Trial 22 finished with value: 0.46154474901401593 and parameters: {'n_estimators': 321, 'max_depth': 8, 'learning_rate': 0.03889787806839413, 'subsample': 0.7298161077041757, 'min_samples_split': 18, 'min_samples_leaf': 2}. Best is trial 16 with value: 0.38220123004885737.\n",
            "[I 2025-07-08 09:53:32,122] Trial 23 finished with value: 0.41205695205316006 and parameters: {'n_estimators': 258, 'max_depth': 9, 'learning_rate': 0.05563477082723275, 'subsample': 0.7972102394473215, 'min_samples_split': 10, 'min_samples_leaf': 6}. Best is trial 16 with value: 0.38220123004885737.\n",
            "[I 2025-07-08 09:53:33,110] Trial 24 finished with value: 0.601740429472982 and parameters: {'n_estimators': 381, 'max_depth': 6, 'learning_rate': 0.06879309143695068, 'subsample': 0.6156420306503125, 'min_samples_split': 16, 'min_samples_leaf': 9}. Best is trial 16 with value: 0.38220123004885737.\n",
            "[I 2025-07-08 09:53:33,581] Trial 25 finished with value: 0.4286697808419003 and parameters: {'n_estimators': 157, 'max_depth': 10, 'learning_rate': 0.029704682071987613, 'subsample': 0.6998847012462677, 'min_samples_split': 14, 'min_samples_leaf': 4}. Best is trial 16 with value: 0.38220123004885737.\n",
            "[I 2025-07-08 09:53:33,927] Trial 26 finished with value: 0.4850152436562116 and parameters: {'n_estimators': 210, 'max_depth': 8, 'learning_rate': 0.13647853996365716, 'subsample': 0.7716459023240002, 'min_samples_split': 17, 'min_samples_leaf': 2}. Best is trial 16 with value: 0.38220123004885737.\n",
            "[I 2025-07-08 09:53:34,245] Trial 27 finished with value: 0.4921165177303357 and parameters: {'n_estimators': 275, 'max_depth': 5, 'learning_rate': 0.018763487607354575, 'subsample': 0.8329054083736015, 'min_samples_split': 11, 'min_samples_leaf': 5}. Best is trial 16 with value: 0.38220123004885737.\n",
            "[I 2025-07-08 09:53:34,655] Trial 28 finished with value: 0.3930595792114168 and parameters: {'n_estimators': 323, 'max_depth': 9, 'learning_rate': 0.039668219545579204, 'subsample': 0.7356317936704639, 'min_samples_split': 14, 'min_samples_leaf': 3}. Best is trial 16 with value: 0.38220123004885737.\n",
            "[I 2025-07-08 09:53:35,150] Trial 29 finished with value: 0.5148681444361075 and parameters: {'n_estimators': 455, 'max_depth': 10, 'learning_rate': 0.05786754525145765, 'subsample': 0.6134987239559723, 'min_samples_split': 13, 'min_samples_leaf': 7}. Best is trial 16 with value: 0.38220123004885737.\n",
            "[I 2025-07-08 09:53:35,722] Trial 30 finished with value: 0.5302687263360708 and parameters: {'n_estimators': 485, 'max_depth': 7, 'learning_rate': 0.08230245199978836, 'subsample': 0.8255963286659895, 'min_samples_split': 19, 'min_samples_leaf': 1}. Best is trial 16 with value: 0.38220123004885737.\n",
            "[I 2025-07-08 09:53:36,114] Trial 31 finished with value: 0.4048030866504304 and parameters: {'n_estimators': 345, 'max_depth': 7, 'learning_rate': 0.04840107826057081, 'subsample': 0.5513724348456743, 'min_samples_split': 5, 'min_samples_leaf': 4}. Best is trial 16 with value: 0.38220123004885737.\n",
            "[I 2025-07-08 09:53:36,533] Trial 32 finished with value: 0.40465721721728437 and parameters: {'n_estimators': 394, 'max_depth': 8, 'learning_rate': 0.060793528642032496, 'subsample': 0.5924569340872174, 'min_samples_split': 15, 'min_samples_leaf': 4}. Best is trial 16 with value: 0.38220123004885737.\n",
            "[I 2025-07-08 09:53:36,862] Trial 33 finished with value: 0.45115472994886774 and parameters: {'n_estimators': 265, 'max_depth': 6, 'learning_rate': 0.04797953702133354, 'subsample': 0.7817351314583826, 'min_samples_split': 11, 'min_samples_leaf': 6}. Best is trial 16 with value: 0.38220123004885737.\n",
            "[I 2025-07-08 09:53:37,236] Trial 34 finished with value: 0.4034356690498737 and parameters: {'n_estimators': 314, 'max_depth': 7, 'learning_rate': 0.11191837266757867, 'subsample': 0.63969543237696, 'min_samples_split': 17, 'min_samples_leaf': 2}. Best is trial 16 with value: 0.38220123004885737.\n",
            "[I 2025-07-08 09:53:37,490] Trial 35 finished with value: 0.6621917712026549 and parameters: {'n_estimators': 218, 'max_depth': 8, 'learning_rate': 0.14985040094832466, 'subsample': 0.6818631039377874, 'min_samples_split': 13, 'min_samples_leaf': 8}. Best is trial 16 with value: 0.38220123004885737.\n",
            "[I 2025-07-08 09:53:37,817] Trial 36 finished with value: 0.47945464092633877 and parameters: {'n_estimators': 289, 'max_depth': 5, 'learning_rate': 0.031660418467167245, 'subsample': 0.7514690686641784, 'min_samples_split': 16, 'min_samples_leaf': 6}. Best is trial 16 with value: 0.38220123004885737.\n",
            "[I 2025-07-08 09:53:38,256] Trial 37 finished with value: 0.45760573794401027 and parameters: {'n_estimators': 343, 'max_depth': 9, 'learning_rate': 0.0780523486370155, 'subsample': 0.700994732694643, 'min_samples_split': 2, 'min_samples_leaf': 3}. Best is trial 16 with value: 0.38220123004885737.\n",
            "[I 2025-07-08 09:53:38,775] Trial 38 finished with value: 0.49749401738630256 and parameters: {'n_estimators': 440, 'max_depth': 8, 'learning_rate': 0.09897989660846802, 'subsample': 0.8785347791975959, 'min_samples_split': 10, 'min_samples_leaf': 9}. Best is trial 16 with value: 0.38220123004885737.\n",
            "[I 2025-07-08 09:53:39,045] Trial 39 finished with value: 0.5241159178629523 and parameters: {'n_estimators': 249, 'max_depth': 3, 'learning_rate': 0.1617582475539184, 'subsample': 0.6444031889080224, 'min_samples_split': 19, 'min_samples_leaf': 4}. Best is trial 16 with value: 0.38220123004885737.\n",
            "[I 2025-07-08 09:53:39,207] Trial 40 finished with value: 0.6729425404970385 and parameters: {'n_estimators': 115, 'max_depth': 9, 'learning_rate': 0.29040867452406566, 'subsample': 0.7522732766877511, 'min_samples_split': 12, 'min_samples_leaf': 11}. Best is trial 16 with value: 0.38220123004885737.\n",
            "[I 2025-07-08 09:53:39,603] Trial 41 finished with value: 0.417891906515696 and parameters: {'n_estimators': 325, 'max_depth': 9, 'learning_rate': 0.03702773050714644, 'subsample': 0.7256861668200102, 'min_samples_split': 14, 'min_samples_leaf': 3}. Best is trial 16 with value: 0.38220123004885737.\n",
            "[I 2025-07-08 09:53:40,010] Trial 42 finished with value: 0.42359289206043804 and parameters: {'n_estimators': 305, 'max_depth': 9, 'learning_rate': 0.04408240549625244, 'subsample': 0.802232577599974, 'min_samples_split': 14, 'min_samples_leaf': 2}. Best is trial 16 with value: 0.38220123004885737.\n",
            "[I 2025-07-08 09:53:40,466] Trial 43 finished with value: 0.44695569831793763 and parameters: {'n_estimators': 362, 'max_depth': 10, 'learning_rate': 0.034889865460188484, 'subsample': 0.7405954652400191, 'min_samples_split': 15, 'min_samples_leaf': 1}. Best is trial 16 with value: 0.38220123004885737.\n",
            "[I 2025-07-08 09:53:40,895] Trial 44 finished with value: 0.4516096814354448 and parameters: {'n_estimators': 278, 'max_depth': 7, 'learning_rate': 0.061967238104216504, 'subsample': 0.5007246032087173, 'min_samples_split': 17, 'min_samples_leaf': 5}. Best is trial 16 with value: 0.38220123004885737.\n",
            "[I 2025-07-08 09:53:41,308] Trial 45 finished with value: 0.41325793992179544 and parameters: {'n_estimators': 238, 'max_depth': 8, 'learning_rate': 0.05468297063368437, 'subsample': 0.6857491550219961, 'min_samples_split': 12, 'min_samples_leaf': 3}. Best is trial 16 with value: 0.38220123004885737.\n",
            "[I 2025-07-08 09:53:41,778] Trial 46 finished with value: 0.7419141601891218 and parameters: {'n_estimators': 331, 'max_depth': 7, 'learning_rate': 0.02707992364161611, 'subsample': 0.7761074542028796, 'min_samples_split': 13, 'min_samples_leaf': 17}. Best is trial 16 with value: 0.38220123004885737.\n",
            "[I 2025-07-08 09:53:42,258] Trial 47 finished with value: 0.43788683200722417 and parameters: {'n_estimators': 297, 'max_depth': 8, 'learning_rate': 0.02326954619346325, 'subsample': 0.6605963172726749, 'min_samples_split': 7, 'min_samples_leaf': 5}. Best is trial 16 with value: 0.38220123004885737.\n",
            "[I 2025-07-08 09:53:42,968] Trial 48 finished with value: 0.42310197396272853 and parameters: {'n_estimators': 374, 'max_depth': 9, 'learning_rate': 0.08979011593934755, 'subsample': 0.9122515738089958, 'min_samples_split': 15, 'min_samples_leaf': 7}. Best is trial 16 with value: 0.38220123004885737.\n",
            "[I 2025-07-08 09:53:43,431] Trial 49 finished with value: 0.4056218629252785 and parameters: {'n_estimators': 353, 'max_depth': 10, 'learning_rate': 0.05199561789330866, 'subsample': 0.532962553894359, 'min_samples_split': 9, 'min_samples_leaf': 4}. Best is trial 16 with value: 0.38220123004885737.\n"
          ]
        },
        {
          "output_type": "stream",
          "name": "stdout",
          "text": [
            "Best hyperparameters: {'n_estimators': 297, 'max_depth': 8, 'learning_rate': 0.0602877284947283, 'subsample': 0.7094718561701718, 'min_samples_split': 15, 'min_samples_leaf': 4}\n"
          ]
        }
      ],
      "source": [
        "#Optimize hyperparameters with Optuna\n",
        "\n",
        "# Define the objective function\n",
        "def objective(trial):\n",
        "    # Suggest hyperparameters to tune\n",
        "    n_estimators = trial.suggest_int(\"n_estimators\", 50, 500)\n",
        "    max_depth = trial.suggest_int(\"max_depth\", 2, 10)\n",
        "    learning_rate = trial.suggest_float(\"learning_rate\", 0.01, 0.3, log=True)\n",
        "    subsample = trial.suggest_float(\"subsample\", 0.5, 1.0)\n",
        "    min_samples_split = trial.suggest_int(\"min_samples_split\", 2, 20)\n",
        "    min_samples_leaf = trial.suggest_int(\"min_samples_leaf\", 1, 20)\n",
        "\n",
        "    # Create the pipeline with the suggested hyperparameters\n",
        "    pip_model_bt = Pipeline(steps=[\n",
        "        ('model', GradientBoostingRegressor(\n",
        "            n_estimators=n_estimators,\n",
        "            max_depth=max_depth,\n",
        "            learning_rate=learning_rate,\n",
        "            subsample=subsample,\n",
        "            min_samples_split=min_samples_split,\n",
        "            min_samples_leaf=min_samples_leaf,\n",
        "            random_state=2023\n",
        "        ))\n",
        "    ])\n",
        "\n",
        "    # Fit the pipeline\n",
        "    pip_model_bt.fit(X_train, y_train)\n",
        "\n",
        "    # Predict on the test set\n",
        "    y_pred = pip_model_bt.predict(X_test)\n",
        "\n",
        "    # Calculate the evaluation metric (MSE in this case)\n",
        "    mse = mean_squared_error(y_test, y_pred)\n",
        "    return mse  # Optuna minimizes the objective function by default\n",
        "\n",
        "# Create a study object\n",
        "study = optuna.create_study(direction=\"minimize\")  # We want to minimize MSE\n",
        "\n",
        "# Optimize the study\n",
        "study.optimize(objective, n_trials=50)  # Run 50 trials (you can increase this for better results)\n",
        "\n",
        "# Print the best hyperparameters\n",
        "best_params = study.best_params\n",
        "print(\"Best hyperparameters:\", study.best_params)"
      ]
    },
    {
      "cell_type": "code",
      "execution_count": 16,
      "id": "9d68deec",
      "metadata": {
        "colab": {
          "base_uri": "https://localhost:8080/"
        },
        "id": "9d68deec",
        "outputId": "e447cd20-49c5-4b5a-b68a-651325783ca6"
      },
      "outputs": [
        {
          "output_type": "stream",
          "name": "stdout",
          "text": [
            "Model Metrics:\n",
            "MSE: 0.38220123004885737\n",
            "MAE: 0.47073863068817584\n",
            "R2 Score: 0.812621645306933\n",
            "\n",
            "Best Hyperparameters:\n",
            "n_estimators: 297\n",
            "max_depth: 8\n",
            "learning_rate: 0.0602877284947283\n",
            "subsample: 0.7094718561701718\n",
            "min_samples_split: 15\n",
            "min_samples_leaf: 4\n"
          ]
        }
      ],
      "source": [
        "# Train the final model\n",
        "final_model = GradientBoostingRegressor(\n",
        "    n_estimators=best_params[\"n_estimators\"],\n",
        "    max_depth=best_params[\"max_depth\"],\n",
        "    learning_rate=best_params[\"learning_rate\"],\n",
        "    subsample=best_params[\"subsample\"],\n",
        "    min_samples_split=best_params[\"min_samples_split\"],\n",
        "    min_samples_leaf=best_params[\"min_samples_leaf\"],\n",
        "    random_state=2023\n",
        ")\n",
        "\n",
        "# Fit the final model\n",
        "final_model.fit(X_train, y_train)\n",
        "\n",
        "# Log metrics\n",
        "y_pred = final_model.predict(X_test)\n",
        "metrics = get_metrics(y_test, y_pred)\n",
        "\n",
        "# Print metrics\n",
        "print(\"Model Metrics:\")\n",
        "for metric_name, metric_value in metrics.items():\n",
        "    print(f\"{metric_name}: {metric_value}\")\n",
        "\n",
        "# Print best parameters\n",
        "print(\"\\nBest Hyperparameters:\")\n",
        "for param_name, param_value in best_params.items():\n",
        "    print(f\"{param_name}: {param_value}\")"
      ]
    },
    {
      "cell_type": "code",
      "execution_count": 17,
      "id": "2d7c9c95",
      "metadata": {
        "colab": {
          "base_uri": "https://localhost:8080/",
          "height": 542
        },
        "id": "2d7c9c95",
        "outputId": "8901efe6-8e81-45be-fc53-d711eb8e5a59"
      },
      "outputs": [
        {
          "output_type": "display_data",
          "data": {
            "text/html": [
              "<html>\n",
              "<head><meta charset=\"utf-8\" /></head>\n",
              "<body>\n",
              "    <div>            <script src=\"https://cdnjs.cloudflare.com/ajax/libs/mathjax/2.7.5/MathJax.js?config=TeX-AMS-MML_SVG\"></script><script type=\"text/javascript\">if (window.MathJax && window.MathJax.Hub && window.MathJax.Hub.Config) {window.MathJax.Hub.Config({SVG: {font: \"STIX-Web\"}});}</script>                <script type=\"text/javascript\">window.PlotlyConfig = {MathJaxConfig: 'local'};</script>\n",
              "        <script charset=\"utf-8\" src=\"https://cdn.plot.ly/plotly-2.35.2.min.js\"></script>                <div id=\"32f2b61a-4787-4b02-bb09-37aa417474ec\" class=\"plotly-graph-div\" style=\"height:525px; width:100%;\"></div>            <script type=\"text/javascript\">                                    window.PLOTLYENV=window.PLOTLYENV || {};                                    if (document.getElementById(\"32f2b61a-4787-4b02-bb09-37aa417474ec\")) {                    Plotly.newPlot(                        \"32f2b61a-4787-4b02-bb09-37aa417474ec\",                        [{\"mode\":\"markers\",\"name\":\"Objective Value\",\"x\":[0,1,2,3,4,5,6,7,8,9,10,11,12,13,14,15,16,17,18,19,20,21,22,23,24,25,26,27,28,29,30,31,32,33,34,35,36,37,38,39,40,41,42,43,44,45,46,47,48,49],\"y\":[0.9134233654804388,0.7583538002365545,1.3030153927289205,0.5392615444806821,0.49910788543546863,0.7319954827213113,0.7017779268532821,0.38348866534939535,1.247222274774725,0.6375990193310437,0.5148837252001413,0.42416240722836923,0.47466242001784825,0.39237064015385076,0.42206957759585495,0.5286041860688945,0.38220123004885737,0.7610294102943527,0.6820100836786815,0.387145434375866,0.6550699033999927,0.40456291069964584,0.46154474901401593,0.41205695205316006,0.601740429472982,0.4286697808419003,0.4850152436562116,0.4921165177303357,0.3930595792114168,0.5148681444361075,0.5302687263360708,0.4048030866504304,0.40465721721728437,0.45115472994886774,0.4034356690498737,0.6621917712026549,0.47945464092633877,0.45760573794401027,0.49749401738630256,0.5241159178629523,0.6729425404970385,0.417891906515696,0.42359289206043804,0.44695569831793763,0.4516096814354448,0.41325793992179544,0.7419141601891218,0.43788683200722417,0.42310197396272853,0.4056218629252785],\"type\":\"scatter\"},{\"mode\":\"lines\",\"name\":\"Best Value\",\"x\":[0,1,2,3,4,5,6,7,8,9,10,11,12,13,14,15,16,17,18,19,20,21,22,23,24,25,26,27,28,29,30,31,32,33,34,35,36,37,38,39,40,41,42,43,44,45,46,47,48,49],\"y\":[0.9134233654804388,0.7583538002365545,0.7583538002365545,0.5392615444806821,0.49910788543546863,0.49910788543546863,0.49910788543546863,0.38348866534939535,0.38348866534939535,0.38348866534939535,0.38348866534939535,0.38348866534939535,0.38348866534939535,0.38348866534939535,0.38348866534939535,0.38348866534939535,0.38220123004885737,0.38220123004885737,0.38220123004885737,0.38220123004885737,0.38220123004885737,0.38220123004885737,0.38220123004885737,0.38220123004885737,0.38220123004885737,0.38220123004885737,0.38220123004885737,0.38220123004885737,0.38220123004885737,0.38220123004885737,0.38220123004885737,0.38220123004885737,0.38220123004885737,0.38220123004885737,0.38220123004885737,0.38220123004885737,0.38220123004885737,0.38220123004885737,0.38220123004885737,0.38220123004885737,0.38220123004885737,0.38220123004885737,0.38220123004885737,0.38220123004885737,0.38220123004885737,0.38220123004885737,0.38220123004885737,0.38220123004885737,0.38220123004885737,0.38220123004885737],\"type\":\"scatter\"},{\"marker\":{\"color\":\"#cccccc\"},\"mode\":\"markers\",\"name\":\"Infeasible Trial\",\"showlegend\":false,\"x\":[],\"y\":[],\"type\":\"scatter\"}],                        {\"title\":{\"text\":\"Optimization History Plot\"},\"xaxis\":{\"title\":{\"text\":\"Trial\"}},\"yaxis\":{\"title\":{\"text\":\"Objective Value\"}},\"template\":{\"data\":{\"histogram2dcontour\":[{\"type\":\"histogram2dcontour\",\"colorbar\":{\"outlinewidth\":0,\"ticks\":\"\"},\"colorscale\":[[0.0,\"#0d0887\"],[0.1111111111111111,\"#46039f\"],[0.2222222222222222,\"#7201a8\"],[0.3333333333333333,\"#9c179e\"],[0.4444444444444444,\"#bd3786\"],[0.5555555555555556,\"#d8576b\"],[0.6666666666666666,\"#ed7953\"],[0.7777777777777778,\"#fb9f3a\"],[0.8888888888888888,\"#fdca26\"],[1.0,\"#f0f921\"]]}],\"choropleth\":[{\"type\":\"choropleth\",\"colorbar\":{\"outlinewidth\":0,\"ticks\":\"\"}}],\"histogram2d\":[{\"type\":\"histogram2d\",\"colorbar\":{\"outlinewidth\":0,\"ticks\":\"\"},\"colorscale\":[[0.0,\"#0d0887\"],[0.1111111111111111,\"#46039f\"],[0.2222222222222222,\"#7201a8\"],[0.3333333333333333,\"#9c179e\"],[0.4444444444444444,\"#bd3786\"],[0.5555555555555556,\"#d8576b\"],[0.6666666666666666,\"#ed7953\"],[0.7777777777777778,\"#fb9f3a\"],[0.8888888888888888,\"#fdca26\"],[1.0,\"#f0f921\"]]}],\"heatmap\":[{\"type\":\"heatmap\",\"colorbar\":{\"outlinewidth\":0,\"ticks\":\"\"},\"colorscale\":[[0.0,\"#0d0887\"],[0.1111111111111111,\"#46039f\"],[0.2222222222222222,\"#7201a8\"],[0.3333333333333333,\"#9c179e\"],[0.4444444444444444,\"#bd3786\"],[0.5555555555555556,\"#d8576b\"],[0.6666666666666666,\"#ed7953\"],[0.7777777777777778,\"#fb9f3a\"],[0.8888888888888888,\"#fdca26\"],[1.0,\"#f0f921\"]]}],\"heatmapgl\":[{\"type\":\"heatmapgl\",\"colorbar\":{\"outlinewidth\":0,\"ticks\":\"\"},\"colorscale\":[[0.0,\"#0d0887\"],[0.1111111111111111,\"#46039f\"],[0.2222222222222222,\"#7201a8\"],[0.3333333333333333,\"#9c179e\"],[0.4444444444444444,\"#bd3786\"],[0.5555555555555556,\"#d8576b\"],[0.6666666666666666,\"#ed7953\"],[0.7777777777777778,\"#fb9f3a\"],[0.8888888888888888,\"#fdca26\"],[1.0,\"#f0f921\"]]}],\"contourcarpet\":[{\"type\":\"contourcarpet\",\"colorbar\":{\"outlinewidth\":0,\"ticks\":\"\"}}],\"contour\":[{\"type\":\"contour\",\"colorbar\":{\"outlinewidth\":0,\"ticks\":\"\"},\"colorscale\":[[0.0,\"#0d0887\"],[0.1111111111111111,\"#46039f\"],[0.2222222222222222,\"#7201a8\"],[0.3333333333333333,\"#9c179e\"],[0.4444444444444444,\"#bd3786\"],[0.5555555555555556,\"#d8576b\"],[0.6666666666666666,\"#ed7953\"],[0.7777777777777778,\"#fb9f3a\"],[0.8888888888888888,\"#fdca26\"],[1.0,\"#f0f921\"]]}],\"surface\":[{\"type\":\"surface\",\"colorbar\":{\"outlinewidth\":0,\"ticks\":\"\"},\"colorscale\":[[0.0,\"#0d0887\"],[0.1111111111111111,\"#46039f\"],[0.2222222222222222,\"#7201a8\"],[0.3333333333333333,\"#9c179e\"],[0.4444444444444444,\"#bd3786\"],[0.5555555555555556,\"#d8576b\"],[0.6666666666666666,\"#ed7953\"],[0.7777777777777778,\"#fb9f3a\"],[0.8888888888888888,\"#fdca26\"],[1.0,\"#f0f921\"]]}],\"mesh3d\":[{\"type\":\"mesh3d\",\"colorbar\":{\"outlinewidth\":0,\"ticks\":\"\"}}],\"scatter\":[{\"fillpattern\":{\"fillmode\":\"overlay\",\"size\":10,\"solidity\":0.2},\"type\":\"scatter\"}],\"parcoords\":[{\"type\":\"parcoords\",\"line\":{\"colorbar\":{\"outlinewidth\":0,\"ticks\":\"\"}}}],\"scatterpolargl\":[{\"type\":\"scatterpolargl\",\"marker\":{\"colorbar\":{\"outlinewidth\":0,\"ticks\":\"\"}}}],\"bar\":[{\"error_x\":{\"color\":\"#2a3f5f\"},\"error_y\":{\"color\":\"#2a3f5f\"},\"marker\":{\"line\":{\"color\":\"#E5ECF6\",\"width\":0.5},\"pattern\":{\"fillmode\":\"overlay\",\"size\":10,\"solidity\":0.2}},\"type\":\"bar\"}],\"scattergeo\":[{\"type\":\"scattergeo\",\"marker\":{\"colorbar\":{\"outlinewidth\":0,\"ticks\":\"\"}}}],\"scatterpolar\":[{\"type\":\"scatterpolar\",\"marker\":{\"colorbar\":{\"outlinewidth\":0,\"ticks\":\"\"}}}],\"histogram\":[{\"marker\":{\"pattern\":{\"fillmode\":\"overlay\",\"size\":10,\"solidity\":0.2}},\"type\":\"histogram\"}],\"scattergl\":[{\"type\":\"scattergl\",\"marker\":{\"colorbar\":{\"outlinewidth\":0,\"ticks\":\"\"}}}],\"scatter3d\":[{\"type\":\"scatter3d\",\"line\":{\"colorbar\":{\"outlinewidth\":0,\"ticks\":\"\"}},\"marker\":{\"colorbar\":{\"outlinewidth\":0,\"ticks\":\"\"}}}],\"scattermapbox\":[{\"type\":\"scattermapbox\",\"marker\":{\"colorbar\":{\"outlinewidth\":0,\"ticks\":\"\"}}}],\"scatterternary\":[{\"type\":\"scatterternary\",\"marker\":{\"colorbar\":{\"outlinewidth\":0,\"ticks\":\"\"}}}],\"scattercarpet\":[{\"type\":\"scattercarpet\",\"marker\":{\"colorbar\":{\"outlinewidth\":0,\"ticks\":\"\"}}}],\"carpet\":[{\"aaxis\":{\"endlinecolor\":\"#2a3f5f\",\"gridcolor\":\"white\",\"linecolor\":\"white\",\"minorgridcolor\":\"white\",\"startlinecolor\":\"#2a3f5f\"},\"baxis\":{\"endlinecolor\":\"#2a3f5f\",\"gridcolor\":\"white\",\"linecolor\":\"white\",\"minorgridcolor\":\"white\",\"startlinecolor\":\"#2a3f5f\"},\"type\":\"carpet\"}],\"table\":[{\"cells\":{\"fill\":{\"color\":\"#EBF0F8\"},\"line\":{\"color\":\"white\"}},\"header\":{\"fill\":{\"color\":\"#C8D4E3\"},\"line\":{\"color\":\"white\"}},\"type\":\"table\"}],\"barpolar\":[{\"marker\":{\"line\":{\"color\":\"#E5ECF6\",\"width\":0.5},\"pattern\":{\"fillmode\":\"overlay\",\"size\":10,\"solidity\":0.2}},\"type\":\"barpolar\"}],\"pie\":[{\"automargin\":true,\"type\":\"pie\"}]},\"layout\":{\"autotypenumbers\":\"strict\",\"colorway\":[\"#636efa\",\"#EF553B\",\"#00cc96\",\"#ab63fa\",\"#FFA15A\",\"#19d3f3\",\"#FF6692\",\"#B6E880\",\"#FF97FF\",\"#FECB52\"],\"font\":{\"color\":\"#2a3f5f\"},\"hovermode\":\"closest\",\"hoverlabel\":{\"align\":\"left\"},\"paper_bgcolor\":\"white\",\"plot_bgcolor\":\"#E5ECF6\",\"polar\":{\"bgcolor\":\"#E5ECF6\",\"angularaxis\":{\"gridcolor\":\"white\",\"linecolor\":\"white\",\"ticks\":\"\"},\"radialaxis\":{\"gridcolor\":\"white\",\"linecolor\":\"white\",\"ticks\":\"\"}},\"ternary\":{\"bgcolor\":\"#E5ECF6\",\"aaxis\":{\"gridcolor\":\"white\",\"linecolor\":\"white\",\"ticks\":\"\"},\"baxis\":{\"gridcolor\":\"white\",\"linecolor\":\"white\",\"ticks\":\"\"},\"caxis\":{\"gridcolor\":\"white\",\"linecolor\":\"white\",\"ticks\":\"\"}},\"coloraxis\":{\"colorbar\":{\"outlinewidth\":0,\"ticks\":\"\"}},\"colorscale\":{\"sequential\":[[0.0,\"#0d0887\"],[0.1111111111111111,\"#46039f\"],[0.2222222222222222,\"#7201a8\"],[0.3333333333333333,\"#9c179e\"],[0.4444444444444444,\"#bd3786\"],[0.5555555555555556,\"#d8576b\"],[0.6666666666666666,\"#ed7953\"],[0.7777777777777778,\"#fb9f3a\"],[0.8888888888888888,\"#fdca26\"],[1.0,\"#f0f921\"]],\"sequentialminus\":[[0.0,\"#0d0887\"],[0.1111111111111111,\"#46039f\"],[0.2222222222222222,\"#7201a8\"],[0.3333333333333333,\"#9c179e\"],[0.4444444444444444,\"#bd3786\"],[0.5555555555555556,\"#d8576b\"],[0.6666666666666666,\"#ed7953\"],[0.7777777777777778,\"#fb9f3a\"],[0.8888888888888888,\"#fdca26\"],[1.0,\"#f0f921\"]],\"diverging\":[[0,\"#8e0152\"],[0.1,\"#c51b7d\"],[0.2,\"#de77ae\"],[0.3,\"#f1b6da\"],[0.4,\"#fde0ef\"],[0.5,\"#f7f7f7\"],[0.6,\"#e6f5d0\"],[0.7,\"#b8e186\"],[0.8,\"#7fbc41\"],[0.9,\"#4d9221\"],[1,\"#276419\"]]},\"xaxis\":{\"gridcolor\":\"white\",\"linecolor\":\"white\",\"ticks\":\"\",\"title\":{\"standoff\":15},\"zerolinecolor\":\"white\",\"automargin\":true,\"zerolinewidth\":2},\"yaxis\":{\"gridcolor\":\"white\",\"linecolor\":\"white\",\"ticks\":\"\",\"title\":{\"standoff\":15},\"zerolinecolor\":\"white\",\"automargin\":true,\"zerolinewidth\":2},\"scene\":{\"xaxis\":{\"backgroundcolor\":\"#E5ECF6\",\"gridcolor\":\"white\",\"linecolor\":\"white\",\"showbackground\":true,\"ticks\":\"\",\"zerolinecolor\":\"white\",\"gridwidth\":2},\"yaxis\":{\"backgroundcolor\":\"#E5ECF6\",\"gridcolor\":\"white\",\"linecolor\":\"white\",\"showbackground\":true,\"ticks\":\"\",\"zerolinecolor\":\"white\",\"gridwidth\":2},\"zaxis\":{\"backgroundcolor\":\"#E5ECF6\",\"gridcolor\":\"white\",\"linecolor\":\"white\",\"showbackground\":true,\"ticks\":\"\",\"zerolinecolor\":\"white\",\"gridwidth\":2}},\"shapedefaults\":{\"line\":{\"color\":\"#2a3f5f\"}},\"annotationdefaults\":{\"arrowcolor\":\"#2a3f5f\",\"arrowhead\":0,\"arrowwidth\":1},\"geo\":{\"bgcolor\":\"white\",\"landcolor\":\"#E5ECF6\",\"subunitcolor\":\"white\",\"showland\":true,\"showlakes\":true,\"lakecolor\":\"white\"},\"title\":{\"x\":0.05},\"mapbox\":{\"style\":\"light\"}}}},                        {\"responsive\": true}                    ).then(function(){\n",
              "                            \n",
              "var gd = document.getElementById('32f2b61a-4787-4b02-bb09-37aa417474ec');\n",
              "var x = new MutationObserver(function (mutations, observer) {{\n",
              "        var display = window.getComputedStyle(gd).display;\n",
              "        if (!display || display === 'none') {{\n",
              "            console.log([gd, 'removed!']);\n",
              "            Plotly.purge(gd);\n",
              "            observer.disconnect();\n",
              "        }}\n",
              "}});\n",
              "\n",
              "// Listen for the removal of the full notebook cells\n",
              "var notebookContainer = gd.closest('#notebook-container');\n",
              "if (notebookContainer) {{\n",
              "    x.observe(notebookContainer, {childList: true});\n",
              "}}\n",
              "\n",
              "// Listen for the clearing of the current output cell\n",
              "var outputEl = gd.closest('.output');\n",
              "if (outputEl) {{\n",
              "    x.observe(outputEl, {childList: true});\n",
              "}}\n",
              "\n",
              "                        })                };                            </script>        </div>\n",
              "</body>\n",
              "</html>"
            ]
          },
          "metadata": {}
        }
      ],
      "source": [
        "# Visualize the optimization history\n",
        "optuna.visualization.plot_optimization_history(study).show()"
      ]
    },
    {
      "cell_type": "code",
      "execution_count": 18,
      "id": "d079c4bf",
      "metadata": {
        "colab": {
          "base_uri": "https://localhost:8080/",
          "height": 542
        },
        "id": "d079c4bf",
        "outputId": "dba57246-dc46-488e-8456-6271d7b081b9"
      },
      "outputs": [
        {
          "output_type": "display_data",
          "data": {
            "text/html": [
              "<html>\n",
              "<head><meta charset=\"utf-8\" /></head>\n",
              "<body>\n",
              "    <div>            <script src=\"https://cdnjs.cloudflare.com/ajax/libs/mathjax/2.7.5/MathJax.js?config=TeX-AMS-MML_SVG\"></script><script type=\"text/javascript\">if (window.MathJax && window.MathJax.Hub && window.MathJax.Hub.Config) {window.MathJax.Hub.Config({SVG: {font: \"STIX-Web\"}});}</script>                <script type=\"text/javascript\">window.PlotlyConfig = {MathJaxConfig: 'local'};</script>\n",
              "        <script charset=\"utf-8\" src=\"https://cdn.plot.ly/plotly-2.35.2.min.js\"></script>                <div id=\"a038d2f2-07b9-4687-8c6a-953d9398e4f7\" class=\"plotly-graph-div\" style=\"height:525px; width:100%;\"></div>            <script type=\"text/javascript\">                                    window.PLOTLYENV=window.PLOTLYENV || {};                                    if (document.getElementById(\"a038d2f2-07b9-4687-8c6a-953d9398e4f7\")) {                    Plotly.newPlot(                        \"a038d2f2-07b9-4687-8c6a-953d9398e4f7\",                        [{\"cliponaxis\":false,\"hovertemplate\":[\"max_depth (IntDistribution): 0.004836381799758852\\u003cextra\\u003e\\u003c\\u002fextra\\u003e\",\"min_samples_split (IntDistribution): 0.005713525672367632\\u003cextra\\u003e\\u003c\\u002fextra\\u003e\",\"learning_rate (FloatDistribution): 0.02791573134991347\\u003cextra\\u003e\\u003c\\u002fextra\\u003e\",\"subsample (FloatDistribution): 0.056875779965025575\\u003cextra\\u003e\\u003c\\u002fextra\\u003e\",\"n_estimators (IntDistribution): 0.11587435667548691\\u003cextra\\u003e\\u003c\\u002fextra\\u003e\",\"min_samples_leaf (IntDistribution): 0.7887842245374476\\u003cextra\\u003e\\u003c\\u002fextra\\u003e\"],\"name\":\"Objective Value\",\"orientation\":\"h\",\"text\":[\"\\u003c0.01\",\"\\u003c0.01\",\"0.03\",\"0.06\",\"0.12\",\"0.79\"],\"textposition\":\"outside\",\"x\":[0.004836381799758852,0.005713525672367632,0.02791573134991347,0.056875779965025575,0.11587435667548691,0.7887842245374476],\"y\":[\"max_depth\",\"min_samples_split\",\"learning_rate\",\"subsample\",\"n_estimators\",\"min_samples_leaf\"],\"type\":\"bar\"}],                        {\"title\":{\"text\":\"Hyperparameter Importances\"},\"xaxis\":{\"title\":{\"text\":\"Hyperparameter Importance\"}},\"yaxis\":{\"title\":{\"text\":\"Hyperparameter\"}},\"template\":{\"data\":{\"histogram2dcontour\":[{\"type\":\"histogram2dcontour\",\"colorbar\":{\"outlinewidth\":0,\"ticks\":\"\"},\"colorscale\":[[0.0,\"#0d0887\"],[0.1111111111111111,\"#46039f\"],[0.2222222222222222,\"#7201a8\"],[0.3333333333333333,\"#9c179e\"],[0.4444444444444444,\"#bd3786\"],[0.5555555555555556,\"#d8576b\"],[0.6666666666666666,\"#ed7953\"],[0.7777777777777778,\"#fb9f3a\"],[0.8888888888888888,\"#fdca26\"],[1.0,\"#f0f921\"]]}],\"choropleth\":[{\"type\":\"choropleth\",\"colorbar\":{\"outlinewidth\":0,\"ticks\":\"\"}}],\"histogram2d\":[{\"type\":\"histogram2d\",\"colorbar\":{\"outlinewidth\":0,\"ticks\":\"\"},\"colorscale\":[[0.0,\"#0d0887\"],[0.1111111111111111,\"#46039f\"],[0.2222222222222222,\"#7201a8\"],[0.3333333333333333,\"#9c179e\"],[0.4444444444444444,\"#bd3786\"],[0.5555555555555556,\"#d8576b\"],[0.6666666666666666,\"#ed7953\"],[0.7777777777777778,\"#fb9f3a\"],[0.8888888888888888,\"#fdca26\"],[1.0,\"#f0f921\"]]}],\"heatmap\":[{\"type\":\"heatmap\",\"colorbar\":{\"outlinewidth\":0,\"ticks\":\"\"},\"colorscale\":[[0.0,\"#0d0887\"],[0.1111111111111111,\"#46039f\"],[0.2222222222222222,\"#7201a8\"],[0.3333333333333333,\"#9c179e\"],[0.4444444444444444,\"#bd3786\"],[0.5555555555555556,\"#d8576b\"],[0.6666666666666666,\"#ed7953\"],[0.7777777777777778,\"#fb9f3a\"],[0.8888888888888888,\"#fdca26\"],[1.0,\"#f0f921\"]]}],\"heatmapgl\":[{\"type\":\"heatmapgl\",\"colorbar\":{\"outlinewidth\":0,\"ticks\":\"\"},\"colorscale\":[[0.0,\"#0d0887\"],[0.1111111111111111,\"#46039f\"],[0.2222222222222222,\"#7201a8\"],[0.3333333333333333,\"#9c179e\"],[0.4444444444444444,\"#bd3786\"],[0.5555555555555556,\"#d8576b\"],[0.6666666666666666,\"#ed7953\"],[0.7777777777777778,\"#fb9f3a\"],[0.8888888888888888,\"#fdca26\"],[1.0,\"#f0f921\"]]}],\"contourcarpet\":[{\"type\":\"contourcarpet\",\"colorbar\":{\"outlinewidth\":0,\"ticks\":\"\"}}],\"contour\":[{\"type\":\"contour\",\"colorbar\":{\"outlinewidth\":0,\"ticks\":\"\"},\"colorscale\":[[0.0,\"#0d0887\"],[0.1111111111111111,\"#46039f\"],[0.2222222222222222,\"#7201a8\"],[0.3333333333333333,\"#9c179e\"],[0.4444444444444444,\"#bd3786\"],[0.5555555555555556,\"#d8576b\"],[0.6666666666666666,\"#ed7953\"],[0.7777777777777778,\"#fb9f3a\"],[0.8888888888888888,\"#fdca26\"],[1.0,\"#f0f921\"]]}],\"surface\":[{\"type\":\"surface\",\"colorbar\":{\"outlinewidth\":0,\"ticks\":\"\"},\"colorscale\":[[0.0,\"#0d0887\"],[0.1111111111111111,\"#46039f\"],[0.2222222222222222,\"#7201a8\"],[0.3333333333333333,\"#9c179e\"],[0.4444444444444444,\"#bd3786\"],[0.5555555555555556,\"#d8576b\"],[0.6666666666666666,\"#ed7953\"],[0.7777777777777778,\"#fb9f3a\"],[0.8888888888888888,\"#fdca26\"],[1.0,\"#f0f921\"]]}],\"mesh3d\":[{\"type\":\"mesh3d\",\"colorbar\":{\"outlinewidth\":0,\"ticks\":\"\"}}],\"scatter\":[{\"fillpattern\":{\"fillmode\":\"overlay\",\"size\":10,\"solidity\":0.2},\"type\":\"scatter\"}],\"parcoords\":[{\"type\":\"parcoords\",\"line\":{\"colorbar\":{\"outlinewidth\":0,\"ticks\":\"\"}}}],\"scatterpolargl\":[{\"type\":\"scatterpolargl\",\"marker\":{\"colorbar\":{\"outlinewidth\":0,\"ticks\":\"\"}}}],\"bar\":[{\"error_x\":{\"color\":\"#2a3f5f\"},\"error_y\":{\"color\":\"#2a3f5f\"},\"marker\":{\"line\":{\"color\":\"#E5ECF6\",\"width\":0.5},\"pattern\":{\"fillmode\":\"overlay\",\"size\":10,\"solidity\":0.2}},\"type\":\"bar\"}],\"scattergeo\":[{\"type\":\"scattergeo\",\"marker\":{\"colorbar\":{\"outlinewidth\":0,\"ticks\":\"\"}}}],\"scatterpolar\":[{\"type\":\"scatterpolar\",\"marker\":{\"colorbar\":{\"outlinewidth\":0,\"ticks\":\"\"}}}],\"histogram\":[{\"marker\":{\"pattern\":{\"fillmode\":\"overlay\",\"size\":10,\"solidity\":0.2}},\"type\":\"histogram\"}],\"scattergl\":[{\"type\":\"scattergl\",\"marker\":{\"colorbar\":{\"outlinewidth\":0,\"ticks\":\"\"}}}],\"scatter3d\":[{\"type\":\"scatter3d\",\"line\":{\"colorbar\":{\"outlinewidth\":0,\"ticks\":\"\"}},\"marker\":{\"colorbar\":{\"outlinewidth\":0,\"ticks\":\"\"}}}],\"scattermapbox\":[{\"type\":\"scattermapbox\",\"marker\":{\"colorbar\":{\"outlinewidth\":0,\"ticks\":\"\"}}}],\"scatterternary\":[{\"type\":\"scatterternary\",\"marker\":{\"colorbar\":{\"outlinewidth\":0,\"ticks\":\"\"}}}],\"scattercarpet\":[{\"type\":\"scattercarpet\",\"marker\":{\"colorbar\":{\"outlinewidth\":0,\"ticks\":\"\"}}}],\"carpet\":[{\"aaxis\":{\"endlinecolor\":\"#2a3f5f\",\"gridcolor\":\"white\",\"linecolor\":\"white\",\"minorgridcolor\":\"white\",\"startlinecolor\":\"#2a3f5f\"},\"baxis\":{\"endlinecolor\":\"#2a3f5f\",\"gridcolor\":\"white\",\"linecolor\":\"white\",\"minorgridcolor\":\"white\",\"startlinecolor\":\"#2a3f5f\"},\"type\":\"carpet\"}],\"table\":[{\"cells\":{\"fill\":{\"color\":\"#EBF0F8\"},\"line\":{\"color\":\"white\"}},\"header\":{\"fill\":{\"color\":\"#C8D4E3\"},\"line\":{\"color\":\"white\"}},\"type\":\"table\"}],\"barpolar\":[{\"marker\":{\"line\":{\"color\":\"#E5ECF6\",\"width\":0.5},\"pattern\":{\"fillmode\":\"overlay\",\"size\":10,\"solidity\":0.2}},\"type\":\"barpolar\"}],\"pie\":[{\"automargin\":true,\"type\":\"pie\"}]},\"layout\":{\"autotypenumbers\":\"strict\",\"colorway\":[\"#636efa\",\"#EF553B\",\"#00cc96\",\"#ab63fa\",\"#FFA15A\",\"#19d3f3\",\"#FF6692\",\"#B6E880\",\"#FF97FF\",\"#FECB52\"],\"font\":{\"color\":\"#2a3f5f\"},\"hovermode\":\"closest\",\"hoverlabel\":{\"align\":\"left\"},\"paper_bgcolor\":\"white\",\"plot_bgcolor\":\"#E5ECF6\",\"polar\":{\"bgcolor\":\"#E5ECF6\",\"angularaxis\":{\"gridcolor\":\"white\",\"linecolor\":\"white\",\"ticks\":\"\"},\"radialaxis\":{\"gridcolor\":\"white\",\"linecolor\":\"white\",\"ticks\":\"\"}},\"ternary\":{\"bgcolor\":\"#E5ECF6\",\"aaxis\":{\"gridcolor\":\"white\",\"linecolor\":\"white\",\"ticks\":\"\"},\"baxis\":{\"gridcolor\":\"white\",\"linecolor\":\"white\",\"ticks\":\"\"},\"caxis\":{\"gridcolor\":\"white\",\"linecolor\":\"white\",\"ticks\":\"\"}},\"coloraxis\":{\"colorbar\":{\"outlinewidth\":0,\"ticks\":\"\"}},\"colorscale\":{\"sequential\":[[0.0,\"#0d0887\"],[0.1111111111111111,\"#46039f\"],[0.2222222222222222,\"#7201a8\"],[0.3333333333333333,\"#9c179e\"],[0.4444444444444444,\"#bd3786\"],[0.5555555555555556,\"#d8576b\"],[0.6666666666666666,\"#ed7953\"],[0.7777777777777778,\"#fb9f3a\"],[0.8888888888888888,\"#fdca26\"],[1.0,\"#f0f921\"]],\"sequentialminus\":[[0.0,\"#0d0887\"],[0.1111111111111111,\"#46039f\"],[0.2222222222222222,\"#7201a8\"],[0.3333333333333333,\"#9c179e\"],[0.4444444444444444,\"#bd3786\"],[0.5555555555555556,\"#d8576b\"],[0.6666666666666666,\"#ed7953\"],[0.7777777777777778,\"#fb9f3a\"],[0.8888888888888888,\"#fdca26\"],[1.0,\"#f0f921\"]],\"diverging\":[[0,\"#8e0152\"],[0.1,\"#c51b7d\"],[0.2,\"#de77ae\"],[0.3,\"#f1b6da\"],[0.4,\"#fde0ef\"],[0.5,\"#f7f7f7\"],[0.6,\"#e6f5d0\"],[0.7,\"#b8e186\"],[0.8,\"#7fbc41\"],[0.9,\"#4d9221\"],[1,\"#276419\"]]},\"xaxis\":{\"gridcolor\":\"white\",\"linecolor\":\"white\",\"ticks\":\"\",\"title\":{\"standoff\":15},\"zerolinecolor\":\"white\",\"automargin\":true,\"zerolinewidth\":2},\"yaxis\":{\"gridcolor\":\"white\",\"linecolor\":\"white\",\"ticks\":\"\",\"title\":{\"standoff\":15},\"zerolinecolor\":\"white\",\"automargin\":true,\"zerolinewidth\":2},\"scene\":{\"xaxis\":{\"backgroundcolor\":\"#E5ECF6\",\"gridcolor\":\"white\",\"linecolor\":\"white\",\"showbackground\":true,\"ticks\":\"\",\"zerolinecolor\":\"white\",\"gridwidth\":2},\"yaxis\":{\"backgroundcolor\":\"#E5ECF6\",\"gridcolor\":\"white\",\"linecolor\":\"white\",\"showbackground\":true,\"ticks\":\"\",\"zerolinecolor\":\"white\",\"gridwidth\":2},\"zaxis\":{\"backgroundcolor\":\"#E5ECF6\",\"gridcolor\":\"white\",\"linecolor\":\"white\",\"showbackground\":true,\"ticks\":\"\",\"zerolinecolor\":\"white\",\"gridwidth\":2}},\"shapedefaults\":{\"line\":{\"color\":\"#2a3f5f\"}},\"annotationdefaults\":{\"arrowcolor\":\"#2a3f5f\",\"arrowhead\":0,\"arrowwidth\":1},\"geo\":{\"bgcolor\":\"white\",\"landcolor\":\"#E5ECF6\",\"subunitcolor\":\"white\",\"showland\":true,\"showlakes\":true,\"lakecolor\":\"white\"},\"title\":{\"x\":0.05},\"mapbox\":{\"style\":\"light\"}}}},                        {\"responsive\": true}                    ).then(function(){\n",
              "                            \n",
              "var gd = document.getElementById('a038d2f2-07b9-4687-8c6a-953d9398e4f7');\n",
              "var x = new MutationObserver(function (mutations, observer) {{\n",
              "        var display = window.getComputedStyle(gd).display;\n",
              "        if (!display || display === 'none') {{\n",
              "            console.log([gd, 'removed!']);\n",
              "            Plotly.purge(gd);\n",
              "            observer.disconnect();\n",
              "        }}\n",
              "}});\n",
              "\n",
              "// Listen for the removal of the full notebook cells\n",
              "var notebookContainer = gd.closest('#notebook-container');\n",
              "if (notebookContainer) {{\n",
              "    x.observe(notebookContainer, {childList: true});\n",
              "}}\n",
              "\n",
              "// Listen for the clearing of the current output cell\n",
              "var outputEl = gd.closest('.output');\n",
              "if (outputEl) {{\n",
              "    x.observe(outputEl, {childList: true});\n",
              "}}\n",
              "\n",
              "                        })                };                            </script>        </div>\n",
              "</body>\n",
              "</html>"
            ]
          },
          "metadata": {}
        }
      ],
      "source": [
        "# Visualize the parameter importance\n",
        "optuna.visualization.plot_param_importances(study).show()"
      ]
    },
    {
      "cell_type": "code",
      "source": [
        "import ipywidgets as widgets\n",
        "from IPython.display import display, Image, HTML"
      ],
      "metadata": {
        "id": "0huWkEg_c3q3"
      },
      "id": "0huWkEg_c3q3",
      "execution_count": 30,
      "outputs": []
    },
    {
      "cell_type": "code",
      "source": [
        "# Create Interactive Widgets\n",
        "# ------------------------------------------\n",
        "flowrate = widgets.IntSlider(\n",
        "    description='Flowrate [m3/s]:',\n",
        "    min=100, max=500, value=300, step=1, style={'description_width': 'initial'}\n",
        ")\n",
        "temperature = widgets.IntSlider(\n",
        "    description='Temperature [C]:',\n",
        "    min=100, max=200, value=130, step=1, style={'description_width': 'initial'}\n",
        ")\n",
        "pressure = widgets.IntSlider(\n",
        "    description='Pressure diff [psi]:',\n",
        "    min=-50, max=50, value=0, step=1, style={'description_width': 'initial'}\n",
        ")\n",
        "predict_button = widgets.Button(\n",
        "    description='Predict Yield',\n",
        "    button_style='success', # 'success', 'info', 'warning', 'danger' or ''\n",
        "    icon='calculator'\n",
        ")\n",
        "# An output widget to display the results\n",
        "output = widgets.Output()"
      ],
      "metadata": {
        "id": "pF0sHEuEdNOz"
      },
      "id": "pF0sHEuEdNOz",
      "execution_count": 21,
      "outputs": []
    },
    {
      "cell_type": "code",
      "source": [
        "# 3. Define the Prediction Logic\n",
        "# ------------------------------------------\n",
        "def run_prediction(pressure_val, flowrate_val, temperature_val):\n",
        "    \"\"\"Creates a DataFrame and runs the model prediction.\"\"\"\n",
        "    df_input = pd.DataFrame({\n",
        "        'PressureC1_diff': [pressure_val],\n",
        "        'FlowC1': [flowrate_val],\n",
        "        'Temp1': [temperature_val]\n",
        "    })\n",
        "    prediction_result = final_model.predict(df_input)\n",
        "    return prediction_result[0]\n"
      ],
      "metadata": {
        "id": "BSIXUJB2dhWc"
      },
      "id": "BSIXUJB2dhWc",
      "execution_count": 26,
      "outputs": []
    },
    {
      "cell_type": "code",
      "source": [
        "# Define what happens when the button is clicked\n",
        "def on_predict_clicked(b):\n",
        "    with output:\n",
        "        output.clear_output() # Clear previous results\n",
        "        result = run_prediction(pressure.value, flowrate.value, temperature.value)\n",
        "        print(f\"Predicted Yield: {result:.2f}\")"
      ],
      "metadata": {
        "id": "oZZ_6dJidljJ"
      },
      "id": "oZZ_6dJidljJ",
      "execution_count": 27,
      "outputs": []
    },
    {
      "cell_type": "code",
      "source": [
        "# Link the button click event to the function\n",
        "predict_button.on_click(on_predict_clicked)"
      ],
      "metadata": {
        "id": "H2Bd3GIAdpb4"
      },
      "id": "H2Bd3GIAdpb4",
      "execution_count": 28,
      "outputs": []
    },
    {
      "cell_type": "code",
      "source": [
        "# 4. Display the Widgets\n",
        "# ------------------------------------------\n",
        "# Arrange all widgets in a vertical box and display them\n",
        "# Page title and image\n",
        "\n",
        "display(HTML('<h1>Distillation column yield prediction</h1>'))\n",
        "\n",
        "display(HTML(\"\"\"\n",
        "<p>This app aims to assist in predicting the yield in distillation columns by adjusting the sliders and clicking predict.</p>\n",
        "\"\"\"))\n",
        "\n",
        "ui = widgets.VBox([flowrate, temperature, pressure, predict_button, output])\n",
        "display(ui)"
      ],
      "metadata": {
        "id": "KBFHQCFQdsE8",
        "outputId": "916025f4-30bc-46bd-e16c-811e30e305f5",
        "colab": {
          "base_uri": "https://localhost:8080/",
          "height": 246,
          "referenced_widgets": [
            "a0a83a06fc304a6ea4786b46ee31c3e4",
            "1a82ac89c4ba4e0dbf760a7e16227604",
            "590f3afbe1554066bfb7cf17b9339375",
            "ee698b165d944067b83c2d2eb2932de9",
            "c705061e7bc346f7be1bd84563f235cc",
            "81f4b2397e1a42199b564754cc6c21c5",
            "68cabe804917448ebc4663a4d60f8031",
            "6f58b59af5d44266986f1259600fa12f",
            "16ab36159b404238a976771863e4602d",
            "db376ab0469b470ba2ce0d280f83b879",
            "e8cfd83e0332407b80c34cdc18503f40",
            "013a1b2e873f41a4bab4eee902d40938",
            "0f47ddcf1cca4046ae57b5962ca3bce1",
            "b1810c576aa9413a8983ab51bc7cc9c5",
            "a81494a559d14d699d40f8eecb7f5358",
            "838345886df34800a9e38536818be92d"
          ]
        }
      },
      "id": "KBFHQCFQdsE8",
      "execution_count": 33,
      "outputs": [
        {
          "output_type": "display_data",
          "data": {
            "text/plain": [
              "<IPython.core.display.HTML object>"
            ],
            "text/html": [
              "<h1>Distillation column yield prediction</h1>"
            ]
          },
          "metadata": {}
        },
        {
          "output_type": "display_data",
          "data": {
            "text/plain": [
              "<IPython.core.display.HTML object>"
            ],
            "text/html": [
              "\n",
              "<p>This app aims to assist in predicting the yield in distillation columns by adjusting the sliders and clicking predict.</p>\n"
            ]
          },
          "metadata": {}
        },
        {
          "output_type": "display_data",
          "data": {
            "text/plain": [
              "VBox(children=(IntSlider(value=300, description='Flowrate [m3/s]:', max=500, min=100, style=SliderStyle(descri…"
            ],
            "application/vnd.jupyter.widget-view+json": {
              "version_major": 2,
              "version_minor": 0,
              "model_id": "a0a83a06fc304a6ea4786b46ee31c3e4"
            }
          },
          "metadata": {}
        }
      ]
    }
  ],
  "metadata": {
    "kernelspec": {
      "display_name": "Python (Poetry_dist_tower)",
      "language": "python",
      "name": "my_poetry_kernel"
    },
    "language_info": {
      "codemirror_mode": {
        "name": "ipython",
        "version": 3
      },
      "file_extension": ".py",
      "mimetype": "text/x-python",
      "name": "python",
      "nbconvert_exporter": "python",
      "pygments_lexer": "ipython3",
      "version": "3.10.14"
    },
    "colab": {
      "provenance": [],
      "include_colab_link": true
    },
    "widgets": {
      "application/vnd.jupyter.widget-state+json": {
        "a0a83a06fc304a6ea4786b46ee31c3e4": {
          "model_module": "@jupyter-widgets/controls",
          "model_name": "VBoxModel",
          "model_module_version": "1.5.0",
          "state": {
            "_dom_classes": [],
            "_model_module": "@jupyter-widgets/controls",
            "_model_module_version": "1.5.0",
            "_model_name": "VBoxModel",
            "_view_count": null,
            "_view_module": "@jupyter-widgets/controls",
            "_view_module_version": "1.5.0",
            "_view_name": "VBoxView",
            "box_style": "",
            "children": [
              "IPY_MODEL_1a82ac89c4ba4e0dbf760a7e16227604",
              "IPY_MODEL_590f3afbe1554066bfb7cf17b9339375",
              "IPY_MODEL_ee698b165d944067b83c2d2eb2932de9",
              "IPY_MODEL_c705061e7bc346f7be1bd84563f235cc",
              "IPY_MODEL_81f4b2397e1a42199b564754cc6c21c5"
            ],
            "layout": "IPY_MODEL_68cabe804917448ebc4663a4d60f8031"
          }
        },
        "1a82ac89c4ba4e0dbf760a7e16227604": {
          "model_module": "@jupyter-widgets/controls",
          "model_name": "IntSliderModel",
          "model_module_version": "1.5.0",
          "state": {
            "_dom_classes": [],
            "_model_module": "@jupyter-widgets/controls",
            "_model_module_version": "1.5.0",
            "_model_name": "IntSliderModel",
            "_view_count": null,
            "_view_module": "@jupyter-widgets/controls",
            "_view_module_version": "1.5.0",
            "_view_name": "IntSliderView",
            "continuous_update": true,
            "description": "Flowrate [m3/s]:",
            "description_tooltip": null,
            "disabled": false,
            "layout": "IPY_MODEL_6f58b59af5d44266986f1259600fa12f",
            "max": 500,
            "min": 100,
            "orientation": "horizontal",
            "readout": true,
            "readout_format": "d",
            "step": 1,
            "style": "IPY_MODEL_16ab36159b404238a976771863e4602d",
            "value": 333
          }
        },
        "590f3afbe1554066bfb7cf17b9339375": {
          "model_module": "@jupyter-widgets/controls",
          "model_name": "IntSliderModel",
          "model_module_version": "1.5.0",
          "state": {
            "_dom_classes": [],
            "_model_module": "@jupyter-widgets/controls",
            "_model_module_version": "1.5.0",
            "_model_name": "IntSliderModel",
            "_view_count": null,
            "_view_module": "@jupyter-widgets/controls",
            "_view_module_version": "1.5.0",
            "_view_name": "IntSliderView",
            "continuous_update": true,
            "description": "Temperature [C]:",
            "description_tooltip": null,
            "disabled": false,
            "layout": "IPY_MODEL_db376ab0469b470ba2ce0d280f83b879",
            "max": 200,
            "min": 100,
            "orientation": "horizontal",
            "readout": true,
            "readout_format": "d",
            "step": 1,
            "style": "IPY_MODEL_e8cfd83e0332407b80c34cdc18503f40",
            "value": 144
          }
        },
        "ee698b165d944067b83c2d2eb2932de9": {
          "model_module": "@jupyter-widgets/controls",
          "model_name": "IntSliderModel",
          "model_module_version": "1.5.0",
          "state": {
            "_dom_classes": [],
            "_model_module": "@jupyter-widgets/controls",
            "_model_module_version": "1.5.0",
            "_model_name": "IntSliderModel",
            "_view_count": null,
            "_view_module": "@jupyter-widgets/controls",
            "_view_module_version": "1.5.0",
            "_view_name": "IntSliderView",
            "continuous_update": true,
            "description": "Pressure diff [psi]:",
            "description_tooltip": null,
            "disabled": false,
            "layout": "IPY_MODEL_013a1b2e873f41a4bab4eee902d40938",
            "max": 50,
            "min": -50,
            "orientation": "horizontal",
            "readout": true,
            "readout_format": "d",
            "step": 1,
            "style": "IPY_MODEL_0f47ddcf1cca4046ae57b5962ca3bce1",
            "value": -7
          }
        },
        "c705061e7bc346f7be1bd84563f235cc": {
          "model_module": "@jupyter-widgets/controls",
          "model_name": "ButtonModel",
          "model_module_version": "1.5.0",
          "state": {
            "_dom_classes": [],
            "_model_module": "@jupyter-widgets/controls",
            "_model_module_version": "1.5.0",
            "_model_name": "ButtonModel",
            "_view_count": null,
            "_view_module": "@jupyter-widgets/controls",
            "_view_module_version": "1.5.0",
            "_view_name": "ButtonView",
            "button_style": "success",
            "description": "Predict Yield",
            "disabled": false,
            "icon": "calculator",
            "layout": "IPY_MODEL_b1810c576aa9413a8983ab51bc7cc9c5",
            "style": "IPY_MODEL_a81494a559d14d699d40f8eecb7f5358",
            "tooltip": ""
          }
        },
        "81f4b2397e1a42199b564754cc6c21c5": {
          "model_module": "@jupyter-widgets/output",
          "model_name": "OutputModel",
          "model_module_version": "1.0.0",
          "state": {
            "_dom_classes": [],
            "_model_module": "@jupyter-widgets/output",
            "_model_module_version": "1.0.0",
            "_model_name": "OutputModel",
            "_view_count": null,
            "_view_module": "@jupyter-widgets/output",
            "_view_module_version": "1.0.0",
            "_view_name": "OutputView",
            "layout": "IPY_MODEL_838345886df34800a9e38536818be92d",
            "msg_id": "",
            "outputs": [
              {
                "output_type": "stream",
                "name": "stdout",
                "text": [
                  "Predicted Yield: 69.61\n"
                ]
              }
            ]
          }
        },
        "68cabe804917448ebc4663a4d60f8031": {
          "model_module": "@jupyter-widgets/base",
          "model_name": "LayoutModel",
          "model_module_version": "1.2.0",
          "state": {
            "_model_module": "@jupyter-widgets/base",
            "_model_module_version": "1.2.0",
            "_model_name": "LayoutModel",
            "_view_count": null,
            "_view_module": "@jupyter-widgets/base",
            "_view_module_version": "1.2.0",
            "_view_name": "LayoutView",
            "align_content": null,
            "align_items": null,
            "align_self": null,
            "border": null,
            "bottom": null,
            "display": null,
            "flex": null,
            "flex_flow": null,
            "grid_area": null,
            "grid_auto_columns": null,
            "grid_auto_flow": null,
            "grid_auto_rows": null,
            "grid_column": null,
            "grid_gap": null,
            "grid_row": null,
            "grid_template_areas": null,
            "grid_template_columns": null,
            "grid_template_rows": null,
            "height": null,
            "justify_content": null,
            "justify_items": null,
            "left": null,
            "margin": null,
            "max_height": null,
            "max_width": null,
            "min_height": null,
            "min_width": null,
            "object_fit": null,
            "object_position": null,
            "order": null,
            "overflow": null,
            "overflow_x": null,
            "overflow_y": null,
            "padding": null,
            "right": null,
            "top": null,
            "visibility": null,
            "width": null
          }
        },
        "6f58b59af5d44266986f1259600fa12f": {
          "model_module": "@jupyter-widgets/base",
          "model_name": "LayoutModel",
          "model_module_version": "1.2.0",
          "state": {
            "_model_module": "@jupyter-widgets/base",
            "_model_module_version": "1.2.0",
            "_model_name": "LayoutModel",
            "_view_count": null,
            "_view_module": "@jupyter-widgets/base",
            "_view_module_version": "1.2.0",
            "_view_name": "LayoutView",
            "align_content": null,
            "align_items": null,
            "align_self": null,
            "border": null,
            "bottom": null,
            "display": null,
            "flex": null,
            "flex_flow": null,
            "grid_area": null,
            "grid_auto_columns": null,
            "grid_auto_flow": null,
            "grid_auto_rows": null,
            "grid_column": null,
            "grid_gap": null,
            "grid_row": null,
            "grid_template_areas": null,
            "grid_template_columns": null,
            "grid_template_rows": null,
            "height": null,
            "justify_content": null,
            "justify_items": null,
            "left": null,
            "margin": null,
            "max_height": null,
            "max_width": null,
            "min_height": null,
            "min_width": null,
            "object_fit": null,
            "object_position": null,
            "order": null,
            "overflow": null,
            "overflow_x": null,
            "overflow_y": null,
            "padding": null,
            "right": null,
            "top": null,
            "visibility": null,
            "width": null
          }
        },
        "16ab36159b404238a976771863e4602d": {
          "model_module": "@jupyter-widgets/controls",
          "model_name": "SliderStyleModel",
          "model_module_version": "1.5.0",
          "state": {
            "_model_module": "@jupyter-widgets/controls",
            "_model_module_version": "1.5.0",
            "_model_name": "SliderStyleModel",
            "_view_count": null,
            "_view_module": "@jupyter-widgets/base",
            "_view_module_version": "1.2.0",
            "_view_name": "StyleView",
            "description_width": "initial",
            "handle_color": null
          }
        },
        "db376ab0469b470ba2ce0d280f83b879": {
          "model_module": "@jupyter-widgets/base",
          "model_name": "LayoutModel",
          "model_module_version": "1.2.0",
          "state": {
            "_model_module": "@jupyter-widgets/base",
            "_model_module_version": "1.2.0",
            "_model_name": "LayoutModel",
            "_view_count": null,
            "_view_module": "@jupyter-widgets/base",
            "_view_module_version": "1.2.0",
            "_view_name": "LayoutView",
            "align_content": null,
            "align_items": null,
            "align_self": null,
            "border": null,
            "bottom": null,
            "display": null,
            "flex": null,
            "flex_flow": null,
            "grid_area": null,
            "grid_auto_columns": null,
            "grid_auto_flow": null,
            "grid_auto_rows": null,
            "grid_column": null,
            "grid_gap": null,
            "grid_row": null,
            "grid_template_areas": null,
            "grid_template_columns": null,
            "grid_template_rows": null,
            "height": null,
            "justify_content": null,
            "justify_items": null,
            "left": null,
            "margin": null,
            "max_height": null,
            "max_width": null,
            "min_height": null,
            "min_width": null,
            "object_fit": null,
            "object_position": null,
            "order": null,
            "overflow": null,
            "overflow_x": null,
            "overflow_y": null,
            "padding": null,
            "right": null,
            "top": null,
            "visibility": null,
            "width": null
          }
        },
        "e8cfd83e0332407b80c34cdc18503f40": {
          "model_module": "@jupyter-widgets/controls",
          "model_name": "SliderStyleModel",
          "model_module_version": "1.5.0",
          "state": {
            "_model_module": "@jupyter-widgets/controls",
            "_model_module_version": "1.5.0",
            "_model_name": "SliderStyleModel",
            "_view_count": null,
            "_view_module": "@jupyter-widgets/base",
            "_view_module_version": "1.2.0",
            "_view_name": "StyleView",
            "description_width": "initial",
            "handle_color": null
          }
        },
        "013a1b2e873f41a4bab4eee902d40938": {
          "model_module": "@jupyter-widgets/base",
          "model_name": "LayoutModel",
          "model_module_version": "1.2.0",
          "state": {
            "_model_module": "@jupyter-widgets/base",
            "_model_module_version": "1.2.0",
            "_model_name": "LayoutModel",
            "_view_count": null,
            "_view_module": "@jupyter-widgets/base",
            "_view_module_version": "1.2.0",
            "_view_name": "LayoutView",
            "align_content": null,
            "align_items": null,
            "align_self": null,
            "border": null,
            "bottom": null,
            "display": null,
            "flex": null,
            "flex_flow": null,
            "grid_area": null,
            "grid_auto_columns": null,
            "grid_auto_flow": null,
            "grid_auto_rows": null,
            "grid_column": null,
            "grid_gap": null,
            "grid_row": null,
            "grid_template_areas": null,
            "grid_template_columns": null,
            "grid_template_rows": null,
            "height": null,
            "justify_content": null,
            "justify_items": null,
            "left": null,
            "margin": null,
            "max_height": null,
            "max_width": null,
            "min_height": null,
            "min_width": null,
            "object_fit": null,
            "object_position": null,
            "order": null,
            "overflow": null,
            "overflow_x": null,
            "overflow_y": null,
            "padding": null,
            "right": null,
            "top": null,
            "visibility": null,
            "width": null
          }
        },
        "0f47ddcf1cca4046ae57b5962ca3bce1": {
          "model_module": "@jupyter-widgets/controls",
          "model_name": "SliderStyleModel",
          "model_module_version": "1.5.0",
          "state": {
            "_model_module": "@jupyter-widgets/controls",
            "_model_module_version": "1.5.0",
            "_model_name": "SliderStyleModel",
            "_view_count": null,
            "_view_module": "@jupyter-widgets/base",
            "_view_module_version": "1.2.0",
            "_view_name": "StyleView",
            "description_width": "initial",
            "handle_color": null
          }
        },
        "b1810c576aa9413a8983ab51bc7cc9c5": {
          "model_module": "@jupyter-widgets/base",
          "model_name": "LayoutModel",
          "model_module_version": "1.2.0",
          "state": {
            "_model_module": "@jupyter-widgets/base",
            "_model_module_version": "1.2.0",
            "_model_name": "LayoutModel",
            "_view_count": null,
            "_view_module": "@jupyter-widgets/base",
            "_view_module_version": "1.2.0",
            "_view_name": "LayoutView",
            "align_content": null,
            "align_items": null,
            "align_self": null,
            "border": null,
            "bottom": null,
            "display": null,
            "flex": null,
            "flex_flow": null,
            "grid_area": null,
            "grid_auto_columns": null,
            "grid_auto_flow": null,
            "grid_auto_rows": null,
            "grid_column": null,
            "grid_gap": null,
            "grid_row": null,
            "grid_template_areas": null,
            "grid_template_columns": null,
            "grid_template_rows": null,
            "height": null,
            "justify_content": null,
            "justify_items": null,
            "left": null,
            "margin": null,
            "max_height": null,
            "max_width": null,
            "min_height": null,
            "min_width": null,
            "object_fit": null,
            "object_position": null,
            "order": null,
            "overflow": null,
            "overflow_x": null,
            "overflow_y": null,
            "padding": null,
            "right": null,
            "top": null,
            "visibility": null,
            "width": null
          }
        },
        "a81494a559d14d699d40f8eecb7f5358": {
          "model_module": "@jupyter-widgets/controls",
          "model_name": "ButtonStyleModel",
          "model_module_version": "1.5.0",
          "state": {
            "_model_module": "@jupyter-widgets/controls",
            "_model_module_version": "1.5.0",
            "_model_name": "ButtonStyleModel",
            "_view_count": null,
            "_view_module": "@jupyter-widgets/base",
            "_view_module_version": "1.2.0",
            "_view_name": "StyleView",
            "button_color": null,
            "font_weight": ""
          }
        },
        "838345886df34800a9e38536818be92d": {
          "model_module": "@jupyter-widgets/base",
          "model_name": "LayoutModel",
          "model_module_version": "1.2.0",
          "state": {
            "_model_module": "@jupyter-widgets/base",
            "_model_module_version": "1.2.0",
            "_model_name": "LayoutModel",
            "_view_count": null,
            "_view_module": "@jupyter-widgets/base",
            "_view_module_version": "1.2.0",
            "_view_name": "LayoutView",
            "align_content": null,
            "align_items": null,
            "align_self": null,
            "border": null,
            "bottom": null,
            "display": null,
            "flex": null,
            "flex_flow": null,
            "grid_area": null,
            "grid_auto_columns": null,
            "grid_auto_flow": null,
            "grid_auto_rows": null,
            "grid_column": null,
            "grid_gap": null,
            "grid_row": null,
            "grid_template_areas": null,
            "grid_template_columns": null,
            "grid_template_rows": null,
            "height": null,
            "justify_content": null,
            "justify_items": null,
            "left": null,
            "margin": null,
            "max_height": null,
            "max_width": null,
            "min_height": null,
            "min_width": null,
            "object_fit": null,
            "object_position": null,
            "order": null,
            "overflow": null,
            "overflow_x": null,
            "overflow_y": null,
            "padding": null,
            "right": null,
            "top": null,
            "visibility": null,
            "width": null
          }
        }
      }
    }
  },
  "nbformat": 4,
  "nbformat_minor": 5
}