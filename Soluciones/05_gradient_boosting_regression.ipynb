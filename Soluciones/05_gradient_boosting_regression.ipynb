{
  "cells": [
    {
      "cell_type": "markdown",
      "metadata": {
        "id": "view-in-github",
        "colab_type": "text"
      },
      "source": [
        "<a href=\"https://colab.research.google.com/github/santiago2588/distillation_column_training/blob/main/Soluciones/05_gradient_boosting_regression.ipynb\" target=\"_parent\"><img src=\"https://colab.research.google.com/assets/colab-badge.svg\" alt=\"Open In Colab\"/></a>"
      ]
    },
    {
      "cell_type": "code",
      "execution_count": 1,
      "id": "a0bbd9e9",
      "metadata": {
        "id": "a0bbd9e9"
      },
      "outputs": [],
      "source": [
        "# Data wrangling\n",
        "import pandas as pd\n",
        "import numpy as np"
      ]
    },
    {
      "cell_type": "code",
      "execution_count": 2,
      "id": "a6390121",
      "metadata": {
        "id": "a6390121"
      },
      "outputs": [],
      "source": [
        "# Data visualization\n",
        "import matplotlib.pyplot as plt\n",
        "import seaborn as sns\n",
        "import plotly.express as px\n",
        "from tqdm import tqdm"
      ]
    },
    {
      "cell_type": "code",
      "execution_count": 3,
      "id": "9b42e388",
      "metadata": {
        "id": "9b42e388"
      },
      "outputs": [],
      "source": [
        "# Models\n",
        "from sklearn.ensemble import GradientBoostingRegressor"
      ]
    },
    {
      "cell_type": "code",
      "execution_count": 4,
      "id": "9963d95c",
      "metadata": {
        "id": "9963d95c"
      },
      "outputs": [],
      "source": [
        "# Models Pipelines\n",
        "from sklearn.pipeline import Pipeline"
      ]
    },
    {
      "cell_type": "code",
      "source": [
        "# Install the optuna library\n",
        "!pip install optuna -q"
      ],
      "metadata": {
        "id": "RJ97nTFhLng2"
      },
      "id": "RJ97nTFhLng2",
      "execution_count": 5,
      "outputs": []
    },
    {
      "cell_type": "code",
      "execution_count": 6,
      "id": "5daecf1c",
      "metadata": {
        "id": "5daecf1c"
      },
      "outputs": [],
      "source": [
        "#Hyperparameter optimization\n",
        "import optuna"
      ]
    },
    {
      "cell_type": "code",
      "execution_count": 7,
      "id": "c5d5c5e5",
      "metadata": {
        "id": "c5d5c5e5"
      },
      "outputs": [],
      "source": [
        "# Model evaluation\n",
        "from sklearn.model_selection import train_test_split\n",
        "from sklearn.metrics import mean_squared_error, mean_absolute_error, r2_score"
      ]
    },
    {
      "cell_type": "code",
      "execution_count": 8,
      "id": "10e17ed6",
      "metadata": {
        "id": "10e17ed6"
      },
      "outputs": [],
      "source": [
        "# Save model\n",
        "import joblib"
      ]
    },
    {
      "cell_type": "code",
      "execution_count": 9,
      "id": "49fa3a41",
      "metadata": {
        "colab": {
          "base_uri": "https://localhost:8080/"
        },
        "id": "49fa3a41",
        "outputId": "29b13c49-8afb-44a0-b2ad-9461d204da42"
      },
      "outputs": [
        {
          "output_type": "stream",
          "name": "stdout",
          "text": [
            "--2025-07-08 10:00:19--  https://raw.githubusercontent.com/santiago2588/distillation_column_training/main/data/transformed_data.csv\n",
            "Resolving raw.githubusercontent.com (raw.githubusercontent.com)... 185.199.108.133, 185.199.109.133, 185.199.110.133, ...\n",
            "Connecting to raw.githubusercontent.com (raw.githubusercontent.com)|185.199.108.133|:443... connected.\n",
            "HTTP request sent, awaiting response... 200 OK\n",
            "Length: 12344 (12K) [text/plain]\n",
            "Saving to: ‘transformed_data.csv’\n",
            "\n",
            "\rtransformed_data.cs   0%[                    ]       0  --.-KB/s               \rtransformed_data.cs 100%[===================>]  12.05K  --.-KB/s    in 0.001s  \n",
            "\n",
            "2025-07-08 10:00:19 (18.0 MB/s) - ‘transformed_data.csv’ saved [12344/12344]\n",
            "\n"
          ]
        }
      ],
      "source": [
        "!wget https://raw.githubusercontent.com/santiago2588/distillation_column_training/main/data/transformed_data.csv -O transformed_data.csv"
      ]
    },
    {
      "cell_type": "code",
      "source": [
        "import pandas as pd\n",
        "\n",
        "# Read the CSV file into a DataFrame\n",
        "df = pd.read_csv(\"transformed_data.csv\")\n",
        "\n",
        "# Display the first few rows to confirm it loaded correctly\n",
        "df.head()"
      ],
      "metadata": {
        "colab": {
          "base_uri": "https://localhost:8080/",
          "height": 206
        },
        "id": "5U-2XjAyL-Vd",
        "outputId": "ec404042-9526-437e-b333-11a8231d2b5f"
      },
      "id": "5U-2XjAyL-Vd",
      "execution_count": 10,
      "outputs": [
        {
          "output_type": "execute_result",
          "data": {
            "text/plain": [
              "   PressureC1_diff    FlowC1     Temp1      Yield\n",
              "0           0.0000  432.0636  139.9857  69.400623\n",
              "1          -9.9628  487.4029  131.0470  66.532666\n",
              "2          -0.0695  437.3516  118.2666  71.102193\n",
              "3           0.2257  481.8314  118.1769  69.793481\n",
              "4          -0.1678  412.6471  120.7891  71.489516"
            ],
            "text/html": [
              "\n",
              "  <div id=\"df-ee92a029-b783-4793-a9e6-3ecabe997d09\" class=\"colab-df-container\">\n",
              "    <div>\n",
              "<style scoped>\n",
              "    .dataframe tbody tr th:only-of-type {\n",
              "        vertical-align: middle;\n",
              "    }\n",
              "\n",
              "    .dataframe tbody tr th {\n",
              "        vertical-align: top;\n",
              "    }\n",
              "\n",
              "    .dataframe thead th {\n",
              "        text-align: right;\n",
              "    }\n",
              "</style>\n",
              "<table border=\"1\" class=\"dataframe\">\n",
              "  <thead>\n",
              "    <tr style=\"text-align: right;\">\n",
              "      <th></th>\n",
              "      <th>PressureC1_diff</th>\n",
              "      <th>FlowC1</th>\n",
              "      <th>Temp1</th>\n",
              "      <th>Yield</th>\n",
              "    </tr>\n",
              "  </thead>\n",
              "  <tbody>\n",
              "    <tr>\n",
              "      <th>0</th>\n",
              "      <td>0.0000</td>\n",
              "      <td>432.0636</td>\n",
              "      <td>139.9857</td>\n",
              "      <td>69.400623</td>\n",
              "    </tr>\n",
              "    <tr>\n",
              "      <th>1</th>\n",
              "      <td>-9.9628</td>\n",
              "      <td>487.4029</td>\n",
              "      <td>131.0470</td>\n",
              "      <td>66.532666</td>\n",
              "    </tr>\n",
              "    <tr>\n",
              "      <th>2</th>\n",
              "      <td>-0.0695</td>\n",
              "      <td>437.3516</td>\n",
              "      <td>118.2666</td>\n",
              "      <td>71.102193</td>\n",
              "    </tr>\n",
              "    <tr>\n",
              "      <th>3</th>\n",
              "      <td>0.2257</td>\n",
              "      <td>481.8314</td>\n",
              "      <td>118.1769</td>\n",
              "      <td>69.793481</td>\n",
              "    </tr>\n",
              "    <tr>\n",
              "      <th>4</th>\n",
              "      <td>-0.1678</td>\n",
              "      <td>412.6471</td>\n",
              "      <td>120.7891</td>\n",
              "      <td>71.489516</td>\n",
              "    </tr>\n",
              "  </tbody>\n",
              "</table>\n",
              "</div>\n",
              "    <div class=\"colab-df-buttons\">\n",
              "\n",
              "  <div class=\"colab-df-container\">\n",
              "    <button class=\"colab-df-convert\" onclick=\"convertToInteractive('df-ee92a029-b783-4793-a9e6-3ecabe997d09')\"\n",
              "            title=\"Convert this dataframe to an interactive table.\"\n",
              "            style=\"display:none;\">\n",
              "\n",
              "  <svg xmlns=\"http://www.w3.org/2000/svg\" height=\"24px\" viewBox=\"0 -960 960 960\">\n",
              "    <path d=\"M120-120v-720h720v720H120Zm60-500h600v-160H180v160Zm220 220h160v-160H400v160Zm0 220h160v-160H400v160ZM180-400h160v-160H180v160Zm440 0h160v-160H620v160ZM180-180h160v-160H180v160Zm440 0h160v-160H620v160Z\"/>\n",
              "  </svg>\n",
              "    </button>\n",
              "\n",
              "  <style>\n",
              "    .colab-df-container {\n",
              "      display:flex;\n",
              "      gap: 12px;\n",
              "    }\n",
              "\n",
              "    .colab-df-convert {\n",
              "      background-color: #E8F0FE;\n",
              "      border: none;\n",
              "      border-radius: 50%;\n",
              "      cursor: pointer;\n",
              "      display: none;\n",
              "      fill: #1967D2;\n",
              "      height: 32px;\n",
              "      padding: 0 0 0 0;\n",
              "      width: 32px;\n",
              "    }\n",
              "\n",
              "    .colab-df-convert:hover {\n",
              "      background-color: #E2EBFA;\n",
              "      box-shadow: 0px 1px 2px rgba(60, 64, 67, 0.3), 0px 1px 3px 1px rgba(60, 64, 67, 0.15);\n",
              "      fill: #174EA6;\n",
              "    }\n",
              "\n",
              "    .colab-df-buttons div {\n",
              "      margin-bottom: 4px;\n",
              "    }\n",
              "\n",
              "    [theme=dark] .colab-df-convert {\n",
              "      background-color: #3B4455;\n",
              "      fill: #D2E3FC;\n",
              "    }\n",
              "\n",
              "    [theme=dark] .colab-df-convert:hover {\n",
              "      background-color: #434B5C;\n",
              "      box-shadow: 0px 1px 3px 1px rgba(0, 0, 0, 0.15);\n",
              "      filter: drop-shadow(0px 1px 2px rgba(0, 0, 0, 0.3));\n",
              "      fill: #FFFFFF;\n",
              "    }\n",
              "  </style>\n",
              "\n",
              "    <script>\n",
              "      const buttonEl =\n",
              "        document.querySelector('#df-ee92a029-b783-4793-a9e6-3ecabe997d09 button.colab-df-convert');\n",
              "      buttonEl.style.display =\n",
              "        google.colab.kernel.accessAllowed ? 'block' : 'none';\n",
              "\n",
              "      async function convertToInteractive(key) {\n",
              "        const element = document.querySelector('#df-ee92a029-b783-4793-a9e6-3ecabe997d09');\n",
              "        const dataTable =\n",
              "          await google.colab.kernel.invokeFunction('convertToInteractive',\n",
              "                                                    [key], {});\n",
              "        if (!dataTable) return;\n",
              "\n",
              "        const docLinkHtml = 'Like what you see? Visit the ' +\n",
              "          '<a target=\"_blank\" href=https://colab.research.google.com/notebooks/data_table.ipynb>data table notebook</a>'\n",
              "          + ' to learn more about interactive tables.';\n",
              "        element.innerHTML = '';\n",
              "        dataTable['output_type'] = 'display_data';\n",
              "        await google.colab.output.renderOutput(dataTable, element);\n",
              "        const docLink = document.createElement('div');\n",
              "        docLink.innerHTML = docLinkHtml;\n",
              "        element.appendChild(docLink);\n",
              "      }\n",
              "    </script>\n",
              "  </div>\n",
              "\n",
              "\n",
              "    <div id=\"df-bb9d1ed0-e216-4fa6-9f13-01a0813cacf0\">\n",
              "      <button class=\"colab-df-quickchart\" onclick=\"quickchart('df-bb9d1ed0-e216-4fa6-9f13-01a0813cacf0')\"\n",
              "                title=\"Suggest charts\"\n",
              "                style=\"display:none;\">\n",
              "\n",
              "<svg xmlns=\"http://www.w3.org/2000/svg\" height=\"24px\"viewBox=\"0 0 24 24\"\n",
              "     width=\"24px\">\n",
              "    <g>\n",
              "        <path d=\"M19 3H5c-1.1 0-2 .9-2 2v14c0 1.1.9 2 2 2h14c1.1 0 2-.9 2-2V5c0-1.1-.9-2-2-2zM9 17H7v-7h2v7zm4 0h-2V7h2v10zm4 0h-2v-4h2v4z\"/>\n",
              "    </g>\n",
              "</svg>\n",
              "      </button>\n",
              "\n",
              "<style>\n",
              "  .colab-df-quickchart {\n",
              "      --bg-color: #E8F0FE;\n",
              "      --fill-color: #1967D2;\n",
              "      --hover-bg-color: #E2EBFA;\n",
              "      --hover-fill-color: #174EA6;\n",
              "      --disabled-fill-color: #AAA;\n",
              "      --disabled-bg-color: #DDD;\n",
              "  }\n",
              "\n",
              "  [theme=dark] .colab-df-quickchart {\n",
              "      --bg-color: #3B4455;\n",
              "      --fill-color: #D2E3FC;\n",
              "      --hover-bg-color: #434B5C;\n",
              "      --hover-fill-color: #FFFFFF;\n",
              "      --disabled-bg-color: #3B4455;\n",
              "      --disabled-fill-color: #666;\n",
              "  }\n",
              "\n",
              "  .colab-df-quickchart {\n",
              "    background-color: var(--bg-color);\n",
              "    border: none;\n",
              "    border-radius: 50%;\n",
              "    cursor: pointer;\n",
              "    display: none;\n",
              "    fill: var(--fill-color);\n",
              "    height: 32px;\n",
              "    padding: 0;\n",
              "    width: 32px;\n",
              "  }\n",
              "\n",
              "  .colab-df-quickchart:hover {\n",
              "    background-color: var(--hover-bg-color);\n",
              "    box-shadow: 0 1px 2px rgba(60, 64, 67, 0.3), 0 1px 3px 1px rgba(60, 64, 67, 0.15);\n",
              "    fill: var(--button-hover-fill-color);\n",
              "  }\n",
              "\n",
              "  .colab-df-quickchart-complete:disabled,\n",
              "  .colab-df-quickchart-complete:disabled:hover {\n",
              "    background-color: var(--disabled-bg-color);\n",
              "    fill: var(--disabled-fill-color);\n",
              "    box-shadow: none;\n",
              "  }\n",
              "\n",
              "  .colab-df-spinner {\n",
              "    border: 2px solid var(--fill-color);\n",
              "    border-color: transparent;\n",
              "    border-bottom-color: var(--fill-color);\n",
              "    animation:\n",
              "      spin 1s steps(1) infinite;\n",
              "  }\n",
              "\n",
              "  @keyframes spin {\n",
              "    0% {\n",
              "      border-color: transparent;\n",
              "      border-bottom-color: var(--fill-color);\n",
              "      border-left-color: var(--fill-color);\n",
              "    }\n",
              "    20% {\n",
              "      border-color: transparent;\n",
              "      border-left-color: var(--fill-color);\n",
              "      border-top-color: var(--fill-color);\n",
              "    }\n",
              "    30% {\n",
              "      border-color: transparent;\n",
              "      border-left-color: var(--fill-color);\n",
              "      border-top-color: var(--fill-color);\n",
              "      border-right-color: var(--fill-color);\n",
              "    }\n",
              "    40% {\n",
              "      border-color: transparent;\n",
              "      border-right-color: var(--fill-color);\n",
              "      border-top-color: var(--fill-color);\n",
              "    }\n",
              "    60% {\n",
              "      border-color: transparent;\n",
              "      border-right-color: var(--fill-color);\n",
              "    }\n",
              "    80% {\n",
              "      border-color: transparent;\n",
              "      border-right-color: var(--fill-color);\n",
              "      border-bottom-color: var(--fill-color);\n",
              "    }\n",
              "    90% {\n",
              "      border-color: transparent;\n",
              "      border-bottom-color: var(--fill-color);\n",
              "    }\n",
              "  }\n",
              "</style>\n",
              "\n",
              "      <script>\n",
              "        async function quickchart(key) {\n",
              "          const quickchartButtonEl =\n",
              "            document.querySelector('#' + key + ' button');\n",
              "          quickchartButtonEl.disabled = true;  // To prevent multiple clicks.\n",
              "          quickchartButtonEl.classList.add('colab-df-spinner');\n",
              "          try {\n",
              "            const charts = await google.colab.kernel.invokeFunction(\n",
              "                'suggestCharts', [key], {});\n",
              "          } catch (error) {\n",
              "            console.error('Error during call to suggestCharts:', error);\n",
              "          }\n",
              "          quickchartButtonEl.classList.remove('colab-df-spinner');\n",
              "          quickchartButtonEl.classList.add('colab-df-quickchart-complete');\n",
              "        }\n",
              "        (() => {\n",
              "          let quickchartButtonEl =\n",
              "            document.querySelector('#df-bb9d1ed0-e216-4fa6-9f13-01a0813cacf0 button');\n",
              "          quickchartButtonEl.style.display =\n",
              "            google.colab.kernel.accessAllowed ? 'block' : 'none';\n",
              "        })();\n",
              "      </script>\n",
              "    </div>\n",
              "\n",
              "    </div>\n",
              "  </div>\n"
            ],
            "application/vnd.google.colaboratory.intrinsic+json": {
              "type": "dataframe",
              "variable_name": "df",
              "summary": "{\n  \"name\": \"df\",\n  \"rows\": 253,\n  \"fields\": [\n    {\n      \"column\": \"PressureC1_diff\",\n      \"properties\": {\n        \"dtype\": \"number\",\n        \"std\": 5.363855071106938,\n        \"min\": -29.8827,\n        \"max\": 38.14160000000001,\n        \"num_unique_values\": 230,\n        \"samples\": [\n          1.5603000000000122,\n          0.2546000000000106,\n          0.034700000000015\n        ],\n        \"semantic_type\": \"\",\n        \"description\": \"\"\n      }\n    },\n    {\n      \"column\": \"FlowC1\",\n      \"properties\": {\n        \"dtype\": \"number\",\n        \"std\": 83.15947312147954,\n        \"min\": 181.798024,\n        \"max\": 493.493212,\n        \"num_unique_values\": 249,\n        \"samples\": [\n          411.9007,\n          493.493212,\n          216.8331\n        ],\n        \"semantic_type\": \"\",\n        \"description\": \"\"\n      }\n    },\n    {\n      \"column\": \"Temp1\",\n      \"properties\": {\n        \"dtype\": \"number\",\n        \"std\": 11.921749338605228,\n        \"min\": 113.9631,\n        \"max\": 164.12032,\n        \"num_unique_values\": 246,\n        \"samples\": [\n          135.0188,\n          120.8903,\n          134.0731\n        ],\n        \"semantic_type\": \"\",\n        \"description\": \"\"\n      }\n    },\n    {\n      \"column\": \"Yield\",\n      \"properties\": {\n        \"dtype\": \"number\",\n        \"std\": 1.3458767417516304,\n        \"min\": 65.20380122,\n        \"max\": 73.47196291,\n        \"num_unique_values\": 253,\n        \"samples\": [\n          69.47875431,\n          69.16105249,\n          68.97093693\n        ],\n        \"semantic_type\": \"\",\n        \"description\": \"\"\n      }\n    }\n  ]\n}"
            }
          },
          "metadata": {},
          "execution_count": 10
        }
      ]
    },
    {
      "cell_type": "code",
      "execution_count": 11,
      "id": "8ef7e435",
      "metadata": {
        "id": "8ef7e435"
      },
      "outputs": [],
      "source": [
        "# Define features (X) and target variable (y)\n",
        "X = df.drop('Yield', axis=1)  # Features (all columns except 'Job Offer')\n",
        "y = df['Yield']  # Target variable"
      ]
    },
    {
      "cell_type": "code",
      "execution_count": 12,
      "id": "70582ae6",
      "metadata": {
        "colab": {
          "base_uri": "https://localhost:8080/"
        },
        "id": "70582ae6",
        "outputId": "55bbdbe9-0ea5-4387-9351-a9f2a3058196"
      },
      "outputs": [
        {
          "output_type": "stream",
          "name": "stdout",
          "text": [
            "Training data shape: (202, 3)\n",
            "Testing data shape: (51, 3)\n"
          ]
        }
      ],
      "source": [
        "from sklearn.model_selection import train_test_split\n",
        "# Split the data into training and testing sets\n",
        "X_train, X_test, y_train, y_test = train_test_split(X, y, test_size=0.2, random_state=42)\n",
        "# Check the shape of the data\n",
        "print(f\"Training data shape: {X_train.shape}\")\n",
        "print(f\"Testing data shape: {X_test.shape}\")"
      ]
    },
    {
      "cell_type": "code",
      "execution_count": 13,
      "id": "eea16c3d",
      "metadata": {
        "id": "eea16c3d"
      },
      "outputs": [],
      "source": [
        "def get_metrics(y_true, y_pred):\n",
        "\n",
        "    dict_metrics = {\n",
        "        'MSE': mean_squared_error(y_true, y_pred),\n",
        "        'MAE': mean_absolute_error(y_true, y_pred),\n",
        "        'R2 Score': r2_score(y_true, y_pred),\n",
        "\n",
        "    }\n",
        "    return dict_metrics"
      ]
    },
    {
      "cell_type": "code",
      "execution_count": 14,
      "id": "ed8e4a65",
      "metadata": {
        "colab": {
          "base_uri": "https://localhost:8080/"
        },
        "id": "ed8e4a65",
        "outputId": "d13e6a57-2aed-4eb9-a5fd-36c11495a2b7"
      },
      "outputs": [
        {
          "output_type": "execute_result",
          "data": {
            "text/plain": [
              "{'MSE': 0.5607937224219373,\n",
              " 'MAE': 0.554537030979557,\n",
              " 'R2 Score': 0.7250647125960571}"
            ]
          },
          "metadata": {},
          "execution_count": 14
        }
      ],
      "source": [
        "# Creating pipeline with Boosted Trees\n",
        "pip_model_bt = Pipeline(steps=[\n",
        "    ('model', GradientBoostingRegressor(random_state=2023))\n",
        "])\n",
        "\n",
        "# Fit pipeline\n",
        "pip_model_bt.fit(X_train, y_train)\n",
        "\n",
        "# Generate Predictions using the correctly fitted pipeline\n",
        "y_pred = pip_model_bt.predict(X_test)\n",
        "\n",
        "# Evaluate Metrics\n",
        "metrics = get_metrics(y_test, y_pred)\n",
        "\n",
        "# View Results\n",
        "metrics"
      ]
    },
    {
      "cell_type": "code",
      "execution_count": 15,
      "id": "c2ab6fe4",
      "metadata": {
        "colab": {
          "base_uri": "https://localhost:8080/"
        },
        "collapsed": true,
        "id": "c2ab6fe4",
        "outputId": "65002337-5531-4b30-964a-90f7b4c64c9d"
      },
      "outputs": [
        {
          "output_type": "stream",
          "name": "stderr",
          "text": [
            "[I 2025-07-08 10:00:20,053] A new study created in memory with name: no-name-178e0a0a-b293-42d5-ba68-6a0d087020e1\n",
            "[I 2025-07-08 10:00:20,723] Trial 0 finished with value: 0.6542110087952264 and parameters: {'n_estimators': 500, 'max_depth': 6, 'learning_rate': 0.1115991825252721, 'subsample': 0.9345981942740367, 'min_samples_split': 13, 'min_samples_leaf': 18}. Best is trial 0 with value: 0.6542110087952264.\n",
            "[I 2025-07-08 10:00:21,273] Trial 1 finished with value: 0.7003030386729351 and parameters: {'n_estimators': 333, 'max_depth': 3, 'learning_rate': 0.05778728715461497, 'subsample': 0.9297723063138956, 'min_samples_split': 5, 'min_samples_leaf': 15}. Best is trial 0 with value: 0.6542110087952264.\n",
            "[I 2025-07-08 10:00:21,962] Trial 2 finished with value: 0.4572427090202615 and parameters: {'n_estimators': 454, 'max_depth': 7, 'learning_rate': 0.15306725274419578, 'subsample': 0.5053794003384944, 'min_samples_split': 7, 'min_samples_leaf': 4}. Best is trial 2 with value: 0.4572427090202615.\n",
            "[I 2025-07-08 10:00:22,392] Trial 3 finished with value: 0.450354334846178 and parameters: {'n_estimators': 323, 'max_depth': 3, 'learning_rate': 0.05282728042910509, 'subsample': 0.5419941017420138, 'min_samples_split': 6, 'min_samples_leaf': 4}. Best is trial 3 with value: 0.450354334846178.\n",
            "[I 2025-07-08 10:00:22,940] Trial 4 finished with value: 0.4164936702987594 and parameters: {'n_estimators': 304, 'max_depth': 7, 'learning_rate': 0.0808020589171143, 'subsample': 0.5465758476166415, 'min_samples_split': 8, 'min_samples_leaf': 4}. Best is trial 4 with value: 0.4164936702987594.\n",
            "[I 2025-07-08 10:00:23,496] Trial 5 finished with value: 0.6817048205657732 and parameters: {'n_estimators': 311, 'max_depth': 8, 'learning_rate': 0.01508772560654591, 'subsample': 0.7713785044425521, 'min_samples_split': 6, 'min_samples_leaf': 13}. Best is trial 4 with value: 0.4164936702987594.\n",
            "[I 2025-07-08 10:00:24,235] Trial 6 finished with value: 0.9109616713413321 and parameters: {'n_estimators': 471, 'max_depth': 6, 'learning_rate': 0.15040379919708205, 'subsample': 0.6206106852410223, 'min_samples_split': 18, 'min_samples_leaf': 19}. Best is trial 4 with value: 0.4164936702987594.\n",
            "[I 2025-07-08 10:00:24,677] Trial 7 finished with value: 0.5096999832833248 and parameters: {'n_estimators': 212, 'max_depth': 5, 'learning_rate': 0.08141202721695254, 'subsample': 0.8183330704988135, 'min_samples_split': 5, 'min_samples_leaf': 7}. Best is trial 4 with value: 0.4164936702987594.\n",
            "[I 2025-07-08 10:00:26,702] Trial 8 finished with value: 0.525316308009681 and parameters: {'n_estimators': 306, 'max_depth': 6, 'learning_rate': 0.01432192121809607, 'subsample': 0.9182059161198788, 'min_samples_split': 8, 'min_samples_leaf': 7}. Best is trial 4 with value: 0.4164936702987594.\n",
            "[I 2025-07-08 10:00:27,830] Trial 9 finished with value: 0.8120891942556676 and parameters: {'n_estimators': 205, 'max_depth': 2, 'learning_rate': 0.0370018648481795, 'subsample': 0.8801539843277891, 'min_samples_split': 18, 'min_samples_leaf': 16}. Best is trial 4 with value: 0.4164936702987594.\n",
            "[I 2025-07-08 10:00:28,190] Trial 10 finished with value: 0.48951901661141534 and parameters: {'n_estimators': 50, 'max_depth': 10, 'learning_rate': 0.2936597495741006, 'subsample': 0.6679795732553924, 'min_samples_split': 12, 'min_samples_leaf': 1}. Best is trial 4 with value: 0.4164936702987594.\n",
            "[I 2025-07-08 10:00:29,453] Trial 11 finished with value: 0.6599991645567618 and parameters: {'n_estimators': 373, 'max_depth': 4, 'learning_rate': 0.03402437659667925, 'subsample': 0.5216962751954768, 'min_samples_split': 3, 'min_samples_leaf': 9}. Best is trial 4 with value: 0.4164936702987594.\n",
            "[I 2025-07-08 10:00:29,914] Trial 12 finished with value: 0.48597437597928184 and parameters: {'n_estimators': 222, 'max_depth': 9, 'learning_rate': 0.032800011701406624, 'subsample': 0.6009271236380463, 'min_samples_split': 10, 'min_samples_leaf': 1}. Best is trial 4 with value: 0.4164936702987594.\n",
            "[I 2025-07-08 10:00:30,564] Trial 13 finished with value: 0.516870640762612 and parameters: {'n_estimators': 388, 'max_depth': 2, 'learning_rate': 0.07541499400097197, 'subsample': 0.69779578893527, 'min_samples_split': 2, 'min_samples_leaf': 4}. Best is trial 4 with value: 0.4164936702987594.\n",
            "[I 2025-07-08 10:00:30,837] Trial 14 finished with value: 0.6356900560608397 and parameters: {'n_estimators': 117, 'max_depth': 4, 'learning_rate': 0.024095420169315426, 'subsample': 0.5775716786908673, 'min_samples_split': 15, 'min_samples_leaf': 4}. Best is trial 4 with value: 0.4164936702987594.\n",
            "[I 2025-07-08 10:00:31,266] Trial 15 finished with value: 0.6994281750003324 and parameters: {'n_estimators': 256, 'max_depth': 8, 'learning_rate': 0.047561835898454925, 'subsample': 0.5477561197936057, 'min_samples_split': 9, 'min_samples_leaf': 11}. Best is trial 4 with value: 0.4164936702987594.\n",
            "[I 2025-07-08 10:00:32,130] Trial 16 finished with value: 0.5643265690655836 and parameters: {'n_estimators': 399, 'max_depth': 4, 'learning_rate': 0.20498093060002137, 'subsample': 0.6575477942269734, 'min_samples_split': 14, 'min_samples_leaf': 6}. Best is trial 4 with value: 0.4164936702987594.\n",
            "[I 2025-07-08 10:00:32,488] Trial 17 finished with value: 0.6568670141020465 and parameters: {'n_estimators': 157, 'max_depth': 7, 'learning_rate': 0.08771528487483816, 'subsample': 0.7091503127123617, 'min_samples_split': 10, 'min_samples_leaf': 10}. Best is trial 4 with value: 0.4164936702987594.\n",
            "[I 2025-07-08 10:00:33,026] Trial 18 finished with value: 0.431871736057582 and parameters: {'n_estimators': 266, 'max_depth': 5, 'learning_rate': 0.05419989755874729, 'subsample': 0.7707525638304126, 'min_samples_split': 4, 'min_samples_leaf': 2}. Best is trial 4 with value: 0.4164936702987594.\n",
            "[I 2025-07-08 10:00:33,618] Trial 19 finished with value: 0.4589869264420623 and parameters: {'n_estimators': 268, 'max_depth': 5, 'learning_rate': 0.0238267295467718, 'subsample': 0.7955111132090619, 'min_samples_split': 3, 'min_samples_leaf': 1}. Best is trial 4 with value: 0.4164936702987594.\n",
            "[I 2025-07-08 10:00:33,954] Trial 20 finished with value: 0.4655719449165084 and parameters: {'n_estimators': 155, 'max_depth': 7, 'learning_rate': 0.12160026644355583, 'subsample': 0.998018076599051, 'min_samples_split': 4, 'min_samples_leaf': 6}. Best is trial 4 with value: 0.4164936702987594.\n",
            "[I 2025-07-08 10:00:34,958] Trial 21 finished with value: 0.49732429961591834 and parameters: {'n_estimators': 348, 'max_depth': 3, 'learning_rate': 0.05596278769465403, 'subsample': 0.7296924358150491, 'min_samples_split': 7, 'min_samples_leaf': 3}. Best is trial 4 with value: 0.4164936702987594.\n",
            "[I 2025-07-08 10:00:36,204] Trial 22 finished with value: 0.4362697709288921 and parameters: {'n_estimators': 283, 'max_depth': 5, 'learning_rate': 0.06467097276764891, 'subsample': 0.8410248437350633, 'min_samples_split': 8, 'min_samples_leaf': 3}. Best is trial 4 with value: 0.4164936702987594.\n",
            "[I 2025-07-08 10:00:36,909] Trial 23 finished with value: 0.4035361286756259 and parameters: {'n_estimators': 273, 'max_depth': 5, 'learning_rate': 0.06930582176406594, 'subsample': 0.8452723045373648, 'min_samples_split': 11, 'min_samples_leaf': 2}. Best is trial 23 with value: 0.4035361286756259.\n",
            "[I 2025-07-08 10:00:37,402] Trial 24 finished with value: 0.523161459442945 and parameters: {'n_estimators': 250, 'max_depth': 6, 'learning_rate': 0.09651615711807633, 'subsample': 0.7529131931583394, 'min_samples_split': 11, 'min_samples_leaf': 1}. Best is trial 23 with value: 0.4035361286756259.\n",
            "[I 2025-07-08 10:00:38,236] Trial 25 finished with value: 0.4285450845717009 and parameters: {'n_estimators': 424, 'max_depth': 8, 'learning_rate': 0.04288171620928693, 'subsample': 0.8612758712431927, 'min_samples_split': 15, 'min_samples_leaf': 6}. Best is trial 23 with value: 0.4035361286756259.\n",
            "[I 2025-07-08 10:00:39,837] Trial 26 finished with value: 0.4582281305328661 and parameters: {'n_estimators': 437, 'max_depth': 8, 'learning_rate': 0.022362843262923662, 'subsample': 0.8624089594198371, 'min_samples_split': 16, 'min_samples_leaf': 8}. Best is trial 23 with value: 0.4035361286756259.\n",
            "[I 2025-07-08 10:00:41,691] Trial 27 finished with value: 0.43877362835860123 and parameters: {'n_estimators': 419, 'max_depth': 9, 'learning_rate': 0.0417360045632143, 'subsample': 0.8873861553016095, 'min_samples_split': 20, 'min_samples_leaf': 6}. Best is trial 23 with value: 0.4035361286756259.\n",
            "[I 2025-07-08 10:00:43,091] Trial 28 finished with value: 0.4648513615379993 and parameters: {'n_estimators': 363, 'max_depth': 9, 'learning_rate': 0.027592993285920627, 'subsample': 0.9674503576077407, 'min_samples_split': 12, 'min_samples_leaf': 5}. Best is trial 23 with value: 0.4035361286756259.\n",
            "[I 2025-07-08 10:00:43,737] Trial 29 finished with value: 0.652926074613825 and parameters: {'n_estimators': 494, 'max_depth': 7, 'learning_rate': 0.10246795155352822, 'subsample': 0.7961668515461185, 'min_samples_split': 13, 'min_samples_leaf': 11}. Best is trial 23 with value: 0.4035361286756259.\n",
            "[I 2025-07-08 10:00:43,972] Trial 30 finished with value: 0.5095335747453215 and parameters: {'n_estimators': 178, 'max_depth': 10, 'learning_rate': 0.12750566589079526, 'subsample': 0.8337519188100597, 'min_samples_split': 16, 'min_samples_leaf': 8}. Best is trial 23 with value: 0.4035361286756259.\n",
            "[I 2025-07-08 10:00:44,326] Trial 31 finished with value: 0.4411086491495115 and parameters: {'n_estimators': 285, 'max_depth': 5, 'learning_rate': 0.06481204681577347, 'subsample': 0.8978304831821475, 'min_samples_split': 10, 'min_samples_leaf': 2}. Best is trial 23 with value: 0.4035361286756259.\n",
            "[I 2025-07-08 10:00:44,607] Trial 32 finished with value: 0.4118177716958691 and parameters: {'n_estimators': 236, 'max_depth': 6, 'learning_rate': 0.04460680079592444, 'subsample': 0.7891799186477952, 'min_samples_split': 13, 'min_samples_leaf': 3}. Best is trial 23 with value: 0.4035361286756259.\n",
            "[I 2025-07-08 10:00:44,897] Trial 33 finished with value: 0.41061813177095247 and parameters: {'n_estimators': 231, 'max_depth': 7, 'learning_rate': 0.0444459740763543, 'subsample': 0.801819122863237, 'min_samples_split': 14, 'min_samples_leaf': 3}. Best is trial 23 with value: 0.4035361286756259.\n",
            "[I 2025-07-08 10:00:45,200] Trial 34 finished with value: 0.397384979680851 and parameters: {'n_estimators': 235, 'max_depth': 7, 'learning_rate': 0.07209351078881766, 'subsample': 0.813931144488546, 'min_samples_split': 13, 'min_samples_leaf': 3}. Best is trial 34 with value: 0.397384979680851.\n",
            "[I 2025-07-08 10:00:45,479] Trial 35 finished with value: 0.3976180355386777 and parameters: {'n_estimators': 228, 'max_depth': 6, 'learning_rate': 0.06675658430287464, 'subsample': 0.80734619948075, 'min_samples_split': 13, 'min_samples_leaf': 3}. Best is trial 34 with value: 0.397384979680851.\n",
            "[I 2025-07-08 10:00:45,724] Trial 36 finished with value: 0.44495611130224355 and parameters: {'n_estimators': 187, 'max_depth': 7, 'learning_rate': 0.06951638585130389, 'subsample': 0.8211484709705443, 'min_samples_split': 12, 'min_samples_leaf': 2}. Best is trial 34 with value: 0.397384979680851.\n",
            "[I 2025-07-08 10:00:45,864] Trial 37 finished with value: 0.8080397926799257 and parameters: {'n_estimators': 91, 'max_depth': 6, 'learning_rate': 0.017529862091183946, 'subsample': 0.9342536537542521, 'min_samples_split': 14, 'min_samples_leaf': 5}. Best is trial 34 with value: 0.397384979680851.\n",
            "[I 2025-07-08 10:00:46,221] Trial 38 finished with value: 0.7574407683624381 and parameters: {'n_estimators': 331, 'max_depth': 6, 'learning_rate': 0.01025610890480908, 'subsample': 0.7419125181088165, 'min_samples_split': 17, 'min_samples_leaf': 13}. Best is trial 34 with value: 0.397384979680851.\n",
            "[I 2025-07-08 10:00:46,523] Trial 39 finished with value: 0.3922943377911464 and parameters: {'n_estimators': 236, 'max_depth': 7, 'learning_rate': 0.17033817772431828, 'subsample': 0.8526859258805682, 'min_samples_split': 14, 'min_samples_leaf': 3}. Best is trial 39 with value: 0.3922943377911464.\n",
            "[I 2025-07-08 10:00:46,826] Trial 40 finished with value: 0.7544139054546545 and parameters: {'n_estimators': 298, 'max_depth': 4, 'learning_rate': 0.18912093071406058, 'subsample': 0.859140774324823, 'min_samples_split': 12, 'min_samples_leaf': 20}. Best is trial 39 with value: 0.3922943377911464.\n",
            "[I 2025-07-08 10:00:47,108] Trial 41 finished with value: 0.4767077707636493 and parameters: {'n_estimators': 223, 'max_depth': 7, 'learning_rate': 0.2837217057454466, 'subsample': 0.8026949972020837, 'min_samples_split': 14, 'min_samples_leaf': 3}. Best is trial 39 with value: 0.3922943377911464.\n",
            "[I 2025-07-08 10:00:47,386] Trial 42 finished with value: 0.48136528929220285 and parameters: {'n_estimators': 189, 'max_depth': 8, 'learning_rate': 0.15095093950162658, 'subsample': 0.9068675817438786, 'min_samples_split': 11, 'min_samples_leaf': 5}. Best is trial 39 with value: 0.3922943377911464.\n",
            "[I 2025-07-08 10:00:47,690] Trial 43 finished with value: 0.5089976187147947 and parameters: {'n_estimators': 246, 'max_depth': 7, 'learning_rate': 0.19147450383058373, 'subsample': 0.7697978235409344, 'min_samples_split': 15, 'min_samples_leaf': 2}. Best is trial 39 with value: 0.3922943377911464.\n",
            "[I 2025-07-08 10:00:47,949] Trial 44 finished with value: 0.40208028679933083 and parameters: {'n_estimators': 206, 'max_depth': 6, 'learning_rate': 0.08256183308812641, 'subsample': 0.8446152432494465, 'min_samples_split': 13, 'min_samples_leaf': 4}. Best is trial 39 with value: 0.3922943377911464.\n",
            "[I 2025-07-08 10:00:48,159] Trial 45 finished with value: 0.40739620016729977 and parameters: {'n_estimators': 158, 'max_depth': 6, 'learning_rate': 0.08484611131278814, 'subsample': 0.8414906679024852, 'min_samples_split': 13, 'min_samples_leaf': 4}. Best is trial 39 with value: 0.3922943377911464.\n",
            "[I 2025-07-08 10:00:48,424] Trial 46 finished with value: 0.4418528537018757 and parameters: {'n_estimators': 204, 'max_depth': 5, 'learning_rate': 0.11244581850028154, 'subsample': 0.8748831538779487, 'min_samples_split': 11, 'min_samples_leaf': 4}. Best is trial 39 with value: 0.3922943377911464.\n",
            "[I 2025-07-08 10:00:48,593] Trial 47 finished with value: 0.5683763319710118 and parameters: {'n_estimators': 128, 'max_depth': 5, 'learning_rate': 0.23696593777750755, 'subsample': 0.8235582818022822, 'min_samples_split': 9, 'min_samples_leaf': 1}. Best is trial 39 with value: 0.3922943377911464.\n",
            "[I 2025-07-08 10:00:48,963] Trial 48 finished with value: 0.4117956049685058 and parameters: {'n_estimators': 316, 'max_depth': 6, 'learning_rate': 0.0753070886929672, 'subsample': 0.8483870824738564, 'min_samples_split': 16, 'min_samples_leaf': 5}. Best is trial 39 with value: 0.3922943377911464.\n",
            "[I 2025-07-08 10:00:49,206] Trial 49 finished with value: 0.6368186943258882 and parameters: {'n_estimators': 210, 'max_depth': 6, 'learning_rate': 0.09868089349076994, 'subsample': 0.9068920763820421, 'min_samples_split': 18, 'min_samples_leaf': 15}. Best is trial 39 with value: 0.3922943377911464.\n"
          ]
        },
        {
          "output_type": "stream",
          "name": "stdout",
          "text": [
            "Best hyperparameters: {'n_estimators': 236, 'max_depth': 7, 'learning_rate': 0.17033817772431828, 'subsample': 0.8526859258805682, 'min_samples_split': 14, 'min_samples_leaf': 3}\n"
          ]
        }
      ],
      "source": [
        "#Optimize hyperparameters with Optuna\n",
        "\n",
        "# Define the objective function\n",
        "def objective(trial):\n",
        "    # Suggest hyperparameters to tune\n",
        "    n_estimators = trial.suggest_int(\"n_estimators\", 50, 500)\n",
        "    max_depth = trial.suggest_int(\"max_depth\", 2, 10)\n",
        "    learning_rate = trial.suggest_float(\"learning_rate\", 0.01, 0.3, log=True)\n",
        "    subsample = trial.suggest_float(\"subsample\", 0.5, 1.0)\n",
        "    min_samples_split = trial.suggest_int(\"min_samples_split\", 2, 20)\n",
        "    min_samples_leaf = trial.suggest_int(\"min_samples_leaf\", 1, 20)\n",
        "\n",
        "    # Create the pipeline with the suggested hyperparameters\n",
        "    pip_model_bt = Pipeline(steps=[\n",
        "        ('model', GradientBoostingRegressor(\n",
        "            n_estimators=n_estimators,\n",
        "            max_depth=max_depth,\n",
        "            learning_rate=learning_rate,\n",
        "            subsample=subsample,\n",
        "            min_samples_split=min_samples_split,\n",
        "            min_samples_leaf=min_samples_leaf,\n",
        "            random_state=2023\n",
        "        ))\n",
        "    ])\n",
        "\n",
        "    # Fit the pipeline\n",
        "    pip_model_bt.fit(X_train, y_train)\n",
        "\n",
        "    # Predict on the test set\n",
        "    y_pred = pip_model_bt.predict(X_test)\n",
        "\n",
        "    # Calculate the evaluation metric (MSE in this case)\n",
        "    mse = mean_squared_error(y_test, y_pred)\n",
        "    return mse  # Optuna minimizes the objective function by default\n",
        "\n",
        "# Create a study object\n",
        "study = optuna.create_study(direction=\"minimize\")  # We want to minimize MSE\n",
        "\n",
        "# Optimize the study\n",
        "study.optimize(objective, n_trials=50)  # Run 50 trials (you can increase this for better results)\n",
        "\n",
        "# Print the best hyperparameters\n",
        "best_params = study.best_params\n",
        "print(\"Best hyperparameters:\", study.best_params)"
      ]
    },
    {
      "cell_type": "code",
      "execution_count": 16,
      "id": "9d68deec",
      "metadata": {
        "colab": {
          "base_uri": "https://localhost:8080/"
        },
        "id": "9d68deec",
        "outputId": "159c299b-5b29-4fab-f45e-a7a1e2822326"
      },
      "outputs": [
        {
          "output_type": "stream",
          "name": "stdout",
          "text": [
            "Model Metrics:\n",
            "MSE: 0.3922943377911464\n",
            "MAE: 0.4934977796945559\n",
            "R2 Score: 0.8076733882794813\n",
            "\n",
            "Best Hyperparameters:\n",
            "n_estimators: 236\n",
            "max_depth: 7\n",
            "learning_rate: 0.17033817772431828\n",
            "subsample: 0.8526859258805682\n",
            "min_samples_split: 14\n",
            "min_samples_leaf: 3\n"
          ]
        }
      ],
      "source": [
        "# Train the final model\n",
        "final_model = GradientBoostingRegressor(\n",
        "    n_estimators=best_params[\"n_estimators\"],\n",
        "    max_depth=best_params[\"max_depth\"],\n",
        "    learning_rate=best_params[\"learning_rate\"],\n",
        "    subsample=best_params[\"subsample\"],\n",
        "    min_samples_split=best_params[\"min_samples_split\"],\n",
        "    min_samples_leaf=best_params[\"min_samples_leaf\"],\n",
        "    random_state=2023\n",
        ")\n",
        "\n",
        "# Fit the final model\n",
        "final_model.fit(X_train, y_train)\n",
        "\n",
        "# Log metrics\n",
        "y_pred = final_model.predict(X_test)\n",
        "metrics = get_metrics(y_test, y_pred)\n",
        "\n",
        "# Print metrics\n",
        "print(\"Model Metrics:\")\n",
        "for metric_name, metric_value in metrics.items():\n",
        "    print(f\"{metric_name}: {metric_value}\")\n",
        "\n",
        "# Print best parameters\n",
        "print(\"\\nBest Hyperparameters:\")\n",
        "for param_name, param_value in best_params.items():\n",
        "    print(f\"{param_name}: {param_value}\")"
      ]
    },
    {
      "cell_type": "code",
      "execution_count": 17,
      "id": "2d7c9c95",
      "metadata": {
        "colab": {
          "base_uri": "https://localhost:8080/",
          "height": 542
        },
        "id": "2d7c9c95",
        "outputId": "2c83ef0f-3d89-4c4d-d8a1-05dfa6706b9e"
      },
      "outputs": [
        {
          "output_type": "display_data",
          "data": {
            "text/html": [
              "<html>\n",
              "<head><meta charset=\"utf-8\" /></head>\n",
              "<body>\n",
              "    <div>            <script src=\"https://cdnjs.cloudflare.com/ajax/libs/mathjax/2.7.5/MathJax.js?config=TeX-AMS-MML_SVG\"></script><script type=\"text/javascript\">if (window.MathJax && window.MathJax.Hub && window.MathJax.Hub.Config) {window.MathJax.Hub.Config({SVG: {font: \"STIX-Web\"}});}</script>                <script type=\"text/javascript\">window.PlotlyConfig = {MathJaxConfig: 'local'};</script>\n",
              "        <script charset=\"utf-8\" src=\"https://cdn.plot.ly/plotly-2.35.2.min.js\"></script>                <div id=\"1bd8f64f-89e5-4329-a0a6-137e11424d9b\" class=\"plotly-graph-div\" style=\"height:525px; width:100%;\"></div>            <script type=\"text/javascript\">                                    window.PLOTLYENV=window.PLOTLYENV || {};                                    if (document.getElementById(\"1bd8f64f-89e5-4329-a0a6-137e11424d9b\")) {                    Plotly.newPlot(                        \"1bd8f64f-89e5-4329-a0a6-137e11424d9b\",                        [{\"mode\":\"markers\",\"name\":\"Objective Value\",\"x\":[0,1,2,3,4,5,6,7,8,9,10,11,12,13,14,15,16,17,18,19,20,21,22,23,24,25,26,27,28,29,30,31,32,33,34,35,36,37,38,39,40,41,42,43,44,45,46,47,48,49],\"y\":[0.6542110087952264,0.7003030386729351,0.4572427090202615,0.450354334846178,0.4164936702987594,0.6817048205657732,0.9109616713413321,0.5096999832833248,0.525316308009681,0.8120891942556676,0.48951901661141534,0.6599991645567618,0.48597437597928184,0.516870640762612,0.6356900560608397,0.6994281750003324,0.5643265690655836,0.6568670141020465,0.431871736057582,0.4589869264420623,0.4655719449165084,0.49732429961591834,0.4362697709288921,0.4035361286756259,0.523161459442945,0.4285450845717009,0.4582281305328661,0.43877362835860123,0.4648513615379993,0.652926074613825,0.5095335747453215,0.4411086491495115,0.4118177716958691,0.41061813177095247,0.397384979680851,0.3976180355386777,0.44495611130224355,0.8080397926799257,0.7574407683624381,0.3922943377911464,0.7544139054546545,0.4767077707636493,0.48136528929220285,0.5089976187147947,0.40208028679933083,0.40739620016729977,0.4418528537018757,0.5683763319710118,0.4117956049685058,0.6368186943258882],\"type\":\"scatter\"},{\"mode\":\"lines\",\"name\":\"Best Value\",\"x\":[0,1,2,3,4,5,6,7,8,9,10,11,12,13,14,15,16,17,18,19,20,21,22,23,24,25,26,27,28,29,30,31,32,33,34,35,36,37,38,39,40,41,42,43,44,45,46,47,48,49],\"y\":[0.6542110087952264,0.6542110087952264,0.4572427090202615,0.450354334846178,0.4164936702987594,0.4164936702987594,0.4164936702987594,0.4164936702987594,0.4164936702987594,0.4164936702987594,0.4164936702987594,0.4164936702987594,0.4164936702987594,0.4164936702987594,0.4164936702987594,0.4164936702987594,0.4164936702987594,0.4164936702987594,0.4164936702987594,0.4164936702987594,0.4164936702987594,0.4164936702987594,0.4164936702987594,0.4035361286756259,0.4035361286756259,0.4035361286756259,0.4035361286756259,0.4035361286756259,0.4035361286756259,0.4035361286756259,0.4035361286756259,0.4035361286756259,0.4035361286756259,0.4035361286756259,0.397384979680851,0.397384979680851,0.397384979680851,0.397384979680851,0.397384979680851,0.3922943377911464,0.3922943377911464,0.3922943377911464,0.3922943377911464,0.3922943377911464,0.3922943377911464,0.3922943377911464,0.3922943377911464,0.3922943377911464,0.3922943377911464,0.3922943377911464],\"type\":\"scatter\"},{\"marker\":{\"color\":\"#cccccc\"},\"mode\":\"markers\",\"name\":\"Infeasible Trial\",\"showlegend\":false,\"x\":[],\"y\":[],\"type\":\"scatter\"}],                        {\"title\":{\"text\":\"Optimization History Plot\"},\"xaxis\":{\"title\":{\"text\":\"Trial\"}},\"yaxis\":{\"title\":{\"text\":\"Objective Value\"}},\"template\":{\"data\":{\"histogram2dcontour\":[{\"type\":\"histogram2dcontour\",\"colorbar\":{\"outlinewidth\":0,\"ticks\":\"\"},\"colorscale\":[[0.0,\"#0d0887\"],[0.1111111111111111,\"#46039f\"],[0.2222222222222222,\"#7201a8\"],[0.3333333333333333,\"#9c179e\"],[0.4444444444444444,\"#bd3786\"],[0.5555555555555556,\"#d8576b\"],[0.6666666666666666,\"#ed7953\"],[0.7777777777777778,\"#fb9f3a\"],[0.8888888888888888,\"#fdca26\"],[1.0,\"#f0f921\"]]}],\"choropleth\":[{\"type\":\"choropleth\",\"colorbar\":{\"outlinewidth\":0,\"ticks\":\"\"}}],\"histogram2d\":[{\"type\":\"histogram2d\",\"colorbar\":{\"outlinewidth\":0,\"ticks\":\"\"},\"colorscale\":[[0.0,\"#0d0887\"],[0.1111111111111111,\"#46039f\"],[0.2222222222222222,\"#7201a8\"],[0.3333333333333333,\"#9c179e\"],[0.4444444444444444,\"#bd3786\"],[0.5555555555555556,\"#d8576b\"],[0.6666666666666666,\"#ed7953\"],[0.7777777777777778,\"#fb9f3a\"],[0.8888888888888888,\"#fdca26\"],[1.0,\"#f0f921\"]]}],\"heatmap\":[{\"type\":\"heatmap\",\"colorbar\":{\"outlinewidth\":0,\"ticks\":\"\"},\"colorscale\":[[0.0,\"#0d0887\"],[0.1111111111111111,\"#46039f\"],[0.2222222222222222,\"#7201a8\"],[0.3333333333333333,\"#9c179e\"],[0.4444444444444444,\"#bd3786\"],[0.5555555555555556,\"#d8576b\"],[0.6666666666666666,\"#ed7953\"],[0.7777777777777778,\"#fb9f3a\"],[0.8888888888888888,\"#fdca26\"],[1.0,\"#f0f921\"]]}],\"heatmapgl\":[{\"type\":\"heatmapgl\",\"colorbar\":{\"outlinewidth\":0,\"ticks\":\"\"},\"colorscale\":[[0.0,\"#0d0887\"],[0.1111111111111111,\"#46039f\"],[0.2222222222222222,\"#7201a8\"],[0.3333333333333333,\"#9c179e\"],[0.4444444444444444,\"#bd3786\"],[0.5555555555555556,\"#d8576b\"],[0.6666666666666666,\"#ed7953\"],[0.7777777777777778,\"#fb9f3a\"],[0.8888888888888888,\"#fdca26\"],[1.0,\"#f0f921\"]]}],\"contourcarpet\":[{\"type\":\"contourcarpet\",\"colorbar\":{\"outlinewidth\":0,\"ticks\":\"\"}}],\"contour\":[{\"type\":\"contour\",\"colorbar\":{\"outlinewidth\":0,\"ticks\":\"\"},\"colorscale\":[[0.0,\"#0d0887\"],[0.1111111111111111,\"#46039f\"],[0.2222222222222222,\"#7201a8\"],[0.3333333333333333,\"#9c179e\"],[0.4444444444444444,\"#bd3786\"],[0.5555555555555556,\"#d8576b\"],[0.6666666666666666,\"#ed7953\"],[0.7777777777777778,\"#fb9f3a\"],[0.8888888888888888,\"#fdca26\"],[1.0,\"#f0f921\"]]}],\"surface\":[{\"type\":\"surface\",\"colorbar\":{\"outlinewidth\":0,\"ticks\":\"\"},\"colorscale\":[[0.0,\"#0d0887\"],[0.1111111111111111,\"#46039f\"],[0.2222222222222222,\"#7201a8\"],[0.3333333333333333,\"#9c179e\"],[0.4444444444444444,\"#bd3786\"],[0.5555555555555556,\"#d8576b\"],[0.6666666666666666,\"#ed7953\"],[0.7777777777777778,\"#fb9f3a\"],[0.8888888888888888,\"#fdca26\"],[1.0,\"#f0f921\"]]}],\"mesh3d\":[{\"type\":\"mesh3d\",\"colorbar\":{\"outlinewidth\":0,\"ticks\":\"\"}}],\"scatter\":[{\"fillpattern\":{\"fillmode\":\"overlay\",\"size\":10,\"solidity\":0.2},\"type\":\"scatter\"}],\"parcoords\":[{\"type\":\"parcoords\",\"line\":{\"colorbar\":{\"outlinewidth\":0,\"ticks\":\"\"}}}],\"scatterpolargl\":[{\"type\":\"scatterpolargl\",\"marker\":{\"colorbar\":{\"outlinewidth\":0,\"ticks\":\"\"}}}],\"bar\":[{\"error_x\":{\"color\":\"#2a3f5f\"},\"error_y\":{\"color\":\"#2a3f5f\"},\"marker\":{\"line\":{\"color\":\"#E5ECF6\",\"width\":0.5},\"pattern\":{\"fillmode\":\"overlay\",\"size\":10,\"solidity\":0.2}},\"type\":\"bar\"}],\"scattergeo\":[{\"type\":\"scattergeo\",\"marker\":{\"colorbar\":{\"outlinewidth\":0,\"ticks\":\"\"}}}],\"scatterpolar\":[{\"type\":\"scatterpolar\",\"marker\":{\"colorbar\":{\"outlinewidth\":0,\"ticks\":\"\"}}}],\"histogram\":[{\"marker\":{\"pattern\":{\"fillmode\":\"overlay\",\"size\":10,\"solidity\":0.2}},\"type\":\"histogram\"}],\"scattergl\":[{\"type\":\"scattergl\",\"marker\":{\"colorbar\":{\"outlinewidth\":0,\"ticks\":\"\"}}}],\"scatter3d\":[{\"type\":\"scatter3d\",\"line\":{\"colorbar\":{\"outlinewidth\":0,\"ticks\":\"\"}},\"marker\":{\"colorbar\":{\"outlinewidth\":0,\"ticks\":\"\"}}}],\"scattermapbox\":[{\"type\":\"scattermapbox\",\"marker\":{\"colorbar\":{\"outlinewidth\":0,\"ticks\":\"\"}}}],\"scatterternary\":[{\"type\":\"scatterternary\",\"marker\":{\"colorbar\":{\"outlinewidth\":0,\"ticks\":\"\"}}}],\"scattercarpet\":[{\"type\":\"scattercarpet\",\"marker\":{\"colorbar\":{\"outlinewidth\":0,\"ticks\":\"\"}}}],\"carpet\":[{\"aaxis\":{\"endlinecolor\":\"#2a3f5f\",\"gridcolor\":\"white\",\"linecolor\":\"white\",\"minorgridcolor\":\"white\",\"startlinecolor\":\"#2a3f5f\"},\"baxis\":{\"endlinecolor\":\"#2a3f5f\",\"gridcolor\":\"white\",\"linecolor\":\"white\",\"minorgridcolor\":\"white\",\"startlinecolor\":\"#2a3f5f\"},\"type\":\"carpet\"}],\"table\":[{\"cells\":{\"fill\":{\"color\":\"#EBF0F8\"},\"line\":{\"color\":\"white\"}},\"header\":{\"fill\":{\"color\":\"#C8D4E3\"},\"line\":{\"color\":\"white\"}},\"type\":\"table\"}],\"barpolar\":[{\"marker\":{\"line\":{\"color\":\"#E5ECF6\",\"width\":0.5},\"pattern\":{\"fillmode\":\"overlay\",\"size\":10,\"solidity\":0.2}},\"type\":\"barpolar\"}],\"pie\":[{\"automargin\":true,\"type\":\"pie\"}]},\"layout\":{\"autotypenumbers\":\"strict\",\"colorway\":[\"#636efa\",\"#EF553B\",\"#00cc96\",\"#ab63fa\",\"#FFA15A\",\"#19d3f3\",\"#FF6692\",\"#B6E880\",\"#FF97FF\",\"#FECB52\"],\"font\":{\"color\":\"#2a3f5f\"},\"hovermode\":\"closest\",\"hoverlabel\":{\"align\":\"left\"},\"paper_bgcolor\":\"white\",\"plot_bgcolor\":\"#E5ECF6\",\"polar\":{\"bgcolor\":\"#E5ECF6\",\"angularaxis\":{\"gridcolor\":\"white\",\"linecolor\":\"white\",\"ticks\":\"\"},\"radialaxis\":{\"gridcolor\":\"white\",\"linecolor\":\"white\",\"ticks\":\"\"}},\"ternary\":{\"bgcolor\":\"#E5ECF6\",\"aaxis\":{\"gridcolor\":\"white\",\"linecolor\":\"white\",\"ticks\":\"\"},\"baxis\":{\"gridcolor\":\"white\",\"linecolor\":\"white\",\"ticks\":\"\"},\"caxis\":{\"gridcolor\":\"white\",\"linecolor\":\"white\",\"ticks\":\"\"}},\"coloraxis\":{\"colorbar\":{\"outlinewidth\":0,\"ticks\":\"\"}},\"colorscale\":{\"sequential\":[[0.0,\"#0d0887\"],[0.1111111111111111,\"#46039f\"],[0.2222222222222222,\"#7201a8\"],[0.3333333333333333,\"#9c179e\"],[0.4444444444444444,\"#bd3786\"],[0.5555555555555556,\"#d8576b\"],[0.6666666666666666,\"#ed7953\"],[0.7777777777777778,\"#fb9f3a\"],[0.8888888888888888,\"#fdca26\"],[1.0,\"#f0f921\"]],\"sequentialminus\":[[0.0,\"#0d0887\"],[0.1111111111111111,\"#46039f\"],[0.2222222222222222,\"#7201a8\"],[0.3333333333333333,\"#9c179e\"],[0.4444444444444444,\"#bd3786\"],[0.5555555555555556,\"#d8576b\"],[0.6666666666666666,\"#ed7953\"],[0.7777777777777778,\"#fb9f3a\"],[0.8888888888888888,\"#fdca26\"],[1.0,\"#f0f921\"]],\"diverging\":[[0,\"#8e0152\"],[0.1,\"#c51b7d\"],[0.2,\"#de77ae\"],[0.3,\"#f1b6da\"],[0.4,\"#fde0ef\"],[0.5,\"#f7f7f7\"],[0.6,\"#e6f5d0\"],[0.7,\"#b8e186\"],[0.8,\"#7fbc41\"],[0.9,\"#4d9221\"],[1,\"#276419\"]]},\"xaxis\":{\"gridcolor\":\"white\",\"linecolor\":\"white\",\"ticks\":\"\",\"title\":{\"standoff\":15},\"zerolinecolor\":\"white\",\"automargin\":true,\"zerolinewidth\":2},\"yaxis\":{\"gridcolor\":\"white\",\"linecolor\":\"white\",\"ticks\":\"\",\"title\":{\"standoff\":15},\"zerolinecolor\":\"white\",\"automargin\":true,\"zerolinewidth\":2},\"scene\":{\"xaxis\":{\"backgroundcolor\":\"#E5ECF6\",\"gridcolor\":\"white\",\"linecolor\":\"white\",\"showbackground\":true,\"ticks\":\"\",\"zerolinecolor\":\"white\",\"gridwidth\":2},\"yaxis\":{\"backgroundcolor\":\"#E5ECF6\",\"gridcolor\":\"white\",\"linecolor\":\"white\",\"showbackground\":true,\"ticks\":\"\",\"zerolinecolor\":\"white\",\"gridwidth\":2},\"zaxis\":{\"backgroundcolor\":\"#E5ECF6\",\"gridcolor\":\"white\",\"linecolor\":\"white\",\"showbackground\":true,\"ticks\":\"\",\"zerolinecolor\":\"white\",\"gridwidth\":2}},\"shapedefaults\":{\"line\":{\"color\":\"#2a3f5f\"}},\"annotationdefaults\":{\"arrowcolor\":\"#2a3f5f\",\"arrowhead\":0,\"arrowwidth\":1},\"geo\":{\"bgcolor\":\"white\",\"landcolor\":\"#E5ECF6\",\"subunitcolor\":\"white\",\"showland\":true,\"showlakes\":true,\"lakecolor\":\"white\"},\"title\":{\"x\":0.05},\"mapbox\":{\"style\":\"light\"}}}},                        {\"responsive\": true}                    ).then(function(){\n",
              "                            \n",
              "var gd = document.getElementById('1bd8f64f-89e5-4329-a0a6-137e11424d9b');\n",
              "var x = new MutationObserver(function (mutations, observer) {{\n",
              "        var display = window.getComputedStyle(gd).display;\n",
              "        if (!display || display === 'none') {{\n",
              "            console.log([gd, 'removed!']);\n",
              "            Plotly.purge(gd);\n",
              "            observer.disconnect();\n",
              "        }}\n",
              "}});\n",
              "\n",
              "// Listen for the removal of the full notebook cells\n",
              "var notebookContainer = gd.closest('#notebook-container');\n",
              "if (notebookContainer) {{\n",
              "    x.observe(notebookContainer, {childList: true});\n",
              "}}\n",
              "\n",
              "// Listen for the clearing of the current output cell\n",
              "var outputEl = gd.closest('.output');\n",
              "if (outputEl) {{\n",
              "    x.observe(outputEl, {childList: true});\n",
              "}}\n",
              "\n",
              "                        })                };                            </script>        </div>\n",
              "</body>\n",
              "</html>"
            ]
          },
          "metadata": {}
        }
      ],
      "source": [
        "# Visualize the optimization history\n",
        "optuna.visualization.plot_optimization_history(study).show()"
      ]
    },
    {
      "cell_type": "code",
      "execution_count": 18,
      "id": "d079c4bf",
      "metadata": {
        "colab": {
          "base_uri": "https://localhost:8080/",
          "height": 542
        },
        "id": "d079c4bf",
        "outputId": "943b554c-74be-474b-9c34-61de6195d24c"
      },
      "outputs": [
        {
          "output_type": "display_data",
          "data": {
            "text/html": [
              "<html>\n",
              "<head><meta charset=\"utf-8\" /></head>\n",
              "<body>\n",
              "    <div>            <script src=\"https://cdnjs.cloudflare.com/ajax/libs/mathjax/2.7.5/MathJax.js?config=TeX-AMS-MML_SVG\"></script><script type=\"text/javascript\">if (window.MathJax && window.MathJax.Hub && window.MathJax.Hub.Config) {window.MathJax.Hub.Config({SVG: {font: \"STIX-Web\"}});}</script>                <script type=\"text/javascript\">window.PlotlyConfig = {MathJaxConfig: 'local'};</script>\n",
              "        <script charset=\"utf-8\" src=\"https://cdn.plot.ly/plotly-2.35.2.min.js\"></script>                <div id=\"977b91b6-6ebe-438d-b1d4-c3aa087bd9ef\" class=\"plotly-graph-div\" style=\"height:525px; width:100%;\"></div>            <script type=\"text/javascript\">                                    window.PLOTLYENV=window.PLOTLYENV || {};                                    if (document.getElementById(\"977b91b6-6ebe-438d-b1d4-c3aa087bd9ef\")) {                    Plotly.newPlot(                        \"977b91b6-6ebe-438d-b1d4-c3aa087bd9ef\",                        [{\"cliponaxis\":false,\"hovertemplate\":[\"max_depth (IntDistribution): 0.016786726954243738\\u003cextra\\u003e\\u003c\\u002fextra\\u003e\",\"min_samples_split (IntDistribution): 0.02580904151871454\\u003cextra\\u003e\\u003c\\u002fextra\\u003e\",\"subsample (FloatDistribution): 0.028689193875449312\\u003cextra\\u003e\\u003c\\u002fextra\\u003e\",\"learning_rate (FloatDistribution): 0.034771223635153184\\u003cextra\\u003e\\u003c\\u002fextra\\u003e\",\"n_estimators (IntDistribution): 0.04691864084450109\\u003cextra\\u003e\\u003c\\u002fextra\\u003e\",\"min_samples_leaf (IntDistribution): 0.8470251731719382\\u003cextra\\u003e\\u003c\\u002fextra\\u003e\"],\"name\":\"Objective Value\",\"orientation\":\"h\",\"text\":[\"0.02\",\"0.03\",\"0.03\",\"0.03\",\"0.05\",\"0.85\"],\"textposition\":\"outside\",\"x\":[0.016786726954243738,0.02580904151871454,0.028689193875449312,0.034771223635153184,0.04691864084450109,0.8470251731719382],\"y\":[\"max_depth\",\"min_samples_split\",\"subsample\",\"learning_rate\",\"n_estimators\",\"min_samples_leaf\"],\"type\":\"bar\"}],                        {\"title\":{\"text\":\"Hyperparameter Importances\"},\"xaxis\":{\"title\":{\"text\":\"Hyperparameter Importance\"}},\"yaxis\":{\"title\":{\"text\":\"Hyperparameter\"}},\"template\":{\"data\":{\"histogram2dcontour\":[{\"type\":\"histogram2dcontour\",\"colorbar\":{\"outlinewidth\":0,\"ticks\":\"\"},\"colorscale\":[[0.0,\"#0d0887\"],[0.1111111111111111,\"#46039f\"],[0.2222222222222222,\"#7201a8\"],[0.3333333333333333,\"#9c179e\"],[0.4444444444444444,\"#bd3786\"],[0.5555555555555556,\"#d8576b\"],[0.6666666666666666,\"#ed7953\"],[0.7777777777777778,\"#fb9f3a\"],[0.8888888888888888,\"#fdca26\"],[1.0,\"#f0f921\"]]}],\"choropleth\":[{\"type\":\"choropleth\",\"colorbar\":{\"outlinewidth\":0,\"ticks\":\"\"}}],\"histogram2d\":[{\"type\":\"histogram2d\",\"colorbar\":{\"outlinewidth\":0,\"ticks\":\"\"},\"colorscale\":[[0.0,\"#0d0887\"],[0.1111111111111111,\"#46039f\"],[0.2222222222222222,\"#7201a8\"],[0.3333333333333333,\"#9c179e\"],[0.4444444444444444,\"#bd3786\"],[0.5555555555555556,\"#d8576b\"],[0.6666666666666666,\"#ed7953\"],[0.7777777777777778,\"#fb9f3a\"],[0.8888888888888888,\"#fdca26\"],[1.0,\"#f0f921\"]]}],\"heatmap\":[{\"type\":\"heatmap\",\"colorbar\":{\"outlinewidth\":0,\"ticks\":\"\"},\"colorscale\":[[0.0,\"#0d0887\"],[0.1111111111111111,\"#46039f\"],[0.2222222222222222,\"#7201a8\"],[0.3333333333333333,\"#9c179e\"],[0.4444444444444444,\"#bd3786\"],[0.5555555555555556,\"#d8576b\"],[0.6666666666666666,\"#ed7953\"],[0.7777777777777778,\"#fb9f3a\"],[0.8888888888888888,\"#fdca26\"],[1.0,\"#f0f921\"]]}],\"heatmapgl\":[{\"type\":\"heatmapgl\",\"colorbar\":{\"outlinewidth\":0,\"ticks\":\"\"},\"colorscale\":[[0.0,\"#0d0887\"],[0.1111111111111111,\"#46039f\"],[0.2222222222222222,\"#7201a8\"],[0.3333333333333333,\"#9c179e\"],[0.4444444444444444,\"#bd3786\"],[0.5555555555555556,\"#d8576b\"],[0.6666666666666666,\"#ed7953\"],[0.7777777777777778,\"#fb9f3a\"],[0.8888888888888888,\"#fdca26\"],[1.0,\"#f0f921\"]]}],\"contourcarpet\":[{\"type\":\"contourcarpet\",\"colorbar\":{\"outlinewidth\":0,\"ticks\":\"\"}}],\"contour\":[{\"type\":\"contour\",\"colorbar\":{\"outlinewidth\":0,\"ticks\":\"\"},\"colorscale\":[[0.0,\"#0d0887\"],[0.1111111111111111,\"#46039f\"],[0.2222222222222222,\"#7201a8\"],[0.3333333333333333,\"#9c179e\"],[0.4444444444444444,\"#bd3786\"],[0.5555555555555556,\"#d8576b\"],[0.6666666666666666,\"#ed7953\"],[0.7777777777777778,\"#fb9f3a\"],[0.8888888888888888,\"#fdca26\"],[1.0,\"#f0f921\"]]}],\"surface\":[{\"type\":\"surface\",\"colorbar\":{\"outlinewidth\":0,\"ticks\":\"\"},\"colorscale\":[[0.0,\"#0d0887\"],[0.1111111111111111,\"#46039f\"],[0.2222222222222222,\"#7201a8\"],[0.3333333333333333,\"#9c179e\"],[0.4444444444444444,\"#bd3786\"],[0.5555555555555556,\"#d8576b\"],[0.6666666666666666,\"#ed7953\"],[0.7777777777777778,\"#fb9f3a\"],[0.8888888888888888,\"#fdca26\"],[1.0,\"#f0f921\"]]}],\"mesh3d\":[{\"type\":\"mesh3d\",\"colorbar\":{\"outlinewidth\":0,\"ticks\":\"\"}}],\"scatter\":[{\"fillpattern\":{\"fillmode\":\"overlay\",\"size\":10,\"solidity\":0.2},\"type\":\"scatter\"}],\"parcoords\":[{\"type\":\"parcoords\",\"line\":{\"colorbar\":{\"outlinewidth\":0,\"ticks\":\"\"}}}],\"scatterpolargl\":[{\"type\":\"scatterpolargl\",\"marker\":{\"colorbar\":{\"outlinewidth\":0,\"ticks\":\"\"}}}],\"bar\":[{\"error_x\":{\"color\":\"#2a3f5f\"},\"error_y\":{\"color\":\"#2a3f5f\"},\"marker\":{\"line\":{\"color\":\"#E5ECF6\",\"width\":0.5},\"pattern\":{\"fillmode\":\"overlay\",\"size\":10,\"solidity\":0.2}},\"type\":\"bar\"}],\"scattergeo\":[{\"type\":\"scattergeo\",\"marker\":{\"colorbar\":{\"outlinewidth\":0,\"ticks\":\"\"}}}],\"scatterpolar\":[{\"type\":\"scatterpolar\",\"marker\":{\"colorbar\":{\"outlinewidth\":0,\"ticks\":\"\"}}}],\"histogram\":[{\"marker\":{\"pattern\":{\"fillmode\":\"overlay\",\"size\":10,\"solidity\":0.2}},\"type\":\"histogram\"}],\"scattergl\":[{\"type\":\"scattergl\",\"marker\":{\"colorbar\":{\"outlinewidth\":0,\"ticks\":\"\"}}}],\"scatter3d\":[{\"type\":\"scatter3d\",\"line\":{\"colorbar\":{\"outlinewidth\":0,\"ticks\":\"\"}},\"marker\":{\"colorbar\":{\"outlinewidth\":0,\"ticks\":\"\"}}}],\"scattermapbox\":[{\"type\":\"scattermapbox\",\"marker\":{\"colorbar\":{\"outlinewidth\":0,\"ticks\":\"\"}}}],\"scatterternary\":[{\"type\":\"scatterternary\",\"marker\":{\"colorbar\":{\"outlinewidth\":0,\"ticks\":\"\"}}}],\"scattercarpet\":[{\"type\":\"scattercarpet\",\"marker\":{\"colorbar\":{\"outlinewidth\":0,\"ticks\":\"\"}}}],\"carpet\":[{\"aaxis\":{\"endlinecolor\":\"#2a3f5f\",\"gridcolor\":\"white\",\"linecolor\":\"white\",\"minorgridcolor\":\"white\",\"startlinecolor\":\"#2a3f5f\"},\"baxis\":{\"endlinecolor\":\"#2a3f5f\",\"gridcolor\":\"white\",\"linecolor\":\"white\",\"minorgridcolor\":\"white\",\"startlinecolor\":\"#2a3f5f\"},\"type\":\"carpet\"}],\"table\":[{\"cells\":{\"fill\":{\"color\":\"#EBF0F8\"},\"line\":{\"color\":\"white\"}},\"header\":{\"fill\":{\"color\":\"#C8D4E3\"},\"line\":{\"color\":\"white\"}},\"type\":\"table\"}],\"barpolar\":[{\"marker\":{\"line\":{\"color\":\"#E5ECF6\",\"width\":0.5},\"pattern\":{\"fillmode\":\"overlay\",\"size\":10,\"solidity\":0.2}},\"type\":\"barpolar\"}],\"pie\":[{\"automargin\":true,\"type\":\"pie\"}]},\"layout\":{\"autotypenumbers\":\"strict\",\"colorway\":[\"#636efa\",\"#EF553B\",\"#00cc96\",\"#ab63fa\",\"#FFA15A\",\"#19d3f3\",\"#FF6692\",\"#B6E880\",\"#FF97FF\",\"#FECB52\"],\"font\":{\"color\":\"#2a3f5f\"},\"hovermode\":\"closest\",\"hoverlabel\":{\"align\":\"left\"},\"paper_bgcolor\":\"white\",\"plot_bgcolor\":\"#E5ECF6\",\"polar\":{\"bgcolor\":\"#E5ECF6\",\"angularaxis\":{\"gridcolor\":\"white\",\"linecolor\":\"white\",\"ticks\":\"\"},\"radialaxis\":{\"gridcolor\":\"white\",\"linecolor\":\"white\",\"ticks\":\"\"}},\"ternary\":{\"bgcolor\":\"#E5ECF6\",\"aaxis\":{\"gridcolor\":\"white\",\"linecolor\":\"white\",\"ticks\":\"\"},\"baxis\":{\"gridcolor\":\"white\",\"linecolor\":\"white\",\"ticks\":\"\"},\"caxis\":{\"gridcolor\":\"white\",\"linecolor\":\"white\",\"ticks\":\"\"}},\"coloraxis\":{\"colorbar\":{\"outlinewidth\":0,\"ticks\":\"\"}},\"colorscale\":{\"sequential\":[[0.0,\"#0d0887\"],[0.1111111111111111,\"#46039f\"],[0.2222222222222222,\"#7201a8\"],[0.3333333333333333,\"#9c179e\"],[0.4444444444444444,\"#bd3786\"],[0.5555555555555556,\"#d8576b\"],[0.6666666666666666,\"#ed7953\"],[0.7777777777777778,\"#fb9f3a\"],[0.8888888888888888,\"#fdca26\"],[1.0,\"#f0f921\"]],\"sequentialminus\":[[0.0,\"#0d0887\"],[0.1111111111111111,\"#46039f\"],[0.2222222222222222,\"#7201a8\"],[0.3333333333333333,\"#9c179e\"],[0.4444444444444444,\"#bd3786\"],[0.5555555555555556,\"#d8576b\"],[0.6666666666666666,\"#ed7953\"],[0.7777777777777778,\"#fb9f3a\"],[0.8888888888888888,\"#fdca26\"],[1.0,\"#f0f921\"]],\"diverging\":[[0,\"#8e0152\"],[0.1,\"#c51b7d\"],[0.2,\"#de77ae\"],[0.3,\"#f1b6da\"],[0.4,\"#fde0ef\"],[0.5,\"#f7f7f7\"],[0.6,\"#e6f5d0\"],[0.7,\"#b8e186\"],[0.8,\"#7fbc41\"],[0.9,\"#4d9221\"],[1,\"#276419\"]]},\"xaxis\":{\"gridcolor\":\"white\",\"linecolor\":\"white\",\"ticks\":\"\",\"title\":{\"standoff\":15},\"zerolinecolor\":\"white\",\"automargin\":true,\"zerolinewidth\":2},\"yaxis\":{\"gridcolor\":\"white\",\"linecolor\":\"white\",\"ticks\":\"\",\"title\":{\"standoff\":15},\"zerolinecolor\":\"white\",\"automargin\":true,\"zerolinewidth\":2},\"scene\":{\"xaxis\":{\"backgroundcolor\":\"#E5ECF6\",\"gridcolor\":\"white\",\"linecolor\":\"white\",\"showbackground\":true,\"ticks\":\"\",\"zerolinecolor\":\"white\",\"gridwidth\":2},\"yaxis\":{\"backgroundcolor\":\"#E5ECF6\",\"gridcolor\":\"white\",\"linecolor\":\"white\",\"showbackground\":true,\"ticks\":\"\",\"zerolinecolor\":\"white\",\"gridwidth\":2},\"zaxis\":{\"backgroundcolor\":\"#E5ECF6\",\"gridcolor\":\"white\",\"linecolor\":\"white\",\"showbackground\":true,\"ticks\":\"\",\"zerolinecolor\":\"white\",\"gridwidth\":2}},\"shapedefaults\":{\"line\":{\"color\":\"#2a3f5f\"}},\"annotationdefaults\":{\"arrowcolor\":\"#2a3f5f\",\"arrowhead\":0,\"arrowwidth\":1},\"geo\":{\"bgcolor\":\"white\",\"landcolor\":\"#E5ECF6\",\"subunitcolor\":\"white\",\"showland\":true,\"showlakes\":true,\"lakecolor\":\"white\"},\"title\":{\"x\":0.05},\"mapbox\":{\"style\":\"light\"}}}},                        {\"responsive\": true}                    ).then(function(){\n",
              "                            \n",
              "var gd = document.getElementById('977b91b6-6ebe-438d-b1d4-c3aa087bd9ef');\n",
              "var x = new MutationObserver(function (mutations, observer) {{\n",
              "        var display = window.getComputedStyle(gd).display;\n",
              "        if (!display || display === 'none') {{\n",
              "            console.log([gd, 'removed!']);\n",
              "            Plotly.purge(gd);\n",
              "            observer.disconnect();\n",
              "        }}\n",
              "}});\n",
              "\n",
              "// Listen for the removal of the full notebook cells\n",
              "var notebookContainer = gd.closest('#notebook-container');\n",
              "if (notebookContainer) {{\n",
              "    x.observe(notebookContainer, {childList: true});\n",
              "}}\n",
              "\n",
              "// Listen for the clearing of the current output cell\n",
              "var outputEl = gd.closest('.output');\n",
              "if (outputEl) {{\n",
              "    x.observe(outputEl, {childList: true});\n",
              "}}\n",
              "\n",
              "                        })                };                            </script>        </div>\n",
              "</body>\n",
              "</html>"
            ]
          },
          "metadata": {}
        }
      ],
      "source": [
        "# Visualize the parameter importance\n",
        "optuna.visualization.plot_param_importances(study).show()"
      ]
    },
    {
      "cell_type": "code",
      "source": [
        "import ipywidgets as widgets\n",
        "from IPython.display import display, Image, HTML"
      ],
      "metadata": {
        "id": "0huWkEg_c3q3"
      },
      "id": "0huWkEg_c3q3",
      "execution_count": 19,
      "outputs": []
    },
    {
      "cell_type": "code",
      "source": [
        "# Create Interactive Widgets\n",
        "# ------------------------------------------\n",
        "flowrate = widgets.IntSlider(\n",
        "    description='Flowrate [m3/s]:',\n",
        "    min=100, max=500, value=300, step=1, style={'description_width': 'initial'}\n",
        ")\n",
        "temperature = widgets.IntSlider(\n",
        "    description='Temperature [C]:',\n",
        "    min=100, max=200, value=130, step=1, style={'description_width': 'initial'}\n",
        ")\n",
        "pressure = widgets.IntSlider(\n",
        "    description='Pressure diff [psi]:',\n",
        "    min=-50, max=50, value=0, step=1, style={'description_width': 'initial'}\n",
        ")\n",
        "predict_button = widgets.Button(\n",
        "    description='Predict Yield',\n",
        "    button_style='success', # 'success', 'info', 'warning', 'danger' or ''\n",
        "    icon='calculator'\n",
        ")\n",
        "# An output widget to display the results\n",
        "output = widgets.Output()"
      ],
      "metadata": {
        "id": "pF0sHEuEdNOz"
      },
      "id": "pF0sHEuEdNOz",
      "execution_count": 20,
      "outputs": []
    },
    {
      "cell_type": "code",
      "source": [
        "# 3. Define the Prediction Logic\n",
        "# ------------------------------------------\n",
        "def run_prediction(pressure_val, flowrate_val, temperature_val):\n",
        "    \"\"\"Creates a DataFrame and runs the model prediction.\"\"\"\n",
        "    df_input = pd.DataFrame({\n",
        "        'PressureC1_diff': [pressure_val],\n",
        "        'FlowC1': [flowrate_val],\n",
        "        'Temp1': [temperature_val]\n",
        "    })\n",
        "    prediction_result = final_model.predict(df_input)\n",
        "    return prediction_result[0]\n"
      ],
      "metadata": {
        "id": "BSIXUJB2dhWc"
      },
      "id": "BSIXUJB2dhWc",
      "execution_count": 21,
      "outputs": []
    },
    {
      "cell_type": "code",
      "source": [
        "# Define what happens when the button is clicked\n",
        "def on_predict_clicked(b):\n",
        "    with output:\n",
        "        output.clear_output() # Clear previous results\n",
        "        result = run_prediction(pressure.value, flowrate.value, temperature.value)\n",
        "        print(f\"Predicted Yield: {result:.2f}\")"
      ],
      "metadata": {
        "id": "oZZ_6dJidljJ"
      },
      "id": "oZZ_6dJidljJ",
      "execution_count": 22,
      "outputs": []
    },
    {
      "cell_type": "code",
      "source": [
        "# Link the button click event to the function\n",
        "predict_button.on_click(on_predict_clicked)"
      ],
      "metadata": {
        "id": "H2Bd3GIAdpb4"
      },
      "id": "H2Bd3GIAdpb4",
      "execution_count": 23,
      "outputs": []
    },
    {
      "cell_type": "code",
      "source": [
        "# 4. Display the Widgets\n",
        "# ------------------------------------------\n",
        "# Arrange all widgets in a vertical box and display them\n",
        "# Page title and image\n",
        "\n",
        "display(HTML('<h1>Distillation column yield prediction</h1>'))\n",
        "\n",
        "display(HTML(\"\"\"\n",
        "<p>This app aims to assist in predicting the yield in distillation columns by adjusting the sliders and clicking predict.</p>\n",
        "\"\"\"))\n",
        "\n",
        "ui = widgets.VBox([flowrate, temperature, pressure, predict_button, output])\n",
        "display(ui)"
      ],
      "metadata": {
        "colab": {
          "base_uri": "https://localhost:8080/",
          "height": 246,
          "referenced_widgets": [
            "60550981b5fb4372ade95a293afadf15",
            "5c160b6f96284e36b48485caa9e39cad",
            "af8754b2885c4f95ae6029cfeab32696",
            "78bdc90268024c2f9c545189a6973f9e",
            "fbdd6c1a9a84454eb4836a7471826401",
            "649923c186664342bba3b7f40d11a7e8",
            "b531b5c19a4a45eb8f10fc0883412069",
            "c9698005c571440d9325cdcb270365ea",
            "6681ce2c027a492b89dcc3b03d0c1511",
            "0456434ff535444e8dace23a01dcf4a3",
            "2ed7a56b9e914e56b03abc897095edb6",
            "fb78f0c8d785401eb0aaf73fd59e58db",
            "89f4fccfb12840fbbb11a74d1f7fece3",
            "f9325c2df2f445e5995474ac20dd35f5",
            "03418660ad504b238fabdf1d16588161",
            "0df2461257254c5ab14edfeb701ead78"
          ]
        },
        "id": "KBFHQCFQdsE8",
        "outputId": "e674387a-b0e6-4d99-a557-b35ed25956ac"
      },
      "id": "KBFHQCFQdsE8",
      "execution_count": 24,
      "outputs": [
        {
          "output_type": "display_data",
          "data": {
            "text/plain": [
              "<IPython.core.display.HTML object>"
            ],
            "text/html": [
              "<h1>Distillation column yield prediction</h1>"
            ]
          },
          "metadata": {}
        },
        {
          "output_type": "display_data",
          "data": {
            "text/plain": [
              "<IPython.core.display.HTML object>"
            ],
            "text/html": [
              "\n",
              "<p>This app aims to assist in predicting the yield in distillation columns by adjusting the sliders and clicking predict.</p>\n"
            ]
          },
          "metadata": {}
        },
        {
          "output_type": "display_data",
          "data": {
            "text/plain": [
              "VBox(children=(IntSlider(value=300, description='Flowrate [m3/s]:', max=500, min=100, style=SliderStyle(descri…"
            ],
            "application/vnd.jupyter.widget-view+json": {
              "version_major": 2,
              "version_minor": 0,
              "model_id": "60550981b5fb4372ade95a293afadf15"
            }
          },
          "metadata": {}
        }
      ]
    }
  ],
  "metadata": {
    "kernelspec": {
      "display_name": "Python (Poetry_dist_tower)",
      "language": "python",
      "name": "my_poetry_kernel"
    },
    "language_info": {
      "codemirror_mode": {
        "name": "ipython",
        "version": 3
      },
      "file_extension": ".py",
      "mimetype": "text/x-python",
      "name": "python",
      "nbconvert_exporter": "python",
      "pygments_lexer": "ipython3",
      "version": "3.10.14"
    },
    "colab": {
      "provenance": [],
      "include_colab_link": true
    },
    "widgets": {
      "application/vnd.jupyter.widget-state+json": {
        "60550981b5fb4372ade95a293afadf15": {
          "model_module": "@jupyter-widgets/controls",
          "model_name": "VBoxModel",
          "model_module_version": "1.5.0",
          "state": {
            "_dom_classes": [],
            "_model_module": "@jupyter-widgets/controls",
            "_model_module_version": "1.5.0",
            "_model_name": "VBoxModel",
            "_view_count": null,
            "_view_module": "@jupyter-widgets/controls",
            "_view_module_version": "1.5.0",
            "_view_name": "VBoxView",
            "box_style": "",
            "children": [
              "IPY_MODEL_5c160b6f96284e36b48485caa9e39cad",
              "IPY_MODEL_af8754b2885c4f95ae6029cfeab32696",
              "IPY_MODEL_78bdc90268024c2f9c545189a6973f9e",
              "IPY_MODEL_fbdd6c1a9a84454eb4836a7471826401",
              "IPY_MODEL_649923c186664342bba3b7f40d11a7e8"
            ],
            "layout": "IPY_MODEL_b531b5c19a4a45eb8f10fc0883412069"
          }
        },
        "5c160b6f96284e36b48485caa9e39cad": {
          "model_module": "@jupyter-widgets/controls",
          "model_name": "IntSliderModel",
          "model_module_version": "1.5.0",
          "state": {
            "_dom_classes": [],
            "_model_module": "@jupyter-widgets/controls",
            "_model_module_version": "1.5.0",
            "_model_name": "IntSliderModel",
            "_view_count": null,
            "_view_module": "@jupyter-widgets/controls",
            "_view_module_version": "1.5.0",
            "_view_name": "IntSliderView",
            "continuous_update": true,
            "description": "Flowrate [m3/s]:",
            "description_tooltip": null,
            "disabled": false,
            "layout": "IPY_MODEL_c9698005c571440d9325cdcb270365ea",
            "max": 500,
            "min": 100,
            "orientation": "horizontal",
            "readout": true,
            "readout_format": "d",
            "step": 1,
            "style": "IPY_MODEL_6681ce2c027a492b89dcc3b03d0c1511",
            "value": 300
          }
        },
        "af8754b2885c4f95ae6029cfeab32696": {
          "model_module": "@jupyter-widgets/controls",
          "model_name": "IntSliderModel",
          "model_module_version": "1.5.0",
          "state": {
            "_dom_classes": [],
            "_model_module": "@jupyter-widgets/controls",
            "_model_module_version": "1.5.0",
            "_model_name": "IntSliderModel",
            "_view_count": null,
            "_view_module": "@jupyter-widgets/controls",
            "_view_module_version": "1.5.0",
            "_view_name": "IntSliderView",
            "continuous_update": true,
            "description": "Temperature [C]:",
            "description_tooltip": null,
            "disabled": false,
            "layout": "IPY_MODEL_0456434ff535444e8dace23a01dcf4a3",
            "max": 200,
            "min": 100,
            "orientation": "horizontal",
            "readout": true,
            "readout_format": "d",
            "step": 1,
            "style": "IPY_MODEL_2ed7a56b9e914e56b03abc897095edb6",
            "value": 130
          }
        },
        "78bdc90268024c2f9c545189a6973f9e": {
          "model_module": "@jupyter-widgets/controls",
          "model_name": "IntSliderModel",
          "model_module_version": "1.5.0",
          "state": {
            "_dom_classes": [],
            "_model_module": "@jupyter-widgets/controls",
            "_model_module_version": "1.5.0",
            "_model_name": "IntSliderModel",
            "_view_count": null,
            "_view_module": "@jupyter-widgets/controls",
            "_view_module_version": "1.5.0",
            "_view_name": "IntSliderView",
            "continuous_update": true,
            "description": "Pressure diff [psi]:",
            "description_tooltip": null,
            "disabled": false,
            "layout": "IPY_MODEL_fb78f0c8d785401eb0aaf73fd59e58db",
            "max": 50,
            "min": -50,
            "orientation": "horizontal",
            "readout": true,
            "readout_format": "d",
            "step": 1,
            "style": "IPY_MODEL_89f4fccfb12840fbbb11a74d1f7fece3",
            "value": 0
          }
        },
        "fbdd6c1a9a84454eb4836a7471826401": {
          "model_module": "@jupyter-widgets/controls",
          "model_name": "ButtonModel",
          "model_module_version": "1.5.0",
          "state": {
            "_dom_classes": [],
            "_model_module": "@jupyter-widgets/controls",
            "_model_module_version": "1.5.0",
            "_model_name": "ButtonModel",
            "_view_count": null,
            "_view_module": "@jupyter-widgets/controls",
            "_view_module_version": "1.5.0",
            "_view_name": "ButtonView",
            "button_style": "success",
            "description": "Predict Yield",
            "disabled": false,
            "icon": "calculator",
            "layout": "IPY_MODEL_f9325c2df2f445e5995474ac20dd35f5",
            "style": "IPY_MODEL_03418660ad504b238fabdf1d16588161",
            "tooltip": ""
          }
        },
        "649923c186664342bba3b7f40d11a7e8": {
          "model_module": "@jupyter-widgets/output",
          "model_name": "OutputModel",
          "model_module_version": "1.0.0",
          "state": {
            "_dom_classes": [],
            "_model_module": "@jupyter-widgets/output",
            "_model_module_version": "1.0.0",
            "_model_name": "OutputModel",
            "_view_count": null,
            "_view_module": "@jupyter-widgets/output",
            "_view_module_version": "1.0.0",
            "_view_name": "OutputView",
            "layout": "IPY_MODEL_0df2461257254c5ab14edfeb701ead78",
            "msg_id": "",
            "outputs": [
              {
                "output_type": "stream",
                "name": "stdout",
                "text": [
                  "Predicted Yield: 70.84\n"
                ]
              }
            ]
          }
        },
        "b531b5c19a4a45eb8f10fc0883412069": {
          "model_module": "@jupyter-widgets/base",
          "model_name": "LayoutModel",
          "model_module_version": "1.2.0",
          "state": {
            "_model_module": "@jupyter-widgets/base",
            "_model_module_version": "1.2.0",
            "_model_name": "LayoutModel",
            "_view_count": null,
            "_view_module": "@jupyter-widgets/base",
            "_view_module_version": "1.2.0",
            "_view_name": "LayoutView",
            "align_content": null,
            "align_items": null,
            "align_self": null,
            "border": null,
            "bottom": null,
            "display": null,
            "flex": null,
            "flex_flow": null,
            "grid_area": null,
            "grid_auto_columns": null,
            "grid_auto_flow": null,
            "grid_auto_rows": null,
            "grid_column": null,
            "grid_gap": null,
            "grid_row": null,
            "grid_template_areas": null,
            "grid_template_columns": null,
            "grid_template_rows": null,
            "height": null,
            "justify_content": null,
            "justify_items": null,
            "left": null,
            "margin": null,
            "max_height": null,
            "max_width": null,
            "min_height": null,
            "min_width": null,
            "object_fit": null,
            "object_position": null,
            "order": null,
            "overflow": null,
            "overflow_x": null,
            "overflow_y": null,
            "padding": null,
            "right": null,
            "top": null,
            "visibility": null,
            "width": null
          }
        },
        "c9698005c571440d9325cdcb270365ea": {
          "model_module": "@jupyter-widgets/base",
          "model_name": "LayoutModel",
          "model_module_version": "1.2.0",
          "state": {
            "_model_module": "@jupyter-widgets/base",
            "_model_module_version": "1.2.0",
            "_model_name": "LayoutModel",
            "_view_count": null,
            "_view_module": "@jupyter-widgets/base",
            "_view_module_version": "1.2.0",
            "_view_name": "LayoutView",
            "align_content": null,
            "align_items": null,
            "align_self": null,
            "border": null,
            "bottom": null,
            "display": null,
            "flex": null,
            "flex_flow": null,
            "grid_area": null,
            "grid_auto_columns": null,
            "grid_auto_flow": null,
            "grid_auto_rows": null,
            "grid_column": null,
            "grid_gap": null,
            "grid_row": null,
            "grid_template_areas": null,
            "grid_template_columns": null,
            "grid_template_rows": null,
            "height": null,
            "justify_content": null,
            "justify_items": null,
            "left": null,
            "margin": null,
            "max_height": null,
            "max_width": null,
            "min_height": null,
            "min_width": null,
            "object_fit": null,
            "object_position": null,
            "order": null,
            "overflow": null,
            "overflow_x": null,
            "overflow_y": null,
            "padding": null,
            "right": null,
            "top": null,
            "visibility": null,
            "width": null
          }
        },
        "6681ce2c027a492b89dcc3b03d0c1511": {
          "model_module": "@jupyter-widgets/controls",
          "model_name": "SliderStyleModel",
          "model_module_version": "1.5.0",
          "state": {
            "_model_module": "@jupyter-widgets/controls",
            "_model_module_version": "1.5.0",
            "_model_name": "SliderStyleModel",
            "_view_count": null,
            "_view_module": "@jupyter-widgets/base",
            "_view_module_version": "1.2.0",
            "_view_name": "StyleView",
            "description_width": "initial",
            "handle_color": null
          }
        },
        "0456434ff535444e8dace23a01dcf4a3": {
          "model_module": "@jupyter-widgets/base",
          "model_name": "LayoutModel",
          "model_module_version": "1.2.0",
          "state": {
            "_model_module": "@jupyter-widgets/base",
            "_model_module_version": "1.2.0",
            "_model_name": "LayoutModel",
            "_view_count": null,
            "_view_module": "@jupyter-widgets/base",
            "_view_module_version": "1.2.0",
            "_view_name": "LayoutView",
            "align_content": null,
            "align_items": null,
            "align_self": null,
            "border": null,
            "bottom": null,
            "display": null,
            "flex": null,
            "flex_flow": null,
            "grid_area": null,
            "grid_auto_columns": null,
            "grid_auto_flow": null,
            "grid_auto_rows": null,
            "grid_column": null,
            "grid_gap": null,
            "grid_row": null,
            "grid_template_areas": null,
            "grid_template_columns": null,
            "grid_template_rows": null,
            "height": null,
            "justify_content": null,
            "justify_items": null,
            "left": null,
            "margin": null,
            "max_height": null,
            "max_width": null,
            "min_height": null,
            "min_width": null,
            "object_fit": null,
            "object_position": null,
            "order": null,
            "overflow": null,
            "overflow_x": null,
            "overflow_y": null,
            "padding": null,
            "right": null,
            "top": null,
            "visibility": null,
            "width": null
          }
        },
        "2ed7a56b9e914e56b03abc897095edb6": {
          "model_module": "@jupyter-widgets/controls",
          "model_name": "SliderStyleModel",
          "model_module_version": "1.5.0",
          "state": {
            "_model_module": "@jupyter-widgets/controls",
            "_model_module_version": "1.5.0",
            "_model_name": "SliderStyleModel",
            "_view_count": null,
            "_view_module": "@jupyter-widgets/base",
            "_view_module_version": "1.2.0",
            "_view_name": "StyleView",
            "description_width": "initial",
            "handle_color": null
          }
        },
        "fb78f0c8d785401eb0aaf73fd59e58db": {
          "model_module": "@jupyter-widgets/base",
          "model_name": "LayoutModel",
          "model_module_version": "1.2.0",
          "state": {
            "_model_module": "@jupyter-widgets/base",
            "_model_module_version": "1.2.0",
            "_model_name": "LayoutModel",
            "_view_count": null,
            "_view_module": "@jupyter-widgets/base",
            "_view_module_version": "1.2.0",
            "_view_name": "LayoutView",
            "align_content": null,
            "align_items": null,
            "align_self": null,
            "border": null,
            "bottom": null,
            "display": null,
            "flex": null,
            "flex_flow": null,
            "grid_area": null,
            "grid_auto_columns": null,
            "grid_auto_flow": null,
            "grid_auto_rows": null,
            "grid_column": null,
            "grid_gap": null,
            "grid_row": null,
            "grid_template_areas": null,
            "grid_template_columns": null,
            "grid_template_rows": null,
            "height": null,
            "justify_content": null,
            "justify_items": null,
            "left": null,
            "margin": null,
            "max_height": null,
            "max_width": null,
            "min_height": null,
            "min_width": null,
            "object_fit": null,
            "object_position": null,
            "order": null,
            "overflow": null,
            "overflow_x": null,
            "overflow_y": null,
            "padding": null,
            "right": null,
            "top": null,
            "visibility": null,
            "width": null
          }
        },
        "89f4fccfb12840fbbb11a74d1f7fece3": {
          "model_module": "@jupyter-widgets/controls",
          "model_name": "SliderStyleModel",
          "model_module_version": "1.5.0",
          "state": {
            "_model_module": "@jupyter-widgets/controls",
            "_model_module_version": "1.5.0",
            "_model_name": "SliderStyleModel",
            "_view_count": null,
            "_view_module": "@jupyter-widgets/base",
            "_view_module_version": "1.2.0",
            "_view_name": "StyleView",
            "description_width": "initial",
            "handle_color": null
          }
        },
        "f9325c2df2f445e5995474ac20dd35f5": {
          "model_module": "@jupyter-widgets/base",
          "model_name": "LayoutModel",
          "model_module_version": "1.2.0",
          "state": {
            "_model_module": "@jupyter-widgets/base",
            "_model_module_version": "1.2.0",
            "_model_name": "LayoutModel",
            "_view_count": null,
            "_view_module": "@jupyter-widgets/base",
            "_view_module_version": "1.2.0",
            "_view_name": "LayoutView",
            "align_content": null,
            "align_items": null,
            "align_self": null,
            "border": null,
            "bottom": null,
            "display": null,
            "flex": null,
            "flex_flow": null,
            "grid_area": null,
            "grid_auto_columns": null,
            "grid_auto_flow": null,
            "grid_auto_rows": null,
            "grid_column": null,
            "grid_gap": null,
            "grid_row": null,
            "grid_template_areas": null,
            "grid_template_columns": null,
            "grid_template_rows": null,
            "height": null,
            "justify_content": null,
            "justify_items": null,
            "left": null,
            "margin": null,
            "max_height": null,
            "max_width": null,
            "min_height": null,
            "min_width": null,
            "object_fit": null,
            "object_position": null,
            "order": null,
            "overflow": null,
            "overflow_x": null,
            "overflow_y": null,
            "padding": null,
            "right": null,
            "top": null,
            "visibility": null,
            "width": null
          }
        },
        "03418660ad504b238fabdf1d16588161": {
          "model_module": "@jupyter-widgets/controls",
          "model_name": "ButtonStyleModel",
          "model_module_version": "1.5.0",
          "state": {
            "_model_module": "@jupyter-widgets/controls",
            "_model_module_version": "1.5.0",
            "_model_name": "ButtonStyleModel",
            "_view_count": null,
            "_view_module": "@jupyter-widgets/base",
            "_view_module_version": "1.2.0",
            "_view_name": "StyleView",
            "button_color": null,
            "font_weight": ""
          }
        },
        "0df2461257254c5ab14edfeb701ead78": {
          "model_module": "@jupyter-widgets/base",
          "model_name": "LayoutModel",
          "model_module_version": "1.2.0",
          "state": {
            "_model_module": "@jupyter-widgets/base",
            "_model_module_version": "1.2.0",
            "_model_name": "LayoutModel",
            "_view_count": null,
            "_view_module": "@jupyter-widgets/base",
            "_view_module_version": "1.2.0",
            "_view_name": "LayoutView",
            "align_content": null,
            "align_items": null,
            "align_self": null,
            "border": null,
            "bottom": null,
            "display": null,
            "flex": null,
            "flex_flow": null,
            "grid_area": null,
            "grid_auto_columns": null,
            "grid_auto_flow": null,
            "grid_auto_rows": null,
            "grid_column": null,
            "grid_gap": null,
            "grid_row": null,
            "grid_template_areas": null,
            "grid_template_columns": null,
            "grid_template_rows": null,
            "height": null,
            "justify_content": null,
            "justify_items": null,
            "left": null,
            "margin": null,
            "max_height": null,
            "max_width": null,
            "min_height": null,
            "min_width": null,
            "object_fit": null,
            "object_position": null,
            "order": null,
            "overflow": null,
            "overflow_x": null,
            "overflow_y": null,
            "padding": null,
            "right": null,
            "top": null,
            "visibility": null,
            "width": null
          }
        }
      }
    }
  },
  "nbformat": 4,
  "nbformat_minor": 5
}