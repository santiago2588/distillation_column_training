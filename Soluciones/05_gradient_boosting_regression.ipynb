{
  "cells": [
    {
      "cell_type": "markdown",
      "metadata": {
        "id": "view-in-github",
        "colab_type": "text"
      },
      "source": [
        "<a href=\"https://colab.research.google.com/github/santiago2588/distillation_column_training/blob/main/Soluciones/05_gradient_boosting_regression.ipynb\" target=\"_parent\"><img src=\"https://colab.research.google.com/assets/colab-badge.svg\" alt=\"Open In Colab\"/></a>"
      ]
    },
    {
      "cell_type": "code",
      "execution_count": null,
      "id": "a0bbd9e9",
      "metadata": {
        "id": "a0bbd9e9"
      },
      "outputs": [],
      "source": [
        "# Data wrangling\n",
        "import pandas as pd\n",
        "import numpy as np"
      ]
    },
    {
      "cell_type": "code",
      "execution_count": null,
      "id": "a6390121",
      "metadata": {
        "id": "a6390121"
      },
      "outputs": [],
      "source": [
        "# Data visualization\n",
        "import matplotlib.pyplot as plt\n",
        "import seaborn as sns\n",
        "import plotly.express as px\n",
        "from tqdm import tqdm"
      ]
    },
    {
      "cell_type": "code",
      "execution_count": null,
      "id": "9b42e388",
      "metadata": {
        "id": "9b42e388"
      },
      "outputs": [],
      "source": [
        "# Models\n",
        "from sklearn.ensemble import GradientBoostingRegressor"
      ]
    },
    {
      "cell_type": "code",
      "execution_count": null,
      "id": "9963d95c",
      "metadata": {
        "id": "9963d95c"
      },
      "outputs": [],
      "source": [
        "# Models Pipelines\n",
        "from sklearn.pipeline import Pipeline"
      ]
    },
    {
      "cell_type": "code",
      "source": [
        "# Install the optuna library\n",
        "!pip install optuna -q"
      ],
      "metadata": {
        "id": "RJ97nTFhLng2"
      },
      "id": "RJ97nTFhLng2",
      "execution_count": null,
      "outputs": []
    },
    {
      "cell_type": "code",
      "execution_count": null,
      "id": "5daecf1c",
      "metadata": {
        "id": "5daecf1c"
      },
      "outputs": [],
      "source": [
        "#Hyperparameter optimization\n",
        "import optuna"
      ]
    },
    {
      "cell_type": "code",
      "execution_count": null,
      "id": "c5d5c5e5",
      "metadata": {
        "id": "c5d5c5e5"
      },
      "outputs": [],
      "source": [
        "# Model evaluation\n",
        "from sklearn.model_selection import train_test_split\n",
        "from sklearn.metrics import mean_squared_error, mean_absolute_error, r2_score"
      ]
    },
    {
      "cell_type": "code",
      "execution_count": null,
      "id": "10e17ed6",
      "metadata": {
        "id": "10e17ed6"
      },
      "outputs": [],
      "source": [
        "# Save model\n",
        "import joblib"
      ]
    },
    {
      "cell_type": "code",
      "execution_count": null,
      "id": "49fa3a41",
      "metadata": {
        "id": "49fa3a41"
      },
      "outputs": [],
      "source": [
        "!wget https://raw.githubusercontent.com/santiago2588/distillation_column_training/main/data/transformed_data.csv -O transformed_data.csv"
      ]
    },
    {
      "cell_type": "code",
      "source": [
        "import pandas as pd\n",
        "\n",
        "# Read the CSV file into a DataFrame\n",
        "df = pd.read_csv(\"transformed_data.csv\")\n",
        "\n",
        "# Display the first few rows to confirm it loaded correctly\n",
        "df.head()"
      ],
      "metadata": {
        "id": "5U-2XjAyL-Vd"
      },
      "id": "5U-2XjAyL-Vd",
      "execution_count": null,
      "outputs": []
    },
    {
      "cell_type": "code",
      "execution_count": null,
      "id": "8ef7e435",
      "metadata": {
        "id": "8ef7e435"
      },
      "outputs": [],
      "source": [
        "# Define features (X) and target variable (y)\n",
        "X = df.drop('Yield', axis=1)  # Features (all columns except 'Job Offer')\n",
        "y = df['Yield']  # Target variable"
      ]
    },
    {
      "cell_type": "code",
      "execution_count": null,
      "id": "70582ae6",
      "metadata": {
        "id": "70582ae6"
      },
      "outputs": [],
      "source": [
        "from sklearn.model_selection import train_test_split\n",
        "# Split the data into training and testing sets\n",
        "X_train, X_test, y_train, y_test = train_test_split(X, y, test_size=0.2, random_state=42)\n",
        "# Check the shape of the data\n",
        "print(f\"Training data shape: {X_train.shape}\")\n",
        "print(f\"Testing data shape: {X_test.shape}\")"
      ]
    },
    {
      "cell_type": "code",
      "execution_count": null,
      "id": "eea16c3d",
      "metadata": {
        "id": "eea16c3d"
      },
      "outputs": [],
      "source": [
        "def get_metrics(y_true, y_pred):\n",
        "\n",
        "    dict_metrics = {\n",
        "        'MSE': mean_squared_error(y_true, y_pred),\n",
        "        'MAE': mean_absolute_error(y_true, y_pred),\n",
        "        'R2 Score': r2_score(y_true, y_pred),\n",
        "\n",
        "    }\n",
        "    return dict_metrics"
      ]
    },
    {
      "cell_type": "code",
      "execution_count": null,
      "id": "ed8e4a65",
      "metadata": {
        "id": "ed8e4a65"
      },
      "outputs": [],
      "source": [
        "# Creating pipeline with Boosted Trees\n",
        "pip_model_bt = Pipeline(steps=[\n",
        "    ('model', GradientBoostingRegressor(random_state=2023))\n",
        "])\n",
        "\n",
        "# Fit pipeline\n",
        "pip_model_bt.fit(X_train, y_train)\n",
        "\n",
        "# Generate Predictions using the correctly fitted pipeline\n",
        "y_pred = pip_model_bt.predict(X_test)\n",
        "\n",
        "# Evaluate Metrics\n",
        "metrics = get_metrics(y_test, y_pred)\n",
        "\n",
        "# View Results\n",
        "metrics"
      ]
    },
    {
      "cell_type": "code",
      "execution_count": null,
      "id": "c2ab6fe4",
      "metadata": {
        "collapsed": true,
        "id": "c2ab6fe4"
      },
      "outputs": [],
      "source": [
        "#Optimize hyperparameters with Optuna\n",
        "\n",
        "# Define the objective function\n",
        "def objective(trial):\n",
        "    # Suggest hyperparameters to tune\n",
        "    n_estimators = trial.suggest_int(\"n_estimators\", 50, 500)\n",
        "    max_depth = trial.suggest_int(\"max_depth\", 2, 10)\n",
        "    learning_rate = trial.suggest_float(\"learning_rate\", 0.01, 0.3, log=True)\n",
        "    subsample = trial.suggest_float(\"subsample\", 0.5, 1.0)\n",
        "    min_samples_split = trial.suggest_int(\"min_samples_split\", 2, 20)\n",
        "    min_samples_leaf = trial.suggest_int(\"min_samples_leaf\", 1, 20)\n",
        "\n",
        "    # Create the pipeline with the suggested hyperparameters\n",
        "    pip_model_bt = Pipeline(steps=[\n",
        "        ('model', GradientBoostingRegressor(\n",
        "            n_estimators=n_estimators,\n",
        "            max_depth=max_depth,\n",
        "            learning_rate=learning_rate,\n",
        "            subsample=subsample,\n",
        "            min_samples_split=min_samples_split,\n",
        "            min_samples_leaf=min_samples_leaf,\n",
        "            random_state=2023\n",
        "        ))\n",
        "    ])\n",
        "\n",
        "    # Fit the pipeline\n",
        "    pip_model_bt.fit(X_train, y_train)\n",
        "\n",
        "    # Predict on the test set\n",
        "    y_pred = pip_model_bt.predict(X_test)\n",
        "\n",
        "    # Calculate the evaluation metric (MSE in this case)\n",
        "    mse = mean_squared_error(y_test, y_pred)\n",
        "    return mse  # Optuna minimizes the objective function by default\n",
        "\n",
        "# Create a study object\n",
        "study = optuna.create_study(direction=\"minimize\")  # We want to minimize MSE\n",
        "\n",
        "# Optimize the study\n",
        "study.optimize(objective, n_trials=50)  # Run 50 trials (you can increase this for better results)\n",
        "\n",
        "# Print the best hyperparameters\n",
        "best_params = study.best_params\n",
        "print(\"Best hyperparameters:\", study.best_params)"
      ]
    },
    {
      "cell_type": "code",
      "execution_count": null,
      "id": "9d68deec",
      "metadata": {
        "id": "9d68deec"
      },
      "outputs": [],
      "source": [
        "# Train the final model\n",
        "final_model = GradientBoostingRegressor(\n",
        "    n_estimators=best_params[\"n_estimators\"],\n",
        "    max_depth=best_params[\"max_depth\"],\n",
        "    learning_rate=best_params[\"learning_rate\"],\n",
        "    subsample=best_params[\"subsample\"],\n",
        "    min_samples_split=best_params[\"min_samples_split\"],\n",
        "    min_samples_leaf=best_params[\"min_samples_leaf\"],\n",
        "    random_state=2023\n",
        ")\n",
        "\n",
        "# Fit the final model\n",
        "final_model.fit(X_train, y_train)\n",
        "\n",
        "# Log metrics\n",
        "y_pred = final_model.predict(X_test)\n",
        "metrics = get_metrics(y_test, y_pred)\n",
        "\n",
        "# Print metrics\n",
        "print(\"Model Metrics:\")\n",
        "for metric_name, metric_value in metrics.items():\n",
        "    print(f\"{metric_name}: {metric_value}\")\n",
        "\n",
        "# Print best parameters\n",
        "print(\"\\nBest Hyperparameters:\")\n",
        "for param_name, param_value in best_params.items():\n",
        "    print(f\"{param_name}: {param_value}\")"
      ]
    },
    {
      "cell_type": "code",
      "execution_count": null,
      "id": "2d7c9c95",
      "metadata": {
        "id": "2d7c9c95"
      },
      "outputs": [],
      "source": [
        "# Visualize the optimization history\n",
        "optuna.visualization.plot_optimization_history(study).show()"
      ]
    },
    {
      "cell_type": "code",
      "execution_count": null,
      "id": "d079c4bf",
      "metadata": {
        "id": "d079c4bf"
      },
      "outputs": [],
      "source": [
        "# Visualize the parameter importance\n",
        "optuna.visualization.plot_param_importances(study).show()"
      ]
    },
    {
      "cell_type": "code",
      "source": [
        "import ipywidgets as widgets\n",
        "from IPython.display import display, Image, HTML"
      ],
      "metadata": {
        "id": "0huWkEg_c3q3"
      },
      "id": "0huWkEg_c3q3",
      "execution_count": null,
      "outputs": []
    },
    {
      "cell_type": "code",
      "source": [
        "# Create Interactive Widgets\n",
        "# ------------------------------------------\n",
        "flowrate = widgets.IntSlider(\n",
        "    description='Flowrate [m3/s]:',\n",
        "    min=100, max=500, value=300, step=1, style={'description_width': 'initial'}\n",
        ")\n",
        "temperature = widgets.IntSlider(\n",
        "    description='Temperature [C]:',\n",
        "    min=100, max=200, value=130, step=1, style={'description_width': 'initial'}\n",
        ")\n",
        "pressure = widgets.IntSlider(\n",
        "    description='Pressure diff [psi]:',\n",
        "    min=-50, max=50, value=0, step=1, style={'description_width': 'initial'}\n",
        ")\n",
        "predict_button = widgets.Button(\n",
        "    description='Predict Yield',\n",
        "    button_style='success', # 'success', 'info', 'warning', 'danger' or ''\n",
        "    icon='calculator'\n",
        ")\n",
        "# An output widget to display the results\n",
        "output = widgets.Output()"
      ],
      "metadata": {
        "id": "pF0sHEuEdNOz"
      },
      "id": "pF0sHEuEdNOz",
      "execution_count": null,
      "outputs": []
    },
    {
      "cell_type": "code",
      "source": [
        "# 3. Define the Prediction Logic\n",
        "# ------------------------------------------\n",
        "def run_prediction(pressure_val, flowrate_val, temperature_val):\n",
        "    \"\"\"Creates a DataFrame and runs the model prediction.\"\"\"\n",
        "    df_input = pd.DataFrame({\n",
        "        'PressureC1_diff': [pressure_val],\n",
        "        'FlowC1': [flowrate_val],\n",
        "        'Temp1': [temperature_val]\n",
        "    })\n",
        "    prediction_result = final_model.predict(df_input)\n",
        "    return prediction_result[0]\n"
      ],
      "metadata": {
        "id": "BSIXUJB2dhWc"
      },
      "id": "BSIXUJB2dhWc",
      "execution_count": null,
      "outputs": []
    },
    {
      "cell_type": "code",
      "source": [
        "# Define what happens when the button is clicked\n",
        "def on_predict_clicked(b):\n",
        "    with output:\n",
        "        output.clear_output() # Clear previous results\n",
        "        result = run_prediction(pressure.value, flowrate.value, temperature.value)\n",
        "        print(f\"Predicted Yield: {result:.2f}\")"
      ],
      "metadata": {
        "id": "oZZ_6dJidljJ"
      },
      "id": "oZZ_6dJidljJ",
      "execution_count": null,
      "outputs": []
    },
    {
      "cell_type": "code",
      "source": [
        "# Link the button click event to the function\n",
        "predict_button.on_click(on_predict_clicked)"
      ],
      "metadata": {
        "id": "H2Bd3GIAdpb4"
      },
      "id": "H2Bd3GIAdpb4",
      "execution_count": null,
      "outputs": []
    },
    {
      "cell_type": "code",
      "source": [
        "# 4. Display the Widgets\n",
        "# ------------------------------------------\n",
        "# Arrange all widgets in a vertical box and display them\n",
        "# Page title and image\n",
        "\n",
        "display(HTML('<h1>Distillation column yield prediction</h1>'))\n",
        "\n",
        "display(HTML(\"\"\"\n",
        "<p>This app aims to assist in predicting the yield in distillation columns by adjusting the sliders and clicking predict.</p>\n",
        "\"\"\"))\n",
        "\n",
        "ui = widgets.VBox([flowrate, temperature, pressure, predict_button, output])\n",
        "display(ui)"
      ],
      "metadata": {
        "id": "KBFHQCFQdsE8"
      },
      "id": "KBFHQCFQdsE8",
      "execution_count": null,
      "outputs": []
    }
  ],
  "metadata": {
    "kernelspec": {
      "display_name": "Python (Poetry_dist_tower)",
      "language": "python",
      "name": "my_poetry_kernel"
    },
    "language_info": {
      "codemirror_mode": {
        "name": "ipython",
        "version": 3
      },
      "file_extension": ".py",
      "mimetype": "text/x-python",
      "name": "python",
      "nbconvert_exporter": "python",
      "pygments_lexer": "ipython3",
      "version": "3.10.14"
    },
    "colab": {
      "provenance": [],
      "include_colab_link": true
    }
  },
  "nbformat": 4,
  "nbformat_minor": 5
}