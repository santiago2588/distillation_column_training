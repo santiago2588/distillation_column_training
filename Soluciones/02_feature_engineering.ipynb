{
 "cells": [
  {
   "cell_type": "code",
   "execution_count": 1,
   "metadata": {},
   "outputs": [],
   "source": [
    "import yaml\n",
    "import os"
   ]
  },
  {
   "cell_type": "code",
   "execution_count": 2,
   "metadata": {},
   "outputs": [],
   "source": [
    "import pandas as pd\n",
    "import matplotlib.pyplot as plt\n",
    "import plotly.express as px\n",
    "import seaborn as sns\n",
    "from sklearn.preprocessing import StandardScaler\n",
    "import numpy as np"
   ]
  },
  {
   "cell_type": "code",
   "execution_count": 3,
   "metadata": {},
   "outputs": [
    {
     "data": {
      "text/html": [
       "<div>\n",
       "<style scoped>\n",
       "    .dataframe tbody tr th:only-of-type {\n",
       "        vertical-align: middle;\n",
       "    }\n",
       "\n",
       "    .dataframe tbody tr th {\n",
       "        vertical-align: top;\n",
       "    }\n",
       "\n",
       "    .dataframe thead th {\n",
       "        text-align: right;\n",
       "    }\n",
       "</style>\n",
       "<table border=\"1\" class=\"dataframe\">\n",
       "  <thead>\n",
       "    <tr style=\"text-align: right;\">\n",
       "      <th></th>\n",
       "      <th>Temp1</th>\n",
       "      <th>FlowC1</th>\n",
       "      <th>Temp2</th>\n",
       "      <th>TempC1</th>\n",
       "      <th>Temp3</th>\n",
       "      <th>TempC2</th>\n",
       "      <th>TempC3</th>\n",
       "      <th>Temp4</th>\n",
       "      <th>PressureC1</th>\n",
       "      <th>Temp5</th>\n",
       "      <th>...</th>\n",
       "      <th>TempC9</th>\n",
       "      <th>FlowC2</th>\n",
       "      <th>Temp9</th>\n",
       "      <th>Temp10</th>\n",
       "      <th>FlowC3</th>\n",
       "      <th>FlowC4</th>\n",
       "      <th>Temp11</th>\n",
       "      <th>Temp12</th>\n",
       "      <th>VapourPressure</th>\n",
       "      <th>Yield</th>\n",
       "    </tr>\n",
       "  </thead>\n",
       "  <tbody>\n",
       "    <tr>\n",
       "      <th>0</th>\n",
       "      <td>139.9857</td>\n",
       "      <td>432.0636</td>\n",
       "      <td>377.8119</td>\n",
       "      <td>100.2204</td>\n",
       "      <td>492.1353</td>\n",
       "      <td>490.1459</td>\n",
       "      <td>180.5578</td>\n",
       "      <td>187.4331</td>\n",
       "      <td>215.0627</td>\n",
       "      <td>489.0043</td>\n",
       "      <td>...</td>\n",
       "      <td>86.6133</td>\n",
       "      <td>69.9017</td>\n",
       "      <td>461.2371</td>\n",
       "      <td>513.9653</td>\n",
       "      <td>8.6279</td>\n",
       "      <td>10.5988</td>\n",
       "      <td>30.8983</td>\n",
       "      <td>489.9900</td>\n",
       "      <td>32.5026</td>\n",
       "      <td>69.400623</td>\n",
       "    </tr>\n",
       "    <tr>\n",
       "      <th>1</th>\n",
       "      <td>131.0470</td>\n",
       "      <td>487.4029</td>\n",
       "      <td>371.3060</td>\n",
       "      <td>100.2297</td>\n",
       "      <td>482.2100</td>\n",
       "      <td>480.3128</td>\n",
       "      <td>172.6575</td>\n",
       "      <td>179.5089</td>\n",
       "      <td>205.0999</td>\n",
       "      <td>479.0443</td>\n",
       "      <td>...</td>\n",
       "      <td>97.6100</td>\n",
       "      <td>69.6900</td>\n",
       "      <td>450.3000</td>\n",
       "      <td>504.5145</td>\n",
       "      <td>8.7662</td>\n",
       "      <td>10.7560</td>\n",
       "      <td>31.9099</td>\n",
       "      <td>480.2888</td>\n",
       "      <td>34.8598</td>\n",
       "      <td>66.532666</td>\n",
       "    </tr>\n",
       "    <tr>\n",
       "      <th>2</th>\n",
       "      <td>118.2666</td>\n",
       "      <td>437.3516</td>\n",
       "      <td>378.4483</td>\n",
       "      <td>100.3084</td>\n",
       "      <td>488.7266</td>\n",
       "      <td>487.0040</td>\n",
       "      <td>165.9400</td>\n",
       "      <td>172.9262</td>\n",
       "      <td>205.0304</td>\n",
       "      <td>485.1326</td>\n",
       "      <td>...</td>\n",
       "      <td>88.4967</td>\n",
       "      <td>70.5867</td>\n",
       "      <td>458.8101</td>\n",
       "      <td>508.9997</td>\n",
       "      <td>8.5319</td>\n",
       "      <td>10.5737</td>\n",
       "      <td>29.9165</td>\n",
       "      <td>486.6190</td>\n",
       "      <td>32.1666</td>\n",
       "      <td>71.102193</td>\n",
       "    </tr>\n",
       "    <tr>\n",
       "      <th>3</th>\n",
       "      <td>118.1769</td>\n",
       "      <td>481.8314</td>\n",
       "      <td>378.0028</td>\n",
       "      <td>95.5766</td>\n",
       "      <td>493.1481</td>\n",
       "      <td>491.1137</td>\n",
       "      <td>167.2085</td>\n",
       "      <td>174.2338</td>\n",
       "      <td>205.2561</td>\n",
       "      <td>490.4338</td>\n",
       "      <td>...</td>\n",
       "      <td>95.3483</td>\n",
       "      <td>70.2167</td>\n",
       "      <td>462.5252</td>\n",
       "      <td>514.1794</td>\n",
       "      <td>8.6260</td>\n",
       "      <td>10.6695</td>\n",
       "      <td>30.6229</td>\n",
       "      <td>491.1304</td>\n",
       "      <td>30.4064</td>\n",
       "      <td>69.793481</td>\n",
       "    </tr>\n",
       "    <tr>\n",
       "      <th>4</th>\n",
       "      <td>120.7891</td>\n",
       "      <td>412.6471</td>\n",
       "      <td>377.8871</td>\n",
       "      <td>92.9052</td>\n",
       "      <td>490.2486</td>\n",
       "      <td>488.6641</td>\n",
       "      <td>167.0326</td>\n",
       "      <td>173.9681</td>\n",
       "      <td>205.0883</td>\n",
       "      <td>486.1049</td>\n",
       "      <td>...</td>\n",
       "      <td>82.9533</td>\n",
       "      <td>69.6567</td>\n",
       "      <td>460.7509</td>\n",
       "      <td>511.0948</td>\n",
       "      <td>8.5939</td>\n",
       "      <td>10.4922</td>\n",
       "      <td>29.4977</td>\n",
       "      <td>487.6475</td>\n",
       "      <td>30.9238</td>\n",
       "      <td>71.489516</td>\n",
       "    </tr>\n",
       "  </tbody>\n",
       "</table>\n",
       "<p>5 rows × 24 columns</p>\n",
       "</div>"
      ],
      "text/plain": [
       "      Temp1    FlowC1     Temp2    TempC1     Temp3    TempC2    TempC3  \\\n",
       "0  139.9857  432.0636  377.8119  100.2204  492.1353  490.1459  180.5578   \n",
       "1  131.0470  487.4029  371.3060  100.2297  482.2100  480.3128  172.6575   \n",
       "2  118.2666  437.3516  378.4483  100.3084  488.7266  487.0040  165.9400   \n",
       "3  118.1769  481.8314  378.0028   95.5766  493.1481  491.1137  167.2085   \n",
       "4  120.7891  412.6471  377.8871   92.9052  490.2486  488.6641  167.0326   \n",
       "\n",
       "      Temp4  PressureC1     Temp5  ...   TempC9   FlowC2     Temp9    Temp10  \\\n",
       "0  187.4331    215.0627  489.0043  ...  86.6133  69.9017  461.2371  513.9653   \n",
       "1  179.5089    205.0999  479.0443  ...  97.6100  69.6900  450.3000  504.5145   \n",
       "2  172.9262    205.0304  485.1326  ...  88.4967  70.5867  458.8101  508.9997   \n",
       "3  174.2338    205.2561  490.4338  ...  95.3483  70.2167  462.5252  514.1794   \n",
       "4  173.9681    205.0883  486.1049  ...  82.9533  69.6567  460.7509  511.0948   \n",
       "\n",
       "   FlowC3   FlowC4   Temp11    Temp12  VapourPressure      Yield  \n",
       "0  8.6279  10.5988  30.8983  489.9900         32.5026  69.400623  \n",
       "1  8.7662  10.7560  31.9099  480.2888         34.8598  66.532666  \n",
       "2  8.5319  10.5737  29.9165  486.6190         32.1666  71.102193  \n",
       "3  8.6260  10.6695  30.6229  491.1304         30.4064  69.793481  \n",
       "4  8.5939  10.4922  29.4977  487.6475         30.9238  71.489516  \n",
       "\n",
       "[5 rows x 24 columns]"
      ]
     },
     "execution_count": 3,
     "metadata": {},
     "output_type": "execute_result"
    }
   ],
   "source": [
    "# Load the configuration file\n",
    "with open('../config.yaml', 'r') as config_file:\n",
    "    config = yaml.safe_load(config_file)\n",
    "\n",
    "# Access the settings\n",
    "project_folder = config['projectFolder']\n",
    "df_path = os.path.join(project_folder, config['cleanDataFile'])\n",
    "df = pd.read_csv(df_path)\n",
    "\n",
    "# Display the first few rows\n",
    "df.head()"
   ]
  },
  {
   "cell_type": "code",
   "execution_count": 4,
   "metadata": {},
   "outputs": [
    {
     "data": {
      "text/html": [
       "<div>\n",
       "<style scoped>\n",
       "    .dataframe tbody tr th:only-of-type {\n",
       "        vertical-align: middle;\n",
       "    }\n",
       "\n",
       "    .dataframe tbody tr th {\n",
       "        vertical-align: top;\n",
       "    }\n",
       "\n",
       "    .dataframe thead th {\n",
       "        text-align: right;\n",
       "    }\n",
       "</style>\n",
       "<table border=\"1\" class=\"dataframe\">\n",
       "  <thead>\n",
       "    <tr style=\"text-align: right;\">\n",
       "      <th></th>\n",
       "      <th>Temp1</th>\n",
       "      <th>FlowC1</th>\n",
       "      <th>Temp2</th>\n",
       "      <th>TempC1</th>\n",
       "      <th>Temp3</th>\n",
       "      <th>TempC2</th>\n",
       "      <th>TempC3</th>\n",
       "      <th>Temp4</th>\n",
       "      <th>PressureC1</th>\n",
       "      <th>Temp5</th>\n",
       "      <th>...</th>\n",
       "      <th>FlowC2</th>\n",
       "      <th>Temp9</th>\n",
       "      <th>Temp10</th>\n",
       "      <th>FlowC3</th>\n",
       "      <th>FlowC4</th>\n",
       "      <th>Temp11</th>\n",
       "      <th>Temp12</th>\n",
       "      <th>VapourPressure</th>\n",
       "      <th>Yield</th>\n",
       "      <th>RandomUniform</th>\n",
       "    </tr>\n",
       "  </thead>\n",
       "  <tbody>\n",
       "    <tr>\n",
       "      <th>0</th>\n",
       "      <td>139.9857</td>\n",
       "      <td>432.0636</td>\n",
       "      <td>377.8119</td>\n",
       "      <td>100.2204</td>\n",
       "      <td>492.1353</td>\n",
       "      <td>490.1459</td>\n",
       "      <td>180.5578</td>\n",
       "      <td>187.4331</td>\n",
       "      <td>215.0627</td>\n",
       "      <td>489.0043</td>\n",
       "      <td>...</td>\n",
       "      <td>69.9017</td>\n",
       "      <td>461.2371</td>\n",
       "      <td>513.9653</td>\n",
       "      <td>8.6279</td>\n",
       "      <td>10.5988</td>\n",
       "      <td>30.8983</td>\n",
       "      <td>489.9900</td>\n",
       "      <td>32.5026</td>\n",
       "      <td>69.400623</td>\n",
       "      <td>71.820930</td>\n",
       "    </tr>\n",
       "    <tr>\n",
       "      <th>1</th>\n",
       "      <td>131.0470</td>\n",
       "      <td>487.4029</td>\n",
       "      <td>371.3060</td>\n",
       "      <td>100.2297</td>\n",
       "      <td>482.2100</td>\n",
       "      <td>480.3128</td>\n",
       "      <td>172.6575</td>\n",
       "      <td>179.5089</td>\n",
       "      <td>205.0999</td>\n",
       "      <td>479.0443</td>\n",
       "      <td>...</td>\n",
       "      <td>69.6900</td>\n",
       "      <td>450.3000</td>\n",
       "      <td>504.5145</td>\n",
       "      <td>8.7662</td>\n",
       "      <td>10.7560</td>\n",
       "      <td>31.9099</td>\n",
       "      <td>480.2888</td>\n",
       "      <td>34.8598</td>\n",
       "      <td>66.532666</td>\n",
       "      <td>65.532207</td>\n",
       "    </tr>\n",
       "    <tr>\n",
       "      <th>2</th>\n",
       "      <td>118.2666</td>\n",
       "      <td>437.3516</td>\n",
       "      <td>378.4483</td>\n",
       "      <td>100.3084</td>\n",
       "      <td>488.7266</td>\n",
       "      <td>487.0040</td>\n",
       "      <td>165.9400</td>\n",
       "      <td>172.9262</td>\n",
       "      <td>205.0304</td>\n",
       "      <td>485.1326</td>\n",
       "      <td>...</td>\n",
       "      <td>70.5867</td>\n",
       "      <td>458.8101</td>\n",
       "      <td>508.9997</td>\n",
       "      <td>8.5319</td>\n",
       "      <td>10.5737</td>\n",
       "      <td>29.9165</td>\n",
       "      <td>486.6190</td>\n",
       "      <td>32.1666</td>\n",
       "      <td>71.102193</td>\n",
       "      <td>66.266608</td>\n",
       "    </tr>\n",
       "    <tr>\n",
       "      <th>3</th>\n",
       "      <td>118.1769</td>\n",
       "      <td>481.8314</td>\n",
       "      <td>378.0028</td>\n",
       "      <td>95.5766</td>\n",
       "      <td>493.1481</td>\n",
       "      <td>491.1137</td>\n",
       "      <td>167.2085</td>\n",
       "      <td>174.2338</td>\n",
       "      <td>205.2561</td>\n",
       "      <td>490.4338</td>\n",
       "      <td>...</td>\n",
       "      <td>70.2167</td>\n",
       "      <td>462.5252</td>\n",
       "      <td>514.1794</td>\n",
       "      <td>8.6260</td>\n",
       "      <td>10.6695</td>\n",
       "      <td>30.6229</td>\n",
       "      <td>491.1304</td>\n",
       "      <td>30.4064</td>\n",
       "      <td>69.793481</td>\n",
       "      <td>72.199366</td>\n",
       "    </tr>\n",
       "    <tr>\n",
       "      <th>4</th>\n",
       "      <td>120.7891</td>\n",
       "      <td>412.6471</td>\n",
       "      <td>377.8871</td>\n",
       "      <td>92.9052</td>\n",
       "      <td>490.2486</td>\n",
       "      <td>488.6641</td>\n",
       "      <td>167.0326</td>\n",
       "      <td>173.9681</td>\n",
       "      <td>205.0883</td>\n",
       "      <td>486.1049</td>\n",
       "      <td>...</td>\n",
       "      <td>69.6567</td>\n",
       "      <td>460.7509</td>\n",
       "      <td>511.0948</td>\n",
       "      <td>8.5939</td>\n",
       "      <td>10.4922</td>\n",
       "      <td>29.4977</td>\n",
       "      <td>487.6475</td>\n",
       "      <td>30.9238</td>\n",
       "      <td>71.489516</td>\n",
       "      <td>73.322622</td>\n",
       "    </tr>\n",
       "    <tr>\n",
       "      <th>...</th>\n",
       "      <td>...</td>\n",
       "      <td>...</td>\n",
       "      <td>...</td>\n",
       "      <td>...</td>\n",
       "      <td>...</td>\n",
       "      <td>...</td>\n",
       "      <td>...</td>\n",
       "      <td>...</td>\n",
       "      <td>...</td>\n",
       "      <td>...</td>\n",
       "      <td>...</td>\n",
       "      <td>...</td>\n",
       "      <td>...</td>\n",
       "      <td>...</td>\n",
       "      <td>...</td>\n",
       "      <td>...</td>\n",
       "      <td>...</td>\n",
       "      <td>...</td>\n",
       "      <td>...</td>\n",
       "      <td>...</td>\n",
       "      <td>...</td>\n",
       "    </tr>\n",
       "    <tr>\n",
       "      <th>248</th>\n",
       "      <td>130.8138</td>\n",
       "      <td>212.6385</td>\n",
       "      <td>341.5964</td>\n",
       "      <td>121.4354</td>\n",
       "      <td>468.3401</td>\n",
       "      <td>467.0299</td>\n",
       "      <td>174.7639</td>\n",
       "      <td>180.7649</td>\n",
       "      <td>229.7393</td>\n",
       "      <td>465.4282</td>\n",
       "      <td>...</td>\n",
       "      <td>72.2767</td>\n",
       "      <td>451.9269</td>\n",
       "      <td>479.0290</td>\n",
       "      <td>5.5590</td>\n",
       "      <td>6.4470</td>\n",
       "      <td>16.4131</td>\n",
       "      <td>466.3347</td>\n",
       "      <td>38.8507</td>\n",
       "      <td>69.037071</td>\n",
       "      <td>72.363884</td>\n",
       "    </tr>\n",
       "    <tr>\n",
       "      <th>249</th>\n",
       "      <td>128.9673</td>\n",
       "      <td>225.1412</td>\n",
       "      <td>349.8965</td>\n",
       "      <td>118.8604</td>\n",
       "      <td>479.7665</td>\n",
       "      <td>478.4652</td>\n",
       "      <td>176.2176</td>\n",
       "      <td>182.3646</td>\n",
       "      <td>230.5049</td>\n",
       "      <td>477.2564</td>\n",
       "      <td>...</td>\n",
       "      <td>72.1567</td>\n",
       "      <td>462.5281</td>\n",
       "      <td>491.2362</td>\n",
       "      <td>5.6342</td>\n",
       "      <td>6.4360</td>\n",
       "      <td>17.2385</td>\n",
       "      <td>477.8816</td>\n",
       "      <td>34.2653</td>\n",
       "      <td>69.202425</td>\n",
       "      <td>70.218386</td>\n",
       "    </tr>\n",
       "    <tr>\n",
       "      <th>250</th>\n",
       "      <td>130.5328</td>\n",
       "      <td>223.5965</td>\n",
       "      <td>345.9366</td>\n",
       "      <td>120.4027</td>\n",
       "      <td>474.5378</td>\n",
       "      <td>473.1145</td>\n",
       "      <td>176.3310</td>\n",
       "      <td>182.2578</td>\n",
       "      <td>230.6638</td>\n",
       "      <td>471.4597</td>\n",
       "      <td>...</td>\n",
       "      <td>72.5500</td>\n",
       "      <td>457.5511</td>\n",
       "      <td>485.8786</td>\n",
       "      <td>5.4810</td>\n",
       "      <td>6.3575</td>\n",
       "      <td>16.9866</td>\n",
       "      <td>472.3176</td>\n",
       "      <td>36.5717</td>\n",
       "      <td>69.409546</td>\n",
       "      <td>69.653641</td>\n",
       "    </tr>\n",
       "    <tr>\n",
       "      <th>251</th>\n",
       "      <td>128.5248</td>\n",
       "      <td>213.5613</td>\n",
       "      <td>343.4950</td>\n",
       "      <td>119.6989</td>\n",
       "      <td>469.3802</td>\n",
       "      <td>467.9954</td>\n",
       "      <td>174.6435</td>\n",
       "      <td>180.5093</td>\n",
       "      <td>230.5226</td>\n",
       "      <td>466.4124</td>\n",
       "      <td>...</td>\n",
       "      <td>72.2250</td>\n",
       "      <td>452.7025</td>\n",
       "      <td>480.2879</td>\n",
       "      <td>5.4727</td>\n",
       "      <td>6.4175</td>\n",
       "      <td>16.6778</td>\n",
       "      <td>467.0001</td>\n",
       "      <td>38.1054</td>\n",
       "      <td>69.072711</td>\n",
       "      <td>69.793324</td>\n",
       "    </tr>\n",
       "    <tr>\n",
       "      <th>252</th>\n",
       "      <td>131.0491</td>\n",
       "      <td>217.4117</td>\n",
       "      <td>346.1960</td>\n",
       "      <td>119.0825</td>\n",
       "      <td>474.6599</td>\n",
       "      <td>473.0381</td>\n",
       "      <td>177.1088</td>\n",
       "      <td>183.1810</td>\n",
       "      <td>225.6420</td>\n",
       "      <td>471.3944</td>\n",
       "      <td>...</td>\n",
       "      <td>72.3600</td>\n",
       "      <td>457.7832</td>\n",
       "      <td>486.0253</td>\n",
       "      <td>5.4597</td>\n",
       "      <td>6.3291</td>\n",
       "      <td>16.8766</td>\n",
       "      <td>472.2701</td>\n",
       "      <td>35.6298</td>\n",
       "      <td>68.128288</td>\n",
       "      <td>72.790277</td>\n",
       "    </tr>\n",
       "  </tbody>\n",
       "</table>\n",
       "<p>253 rows × 25 columns</p>\n",
       "</div>"
      ],
      "text/plain": [
       "        Temp1    FlowC1     Temp2    TempC1     Temp3    TempC2    TempC3  \\\n",
       "0    139.9857  432.0636  377.8119  100.2204  492.1353  490.1459  180.5578   \n",
       "1    131.0470  487.4029  371.3060  100.2297  482.2100  480.3128  172.6575   \n",
       "2    118.2666  437.3516  378.4483  100.3084  488.7266  487.0040  165.9400   \n",
       "3    118.1769  481.8314  378.0028   95.5766  493.1481  491.1137  167.2085   \n",
       "4    120.7891  412.6471  377.8871   92.9052  490.2486  488.6641  167.0326   \n",
       "..        ...       ...       ...       ...       ...       ...       ...   \n",
       "248  130.8138  212.6385  341.5964  121.4354  468.3401  467.0299  174.7639   \n",
       "249  128.9673  225.1412  349.8965  118.8604  479.7665  478.4652  176.2176   \n",
       "250  130.5328  223.5965  345.9366  120.4027  474.5378  473.1145  176.3310   \n",
       "251  128.5248  213.5613  343.4950  119.6989  469.3802  467.9954  174.6435   \n",
       "252  131.0491  217.4117  346.1960  119.0825  474.6599  473.0381  177.1088   \n",
       "\n",
       "        Temp4  PressureC1     Temp5  ...   FlowC2     Temp9    Temp10  FlowC3  \\\n",
       "0    187.4331    215.0627  489.0043  ...  69.9017  461.2371  513.9653  8.6279   \n",
       "1    179.5089    205.0999  479.0443  ...  69.6900  450.3000  504.5145  8.7662   \n",
       "2    172.9262    205.0304  485.1326  ...  70.5867  458.8101  508.9997  8.5319   \n",
       "3    174.2338    205.2561  490.4338  ...  70.2167  462.5252  514.1794  8.6260   \n",
       "4    173.9681    205.0883  486.1049  ...  69.6567  460.7509  511.0948  8.5939   \n",
       "..        ...         ...       ...  ...      ...       ...       ...     ...   \n",
       "248  180.7649    229.7393  465.4282  ...  72.2767  451.9269  479.0290  5.5590   \n",
       "249  182.3646    230.5049  477.2564  ...  72.1567  462.5281  491.2362  5.6342   \n",
       "250  182.2578    230.6638  471.4597  ...  72.5500  457.5511  485.8786  5.4810   \n",
       "251  180.5093    230.5226  466.4124  ...  72.2250  452.7025  480.2879  5.4727   \n",
       "252  183.1810    225.6420  471.3944  ...  72.3600  457.7832  486.0253  5.4597   \n",
       "\n",
       "      FlowC4   Temp11    Temp12  VapourPressure      Yield  RandomUniform  \n",
       "0    10.5988  30.8983  489.9900         32.5026  69.400623      71.820930  \n",
       "1    10.7560  31.9099  480.2888         34.8598  66.532666      65.532207  \n",
       "2    10.5737  29.9165  486.6190         32.1666  71.102193      66.266608  \n",
       "3    10.6695  30.6229  491.1304         30.4064  69.793481      72.199366  \n",
       "4    10.4922  29.4977  487.6475         30.9238  71.489516      73.322622  \n",
       "..       ...      ...       ...             ...        ...            ...  \n",
       "248   6.4470  16.4131  466.3347         38.8507  69.037071      72.363884  \n",
       "249   6.4360  17.2385  477.8816         34.2653  69.202425      70.218386  \n",
       "250   6.3575  16.9866  472.3176         36.5717  69.409546      69.653641  \n",
       "251   6.4175  16.6778  467.0001         38.1054  69.072711      69.793324  \n",
       "252   6.3291  16.8766  472.2701         35.6298  68.128288      72.790277  \n",
       "\n",
       "[253 rows x 25 columns]"
      ]
     },
     "execution_count": 4,
     "metadata": {},
     "output_type": "execute_result"
    }
   ],
   "source": [
    "#Add a random uniform column from Yield\n",
    "# Step 1: Get the range of the column\n",
    "min_value = df['Yield'].min()\n",
    "max_value = df['Yield'].max()\n",
    "\n",
    "# Step 2: Generate random uniform values within the range\n",
    "random_uniform_values = np.random.uniform(min_value, max_value, size=len(df))\n",
    "\n",
    "# Step 3: Add the random uniform column to the DataFrame\n",
    "df['RandomUniform'] = random_uniform_values\n",
    "\n",
    "# Display the updated DataFrame\n",
    "df"
   ]
  },
  {
   "cell_type": "code",
   "execution_count": 5,
   "metadata": {},
   "outputs": [
    {
     "data": {
      "image/png": "[encoded data removed]",
      "text/plain": [
       "<Figure size 1000x600 with 1 Axes>"
      ]
     },
     "metadata": {},
     "output_type": "display_data"
    }
   ],
   "source": [
    "# Feature importance using Random Forest\n",
    "from sklearn.ensemble import RandomForestRegressor\n",
    "\n",
    "X = df.drop(columns=['Yield'])  # Features\n",
    "y = df['Yield']  # Target\n",
    "\n",
    "model = RandomForestRegressor(random_state=42)\n",
    "model.fit(X, y)\n",
    "\n",
    "# Plot feature importance\n",
    "importances = model.feature_importances_\n",
    "feature_names = X.columns\n",
    "sorted_indices = np.argsort(importances)[::-1]\n",
    "\n",
    "plt.figure(figsize=(10, 6))\n",
    "plt.bar(range(X.shape[1]), importances[sorted_indices], align=\"center\")\n",
    "plt.xticks(range(X.shape[1]), feature_names[sorted_indices], rotation=90)\n",
    "plt.title(\"Feature Importance\")\n",
    "plt.show()"
   ]
  },
  {
   "cell_type": "code",
   "execution_count": 6,
   "metadata": {},
   "outputs": [
    {
     "data": {
      "text/plain": [
       "['Temp2',\n",
       " 'TempC1',\n",
       " 'Temp3',\n",
       " 'TempC2',\n",
       " 'TempC3',\n",
       " 'Temp4',\n",
       " 'PressureC1',\n",
       " 'Temp5',\n",
       " 'Temp6',\n",
       " 'OC1',\n",
       " 'Temp7',\n",
       " 'Temp8',\n",
       " 'FlowC2',\n",
       " 'Temp9',\n",
       " 'Temp10',\n",
       " 'FlowC3',\n",
       " 'FlowC4',\n",
       " 'Temp11',\n",
       " 'Temp12',\n",
       " 'VapourPressure']"
      ]
     },
     "execution_count": 6,
     "metadata": {},
     "output_type": "execute_result"
    }
   ],
   "source": [
    "# Create a DataFrame to store feature names and their importances\n",
    "importance_df = pd.DataFrame({\n",
    "    'Feature': X.columns,\n",
    "    'Importance': importances\n",
    "})\n",
    "\n",
    "# Identify features to drop (importance < random uniform value)\n",
    "# Extract the importance of the RandomUniform column\n",
    "random_uniform_importance = importance_df[importance_df['Feature'] == 'RandomUniform']['Importance'].values[0]\n",
    "\n",
    "# Identify features with importance less than the RandomUniform importance\n",
    "features_to_drop = importance_df[importance_df['Importance'] < random_uniform_importance]['Feature'].tolist()\n",
    "features_to_drop"
   ]
  },
  {
   "cell_type": "code",
   "execution_count": 7,
   "metadata": {},
   "outputs": [
    {
     "data": {
      "text/html": [
       "<div>\n",
       "<style scoped>\n",
       "    .dataframe tbody tr th:only-of-type {\n",
       "        vertical-align: middle;\n",
       "    }\n",
       "\n",
       "    .dataframe tbody tr th {\n",
       "        vertical-align: top;\n",
       "    }\n",
       "\n",
       "    .dataframe thead th {\n",
       "        text-align: right;\n",
       "    }\n",
       "</style>\n",
       "<table border=\"1\" class=\"dataframe\">\n",
       "  <thead>\n",
       "    <tr style=\"text-align: right;\">\n",
       "      <th></th>\n",
       "      <th>Temp1</th>\n",
       "      <th>FlowC1</th>\n",
       "      <th>TempC9</th>\n",
       "      <th>Yield</th>\n",
       "    </tr>\n",
       "  </thead>\n",
       "  <tbody>\n",
       "    <tr>\n",
       "      <th>0</th>\n",
       "      <td>139.9857</td>\n",
       "      <td>432.0636</td>\n",
       "      <td>86.6133</td>\n",
       "      <td>69.400623</td>\n",
       "    </tr>\n",
       "    <tr>\n",
       "      <th>1</th>\n",
       "      <td>131.0470</td>\n",
       "      <td>487.4029</td>\n",
       "      <td>97.6100</td>\n",
       "      <td>66.532666</td>\n",
       "    </tr>\n",
       "    <tr>\n",
       "      <th>2</th>\n",
       "      <td>118.2666</td>\n",
       "      <td>437.3516</td>\n",
       "      <td>88.4967</td>\n",
       "      <td>71.102193</td>\n",
       "    </tr>\n",
       "    <tr>\n",
       "      <th>3</th>\n",
       "      <td>118.1769</td>\n",
       "      <td>481.8314</td>\n",
       "      <td>95.3483</td>\n",
       "      <td>69.793481</td>\n",
       "    </tr>\n",
       "    <tr>\n",
       "      <th>4</th>\n",
       "      <td>120.7891</td>\n",
       "      <td>412.6471</td>\n",
       "      <td>82.9533</td>\n",
       "      <td>71.489516</td>\n",
       "    </tr>\n",
       "    <tr>\n",
       "      <th>...</th>\n",
       "      <td>...</td>\n",
       "      <td>...</td>\n",
       "      <td>...</td>\n",
       "      <td>...</td>\n",
       "    </tr>\n",
       "    <tr>\n",
       "      <th>248</th>\n",
       "      <td>130.8138</td>\n",
       "      <td>212.6385</td>\n",
       "      <td>41.9133</td>\n",
       "      <td>69.037071</td>\n",
       "    </tr>\n",
       "    <tr>\n",
       "      <th>249</th>\n",
       "      <td>128.9673</td>\n",
       "      <td>225.1412</td>\n",
       "      <td>45.6567</td>\n",
       "      <td>69.202425</td>\n",
       "    </tr>\n",
       "    <tr>\n",
       "      <th>250</th>\n",
       "      <td>130.5328</td>\n",
       "      <td>223.5965</td>\n",
       "      <td>44.8278</td>\n",
       "      <td>69.409546</td>\n",
       "    </tr>\n",
       "    <tr>\n",
       "      <th>251</th>\n",
       "      <td>128.5248</td>\n",
       "      <td>213.5613</td>\n",
       "      <td>41.7078</td>\n",
       "      <td>69.072711</td>\n",
       "    </tr>\n",
       "    <tr>\n",
       "      <th>252</th>\n",
       "      <td>131.0491</td>\n",
       "      <td>217.4117</td>\n",
       "      <td>43.5767</td>\n",
       "      <td>68.128288</td>\n",
       "    </tr>\n",
       "  </tbody>\n",
       "</table>\n",
       "<p>253 rows × 4 columns</p>\n",
       "</div>"
      ],
      "text/plain": [
       "        Temp1    FlowC1   TempC9      Yield\n",
       "0    139.9857  432.0636  86.6133  69.400623\n",
       "1    131.0470  487.4029  97.6100  66.532666\n",
       "2    118.2666  437.3516  88.4967  71.102193\n",
       "3    118.1769  481.8314  95.3483  69.793481\n",
       "4    120.7891  412.6471  82.9533  71.489516\n",
       "..        ...       ...      ...        ...\n",
       "248  130.8138  212.6385  41.9133  69.037071\n",
       "249  128.9673  225.1412  45.6567  69.202425\n",
       "250  130.5328  223.5965  44.8278  69.409546\n",
       "251  128.5248  213.5613  41.7078  69.072711\n",
       "252  131.0491  217.4117  43.5767  68.128288\n",
       "\n",
       "[253 rows x 4 columns]"
      ]
     },
     "execution_count": 7,
     "metadata": {},
     "output_type": "execute_result"
    }
   ],
   "source": [
    "# Step 5: Drop the low-importance features\n",
    "df_reduced = df.drop(columns=features_to_drop)\n",
    "df_reduced.drop(columns=['RandomUniform'], inplace=True)\n",
    "df_reduced"
   ]
  },
  {
   "cell_type": "code",
   "execution_count": 8,
   "metadata": {},
   "outputs": [
    {
     "data": {
      "application/vnd.plotly.v1+json": {
       "config": {
        "plotlyServerURL": "https://plot.ly"
       },
       "data": [
        {
         "coloraxis": "coloraxis",
         "hovertemplate": "x: %{x}<br>y: %{y}<br>color: %{z}<extra></extra>",
         "name": "0",
         "texttemplate": "%{z}",
         "type": "heatmap",
         "x": [
          "Temp1",
          "FlowC1",
          "TempC9",
          "Yield"
         ],
         "xaxis": "x",
         "y": [
          "Temp1",
          "FlowC1",
          "TempC9",
          "Yield"
         ],
         "yaxis": "y",
         "z": [
          [
           1,
           0.017277133374479885,
           0.01157657146165051,
           -0.29664306632789583
          ],
          [
           0.017277133374479885,
           1,
           0.9974597456821341,
           0.2785432796701152
          ],
          [
           0.01157657146165051,
           0.9974597456821341,
           1,
           0.28000372349915925
          ],
          [
           -0.29664306632789583,
           0.2785432796701152,
           0.28000372349915925,
           1
          ]
         ]
        }
       ],
       "layout": {
        "coloraxis": {
         "cmax": 1,
         "cmin": -1,
         "colorscale": [
          [
           0,
           "rgb(103,0,31)"
          ],
          [
           0.1,
           "rgb(178,24,43)"
          ],
          [
           0.2,
           "rgb(214,96,77)"
          ],
          [
           0.3,
           "rgb(244,165,130)"
          ],
          [
           0.4,
           "rgb(253,219,199)"
          ],
          [
           0.5,
           "rgb(247,247,247)"
          ],
          [
           0.6,
           "rgb(209,229,240)"
          ],
          [
           0.7,
           "rgb(146,197,222)"
          ],
          [
           0.8,
           "rgb(67,147,195)"
          ],
          [
           0.9,
           "rgb(33,102,172)"
          ],
          [
           1,
           "rgb(5,48,97)"
          ]
         ]
        },
        "height": 800,
        "margin": {
         "t": 60
        },
        "template": {
         "data": {
          "bar": [
           {
            "error_x": {
             "color": "#2a3f5f"
            },
            "error_y": {
             "color": "#2a3f5f"
            },
            "marker": {
             "line": {
              "color": "#E5ECF6",
              "width": 0.5
             },
             "pattern": {
              "fillmode": "overlay",
              "size": 10,
              "solidity": 0.2
             }
            },
            "type": "bar"
           }
          ],
          "barpolar": [
           {
            "marker": {
             "line": {
              "color": "#E5ECF6",
              "width": 0.5
             },
             "pattern": {
              "fillmode": "overlay",
              "size": 10,
              "solidity": 0.2
             }
            },
            "type": "barpolar"
           }
          ],
          "carpet": [
           {
            "aaxis": {
             "endlinecolor": "#2a3f5f",
             "gridcolor": "white",
             "linecolor": "white",
             "minorgridcolor": "white",
             "startlinecolor": "#2a3f5f"
            },
            "baxis": {
             "endlinecolor": "#2a3f5f",
             "gridcolor": "white",
             "linecolor": "white",
             "minorgridcolor": "white",
             "startlinecolor": "#2a3f5f"
            },
            "type": "carpet"
           }
          ],
          "choropleth": [
           {
            "colorbar": {
             "outlinewidth": 0,
             "ticks": ""
            },
            "type": "choropleth"
           }
          ],
          "contour": [
           {
            "colorbar": {
             "outlinewidth": 0,
             "ticks": ""
            },
            "colorscale": [
             [
              0,
              "#0d0887"
             ],
             [
              0.1111111111111111,
              "#46039f"
             ],
             [
              0.2222222222222222,
              "#7201a8"
             ],
             [
              0.3333333333333333,
              "#9c179e"
             ],
             [
              0.4444444444444444,
              "#bd3786"
             ],
             [
              0.5555555555555556,
              "#d8576b"
             ],
             [
              0.6666666666666666,
              "#ed7953"
             ],
             [
              0.7777777777777778,
              "#fb9f3a"
             ],
             [
              0.8888888888888888,
              "#fdca26"
             ],
             [
              1,
              "#f0f921"
             ]
            ],
            "type": "contour"
           }
          ],
          "contourcarpet": [
           {
            "colorbar": {
             "outlinewidth": 0,
             "ticks": ""
            },
            "type": "contourcarpet"
           }
          ],
          "heatmap": [
           {
            "colorbar": {
             "outlinewidth": 0,
             "ticks": ""
            },
            "colorscale": [
             [
              0,
              "#0d0887"
             ],
             [
              0.1111111111111111,
              "#46039f"
             ],
             [
              0.2222222222222222,
              "#7201a8"
             ],
             [
              0.3333333333333333,
              "#9c179e"
             ],
             [
              0.4444444444444444,
              "#bd3786"
             ],
             [
              0.5555555555555556,
              "#d8576b"
             ],
             [
              0.6666666666666666,
              "#ed7953"
             ],
             [
              0.7777777777777778,
              "#fb9f3a"
             ],
             [
              0.8888888888888888,
              "#fdca26"
             ],
             [
              1,
              "#f0f921"
             ]
            ],
            "type": "heatmap"
           }
          ],
          "heatmapgl": [
           {
            "colorbar": {
             "outlinewidth": 0,
             "ticks": ""
            },
            "colorscale": [
             [
              0,
              "#0d0887"
             ],
             [
              0.1111111111111111,
              "#46039f"
             ],
             [
              0.2222222222222222,
              "#7201a8"
             ],
             [
              0.3333333333333333,
              "#9c179e"
             ],
             [
              0.4444444444444444,
              "#bd3786"
             ],
             [
              0.5555555555555556,
              "#d8576b"
             ],
             [
              0.6666666666666666,
              "#ed7953"
             ],
             [
              0.7777777777777778,
              "#fb9f3a"
             ],
             [
              0.8888888888888888,
              "#fdca26"
             ],
             [
              1,
              "#f0f921"
             ]
            ],
            "type": "heatmapgl"
           }
          ],
          "histogram": [
           {
            "marker": {
             "pattern": {
              "fillmode": "overlay",
              "size": 10,
              "solidity": 0.2
             }
            },
            "type": "histogram"
           }
          ],
          "histogram2d": [
           {
            "colorbar": {
             "outlinewidth": 0,
             "ticks": ""
            },
            "colorscale": [
             [
              0,
              "#0d0887"
             ],
             [
              0.1111111111111111,
              "#46039f"
             ],
             [
              0.2222222222222222,
              "#7201a8"
             ],
             [
              0.3333333333333333,
              "#9c179e"
             ],
             [
              0.4444444444444444,
              "#bd3786"
             ],
             [
              0.5555555555555556,
              "#d8576b"
             ],
             [
              0.6666666666666666,
              "#ed7953"
             ],
             [
              0.7777777777777778,
              "#fb9f3a"
             ],
             [
              0.8888888888888888,
              "#fdca26"
             ],
             [
              1,
              "#f0f921"
             ]
            ],
            "type": "histogram2d"
           }
          ],
          "histogram2dcontour": [
           {
            "colorbar": {
             "outlinewidth": 0,
             "ticks": ""
            },
            "colorscale": [
             [
              0,
              "#0d0887"
             ],
             [
              0.1111111111111111,
              "#46039f"
             ],
             [
              0.2222222222222222,
              "#7201a8"
             ],
             [
              0.3333333333333333,
              "#9c179e"
             ],
             [
              0.4444444444444444,
              "#bd3786"
             ],
             [
              0.5555555555555556,
              "#d8576b"
             ],
             [
              0.6666666666666666,
              "#ed7953"
             ],
             [
              0.7777777777777778,
              "#fb9f3a"
             ],
             [
              0.8888888888888888,
              "#fdca26"
             ],
             [
              1,
              "#f0f921"
             ]
            ],
            "type": "histogram2dcontour"
           }
          ],
          "mesh3d": [
           {
            "colorbar": {
             "outlinewidth": 0,
             "ticks": ""
            },
            "type": "mesh3d"
           }
          ],
          "parcoords": [
           {
            "line": {
             "colorbar": {
              "outlinewidth": 0,
              "ticks": ""
             }
            },
            "type": "parcoords"
           }
          ],
          "pie": [
           {
            "automargin": true,
            "type": "pie"
           }
          ],
          "scatter": [
           {
            "fillpattern": {
             "fillmode": "overlay",
             "size": 10,
             "solidity": 0.2
            },
            "type": "scatter"
           }
          ],
          "scatter3d": [
           {
            "line": {
             "colorbar": {
              "outlinewidth": 0,
              "ticks": ""
             }
            },
            "marker": {
             "colorbar": {
              "outlinewidth": 0,
              "ticks": ""
             }
            },
            "type": "scatter3d"
           }
          ],
          "scattercarpet": [
           {
            "marker": {
             "colorbar": {
              "outlinewidth": 0,
              "ticks": ""
             }
            },
            "type": "scattercarpet"
           }
          ],
          "scattergeo": [
           {
            "marker": {
             "colorbar": {
              "outlinewidth": 0,
              "ticks": ""
             }
            },
            "type": "scattergeo"
           }
          ],
          "scattergl": [
           {
            "marker": {
             "colorbar": {
              "outlinewidth": 0,
              "ticks": ""
             }
            },
            "type": "scattergl"
           }
          ],
          "scattermapbox": [
           {
            "marker": {
             "colorbar": {
              "outlinewidth": 0,
              "ticks": ""
             }
            },
            "type": "scattermapbox"
           }
          ],
          "scatterpolar": [
           {
            "marker": {
             "colorbar": {
              "outlinewidth": 0,
              "ticks": ""
             }
            },
            "type": "scatterpolar"
           }
          ],
          "scatterpolargl": [
           {
            "marker": {
             "colorbar": {
              "outlinewidth": 0,
              "ticks": ""
             }
            },
            "type": "scatterpolargl"
           }
          ],
          "scatterternary": [
           {
            "marker": {
             "colorbar": {
              "outlinewidth": 0,
              "ticks": ""
             }
            },
            "type": "scatterternary"
           }
          ],
          "surface": [
           {
            "colorbar": {
             "outlinewidth": 0,
             "ticks": ""
            },
            "colorscale": [
             [
              0,
              "#0d0887"
             ],
             [
              0.1111111111111111,
              "#46039f"
             ],
             [
              0.2222222222222222,
              "#7201a8"
             ],
             [
              0.3333333333333333,
              "#9c179e"
             ],
             [
              0.4444444444444444,
              "#bd3786"
             ],
             [
              0.5555555555555556,
              "#d8576b"
             ],
             [
              0.6666666666666666,
              "#ed7953"
             ],
             [
              0.7777777777777778,
              "#fb9f3a"
             ],
             [
              0.8888888888888888,
              "#fdca26"
             ],
             [
              1,
              "#f0f921"
             ]
            ],
            "type": "surface"
           }
          ],
          "table": [
           {
            "cells": {
             "fill": {
              "color": "#EBF0F8"
             },
             "line": {
              "color": "white"
             }
            },
            "header": {
             "fill": {
              "color": "#C8D4E3"
             },
             "line": {
              "color": "white"
             }
            },
            "type": "table"
           }
          ]
         },
         "layout": {
          "annotationdefaults": {
           "arrowcolor": "#2a3f5f",
           "arrowhead": 0,
           "arrowwidth": 1
          },
          "autotypenumbers": "strict",
          "coloraxis": {
           "colorbar": {
            "outlinewidth": 0,
            "ticks": ""
           }
          },
          "colorscale": {
           "diverging": [
            [
             0,
             "#8e0152"
            ],
            [
             0.1,
             "#c51b7d"
            ],
            [
             0.2,
             "#de77ae"
            ],
            [
             0.3,
             "#f1b6da"
            ],
            [
             0.4,
             "#fde0ef"
            ],
            [
             0.5,
             "#f7f7f7"
            ],
            [
             0.6,
             "#e6f5d0"
            ],
            [
             0.7,
             "#b8e186"
            ],
            [
             0.8,
             "#7fbc41"
            ],
            [
             0.9,
             "#4d9221"
            ],
            [
             1,
             "#276419"
            ]
           ],
           "sequential": [
            [
             0,
             "#0d0887"
            ],
            [
             0.1111111111111111,
             "#46039f"
            ],
            [
             0.2222222222222222,
             "#7201a8"
            ],
            [
             0.3333333333333333,
             "#9c179e"
            ],
            [
             0.4444444444444444,
             "#bd3786"
            ],
            [
             0.5555555555555556,
             "#d8576b"
            ],
            [
             0.6666666666666666,
             "#ed7953"
            ],
            [
             0.7777777777777778,
             "#fb9f3a"
            ],
            [
             0.8888888888888888,
             "#fdca26"
            ],
            [
             1,
             "#f0f921"
            ]
           ],
           "sequentialminus": [
            [
             0,
             "#0d0887"
            ],
            [
             0.1111111111111111,
             "#46039f"
            ],
            [
             0.2222222222222222,
             "#7201a8"
            ],
            [
             0.3333333333333333,
             "#9c179e"
            ],
            [
             0.4444444444444444,
             "#bd3786"
            ],
            [
             0.5555555555555556,
             "#d8576b"
            ],
            [
             0.6666666666666666,
             "#ed7953"
            ],
            [
             0.7777777777777778,
             "#fb9f3a"
            ],
            [
             0.8888888888888888,
             "#fdca26"
            ],
            [
             1,
             "#f0f921"
            ]
           ]
          },
          "colorway": [
           "#636efa",
           "#EF553B",
           "#00cc96",
           "#ab63fa",
           "#FFA15A",
           "#19d3f3",
           "#FF6692",
           "#B6E880",
           "#FF97FF",
           "#FECB52"
          ],
          "font": {
           "color": "#2a3f5f"
          },
          "geo": {
           "bgcolor": "white",
           "lakecolor": "white",
           "landcolor": "#E5ECF6",
           "showlakes": true,
           "showland": true,
           "subunitcolor": "white"
          },
          "hoverlabel": {
           "align": "left"
          },
          "hovermode": "closest",
          "mapbox": {
           "style": "light"
          },
          "paper_bgcolor": "white",
          "plot_bgcolor": "#E5ECF6",
          "polar": {
           "angularaxis": {
            "gridcolor": "white",
            "linecolor": "white",
            "ticks": ""
           },
           "bgcolor": "#E5ECF6",
           "radialaxis": {
            "gridcolor": "white",
            "linecolor": "white",
            "ticks": ""
           }
          },
          "scene": {
           "xaxis": {
            "backgroundcolor": "#E5ECF6",
            "gridcolor": "white",
            "gridwidth": 2,
            "linecolor": "white",
            "showbackground": true,
            "ticks": "",
            "zerolinecolor": "white"
           },
           "yaxis": {
            "backgroundcolor": "#E5ECF6",
            "gridcolor": "white",
            "gridwidth": 2,
            "linecolor": "white",
            "showbackground": true,
            "ticks": "",
            "zerolinecolor": "white"
           },
           "zaxis": {
            "backgroundcolor": "#E5ECF6",
            "gridcolor": "white",
            "gridwidth": 2,
            "linecolor": "white",
            "showbackground": true,
            "ticks": "",
            "zerolinecolor": "white"
           }
          },
          "shapedefaults": {
           "line": {
            "color": "#2a3f5f"
           }
          },
          "ternary": {
           "aaxis": {
            "gridcolor": "white",
            "linecolor": "white",
            "ticks": ""
           },
           "baxis": {
            "gridcolor": "white",
            "linecolor": "white",
            "ticks": ""
           },
           "bgcolor": "#E5ECF6",
           "caxis": {
            "gridcolor": "white",
            "linecolor": "white",
            "ticks": ""
           }
          },
          "title": {
           "x": 0.05
          },
          "xaxis": {
           "automargin": true,
           "gridcolor": "white",
           "linecolor": "white",
           "ticks": "",
           "title": {
            "standoff": 15
           },
           "zerolinecolor": "white",
           "zerolinewidth": 2
          },
          "yaxis": {
           "automargin": true,
           "gridcolor": "white",
           "linecolor": "white",
           "ticks": "",
           "title": {
            "standoff": 15
           },
           "zerolinecolor": "white",
           "zerolinewidth": 2
          }
         }
        },
        "title": {
         "text": "Correlation Matrix"
        },
        "width": 800,
        "xaxis": {
         "anchor": "y",
         "constrain": "domain",
         "domain": [
          0,
          1
         ],
         "scaleanchor": "y",
         "title": {
          "text": "Features"
         }
        },
        "yaxis": {
         "anchor": "x",
         "autorange": "reversed",
         "constrain": "domain",
         "domain": [
          0,
          1
         ],
         "title": {
          "text": "Features"
         }
        }
       }
      }
     },
     "metadata": {},
     "output_type": "display_data"
    }
   ],
   "source": [
    "# Calculate correlation matrix\n",
    "corr_matrix = df_reduced.corr()\n",
    "\n",
    "# Create the heatmap\n",
    "fig = px.imshow(\n",
    "    corr_matrix,  # Correlation matrix\n",
    "    text_auto=True,  # Automatically add correlation values as text\n",
    "    color_continuous_scale='RdBu',  # Red-Blue color scale\n",
    "    zmin=-1,  # Minimum value for the color scale\n",
    "    zmax=1  # Maximum value for the color scale\n",
    ")\n",
    "\n",
    "# Customize the layout\n",
    "fig.update_layout(\n",
    "    title='Correlation Matrix',\n",
    "    xaxis_title='Features',\n",
    "    yaxis_title='Features',\n",
    "    width=800,  # Adjust width\n",
    "    height=800  # Adjust height\n",
    ")\n",
    "\n",
    "# Show the plot\n",
    "fig.show()"
   ]
  },
  {
   "cell_type": "code",
   "execution_count": 9,
   "metadata": {},
   "outputs": [
    {
     "name": "stdout",
     "output_type": "stream",
     "text": [
      "Features to remove: {'TempC9'}\n"
     ]
    }
   ],
   "source": [
    "# Set the correlation threshold\n",
    "threshold = 0.9\n",
    "\n",
    "# Create a set to store features to remove\n",
    "features_to_remove = set()\n",
    "\n",
    "# Iterate through the correlation matrix\n",
    "for col in corr_matrix.columns:\n",
    "    for row in corr_matrix.index:\n",
    "        # Check if the correlation is above the threshold and the features are not the same\n",
    "        if (corr_matrix.loc[row, col] > threshold) and (row != col):\n",
    "            # If neither feature has been marked for removal, add one of them to the removal set\n",
    "            if row not in features_to_remove and col not in features_to_remove:\n",
    "                features_to_remove.add(row)\n",
    "\n",
    "print(\"Features to remove:\", features_to_remove)"
   ]
  },
  {
   "cell_type": "code",
   "execution_count": 10,
   "metadata": {},
   "outputs": [
    {
     "name": "stdout",
     "output_type": "stream",
     "text": [
      "DataFrame after removing highly correlated features:\n",
      "      Temp1    FlowC1      Yield\n",
      "0  139.9857  432.0636  69.400623\n",
      "1  131.0470  487.4029  66.532666\n",
      "2  118.2666  437.3516  71.102193\n",
      "3  118.1769  481.8314  69.793481\n",
      "4  120.7891  412.6471  71.489516\n"
     ]
    }
   ],
   "source": [
    "# Drop the highly correlated features\n",
    "df1 = df_reduced.drop(columns=features_to_remove)\n",
    "\n",
    "print(\"DataFrame after removing highly correlated features:\")\n",
    "print(df1.head())"
   ]
  },
  {
   "cell_type": "code",
   "execution_count": 11,
   "metadata": {},
   "outputs": [
    {
     "data": {
      "image/png": "[encoded data removed]",
      "text/plain": [
       "<Figure size 750x750 with 12 Axes>"
      ]
     },
     "metadata": {},
     "output_type": "display_data"
    }
   ],
   "source": [
    "# Create a scatterplot matrix with smaller markers and transparency\n",
    "sns.pairplot(df1, plot_kws={'s': 10, 'alpha': 0.5})\n",
    "plt.suptitle('Scatterplot Matrix', y=1.02)\n",
    "plt.show()"
   ]
  },
  {
   "cell_type": "code",
   "execution_count": 12,
   "metadata": {},
   "outputs": [
    {
     "data": {
      "application/vnd.plotly.v1+json": {
       "config": {
        "plotlyServerURL": "https://plot.ly"
       },
       "data": [
        {
         "hovertemplate": "FlowC1=%{x}<br>Temp1=%{y}<br>Yield=%{marker.color}<extra></extra>",
         "legendgroup": "",
         "marker": {
          "color": [
           69.40062325,
           66.53266646,
           71.10219259,
           69.79348088,
           71.48951583,
           69.05508903,
           69.16105249,
           71.39919122,
           70.12587968,
           69.72631904,
           67.77787094,
           70.72671443,
           69.65671047,
           69.53518784,
           70.44829579,
           69.0961358,
           67.69307438,
           69.89946566,
           69.9737906,
           70.05030197,
           71.1950835,
           71.14084948,
           71.9782232,
           69.221689,
           69.3680077,
           70.16545973,
           70.0761285,
           69.29715961,
           71.07169554,
           67.1441158,
           65.72632849,
           69.20356716,
           69.06867956,
           73.24242551,
           68.2531281,
           66.74562168,
           70.10385691,
           71.86946171,
           67.17430263,
           70.475956,
           68.09191326,
           68.51335753,
           69.23730962,
           69.99149499,
           69.71265582,
           69.9002972,
           68.61454385,
           70.22958212,
           69.1030408,
           69.19803928,
           70.35464241,
           67.95517271,
           68.56284262,
           70.62892053,
           69.3403362,
           70.75360243,
           68.23514289,
           67.41768221,
           68.7729804,
           69.15184501,
           70.5522328,
           70.8399518,
           69.14806899,
           69.63127302,
           69.56923668,
           70.15347909,
           67.42921477,
           66.35177565,
           65.9666288,
           70.00787344,
           68.86576881,
           69.62978167,
           70.5154403,
           70.85871622,
           69.70247949,
           71.41347474,
           69.6753746,
           68.61725188,
           69.03646759,
           68.97093693,
           69.42521216,
           69.64686487,
           69.18587787,
           69.17112349,
           69.3394429,
           69.22643223,
           68.8290755,
           69.55523311,
           70.51535463,
           68.67003938,
           67.73867765,
           70.57274236,
           66.22079032,
           68.19356335,
           69.0661189,
           68.66998869,
           66.21190868,
           68.61413287,
           68.74461503,
           68.08453782,
           73.47196291,
           69.88996538,
           69.79328683,
           70.3673841,
           70.24489731,
           69.44064697,
           69.68544827,
           69.41747636,
           70.30723056,
           69.71065366,
           71.06135872,
           67.27233172,
           70.7807349,
           69.74341971,
           69.43157749,
           70.26063005,
           65.60296649,
           67.08823522,
           69.82557904,
           70.08965793,
           68.50565589,
           71.20794432,
           72.24843001,
           69.6805515,
           70.14458396,
           72.4788414,
           69.75640144,
           70.44273264,
           71.62413816,
           72.02252952,
           69.16583277,
           66.45684278,
           71.62101516,
           68.12410437,
           72.11225722,
           73.04342876,
           71.48357975,
           69.13398834,
           69.96387145,
           69.83507951,
           68.11853037,
           70.21541562,
           70.61003726,
           70.43304888,
           70.53945535,
           71.56382972,
           71.1915316,
           70.2946328,
           67.31016662,
           69.57651987,
           70.53164388,
           71.06860413,
           70.35533597,
           70.8762685,
           71.94753954,
           69.55021402,
           71.62008662,
           71.33576181,
           69.69483149,
           69.4793749,
           69.85273574,
           69.04912965,
           71.14137713,
           67.335228,
           68.81613365,
           67.81543121,
           68.27705451,
           68.39696047,
           66.16329064,
           65.20380122,
           68.91383565,
           69.81308354,
           69.14016181,
           68.79518716,
           69.34127045,
           69.50015922,
           69.25439745,
           69.19695798,
           68.3476409,
           70.27402365,
           68.96389539,
           66.31538497,
           70.09205919,
           70.01818121,
           67.08052959,
           67.72398688,
           69.44128409,
           69.30400436,
           70.44836136,
           67.58940328,
           69.46258079,
           68.17109062,
           69.52149146,
           70.1708357,
           69.22136745,
           70.30505441,
           68.00825661,
           67.09533024,
           68.29204198,
           69.66409538,
           69.98295828,
           69.39259405,
           69.89872648,
           69.94650715,
           68.25280598,
           68.39272203,
           68.4580645,
           69.4581878,
           69.47875431,
           69.76866048,
           69.13081503,
           69.72254947,
           69.67856537,
           68.88677448,
           68.78453977,
           68.97361904,
           70.0302266,
           69.40464826,
           69.61281052,
           68.17455228,
           68.68465412,
           70.40152209,
           70.07025182,
           69.8942037,
           69.22925575,
           69.48638901,
           69.73567054,
           68.7036476,
           68.9532899,
           68.79223279,
           69.33350817,
           68.01193362,
           68.40337093,
           69.28369237,
           68.15913891,
           68.45025312,
           69.36956053,
           68.54633474,
           69.32275369,
           69.42767879,
           69.44328193,
           67.9797013,
           68.80611948,
           69.48959862,
           69.1287286,
           69.88349268,
           69.79009081,
           69.3831685,
           69.03707116,
           69.20242478,
           69.40954608,
           69.07271059,
           68.12828793
          ],
          "coloraxis": "coloraxis",
          "opacity": 0.7,
          "size": 10,
          "symbol": "circle"
         },
         "mode": "markers",
         "name": "",
         "orientation": "v",
         "showlegend": false,
         "type": "scatter",
         "x": [
          432.0636,
          487.4029,
          437.3516,
          481.8314,
          412.6471,
          470.8127,
          493.493212,
          429.058,
          414.0616,
          493.493212,
          493.493212,
          437.2185,
          457.8587,
          479.9308,
          443.2095,
          493.1683,
          477.226,
          435.8184,
          451.9198,
          391.3474,
          415.0105,
          370.8142,
          401.9813,
          296.5038,
          230.6086,
          289.7983,
          315.5529,
          306.4695,
          309.3942,
          301.896,
          283.7205,
          286.7377,
          303.4929,
          315.2029,
          305.2922,
          310.8435,
          350.3939,
          330.5261,
          311.8531,
          319.3194,
          297.9734,
          296.3939,
          284.0243,
          265.7736,
          281.5538,
          325.0876,
          396.0742,
          291.7943,
          287.9382,
          235.2863,
          318.6656,
          307.1233,
          265.4525,
          366.4171,
          315.955,
          379.3017,
          286.6509,
          262.8287,
          255.8397,
          250.7859,
          294.881,
          318.9896,
          265.4033,
          286.5352,
          282.0398,
          303.8371,
          277.1597,
          304.3838,
          285.6703,
          281.7448,
          342.1754,
          330.4827,
          351.632,
          367.0709,
          338.8169,
          330.4191,
          251.8765,
          243.4209,
          286.5381,
          273.7982,
          208.6378,
          226.2029,
          227.9588,
          281.603,
          221.8868,
          260.7545,
          185.2437,
          260.7372,
          261.443,
          265.9587,
          238.0142,
          285.5256,
          181.798024,
          248.4804,
          286.7695,
          339.0975,
          277.8655,
          263.2742,
          297.1403,
          216.8331,
          370.6435,
          337.3387,
          328.1627,
          342.2709,
          396.6354,
          409.76,
          392.7417,
          309.7066,
          328.0846,
          394.4918,
          388.171,
          425.7052,
          361.4705,
          434.2534,
          429.8535,
          382.8222,
          372.926,
          391.6598,
          363.7818,
          422.9454,
          439.0613,
          417.478,
          370.2212,
          478.1691,
          405.956,
          405.9271,
          402.2069,
          456.9793,
          478.0736,
          369.6249,
          492.2484,
          390.1989,
          322.082,
          348.9215,
          327.8792,
          401.2523,
          342.404,
          400.749,
          408.7215,
          411.9007,
          433.0963,
          417.4028,
          361.8321,
          373.9934,
          360.5968,
          383.8145,
          362.83,
          370.1344,
          351.2878,
          376.0618,
          351.3225,
          377.5284,
          427.9645,
          380.1811,
          383.0508,
          424.1459,
          358.3723,
          328.0123,
          416.0056,
          340.7782,
          394.8245,
          367.4875,
          358.0801,
          458.822,
          280.0611,
          342.6701,
          336.4188,
          289.1416,
          217.9931,
          293.5966,
          299.5991,
          280.1913,
          248.1535,
          281.3484,
          261.1682,
          233.7849,
          222.1906,
          217.0356,
          234.1494,
          246.1343,
          209.7891,
          236.2525,
          263.2655,
          231.8873,
          221.612,
          213.8738,
          258.1886,
          291.6468,
          285.8583,
          263.5692,
          289.3991,
          247.2307,
          249.5131,
          251.2777,
          292.9109,
          264.8941,
          206.4074,
          241.1905,
          308.0172,
          218.7684,
          213.2836,
          230.0301,
          230.1198,
          257.0055,
          207.2579,
          216.6856,
          206.1413,
          212.0484,
          251.3095,
          197.2343,
          197.4947,
          217.7848,
          197.4716,
          212.4563,
          202.5253,
          181.798024,
          184.4221,
          194.0956,
          225.6996,
          236.05,
          206.3496,
          286.0001,
          215.2941,
          241.367,
          234.8553,
          207.5645,
          230.6694,
          187.1819,
          187.8356,
          227.2154,
          222.7865,
          234.4098,
          214.137,
          219.8676,
          223.4113,
          181.798024,
          186.7045,
          182.5534,
          213.7436,
          241.581,
          236.1426,
          193.708,
          191.0987,
          204.99,
          209.98,
          278.4846,
          257.9138,
          229.0812,
          212.6385,
          225.1412,
          223.5965,
          213.5613,
          217.4117
         ],
         "xaxis": "x",
         "y": [
          139.9857,
          131.047,
          118.2666,
          118.1769,
          120.7891,
          121.7929,
          120.8903,
          119.4786,
          124.839,
          121.602,
          121.8594,
          121.1189,
          121.7611,
          120.8585,
          121.3995,
          119.7303,
          121.7582,
          121.411,
          118.4661,
          120.3696,
          119.9068,
          120.1584,
          120.1324,
          117.824,
          118.8509,
          121.871,
          119.6927,
          117.9715,
          126.0684,
          121.6801,
          113.9631,
          118.0207,
          118.4257,
          135.0188,
          127.6826,
          121.2461,
          124.434,
          129.8204,
          149.2138,
          144.5911,
          146.483,
          158.0253,
          120.2626,
          121.6367,
          121.9086,
          120.9626,
          155.4767,
          123.9046,
          118.6166,
          121.5557,
          141.9413,
          159.3068,
          119.1113,
          131.5532,
          120.0022,
          140.5354,
          120.4477,
          117.8413,
          147.6864,
          127.7636,
          127.1793,
          123.3897,
          119.9299,
          120.2828,
          121.3445,
          120.8035,
          128.5505,
          157.817,
          120.7515,
          121.0986,
          113.9631,
          120.1353,
          120.3349,
          136.6387,
          117.9483,
          131.909,
          123.8555,
          113.9631,
          116.1288,
          120.7168,
          122.302,
          121.1565,
          121.5181,
          114.4047,
          120.9482,
          121.4862,
          120.9945,
          120.8267,
          129.4704,
          143.7666,
          127.3818,
          133.2831,
          145.9854,
          144.4493,
          144.3799,
          157.1111,
          149.9919,
          147.0442,
          147.5793,
          120.2655,
          143.0868,
          119.9299,
          120.0225,
          120.7833,
          142.4157,
          135.6668,
          139.7659,
          121.7813,
          123.7773,
          148.1145,
          143.2372,
          164.12032,
          120.5172,
          123.3608,
          137.3099,
          128.4897,
          163.4637,
          164.12032,
          147.4897,
          139.6039,
          140.5209,
          145.3172,
          143.0926,
          145.025,
          139.9713,
          145.7453,
          129.9564,
          150.5155,
          150.773,
          123.1299,
          148.1376,
          161.3173,
          134.5501,
          155.4593,
          136.9512,
          144.889,
          126.8987,
          128.2149,
          137.5558,
          141.435,
          134.7613,
          125.5304,
          126.1957,
          126.2044,
          119.8952,
          120.3002,
          125.3076,
          145.4994,
          158.517,
          139.7456,
          144.5014,
          124.6712,
          120.1613,
          120.1613,
          119.9907,
          131.7036,
          124.2662,
          124.6047,
          132.126,
          147.0673,
          124.2952,
          130.9775,
          128.2785,
          151.6495,
          142.6037,
          164.12032,
          157.2095,
          156.4255,
          157.5103,
          163.7704,
          151.9272,
          146.5958,
          140.4862,
          147.8079,
          127.1127,
          129.7365,
          130.3556,
          127.6363,
          128.3133,
          140.8073,
          127.8822,
          152.8934,
          140.4949,
          133.4046,
          159.0927,
          145.9709,
          142.7713,
          134.0731,
          139.3302,
          128.596,
          128.9502,
          132.3029,
          133.9536,
          136.4638,
          141.5835,
          134.6606,
          119.0903,
          132.5331,
          136.3621,
          130.1449,
          129.0805,
          127.6677,
          133.9841,
          135.5393,
          120.5756,
          148.6477,
          143.2965,
          140.8193,
          133.0551,
          131.1826,
          131.9151,
          132.8828,
          131.7675,
          135.3638,
          131.3479,
          132.3487,
          131.47,
          131.386,
          131.3447,
          148.7621,
          130.1703,
          138.6002,
          130.679,
          133.9586,
          130.1602,
          130.3261,
          131.3098,
          130.679,
          130.9918,
          140.0626,
          140.0868,
          146.5876,
          141.9612,
          136.1624,
          139.5044,
          129.6134,
          128.0988,
          128.3468,
          127.0319,
          129.7405,
          129.6668,
          126.8233,
          130.3023,
          128.4205,
          125.5936,
          138.5455,
          125.1536,
          131.0465,
          130.8138,
          128.9673,
          130.5328,
          128.5248,
          131.0491
         ],
         "yaxis": "y"
        }
       ],
       "layout": {
        "coloraxis": {
         "colorbar": {
          "title": {
           "text": "Yield"
          }
         },
         "colorscale": [
          [
           0,
           "#440154"
          ],
          [
           0.1111111111111111,
           "#482878"
          ],
          [
           0.2222222222222222,
           "#3e4989"
          ],
          [
           0.3333333333333333,
           "#31688e"
          ],
          [
           0.4444444444444444,
           "#26828e"
          ],
          [
           0.5555555555555556,
           "#1f9e89"
          ],
          [
           0.6666666666666666,
           "#35b779"
          ],
          [
           0.7777777777777778,
           "#6ece58"
          ],
          [
           0.8888888888888888,
           "#b5de2b"
          ],
          [
           1,
           "#fde725"
          ]
         ]
        },
        "legend": {
         "tracegroupgap": 0
        },
        "template": {
         "data": {
          "bar": [
           {
            "error_x": {
             "color": "#2a3f5f"
            },
            "error_y": {
             "color": "#2a3f5f"
            },
            "marker": {
             "line": {
              "color": "#E5ECF6",
              "width": 0.5
             },
             "pattern": {
              "fillmode": "overlay",
              "size": 10,
              "solidity": 0.2
             }
            },
            "type": "bar"
           }
          ],
          "barpolar": [
           {
            "marker": {
             "line": {
              "color": "#E5ECF6",
              "width": 0.5
             },
             "pattern": {
              "fillmode": "overlay",
              "size": 10,
              "solidity": 0.2
             }
            },
            "type": "barpolar"
           }
          ],
          "carpet": [
           {
            "aaxis": {
             "endlinecolor": "#2a3f5f",
             "gridcolor": "white",
             "linecolor": "white",
             "minorgridcolor": "white",
             "startlinecolor": "#2a3f5f"
            },
            "baxis": {
             "endlinecolor": "#2a3f5f",
             "gridcolor": "white",
             "linecolor": "white",
             "minorgridcolor": "white",
             "startlinecolor": "#2a3f5f"
            },
            "type": "carpet"
           }
          ],
          "choropleth": [
           {
            "colorbar": {
             "outlinewidth": 0,
             "ticks": ""
            },
            "type": "choropleth"
           }
          ],
          "contour": [
           {
            "colorbar": {
             "outlinewidth": 0,
             "ticks": ""
            },
            "colorscale": [
             [
              0,
              "#0d0887"
             ],
             [
              0.1111111111111111,
              "#46039f"
             ],
             [
              0.2222222222222222,
              "#7201a8"
             ],
             [
              0.3333333333333333,
              "#9c179e"
             ],
             [
              0.4444444444444444,
              "#bd3786"
             ],
             [
              0.5555555555555556,
              "#d8576b"
             ],
             [
              0.6666666666666666,
              "#ed7953"
             ],
             [
              0.7777777777777778,
              "#fb9f3a"
             ],
             [
              0.8888888888888888,
              "#fdca26"
             ],
             [
              1,
              "#f0f921"
             ]
            ],
            "type": "contour"
           }
          ],
          "contourcarpet": [
           {
            "colorbar": {
             "outlinewidth": 0,
             "ticks": ""
            },
            "type": "contourcarpet"
           }
          ],
          "heatmap": [
           {
            "colorbar": {
             "outlinewidth": 0,
             "ticks": ""
            },
            "colorscale": [
             [
              0,
              "#0d0887"
             ],
             [
              0.1111111111111111,
              "#46039f"
             ],
             [
              0.2222222222222222,
              "#7201a8"
             ],
             [
              0.3333333333333333,
              "#9c179e"
             ],
             [
              0.4444444444444444,
              "#bd3786"
             ],
             [
              0.5555555555555556,
              "#d8576b"
             ],
             [
              0.6666666666666666,
              "#ed7953"
             ],
             [
              0.7777777777777778,
              "#fb9f3a"
             ],
             [
              0.8888888888888888,
              "#fdca26"
             ],
             [
              1,
              "#f0f921"
             ]
            ],
            "type": "heatmap"
           }
          ],
          "heatmapgl": [
           {
            "colorbar": {
             "outlinewidth": 0,
             "ticks": ""
            },
            "colorscale": [
             [
              0,
              "#0d0887"
             ],
             [
              0.1111111111111111,
              "#46039f"
             ],
             [
              0.2222222222222222,
              "#7201a8"
             ],
             [
              0.3333333333333333,
              "#9c179e"
             ],
             [
              0.4444444444444444,
              "#bd3786"
             ],
             [
              0.5555555555555556,
              "#d8576b"
             ],
             [
              0.6666666666666666,
              "#ed7953"
             ],
             [
              0.7777777777777778,
              "#fb9f3a"
             ],
             [
              0.8888888888888888,
              "#fdca26"
             ],
             [
              1,
              "#f0f921"
             ]
            ],
            "type": "heatmapgl"
           }
          ],
          "histogram": [
           {
            "marker": {
             "pattern": {
              "fillmode": "overlay",
              "size": 10,
              "solidity": 0.2
             }
            },
            "type": "histogram"
           }
          ],
          "histogram2d": [
           {
            "colorbar": {
             "outlinewidth": 0,
             "ticks": ""
            },
            "colorscale": [
             [
              0,
              "#0d0887"
             ],
             [
              0.1111111111111111,
              "#46039f"
             ],
             [
              0.2222222222222222,
              "#7201a8"
             ],
             [
              0.3333333333333333,
              "#9c179e"
             ],
             [
              0.4444444444444444,
              "#bd3786"
             ],
             [
              0.5555555555555556,
              "#d8576b"
             ],
             [
              0.6666666666666666,
              "#ed7953"
             ],
             [
              0.7777777777777778,
              "#fb9f3a"
             ],
             [
              0.8888888888888888,
              "#fdca26"
             ],
             [
              1,
              "#f0f921"
             ]
            ],
            "type": "histogram2d"
           }
          ],
          "histogram2dcontour": [
           {
            "colorbar": {
             "outlinewidth": 0,
             "ticks": ""
            },
            "colorscale": [
             [
              0,
              "#0d0887"
             ],
             [
              0.1111111111111111,
              "#46039f"
             ],
             [
              0.2222222222222222,
              "#7201a8"
             ],
             [
              0.3333333333333333,
              "#9c179e"
             ],
             [
              0.4444444444444444,
              "#bd3786"
             ],
             [
              0.5555555555555556,
              "#d8576b"
             ],
             [
              0.6666666666666666,
              "#ed7953"
             ],
             [
              0.7777777777777778,
              "#fb9f3a"
             ],
             [
              0.8888888888888888,
              "#fdca26"
             ],
             [
              1,
              "#f0f921"
             ]
            ],
            "type": "histogram2dcontour"
           }
          ],
          "mesh3d": [
           {
            "colorbar": {
             "outlinewidth": 0,
             "ticks": ""
            },
            "type": "mesh3d"
           }
          ],
          "parcoords": [
           {
            "line": {
             "colorbar": {
              "outlinewidth": 0,
              "ticks": ""
             }
            },
            "type": "parcoords"
           }
          ],
          "pie": [
           {
            "automargin": true,
            "type": "pie"
           }
          ],
          "scatter": [
           {
            "fillpattern": {
             "fillmode": "overlay",
             "size": 10,
             "solidity": 0.2
            },
            "type": "scatter"
           }
          ],
          "scatter3d": [
           {
            "line": {
             "colorbar": {
              "outlinewidth": 0,
              "ticks": ""
             }
            },
            "marker": {
             "colorbar": {
              "outlinewidth": 0,
              "ticks": ""
             }
            },
            "type": "scatter3d"
           }
          ],
          "scattercarpet": [
           {
            "marker": {
             "colorbar": {
              "outlinewidth": 0,
              "ticks": ""
             }
            },
            "type": "scattercarpet"
           }
          ],
          "scattergeo": [
           {
            "marker": {
             "colorbar": {
              "outlinewidth": 0,
              "ticks": ""
             }
            },
            "type": "scattergeo"
           }
          ],
          "scattergl": [
           {
            "marker": {
             "colorbar": {
              "outlinewidth": 0,
              "ticks": ""
             }
            },
            "type": "scattergl"
           }
          ],
          "scattermapbox": [
           {
            "marker": {
             "colorbar": {
              "outlinewidth": 0,
              "ticks": ""
             }
            },
            "type": "scattermapbox"
           }
          ],
          "scatterpolar": [
           {
            "marker": {
             "colorbar": {
              "outlinewidth": 0,
              "ticks": ""
             }
            },
            "type": "scatterpolar"
           }
          ],
          "scatterpolargl": [
           {
            "marker": {
             "colorbar": {
              "outlinewidth": 0,
              "ticks": ""
             }
            },
            "type": "scatterpolargl"
           }
          ],
          "scatterternary": [
           {
            "marker": {
             "colorbar": {
              "outlinewidth": 0,
              "ticks": ""
             }
            },
            "type": "scatterternary"
           }
          ],
          "surface": [
           {
            "colorbar": {
             "outlinewidth": 0,
             "ticks": ""
            },
            "colorscale": [
             [
              0,
              "#0d0887"
             ],
             [
              0.1111111111111111,
              "#46039f"
             ],
             [
              0.2222222222222222,
              "#7201a8"
             ],
             [
              0.3333333333333333,
              "#9c179e"
             ],
             [
              0.4444444444444444,
              "#bd3786"
             ],
             [
              0.5555555555555556,
              "#d8576b"
             ],
             [
              0.6666666666666666,
              "#ed7953"
             ],
             [
              0.7777777777777778,
              "#fb9f3a"
             ],
             [
              0.8888888888888888,
              "#fdca26"
             ],
             [
              1,
              "#f0f921"
             ]
            ],
            "type": "surface"
           }
          ],
          "table": [
           {
            "cells": {
             "fill": {
              "color": "#EBF0F8"
             },
             "line": {
              "color": "white"
             }
            },
            "header": {
             "fill": {
              "color": "#C8D4E3"
             },
             "line": {
              "color": "white"
             }
            },
            "type": "table"
           }
          ]
         },
         "layout": {
          "annotationdefaults": {
           "arrowcolor": "#2a3f5f",
           "arrowhead": 0,
           "arrowwidth": 1
          },
          "autotypenumbers": "strict",
          "coloraxis": {
           "colorbar": {
            "outlinewidth": 0,
            "ticks": ""
           }
          },
          "colorscale": {
           "diverging": [
            [
             0,
             "#8e0152"
            ],
            [
             0.1,
             "#c51b7d"
            ],
            [
             0.2,
             "#de77ae"
            ],
            [
             0.3,
             "#f1b6da"
            ],
            [
             0.4,
             "#fde0ef"
            ],
            [
             0.5,
             "#f7f7f7"
            ],
            [
             0.6,
             "#e6f5d0"
            ],
            [
             0.7,
             "#b8e186"
            ],
            [
             0.8,
             "#7fbc41"
            ],
            [
             0.9,
             "#4d9221"
            ],
            [
             1,
             "#276419"
            ]
           ],
           "sequential": [
            [
             0,
             "#0d0887"
            ],
            [
             0.1111111111111111,
             "#46039f"
            ],
            [
             0.2222222222222222,
             "#7201a8"
            ],
            [
             0.3333333333333333,
             "#9c179e"
            ],
            [
             0.4444444444444444,
             "#bd3786"
            ],
            [
             0.5555555555555556,
             "#d8576b"
            ],
            [
             0.6666666666666666,
             "#ed7953"
            ],
            [
             0.7777777777777778,
             "#fb9f3a"
            ],
            [
             0.8888888888888888,
             "#fdca26"
            ],
            [
             1,
             "#f0f921"
            ]
           ],
           "sequentialminus": [
            [
             0,
             "#0d0887"
            ],
            [
             0.1111111111111111,
             "#46039f"
            ],
            [
             0.2222222222222222,
             "#7201a8"
            ],
            [
             0.3333333333333333,
             "#9c179e"
            ],
            [
             0.4444444444444444,
             "#bd3786"
            ],
            [
             0.5555555555555556,
             "#d8576b"
            ],
            [
             0.6666666666666666,
             "#ed7953"
            ],
            [
             0.7777777777777778,
             "#fb9f3a"
            ],
            [
             0.8888888888888888,
             "#fdca26"
            ],
            [
             1,
             "#f0f921"
            ]
           ]
          },
          "colorway": [
           "#636efa",
           "#EF553B",
           "#00cc96",
           "#ab63fa",
           "#FFA15A",
           "#19d3f3",
           "#FF6692",
           "#B6E880",
           "#FF97FF",
           "#FECB52"
          ],
          "font": {
           "color": "#2a3f5f"
          },
          "geo": {
           "bgcolor": "white",
           "lakecolor": "white",
           "landcolor": "#E5ECF6",
           "showlakes": true,
           "showland": true,
           "subunitcolor": "white"
          },
          "hoverlabel": {
           "align": "left"
          },
          "hovermode": "closest",
          "mapbox": {
           "style": "light"
          },
          "paper_bgcolor": "white",
          "plot_bgcolor": "#E5ECF6",
          "polar": {
           "angularaxis": {
            "gridcolor": "white",
            "linecolor": "white",
            "ticks": ""
           },
           "bgcolor": "#E5ECF6",
           "radialaxis": {
            "gridcolor": "white",
            "linecolor": "white",
            "ticks": ""
           }
          },
          "scene": {
           "xaxis": {
            "backgroundcolor": "#E5ECF6",
            "gridcolor": "white",
            "gridwidth": 2,
            "linecolor": "white",
            "showbackground": true,
            "ticks": "",
            "zerolinecolor": "white"
           },
           "yaxis": {
            "backgroundcolor": "#E5ECF6",
            "gridcolor": "white",
            "gridwidth": 2,
            "linecolor": "white",
            "showbackground": true,
            "ticks": "",
            "zerolinecolor": "white"
           },
           "zaxis": {
            "backgroundcolor": "#E5ECF6",
            "gridcolor": "white",
            "gridwidth": 2,
            "linecolor": "white",
            "showbackground": true,
            "ticks": "",
            "zerolinecolor": "white"
           }
          },
          "shapedefaults": {
           "line": {
            "color": "#2a3f5f"
           }
          },
          "ternary": {
           "aaxis": {
            "gridcolor": "white",
            "linecolor": "white",
            "ticks": ""
           },
           "baxis": {
            "gridcolor": "white",
            "linecolor": "white",
            "ticks": ""
           },
           "bgcolor": "#E5ECF6",
           "caxis": {
            "gridcolor": "white",
            "linecolor": "white",
            "ticks": ""
           }
          },
          "title": {
           "x": 0.05
          },
          "xaxis": {
           "automargin": true,
           "gridcolor": "white",
           "linecolor": "white",
           "ticks": "",
           "title": {
            "standoff": 15
           },
           "zerolinecolor": "white",
           "zerolinewidth": 2
          },
          "yaxis": {
           "automargin": true,
           "gridcolor": "white",
           "linecolor": "white",
           "ticks": "",
           "title": {
            "standoff": 15
           },
           "zerolinecolor": "white",
           "zerolinewidth": 2
          }
         }
        },
        "title": {
         "text": "Scatter Plot of Temp1 vs FlowC1 (Colored by Yield)"
        },
        "xaxis": {
         "anchor": "y",
         "domain": [
          0,
          1
         ],
         "title": {
          "text": "FlowC1"
         }
        },
        "yaxis": {
         "anchor": "x",
         "domain": [
          0,
          1
         ],
         "title": {
          "text": "Temp1"
         }
        }
       }
      }
     },
     "metadata": {},
     "output_type": "display_data"
    }
   ],
   "source": [
    "# Create the scatter plot\n",
    "fig = px.scatter(\n",
    "    df1, \n",
    "    x='FlowC1', \n",
    "    y='Temp1', \n",
    "    color='Yield',  # Color by Yield\n",
    "    title='Scatter Plot of Temp1 vs FlowC1 (Colored by Yield)',\n",
    "    labels={'Temp1': 'Temp1', 'FlowC1': 'FlowC1', 'Yield': 'Yield'},\n",
    "    color_continuous_scale='viridis',  # Color scale\n",
    "    opacity=0.7  # Transparency\n",
    ")\n",
    "\n",
    "# Update marker size\n",
    "fig.update_traces(marker=dict(size=10))\n",
    "\n",
    "# Show the plot\n",
    "fig.show()"
   ]
  },
  {
   "cell_type": "code",
   "execution_count": null,
   "metadata": {},
   "outputs": [],
   "source": []
  },
  {
   "cell_type": "code",
   "execution_count": 13,
   "metadata": {},
   "outputs": [
    {
     "data": {
      "text/html": [
       "<div>\n",
       "<style scoped>\n",
       "    .dataframe tbody tr th:only-of-type {\n",
       "        vertical-align: middle;\n",
       "    }\n",
       "\n",
       "    .dataframe tbody tr th {\n",
       "        vertical-align: top;\n",
       "    }\n",
       "\n",
       "    .dataframe thead th {\n",
       "        text-align: right;\n",
       "    }\n",
       "</style>\n",
       "<table border=\"1\" class=\"dataframe\">\n",
       "  <thead>\n",
       "    <tr style=\"text-align: right;\">\n",
       "      <th></th>\n",
       "      <th>Temp1</th>\n",
       "      <th>FlowC1</th>\n",
       "      <th>Yield</th>\n",
       "      <th>Temp1_diff</th>\n",
       "      <th>FlowC1_diff</th>\n",
       "      <th>PressureC1_diff</th>\n",
       "      <th>OC1_diff</th>\n",
       "      <th>Temp11_diff</th>\n",
       "    </tr>\n",
       "  </thead>\n",
       "  <tbody>\n",
       "    <tr>\n",
       "      <th>0</th>\n",
       "      <td>139.9857</td>\n",
       "      <td>432.0636</td>\n",
       "      <td>69.400623</td>\n",
       "      <td>NaN</td>\n",
       "      <td>NaN</td>\n",
       "      <td>NaN</td>\n",
       "      <td>NaN</td>\n",
       "      <td>NaN</td>\n",
       "    </tr>\n",
       "    <tr>\n",
       "      <th>1</th>\n",
       "      <td>131.0470</td>\n",
       "      <td>487.4029</td>\n",
       "      <td>66.532666</td>\n",
       "      <td>-8.9387</td>\n",
       "      <td>55.3393</td>\n",
       "      <td>-9.9628</td>\n",
       "      <td>1.6375</td>\n",
       "      <td>1.0116</td>\n",
       "    </tr>\n",
       "    <tr>\n",
       "      <th>2</th>\n",
       "      <td>118.2666</td>\n",
       "      <td>437.3516</td>\n",
       "      <td>71.102193</td>\n",
       "      <td>-12.7804</td>\n",
       "      <td>-50.0513</td>\n",
       "      <td>-0.0695</td>\n",
       "      <td>-0.4483</td>\n",
       "      <td>-1.9934</td>\n",
       "    </tr>\n",
       "    <tr>\n",
       "      <th>3</th>\n",
       "      <td>118.1769</td>\n",
       "      <td>481.8314</td>\n",
       "      <td>69.793481</td>\n",
       "      <td>-0.0897</td>\n",
       "      <td>44.4798</td>\n",
       "      <td>0.2257</td>\n",
       "      <td>0.1633</td>\n",
       "      <td>0.7064</td>\n",
       "    </tr>\n",
       "    <tr>\n",
       "      <th>4</th>\n",
       "      <td>120.7891</td>\n",
       "      <td>412.6471</td>\n",
       "      <td>71.489516</td>\n",
       "      <td>2.6122</td>\n",
       "      <td>-69.1843</td>\n",
       "      <td>-0.1678</td>\n",
       "      <td>-0.9958</td>\n",
       "      <td>-1.1252</td>\n",
       "    </tr>\n",
       "    <tr>\n",
       "      <th>...</th>\n",
       "      <td>...</td>\n",
       "      <td>...</td>\n",
       "      <td>...</td>\n",
       "      <td>...</td>\n",
       "      <td>...</td>\n",
       "      <td>...</td>\n",
       "      <td>...</td>\n",
       "      <td>...</td>\n",
       "    </tr>\n",
       "    <tr>\n",
       "      <th>248</th>\n",
       "      <td>130.8138</td>\n",
       "      <td>212.6385</td>\n",
       "      <td>69.037071</td>\n",
       "      <td>-0.2327</td>\n",
       "      <td>-16.4427</td>\n",
       "      <td>-0.3402</td>\n",
       "      <td>0.1733</td>\n",
       "      <td>-2.5893</td>\n",
       "    </tr>\n",
       "    <tr>\n",
       "      <th>249</th>\n",
       "      <td>128.9673</td>\n",
       "      <td>225.1412</td>\n",
       "      <td>69.202425</td>\n",
       "      <td>-1.8465</td>\n",
       "      <td>12.5027</td>\n",
       "      <td>0.7656</td>\n",
       "      <td>-0.4166</td>\n",
       "      <td>0.8254</td>\n",
       "    </tr>\n",
       "    <tr>\n",
       "      <th>250</th>\n",
       "      <td>130.5328</td>\n",
       "      <td>223.5965</td>\n",
       "      <td>69.409546</td>\n",
       "      <td>1.5655</td>\n",
       "      <td>-1.5447</td>\n",
       "      <td>0.1589</td>\n",
       "      <td>0.1683</td>\n",
       "      <td>-0.2519</td>\n",
       "    </tr>\n",
       "    <tr>\n",
       "      <th>251</th>\n",
       "      <td>128.5248</td>\n",
       "      <td>213.5613</td>\n",
       "      <td>69.072711</td>\n",
       "      <td>-2.0080</td>\n",
       "      <td>-10.0352</td>\n",
       "      <td>-0.1412</td>\n",
       "      <td>0.3083</td>\n",
       "      <td>-0.3088</td>\n",
       "    </tr>\n",
       "    <tr>\n",
       "      <th>252</th>\n",
       "      <td>131.0491</td>\n",
       "      <td>217.4117</td>\n",
       "      <td>68.128288</td>\n",
       "      <td>2.5243</td>\n",
       "      <td>3.8504</td>\n",
       "      <td>-4.8806</td>\n",
       "      <td>-0.2716</td>\n",
       "      <td>0.1988</td>\n",
       "    </tr>\n",
       "  </tbody>\n",
       "</table>\n",
       "<p>253 rows × 8 columns</p>\n",
       "</div>"
      ],
      "text/plain": [
       "        Temp1    FlowC1      Yield  Temp1_diff  FlowC1_diff  PressureC1_diff  \\\n",
       "0    139.9857  432.0636  69.400623         NaN          NaN              NaN   \n",
       "1    131.0470  487.4029  66.532666     -8.9387      55.3393          -9.9628   \n",
       "2    118.2666  437.3516  71.102193    -12.7804     -50.0513          -0.0695   \n",
       "3    118.1769  481.8314  69.793481     -0.0897      44.4798           0.2257   \n",
       "4    120.7891  412.6471  71.489516      2.6122     -69.1843          -0.1678   \n",
       "..        ...       ...        ...         ...          ...              ...   \n",
       "248  130.8138  212.6385  69.037071     -0.2327     -16.4427          -0.3402   \n",
       "249  128.9673  225.1412  69.202425     -1.8465      12.5027           0.7656   \n",
       "250  130.5328  223.5965  69.409546      1.5655      -1.5447           0.1589   \n",
       "251  128.5248  213.5613  69.072711     -2.0080     -10.0352          -0.1412   \n",
       "252  131.0491  217.4117  68.128288      2.5243       3.8504          -4.8806   \n",
       "\n",
       "     OC1_diff  Temp11_diff  \n",
       "0         NaN          NaN  \n",
       "1      1.6375       1.0116  \n",
       "2     -0.4483      -1.9934  \n",
       "3      0.1633       0.7064  \n",
       "4     -0.9958      -1.1252  \n",
       "..        ...          ...  \n",
       "248    0.1733      -2.5893  \n",
       "249   -0.4166       0.8254  \n",
       "250    0.1683      -0.2519  \n",
       "251    0.3083      -0.3088  \n",
       "252   -0.2716       0.1988  \n",
       "\n",
       "[253 rows x 8 columns]"
      ]
     },
     "execution_count": 13,
     "metadata": {},
     "output_type": "execute_result"
    }
   ],
   "source": [
    "# Calculate differences between columns\n",
    "df1['Temp1_diff'] = df['Temp1'].diff()\n",
    "df1['FlowC1_diff'] = df['FlowC1'].diff()\n",
    "df1['PressureC1_diff'] = df['PressureC1'].diff()\n",
    "df1['OC1_diff'] = df['OC1'].diff()\n",
    "df1['Temp11_diff'] = df['Temp11'].diff()\n",
    "df1"
   ]
  },
  {
   "cell_type": "code",
   "execution_count": 14,
   "metadata": {},
   "outputs": [
    {
     "data": {
      "application/vnd.plotly.v1+json": {
       "config": {
        "plotlyServerURL": "https://plot.ly"
       },
       "data": [
        {
         "alignmentgroup": "True",
         "hovertemplate": "Features=%{x}<br>Importance=%{text}<extra></extra>",
         "legendgroup": "",
         "marker": {
          "color": "#636efa",
          "pattern": {
           "shape": ""
          }
         },
         "name": "",
         "offsetgroup": "",
         "orientation": "v",
         "showlegend": false,
         "text": [
          0.307037651485532,
          0.2797798148566779,
          0.23732425087338696,
          0.05279457052942715,
          0.04914388465144923,
          0.039660930723159606,
          0.034258896880367096
         ],
         "textposition": "auto",
         "type": "bar",
         "x": [
          "PressureC1_diff",
          "FlowC1",
          "Temp1",
          "Temp11_diff",
          "FlowC1_diff",
          "Temp1_diff",
          "OC1_diff"
         ],
         "xaxis": "x",
         "y": [
          0.307037651485532,
          0.2797798148566779,
          0.23732425087338696,
          0.05279457052942715,
          0.04914388465144923,
          0.039660930723159606,
          0.034258896880367096
         ],
         "yaxis": "y"
        }
       ],
       "layout": {
        "barmode": "relative",
        "legend": {
         "tracegroupgap": 0
        },
        "template": {
         "data": {
          "bar": [
           {
            "error_x": {
             "color": "#2a3f5f"
            },
            "error_y": {
             "color": "#2a3f5f"
            },
            "marker": {
             "line": {
              "color": "white",
              "width": 0.5
             },
             "pattern": {
              "fillmode": "overlay",
              "size": 10,
              "solidity": 0.2
             }
            },
            "type": "bar"
           }
          ],
          "barpolar": [
           {
            "marker": {
             "line": {
              "color": "white",
              "width": 0.5
             },
             "pattern": {
              "fillmode": "overlay",
              "size": 10,
              "solidity": 0.2
             }
            },
            "type": "barpolar"
           }
          ],
          "carpet": [
           {
            "aaxis": {
             "endlinecolor": "#2a3f5f",
             "gridcolor": "#C8D4E3",
             "linecolor": "#C8D4E3",
             "minorgridcolor": "#C8D4E3",
             "startlinecolor": "#2a3f5f"
            },
            "baxis": {
             "endlinecolor": "#2a3f5f",
             "gridcolor": "#C8D4E3",
             "linecolor": "#C8D4E3",
             "minorgridcolor": "#C8D4E3",
             "startlinecolor": "#2a3f5f"
            },
            "type": "carpet"
           }
          ],
          "choropleth": [
           {
            "colorbar": {
             "outlinewidth": 0,
             "ticks": ""
            },
            "type": "choropleth"
           }
          ],
          "contour": [
           {
            "colorbar": {
             "outlinewidth": 0,
             "ticks": ""
            },
            "colorscale": [
             [
              0,
              "#0d0887"
             ],
             [
              0.1111111111111111,
              "#46039f"
             ],
             [
              0.2222222222222222,
              "#7201a8"
             ],
             [
              0.3333333333333333,
              "#9c179e"
             ],
             [
              0.4444444444444444,
              "#bd3786"
             ],
             [
              0.5555555555555556,
              "#d8576b"
             ],
             [
              0.6666666666666666,
              "#ed7953"
             ],
             [
              0.7777777777777778,
              "#fb9f3a"
             ],
             [
              0.8888888888888888,
              "#fdca26"
             ],
             [
              1,
              "#f0f921"
             ]
            ],
            "type": "contour"
           }
          ],
          "contourcarpet": [
           {
            "colorbar": {
             "outlinewidth": 0,
             "ticks": ""
            },
            "type": "contourcarpet"
           }
          ],
          "heatmap": [
           {
            "colorbar": {
             "outlinewidth": 0,
             "ticks": ""
            },
            "colorscale": [
             [
              0,
              "#0d0887"
             ],
             [
              0.1111111111111111,
              "#46039f"
             ],
             [
              0.2222222222222222,
              "#7201a8"
             ],
             [
              0.3333333333333333,
              "#9c179e"
             ],
             [
              0.4444444444444444,
              "#bd3786"
             ],
             [
              0.5555555555555556,
              "#d8576b"
             ],
             [
              0.6666666666666666,
              "#ed7953"
             ],
             [
              0.7777777777777778,
              "#fb9f3a"
             ],
             [
              0.8888888888888888,
              "#fdca26"
             ],
             [
              1,
              "#f0f921"
             ]
            ],
            "type": "heatmap"
           }
          ],
          "heatmapgl": [
           {
            "colorbar": {
             "outlinewidth": 0,
             "ticks": ""
            },
            "colorscale": [
             [
              0,
              "#0d0887"
             ],
             [
              0.1111111111111111,
              "#46039f"
             ],
             [
              0.2222222222222222,
              "#7201a8"
             ],
             [
              0.3333333333333333,
              "#9c179e"
             ],
             [
              0.4444444444444444,
              "#bd3786"
             ],
             [
              0.5555555555555556,
              "#d8576b"
             ],
             [
              0.6666666666666666,
              "#ed7953"
             ],
             [
              0.7777777777777778,
              "#fb9f3a"
             ],
             [
              0.8888888888888888,
              "#fdca26"
             ],
             [
              1,
              "#f0f921"
             ]
            ],
            "type": "heatmapgl"
           }
          ],
          "histogram": [
           {
            "marker": {
             "pattern": {
              "fillmode": "overlay",
              "size": 10,
              "solidity": 0.2
             }
            },
            "type": "histogram"
           }
          ],
          "histogram2d": [
           {
            "colorbar": {
             "outlinewidth": 0,
             "ticks": ""
            },
            "colorscale": [
             [
              0,
              "#0d0887"
             ],
             [
              0.1111111111111111,
              "#46039f"
             ],
             [
              0.2222222222222222,
              "#7201a8"
             ],
             [
              0.3333333333333333,
              "#9c179e"
             ],
             [
              0.4444444444444444,
              "#bd3786"
             ],
             [
              0.5555555555555556,
              "#d8576b"
             ],
             [
              0.6666666666666666,
              "#ed7953"
             ],
             [
              0.7777777777777778,
              "#fb9f3a"
             ],
             [
              0.8888888888888888,
              "#fdca26"
             ],
             [
              1,
              "#f0f921"
             ]
            ],
            "type": "histogram2d"
           }
          ],
          "histogram2dcontour": [
           {
            "colorbar": {
             "outlinewidth": 0,
             "ticks": ""
            },
            "colorscale": [
             [
              0,
              "#0d0887"
             ],
             [
              0.1111111111111111,
              "#46039f"
             ],
             [
              0.2222222222222222,
              "#7201a8"
             ],
             [
              0.3333333333333333,
              "#9c179e"
             ],
             [
              0.4444444444444444,
              "#bd3786"
             ],
             [
              0.5555555555555556,
              "#d8576b"
             ],
             [
              0.6666666666666666,
              "#ed7953"
             ],
             [
              0.7777777777777778,
              "#fb9f3a"
             ],
             [
              0.8888888888888888,
              "#fdca26"
             ],
             [
              1,
              "#f0f921"
             ]
            ],
            "type": "histogram2dcontour"
           }
          ],
          "mesh3d": [
           {
            "colorbar": {
             "outlinewidth": 0,
             "ticks": ""
            },
            "type": "mesh3d"
           }
          ],
          "parcoords": [
           {
            "line": {
             "colorbar": {
              "outlinewidth": 0,
              "ticks": ""
             }
            },
            "type": "parcoords"
           }
          ],
          "pie": [
           {
            "automargin": true,
            "type": "pie"
           }
          ],
          "scatter": [
           {
            "fillpattern": {
             "fillmode": "overlay",
             "size": 10,
             "solidity": 0.2
            },
            "type": "scatter"
           }
          ],
          "scatter3d": [
           {
            "line": {
             "colorbar": {
              "outlinewidth": 0,
              "ticks": ""
             }
            },
            "marker": {
             "colorbar": {
              "outlinewidth": 0,
              "ticks": ""
             }
            },
            "type": "scatter3d"
           }
          ],
          "scattercarpet": [
           {
            "marker": {
             "colorbar": {
              "outlinewidth": 0,
              "ticks": ""
             }
            },
            "type": "scattercarpet"
           }
          ],
          "scattergeo": [
           {
            "marker": {
             "colorbar": {
              "outlinewidth": 0,
              "ticks": ""
             }
            },
            "type": "scattergeo"
           }
          ],
          "scattergl": [
           {
            "marker": {
             "colorbar": {
              "outlinewidth": 0,
              "ticks": ""
             }
            },
            "type": "scattergl"
           }
          ],
          "scattermapbox": [
           {
            "marker": {
             "colorbar": {
              "outlinewidth": 0,
              "ticks": ""
             }
            },
            "type": "scattermapbox"
           }
          ],
          "scatterpolar": [
           {
            "marker": {
             "colorbar": {
              "outlinewidth": 0,
              "ticks": ""
             }
            },
            "type": "scatterpolar"
           }
          ],
          "scatterpolargl": [
           {
            "marker": {
             "colorbar": {
              "outlinewidth": 0,
              "ticks": ""
             }
            },
            "type": "scatterpolargl"
           }
          ],
          "scatterternary": [
           {
            "marker": {
             "colorbar": {
              "outlinewidth": 0,
              "ticks": ""
             }
            },
            "type": "scatterternary"
           }
          ],
          "surface": [
           {
            "colorbar": {
             "outlinewidth": 0,
             "ticks": ""
            },
            "colorscale": [
             [
              0,
              "#0d0887"
             ],
             [
              0.1111111111111111,
              "#46039f"
             ],
             [
              0.2222222222222222,
              "#7201a8"
             ],
             [
              0.3333333333333333,
              "#9c179e"
             ],
             [
              0.4444444444444444,
              "#bd3786"
             ],
             [
              0.5555555555555556,
              "#d8576b"
             ],
             [
              0.6666666666666666,
              "#ed7953"
             ],
             [
              0.7777777777777778,
              "#fb9f3a"
             ],
             [
              0.8888888888888888,
              "#fdca26"
             ],
             [
              1,
              "#f0f921"
             ]
            ],
            "type": "surface"
           }
          ],
          "table": [
           {
            "cells": {
             "fill": {
              "color": "#EBF0F8"
             },
             "line": {
              "color": "white"
             }
            },
            "header": {
             "fill": {
              "color": "#C8D4E3"
             },
             "line": {
              "color": "white"
             }
            },
            "type": "table"
           }
          ]
         },
         "layout": {
          "annotationdefaults": {
           "arrowcolor": "#2a3f5f",
           "arrowhead": 0,
           "arrowwidth": 1
          },
          "autotypenumbers": "strict",
          "coloraxis": {
           "colorbar": {
            "outlinewidth": 0,
            "ticks": ""
           }
          },
          "colorscale": {
           "diverging": [
            [
             0,
             "#8e0152"
            ],
            [
             0.1,
             "#c51b7d"
            ],
            [
             0.2,
             "#de77ae"
            ],
            [
             0.3,
             "#f1b6da"
            ],
            [
             0.4,
             "#fde0ef"
            ],
            [
             0.5,
             "#f7f7f7"
            ],
            [
             0.6,
             "#e6f5d0"
            ],
            [
             0.7,
             "#b8e186"
            ],
            [
             0.8,
             "#7fbc41"
            ],
            [
             0.9,
             "#4d9221"
            ],
            [
             1,
             "#276419"
            ]
           ],
           "sequential": [
            [
             0,
             "#0d0887"
            ],
            [
             0.1111111111111111,
             "#46039f"
            ],
            [
             0.2222222222222222,
             "#7201a8"
            ],
            [
             0.3333333333333333,
             "#9c179e"
            ],
            [
             0.4444444444444444,
             "#bd3786"
            ],
            [
             0.5555555555555556,
             "#d8576b"
            ],
            [
             0.6666666666666666,
             "#ed7953"
            ],
            [
             0.7777777777777778,
             "#fb9f3a"
            ],
            [
             0.8888888888888888,
             "#fdca26"
            ],
            [
             1,
             "#f0f921"
            ]
           ],
           "sequentialminus": [
            [
             0,
             "#0d0887"
            ],
            [
             0.1111111111111111,
             "#46039f"
            ],
            [
             0.2222222222222222,
             "#7201a8"
            ],
            [
             0.3333333333333333,
             "#9c179e"
            ],
            [
             0.4444444444444444,
             "#bd3786"
            ],
            [
             0.5555555555555556,
             "#d8576b"
            ],
            [
             0.6666666666666666,
             "#ed7953"
            ],
            [
             0.7777777777777778,
             "#fb9f3a"
            ],
            [
             0.8888888888888888,
             "#fdca26"
            ],
            [
             1,
             "#f0f921"
            ]
           ]
          },
          "colorway": [
           "#636efa",
           "#EF553B",
           "#00cc96",
           "#ab63fa",
           "#FFA15A",
           "#19d3f3",
           "#FF6692",
           "#B6E880",
           "#FF97FF",
           "#FECB52"
          ],
          "font": {
           "color": "#2a3f5f"
          },
          "geo": {
           "bgcolor": "white",
           "lakecolor": "white",
           "landcolor": "white",
           "showlakes": true,
           "showland": true,
           "subunitcolor": "#C8D4E3"
          },
          "hoverlabel": {
           "align": "left"
          },
          "hovermode": "closest",
          "mapbox": {
           "style": "light"
          },
          "paper_bgcolor": "white",
          "plot_bgcolor": "white",
          "polar": {
           "angularaxis": {
            "gridcolor": "#EBF0F8",
            "linecolor": "#EBF0F8",
            "ticks": ""
           },
           "bgcolor": "white",
           "radialaxis": {
            "gridcolor": "#EBF0F8",
            "linecolor": "#EBF0F8",
            "ticks": ""
           }
          },
          "scene": {
           "xaxis": {
            "backgroundcolor": "white",
            "gridcolor": "#DFE8F3",
            "gridwidth": 2,
            "linecolor": "#EBF0F8",
            "showbackground": true,
            "ticks": "",
            "zerolinecolor": "#EBF0F8"
           },
           "yaxis": {
            "backgroundcolor": "white",
            "gridcolor": "#DFE8F3",
            "gridwidth": 2,
            "linecolor": "#EBF0F8",
            "showbackground": true,
            "ticks": "",
            "zerolinecolor": "#EBF0F8"
           },
           "zaxis": {
            "backgroundcolor": "white",
            "gridcolor": "#DFE8F3",
            "gridwidth": 2,
            "linecolor": "#EBF0F8",
            "showbackground": true,
            "ticks": "",
            "zerolinecolor": "#EBF0F8"
           }
          },
          "shapedefaults": {
           "line": {
            "color": "#2a3f5f"
           }
          },
          "ternary": {
           "aaxis": {
            "gridcolor": "#DFE8F3",
            "linecolor": "#A2B1C6",
            "ticks": ""
           },
           "baxis": {
            "gridcolor": "#DFE8F3",
            "linecolor": "#A2B1C6",
            "ticks": ""
           },
           "bgcolor": "white",
           "caxis": {
            "gridcolor": "#DFE8F3",
            "linecolor": "#A2B1C6",
            "ticks": ""
           }
          },
          "title": {
           "x": 0.05
          },
          "xaxis": {
           "automargin": true,
           "gridcolor": "#EBF0F8",
           "linecolor": "#EBF0F8",
           "ticks": "",
           "title": {
            "standoff": 15
           },
           "zerolinecolor": "#EBF0F8",
           "zerolinewidth": 2
          },
          "yaxis": {
           "automargin": true,
           "gridcolor": "#EBF0F8",
           "linecolor": "#EBF0F8",
           "ticks": "",
           "title": {
            "standoff": 15
           },
           "zerolinecolor": "#EBF0F8",
           "zerolinewidth": 2
          }
         }
        },
        "title": {
         "text": "Feature Importance"
        },
        "xaxis": {
         "anchor": "y",
         "domain": [
          0,
          1
         ],
         "tickangle": -90,
         "title": {
          "text": "Features"
         }
        },
        "yaxis": {
         "anchor": "x",
         "domain": [
          0,
          1
         ],
         "title": {
          "text": "Importance"
         }
        }
       }
      }
     },
     "metadata": {},
     "output_type": "display_data"
    }
   ],
   "source": [
    "# Assuming df1 is already defined\n",
    "X = df1.drop(columns=['Yield'])  # Features\n",
    "y = df1['Yield']  # Target\n",
    "\n",
    "# Train the model\n",
    "model = RandomForestRegressor(random_state=42)\n",
    "model.fit(X, y)\n",
    "\n",
    "# Get feature importances\n",
    "importances = model.feature_importances_\n",
    "feature_names = X.columns\n",
    "\n",
    "# Create a DataFrame for Plotly Express\n",
    "importance_df = pd.DataFrame({\n",
    "    'Feature': feature_names,\n",
    "    'Importance': importances\n",
    "})\n",
    "\n",
    "# Sort the DataFrame by importance\n",
    "importance_df = importance_df.sort_values('Importance', ascending=False)\n",
    "\n",
    "# Create the bar chart using Plotly Express\n",
    "fig = px.bar(\n",
    "    importance_df,\n",
    "    x='Feature',\n",
    "    y='Importance',\n",
    "    title='Feature Importance',\n",
    "    labels={'Feature': 'Features', 'Importance': 'Importance'},\n",
    "    text='Importance'  # Optional: Display importance values on bars\n",
    ")\n",
    "\n",
    "# Update layout for better visualization\n",
    "fig.update_layout(\n",
    "    xaxis_tickangle=-90,\n",
    "    template=\"plotly_white\"\n",
    ")\n",
    "\n",
    "# Show the plot\n",
    "fig.show()"
   ]
  },
  {
   "cell_type": "code",
   "execution_count": 15,
   "metadata": {},
   "outputs": [],
   "source": [
    "# Replace NaN with 0\n",
    "df1_filled = df1.fillna(0)"
   ]
  },
  {
   "cell_type": "code",
   "execution_count": 16,
   "metadata": {},
   "outputs": [
    {
     "data": {
      "text/html": [
       "<div>\n",
       "<style scoped>\n",
       "    .dataframe tbody tr th:only-of-type {\n",
       "        vertical-align: middle;\n",
       "    }\n",
       "\n",
       "    .dataframe tbody tr th {\n",
       "        vertical-align: top;\n",
       "    }\n",
       "\n",
       "    .dataframe thead th {\n",
       "        text-align: right;\n",
       "    }\n",
       "</style>\n",
       "<table border=\"1\" class=\"dataframe\">\n",
       "  <thead>\n",
       "    <tr style=\"text-align: right;\">\n",
       "      <th></th>\n",
       "      <th>PressureC1_diff</th>\n",
       "      <th>FlowC1</th>\n",
       "      <th>Temp1</th>\n",
       "      <th>Yield</th>\n",
       "    </tr>\n",
       "  </thead>\n",
       "  <tbody>\n",
       "    <tr>\n",
       "      <th>0</th>\n",
       "      <td>0.0000</td>\n",
       "      <td>432.0636</td>\n",
       "      <td>139.9857</td>\n",
       "      <td>69.400623</td>\n",
       "    </tr>\n",
       "    <tr>\n",
       "      <th>1</th>\n",
       "      <td>-9.9628</td>\n",
       "      <td>487.4029</td>\n",
       "      <td>131.0470</td>\n",
       "      <td>66.532666</td>\n",
       "    </tr>\n",
       "    <tr>\n",
       "      <th>2</th>\n",
       "      <td>-0.0695</td>\n",
       "      <td>437.3516</td>\n",
       "      <td>118.2666</td>\n",
       "      <td>71.102193</td>\n",
       "    </tr>\n",
       "    <tr>\n",
       "      <th>3</th>\n",
       "      <td>0.2257</td>\n",
       "      <td>481.8314</td>\n",
       "      <td>118.1769</td>\n",
       "      <td>69.793481</td>\n",
       "    </tr>\n",
       "    <tr>\n",
       "      <th>4</th>\n",
       "      <td>-0.1678</td>\n",
       "      <td>412.6471</td>\n",
       "      <td>120.7891</td>\n",
       "      <td>71.489516</td>\n",
       "    </tr>\n",
       "    <tr>\n",
       "      <th>...</th>\n",
       "      <td>...</td>\n",
       "      <td>...</td>\n",
       "      <td>...</td>\n",
       "      <td>...</td>\n",
       "    </tr>\n",
       "    <tr>\n",
       "      <th>248</th>\n",
       "      <td>-0.3402</td>\n",
       "      <td>212.6385</td>\n",
       "      <td>130.8138</td>\n",
       "      <td>69.037071</td>\n",
       "    </tr>\n",
       "    <tr>\n",
       "      <th>249</th>\n",
       "      <td>0.7656</td>\n",
       "      <td>225.1412</td>\n",
       "      <td>128.9673</td>\n",
       "      <td>69.202425</td>\n",
       "    </tr>\n",
       "    <tr>\n",
       "      <th>250</th>\n",
       "      <td>0.1589</td>\n",
       "      <td>223.5965</td>\n",
       "      <td>130.5328</td>\n",
       "      <td>69.409546</td>\n",
       "    </tr>\n",
       "    <tr>\n",
       "      <th>251</th>\n",
       "      <td>-0.1412</td>\n",
       "      <td>213.5613</td>\n",
       "      <td>128.5248</td>\n",
       "      <td>69.072711</td>\n",
       "    </tr>\n",
       "    <tr>\n",
       "      <th>252</th>\n",
       "      <td>-4.8806</td>\n",
       "      <td>217.4117</td>\n",
       "      <td>131.0491</td>\n",
       "      <td>68.128288</td>\n",
       "    </tr>\n",
       "  </tbody>\n",
       "</table>\n",
       "<p>253 rows × 4 columns</p>\n",
       "</div>"
      ],
      "text/plain": [
       "     PressureC1_diff    FlowC1     Temp1      Yield\n",
       "0             0.0000  432.0636  139.9857  69.400623\n",
       "1            -9.9628  487.4029  131.0470  66.532666\n",
       "2            -0.0695  437.3516  118.2666  71.102193\n",
       "3             0.2257  481.8314  118.1769  69.793481\n",
       "4            -0.1678  412.6471  120.7891  71.489516\n",
       "..               ...       ...       ...        ...\n",
       "248          -0.3402  212.6385  130.8138  69.037071\n",
       "249           0.7656  225.1412  128.9673  69.202425\n",
       "250           0.1589  223.5965  130.5328  69.409546\n",
       "251          -0.1412  213.5613  128.5248  69.072711\n",
       "252          -4.8806  217.4117  131.0491  68.128288\n",
       "\n",
       "[253 rows x 4 columns]"
      ]
     },
     "execution_count": 16,
     "metadata": {},
     "output_type": "execute_result"
    }
   ],
   "source": [
    "df2=df1_filled[['PressureC1_diff','FlowC1','Temp1','Yield']]\n",
    "df2"
   ]
  },
  {
   "cell_type": "code",
   "execution_count": 17,
   "metadata": {},
   "outputs": [
    {
     "data": {
      "text/html": [
       "<div>\n",
       "<style scoped>\n",
       "    .dataframe tbody tr th:only-of-type {\n",
       "        vertical-align: middle;\n",
       "    }\n",
       "\n",
       "    .dataframe tbody tr th {\n",
       "        vertical-align: top;\n",
       "    }\n",
       "\n",
       "    .dataframe thead th {\n",
       "        text-align: right;\n",
       "    }\n",
       "</style>\n",
       "<table border=\"1\" class=\"dataframe\">\n",
       "  <thead>\n",
       "    <tr style=\"text-align: right;\">\n",
       "      <th></th>\n",
       "      <th>PressureC1_diff</th>\n",
       "      <th>FlowC1</th>\n",
       "      <th>Temp1</th>\n",
       "      <th>Yield</th>\n",
       "    </tr>\n",
       "  </thead>\n",
       "  <tbody>\n",
       "    <tr>\n",
       "      <th>count</th>\n",
       "      <td>253.000000</td>\n",
       "      <td>253.000000</td>\n",
       "      <td>253.000000</td>\n",
       "      <td>253.000000</td>\n",
       "    </tr>\n",
       "    <tr>\n",
       "      <th>mean</th>\n",
       "      <td>0.041815</td>\n",
       "      <td>308.862131</td>\n",
       "      <td>132.435281</td>\n",
       "      <td>69.400623</td>\n",
       "    </tr>\n",
       "    <tr>\n",
       "      <th>std</th>\n",
       "      <td>5.363855</td>\n",
       "      <td>83.159473</td>\n",
       "      <td>11.921749</td>\n",
       "      <td>1.345877</td>\n",
       "    </tr>\n",
       "    <tr>\n",
       "      <th>min</th>\n",
       "      <td>-29.882700</td>\n",
       "      <td>181.798024</td>\n",
       "      <td>113.963100</td>\n",
       "      <td>65.203801</td>\n",
       "    </tr>\n",
       "    <tr>\n",
       "      <th>25%</th>\n",
       "      <td>-0.351700</td>\n",
       "      <td>235.286300</td>\n",
       "      <td>121.602000</td>\n",
       "      <td>68.744615</td>\n",
       "    </tr>\n",
       "    <tr>\n",
       "      <th>50%</th>\n",
       "      <td>0.000000</td>\n",
       "      <td>292.910900</td>\n",
       "      <td>130.170300</td>\n",
       "      <td>69.440647</td>\n",
       "    </tr>\n",
       "    <tr>\n",
       "      <th>75%</th>\n",
       "      <td>0.361600</td>\n",
       "      <td>370.814200</td>\n",
       "      <td>140.520900</td>\n",
       "      <td>70.125880</td>\n",
       "    </tr>\n",
       "    <tr>\n",
       "      <th>max</th>\n",
       "      <td>38.141600</td>\n",
       "      <td>493.493212</td>\n",
       "      <td>164.120320</td>\n",
       "      <td>73.471963</td>\n",
       "    </tr>\n",
       "  </tbody>\n",
       "</table>\n",
       "</div>"
      ],
      "text/plain": [
       "       PressureC1_diff      FlowC1       Temp1       Yield\n",
       "count       253.000000  253.000000  253.000000  253.000000\n",
       "mean          0.041815  308.862131  132.435281   69.400623\n",
       "std           5.363855   83.159473   11.921749    1.345877\n",
       "min         -29.882700  181.798024  113.963100   65.203801\n",
       "25%          -0.351700  235.286300  121.602000   68.744615\n",
       "50%           0.000000  292.910900  130.170300   69.440647\n",
       "75%           0.361600  370.814200  140.520900   70.125880\n",
       "max          38.141600  493.493212  164.120320   73.471963"
      ]
     },
     "execution_count": 17,
     "metadata": {},
     "output_type": "execute_result"
    }
   ],
   "source": [
    "df2.describe()"
   ]
  },
  {
   "cell_type": "code",
   "execution_count": 18,
   "metadata": {},
   "outputs": [],
   "source": [
    "df2.to_csv('C:/Users/mjkipsz2/OneDrive - The University of Manchester/Desktop/distillation_colum_yield/data/transformed_data.csv', index=False)"
   ]
  },
  {
   "cell_type": "code",
   "execution_count": 19,
   "metadata": {},
   "outputs": [
    {
     "data": {
      "text/html": [
       "<div>\n",
       "<style scoped>\n",
       "    .dataframe tbody tr th:only-of-type {\n",
       "        vertical-align: middle;\n",
       "    }\n",
       "\n",
       "    .dataframe tbody tr th {\n",
       "        vertical-align: top;\n",
       "    }\n",
       "\n",
       "    .dataframe thead th {\n",
       "        text-align: right;\n",
       "    }\n",
       "</style>\n",
       "<table border=\"1\" class=\"dataframe\">\n",
       "  <thead>\n",
       "    <tr style=\"text-align: right;\">\n",
       "      <th></th>\n",
       "      <th>PressureC1_diff</th>\n",
       "      <th>FlowC1</th>\n",
       "      <th>Temp1</th>\n",
       "      <th>Yield</th>\n",
       "    </tr>\n",
       "  </thead>\n",
       "  <tbody>\n",
       "    <tr>\n",
       "      <th>0</th>\n",
       "      <td>-0.007811</td>\n",
       "      <td>1.484445</td>\n",
       "      <td>0.634587</td>\n",
       "      <td>69.400623</td>\n",
       "    </tr>\n",
       "    <tr>\n",
       "      <th>1</th>\n",
       "      <td>-1.868888</td>\n",
       "      <td>2.151224</td>\n",
       "      <td>-0.116680</td>\n",
       "      <td>66.532666</td>\n",
       "    </tr>\n",
       "    <tr>\n",
       "      <th>2</th>\n",
       "      <td>-0.020794</td>\n",
       "      <td>1.548160</td>\n",
       "      <td>-1.190829</td>\n",
       "      <td>71.102193</td>\n",
       "    </tr>\n",
       "    <tr>\n",
       "      <th>3</th>\n",
       "      <td>0.034350</td>\n",
       "      <td>2.084094</td>\n",
       "      <td>-1.198368</td>\n",
       "      <td>69.793481</td>\n",
       "    </tr>\n",
       "    <tr>\n",
       "      <th>4</th>\n",
       "      <td>-0.039157</td>\n",
       "      <td>1.250497</td>\n",
       "      <td>-0.978822</td>\n",
       "      <td>71.489516</td>\n",
       "    </tr>\n",
       "  </tbody>\n",
       "</table>\n",
       "</div>"
      ],
      "text/plain": [
       "   PressureC1_diff    FlowC1     Temp1      Yield\n",
       "0        -0.007811  1.484445  0.634587  69.400623\n",
       "1        -1.868888  2.151224 -0.116680  66.532666\n",
       "2        -0.020794  1.548160 -1.190829  71.102193\n",
       "3         0.034350  2.084094 -1.198368  69.793481\n",
       "4        -0.039157  1.250497 -0.978822  71.489516"
      ]
     },
     "execution_count": 19,
     "metadata": {},
     "output_type": "execute_result"
    }
   ],
   "source": [
    "# Normalize or standardize features\n",
    "from sklearn.preprocessing import StandardScaler\n",
    "\n",
    "scaler = StandardScaler()\n",
    "scaled_features = scaler.fit_transform(df2.iloc[:, :-1])  # Exclude target column\n",
    "df2.iloc[:, :-1] = scaled_features\n",
    "df_norm=df2\n",
    "df_norm.head()"
   ]
  },
  {
   "cell_type": "code",
   "execution_count": 20,
   "metadata": {},
   "outputs": [
    {
     "data": {
      "image/png": "[encoded data removed]",
      "text/plain": [
       "<Figure size 1000x600 with 1 Axes>"
      ]
     },
     "metadata": {},
     "output_type": "display_data"
    }
   ],
   "source": [
    "#Dimension Reduction\n",
    "from sklearn.decomposition import PCA\n",
    "\n",
    "# Define PCA function\n",
    "pca = PCA()\n",
    "pca.fit(df_norm.iloc[:, :-1])  # Exclude target column\n",
    "\n",
    "# PCA variance explained\n",
    "exp_var = pca.explained_variance_ratio_\n",
    "cum_exp_var = exp_var.cumsum()\n",
    "\n",
    "# Number of components\n",
    "n_pca_components = len(exp_var)\n",
    "\n",
    "# Create the graphic\n",
    "plt.figure(figsize=(10, 6))\n",
    "bars = plt.bar(range(1, n_pca_components + 1), exp_var, align='center',\n",
    "               label='Individual explained variance')\n",
    "plt.step(range(1, n_pca_components + 1), cum_exp_var, where='mid',\n",
    "         label='Cumulative explained variance', color='red')\n",
    "\n",
    "# Add labels in each bar\n",
    "for bar in bars:\n",
    "    yval = bar.get_height()\n",
    "    plt.text(bar.get_x() + bar.get_width()/2, yval, round(yval*100, 2), \n",
    "             va='bottom', ha='center', fontsize=8)\n",
    "\n",
    "# Adjust others elements of the graphic\n",
    "plt.ylabel('Explained variance percentage')\n",
    "plt.xlabel('Principal component index')\n",
    "plt.xticks(ticks=list(range(1, n_pca_components + 1)))\n",
    "plt.title('PCA Explained Variance')\n",
    "plt.legend(loc='best')\n",
    "plt.tight_layout()\n",
    "plt.show()"
   ]
  },
  {
   "cell_type": "code",
   "execution_count": 21,
   "metadata": {},
   "outputs": [],
   "source": [
    "df_norm.to_csv('C:/Users/mjkipsz2/OneDrive - The University of Manchester/Desktop/distillation_colum_yield/data/transformed_normalized_data.csv', index=False)"
   ]
  }
 ],
 "metadata": {
  "kernelspec": {
   "display_name": "Python (Poetry_dist_tower)",
   "language": "python",
   "name": "my_poetry_kernel"
  },
  "language_info": {
   "codemirror_mode": {
    "name": "ipython",
    "version": 3
   },
   "file_extension": ".py",
   "mimetype": "text/x-python",
   "name": "python",
   "nbconvert_exporter": "python",
   "pygments_lexer": "ipython3",
   "version": "3.10.14"
  }
 },
 "nbformat": 4,
 "nbformat_minor": 2
}
