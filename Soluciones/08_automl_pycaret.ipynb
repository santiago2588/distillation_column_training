{
  "cells": [
    {
      "cell_type": "markdown",
      "metadata": {
        "id": "view-in-github",
        "colab_type": "text"
      },
      "source": [
        "<a href=\"https://colab.research.google.com/github/santiago2588/distillation_column_training/blob/main/Soluciones/08_automl_pycaret.ipynb\" target=\"_parent\"><img src=\"https://colab.research.google.com/assets/colab-badge.svg\" alt=\"Open In Colab\"/></a>"
      ]
    },
    {
      "cell_type": "code",
      "execution_count": null,
      "metadata": {
        "id": "0ym0tutWhf87"
      },
      "outputs": [],
      "source": [
        "!pip install pycaret -q\n",
        "!pip install pycaret[tuners] -q\n",
        "!pip install pycaret[analysis] -q"
      ]
    },
    {
      "cell_type": "code",
      "execution_count": null,
      "metadata": {
        "id": "q5ApsjJmjayJ"
      },
      "outputs": [],
      "source": [
        "!wget https://raw.githubusercontent.com/santiago2588/distillation_column_training/main/data/transformed_data.csv -O transformed_data.csv"
      ]
    },
    {
      "cell_type": "code",
      "execution_count": null,
      "metadata": {
        "id": "9qmWKADUjgIR"
      },
      "outputs": [],
      "source": [
        "import pandas as pd\n",
        "\n",
        "# Read the CSV file into a DataFrame\n",
        "df = pd.read_csv(\"transformed_data.csv\")\n",
        "\n",
        "# Display the first few rows to confirm it loaded correctly\n",
        "df.head()"
      ]
    },
    {
      "cell_type": "code",
      "execution_count": null,
      "metadata": {
        "id": "lzgYPG1ljhkF"
      },
      "outputs": [],
      "source": [
        "# init setup\n",
        "from pycaret.regression import *"
      ]
    },
    {
      "cell_type": "code",
      "execution_count": null,
      "metadata": {
        "id": "5Nzy8zJrjptt"
      },
      "outputs": [],
      "source": [
        "exp = setup(data = df, target = 'Yield',train_size=0.8)"
      ]
    },
    {
      "cell_type": "code",
      "execution_count": null,
      "metadata": {
        "id": "pNAy0MZilGoh"
      },
      "outputs": [],
      "source": [
        "# compare models\n",
        "best = compare_models(sort = 'MSE')"
      ]
    },
    {
      "cell_type": "code",
      "execution_count": null,
      "metadata": {
        "id": "QVVX4XU5lpPU"
      },
      "outputs": [],
      "source": [
        "evaluate_model(best)"
      ]
    },
    {
      "cell_type": "code",
      "execution_count": null,
      "metadata": {
        "id": "VFE4rRmXmAne"
      },
      "outputs": [],
      "source": [
        "plot_model(best, plot = 'feature')"
      ]
    },
    {
      "cell_type": "code",
      "execution_count": null,
      "metadata": {
        "id": "kXYz_MiomXVN"
      },
      "outputs": [],
      "source": [
        "predict_model(best)"
      ]
    },
    {
      "cell_type": "code",
      "execution_count": null,
      "metadata": {
        "id": "70GWb9grmntJ"
      },
      "outputs": [],
      "source": [
        "et=create_model('et')"
      ]
    },
    {
      "cell_type": "code",
      "execution_count": null,
      "metadata": {
        "id": "VNg8WvIonCEL"
      },
      "outputs": [],
      "source": [
        "# tune model\n",
        "tuned_et = tune_model(et,n_iter = 50,optimize = 'MAE',search_library = 'optuna',choose_better = True)"
      ]
    },
    {
      "cell_type": "code",
      "execution_count": null,
      "metadata": {
        "id": "IFmX7YSvnX2Z"
      },
      "outputs": [],
      "source": [
        "gbr=create_model('gbr')"
      ]
    },
    {
      "cell_type": "code",
      "execution_count": null,
      "metadata": {
        "id": "PJTm9H8Infi-"
      },
      "outputs": [],
      "source": [
        "# tune model\n",
        "tuned_gbr = tune_model(gbr,n_iter = 50,optimize = 'MAE',search_library = 'optuna',choose_better = True)"
      ]
    },
    {
      "cell_type": "code",
      "execution_count": null,
      "metadata": {
        "id": "f1Hirf2rqmbB"
      },
      "outputs": [],
      "source": [
        "plot_model(tuned_gbr, plot = 'error')"
      ]
    },
    {
      "cell_type": "code",
      "execution_count": null,
      "metadata": {
        "id": "hb7Db4u7q0vw"
      },
      "outputs": [],
      "source": [
        "dashboard(tuned_gbr)"
      ]
    },
    {
      "cell_type": "code",
      "execution_count": null,
      "metadata": {
        "id": "HYKYNo-Hrjty"
      },
      "outputs": [],
      "source": [
        "# finalize a model\n",
        "final_model=finalize_model(tuned_gbr)"
      ]
    },
    {
      "cell_type": "code",
      "execution_count": null,
      "metadata": {
        "id": "7AFiMheEsqH6"
      },
      "outputs": [],
      "source": [
        "# create app\n",
        "create_app(final_model)"
      ]
    }
  ],
  "metadata": {
    "colab": {
      "provenance": [],
      "authorship_tag": "ABX9TyOrmqcPOojvSbO3TRuCrc1C",
      "include_colab_link": true
    },
    "kernelspec": {
      "display_name": "Python (Poetry_dist_tower)",
      "language": "python",
      "name": "my_poetry_kernel"
    },
    "language_info": {
      "name": "python",
      "version": "3.10.14"
    }
  },
  "nbformat": 4,
  "nbformat_minor": 0
}