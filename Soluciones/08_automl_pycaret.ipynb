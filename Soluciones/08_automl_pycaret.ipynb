{
  "nbformat": 4,
  "nbformat_minor": 0,
  "metadata": {
    "colab": {
      "provenance": [],
      "authorship_tag": "ABX9TyMXZxwq/D/jnikez4qj20/s",
      "include_colab_link": true
    },
    "kernelspec": {
      "name": "python3",
      "display_name": "Python 3"
    },
    "language_info": {
      "name": "python"
    }
  },
  "cells": [
    {
      "cell_type": "markdown",
      "metadata": {
        "id": "view-in-github",
        "colab_type": "text"
      },
      "source": [
        "<a href=\"https://colab.research.google.com/github/santiago2588/distillation_column_training/blob/main/Soluciones/08_automl_pycaret.ipynb\" target=\"_parent\"><img src=\"https://colab.research.google.com/assets/colab-badge.svg\" alt=\"Open In Colab\"/></a>"
      ]
    },
    {
      "cell_type": "code",
      "execution_count": null,
      "metadata": {
        "id": "0ym0tutWhf87"
      },
      "outputs": [],
      "source": [
        "!pip install pycaret -q"
      ]
    },
    {
      "cell_type": "code",
      "source": [
        "!wget https://raw.githubusercontent.com/santiago2588/distillation_column_training/main/data/transformed_data.csv -O transformed_data.csv"
      ],
      "metadata": {
        "id": "q5ApsjJmjayJ"
      },
      "execution_count": null,
      "outputs": []
    },
    {
      "cell_type": "code",
      "source": [
        "import pandas as pd\n",
        "\n",
        "# Read the CSV file into a DataFrame\n",
        "df = pd.read_csv(\"transformed_data.csv\")\n",
        "\n",
        "# Display the first few rows to confirm it loaded correctly\n",
        "df.head()"
      ],
      "metadata": {
        "id": "9qmWKADUjgIR"
      },
      "execution_count": null,
      "outputs": []
    },
    {
      "cell_type": "code",
      "source": [
        "# init setup\n",
        "from pycaret.regression import *"
      ],
      "metadata": {
        "id": "lzgYPG1ljhkF"
      },
      "execution_count": null,
      "outputs": []
    },
    {
      "cell_type": "code",
      "source": [
        "exp = setup(data = df, target = 'Yield',train_size=0.8)"
      ],
      "metadata": {
        "id": "5Nzy8zJrjptt"
      },
      "execution_count": null,
      "outputs": []
    },
    {
      "cell_type": "code",
      "source": [
        "# compare models\n",
        "best = compare_models(sort = 'MSE')"
      ],
      "metadata": {
        "id": "pNAy0MZilGoh"
      },
      "execution_count": null,
      "outputs": []
    },
    {
      "cell_type": "code",
      "source": [
        "evaluate_model(best)"
      ],
      "metadata": {
        "id": "QVVX4XU5lpPU"
      },
      "execution_count": null,
      "outputs": []
    },
    {
      "cell_type": "code",
      "source": [
        "plot_model(best, plot = 'feature')"
      ],
      "metadata": {
        "id": "VFE4rRmXmAne"
      },
      "execution_count": null,
      "outputs": []
    },
    {
      "cell_type": "code",
      "source": [
        "predict_model(best)"
      ],
      "metadata": {
        "id": "kXYz_MiomXVN"
      },
      "execution_count": null,
      "outputs": []
    },
    {
      "cell_type": "code",
      "source": [
        "et=create_model('et')"
      ],
      "metadata": {
        "id": "70GWb9grmntJ"
      },
      "execution_count": null,
      "outputs": []
    },
    {
      "cell_type": "code",
      "source": [
        "# tune model\n",
        "tuned_et = tune_model(et,n_iter = 50,optimize = 'MAE',search_library = 'optuna',choose_better = True)"
      ],
      "metadata": {
        "id": "VNg8WvIonCEL"
      },
      "execution_count": null,
      "outputs": []
    },
    {
      "cell_type": "code",
      "source": [
        "gbr=create_model('gbr')"
      ],
      "metadata": {
        "id": "IFmX7YSvnX2Z"
      },
      "execution_count": null,
      "outputs": []
    },
    {
      "cell_type": "code",
      "source": [
        "# tune model\n",
        "tuned_gbr = tune_model(gbr,n_iter = 50,optimize = 'MAE',search_library = 'optuna',choose_better = True)"
      ],
      "metadata": {
        "id": "PJTm9H8Infi-"
      },
      "execution_count": null,
      "outputs": []
    },
    {
      "cell_type": "code",
      "source": [
        "plot_model(tuned_gbr, plot = 'error')"
      ],
      "metadata": {
        "id": "f1Hirf2rqmbB"
      },
      "execution_count": null,
      "outputs": []
    },
    {
      "cell_type": "code",
      "source": [
        "dashboard(tuned_gbr)"
      ],
      "metadata": {
        "id": "hb7Db4u7q0vw"
      },
      "execution_count": null,
      "outputs": []
    },
    {
      "cell_type": "code",
      "source": [
        "# finalize a model\n",
        "final_model=finalize_model(tuned_gbr)"
      ],
      "metadata": {
        "id": "HYKYNo-Hrjty"
      },
      "execution_count": null,
      "outputs": []
    },
    {
      "cell_type": "code",
      "source": [
        "# create app\n",
        "create_app(final_model)"
      ],
      "metadata": {
        "id": "7AFiMheEsqH6"
      },
      "execution_count": null,
      "outputs": []
    }
  ]
}