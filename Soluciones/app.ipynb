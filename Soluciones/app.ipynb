{
 "cells": [
  {
   "cell_type": "code",
   "execution_count": null,
   "metadata": {},
   "outputs": [],
   "source": [
    "# Install necessary libraries\n",
    "!pip install joblib pandas"
   ]
  },
  {
   "cell_type": "code",
   "execution_count": null,
   "metadata": {},
   "outputs": [],
   "source": [
    "import joblib\n",
    "import pandas as pd\n",
    "\n",
    "# Note: Streamlit-specific UI elements (st.slider, st.button, st.title, etc.) are not directly usable in Colab.\n",
    "# They have been commented out or removed.\n",
    "# You can define inputs directly in the code or use Colab's form features if interactive input is needed.\n",
    "\n",
    "# Page title (Original Streamlit code)\n",
    "# st.title('Distillation column yield prediction')\n",
    "# st.image('images/column.jpg') # Requires images/column.jpg to be accessible\n",
    "# st.write(\"\\n\\n\")\n",
    "\n",
    "# st.markdown(\n",
    "#     \"\"\"\n",
    "#     This app aims to assist in predicting the yield in distillation columns\"\"\"\n",
    "# )\n",
    "print('Distillation column yield prediction')\n",
    "print(\"This notebook aims to assist in predicting the yield in distillation columns\")\n",
    "\n",
    "# Load the model\n",
    "# IMPORTANT: Make sure 'model/final_model.joblib' is accessible in your Colab environment.\n",
    "# You might need to upload the 'model' folder and its contents to your Colab session.\n",
    "model_file = '../model/final_model.joblib' # Adjusted path for typical Colab structure if notebook is in Soluciones\n",
    "try:\n",
    "    model = joblib.load(model_file)\n",
    "    print(\"Model loaded successfully.\")\n",
    "except FileNotFoundError:\n",
    "    print(f\"Error: Model file not found at {model_file}. Please ensure the path is correct and the file is uploaded.\")\n",
    "    model = None\n",
    "\n",
    "# Streamlit interface to input data (Original Streamlit code)\n",
    "# flowrate = st.slider(label='Flowrate [m3/s]',min_value=100, max_value=500, value=300, step=1)\n",
    "# temperature = st.slider(label='Temperature [C]',min_value=100, max_value=200, value=130, step=1)\n",
    "# pressure = st.slider(label='Pressure difference [psi]',min_value=-50, max_value=50, value=0, step=1)\n",
    "\n",
    "# Define inputs directly for Colab\n",
    "flowrate = 300  # Example value, change as needed\n",
    "temperature = 130 # Example value, change as needed\n",
    "pressure = 0    # Example value, change as needed\n",
    "\n",
    "print(f\"\\nUsing input values:\")\n",
    "print(f\"Flowrate [m3/s]: {flowrate}\")\n",
    "print(f\"Temperature [C]: {temperature}\")\n",
    "print(f\"Pressure difference [psi]: {pressure}\")\n",
    "\n",
    "# Function to predict the input\n",
    "def prediction(pressure_val, flowrate_val, temperature_val):\n",
    "    # Create a df with input data\n",
    "    df_input = pd.DataFrame({\n",
    "        'PressureC1_diff': [pressure_val],\n",
    "        'FlowC1': [flowrate_val],\n",
    "        'Temp1': [temperature_val]\n",
    "    })\n",
    "\n",
    "    if model:\n",
    "        pred = model.predict(df_input)\n",
    "        return pred\n",
    "    else:\n",
    "        return \"Model not loaded. Cannot make prediction.\"\n",
    "\n",
    "# Button to predict (Original Streamlit code)\n",
    "# if st.button('Predict'):\n",
    "#     predict = prediction(pressure,flowrate,temperature)\n",
    "#     st.success(predict)\n",
    "\n",
    "# Make and display prediction in Colab\n",
    "if model: # Only attempt prediction if model loaded successfully\n",
    "    predict_output = prediction(pressure, flowrate, temperature)\n",
    "    print(\"\\nPrediction Output:\")\n",
    "    print(predict_output)\n",
    "else:\n",
    "    print(\"\\nCannot make prediction as the model was not loaded.\")"
   ]
  }
 ],
 "metadata": {
  "colab": {
   "provenance": []
  },
  "kernelspec": {
   "display_name": "Python 3",
   "name": "python3"
  },
  "language_info": {
   "name": "python"
  }
 },
 "nbformat": 4,
 "nbformat_minor": 5
}