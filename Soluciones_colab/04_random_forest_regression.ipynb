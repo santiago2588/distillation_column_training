{
  "cells": [
    {
      "cell_type": "markdown",
      "id": "b2a4f73e",
      "metadata": {
        "colab_type": "text",
        "id": "view-in-github"
      },
      "source": [
        "<a href=\"https://colab.research.google.com/github/santiago2588/distillation_column_training/blob/main/Soluciones_colab/04_random_forest_regression.ipynb\" target=\"_parent\"><img src=\"https://colab.research.google.com/assets/colab-badge.svg\" alt=\"Open In Colab\"/></a>"
      ]
    },
    {
      "cell_type": "code",
      "execution_count": 1,
      "id": "a0bbd9e9",
      "metadata": {
        "id": "a0bbd9e9"
      },
      "outputs": [],
      "source": [
        "# Data wrangling\n",
        "import pandas as pd\n",
        "import numpy as np"
      ]
    },
    {
      "cell_type": "code",
      "execution_count": 2,
      "id": "a6390121",
      "metadata": {
        "id": "a6390121"
      },
      "outputs": [],
      "source": [
        "# Data visualization\n",
        "import matplotlib.pyplot as plt\n",
        "import seaborn as sns\n",
        "import plotly.express as px\n",
        "from tqdm import tqdm"
      ]
    },
    {
      "cell_type": "code",
      "execution_count": 3,
      "id": "9b42e388",
      "metadata": {
        "id": "9b42e388"
      },
      "outputs": [],
      "source": [
        "# Models\n",
        "from sklearn.ensemble import RandomForestRegressor"
      ]
    },
    {
      "cell_type": "code",
      "execution_count": 6,
      "id": "gLdPFwQxJcxQ",
      "metadata": {
        "colab": {
          "base_uri": "https://localhost:8080/"
        },
        "id": "gLdPFwQxJcxQ",
        "outputId": "f9ddb52d-b3db-45fb-8c84-abb06916055b"
      },
      "outputs": [
        {
          "name": "stdout",
          "output_type": "stream",
          "text": [
            "\u001b[?25l   \u001b[90m━━━━━━━━━━━━━━━━━━━━━━━━━━━━━━━━━━━━━━━━\u001b[0m \u001b[32m0.0/395.9 kB\u001b[0m \u001b[31m?\u001b[0m eta \u001b[36m-:--:--\u001b[0m\r\u001b[2K   \u001b[91m━━━━━━━━━━━━━━━━━━━━━━━━━━━━━━━━━━━━━\u001b[0m\u001b[90m╺\u001b[0m\u001b[90m━━\u001b[0m \u001b[32m368.6/395.9 kB\u001b[0m \u001b[31m11.1 MB/s\u001b[0m eta \u001b[36m0:00:01\u001b[0m\r\u001b[2K   \u001b[90m━━━━━━━━━━━━━━━━━━━━━━━━━━━━━━━━━━━━━━━━\u001b[0m \u001b[32m395.9/395.9 kB\u001b[0m \u001b[31m7.6 MB/s\u001b[0m eta \u001b[36m0:00:00\u001b[0m\n",
            "\u001b[?25h\u001b[?25l   \u001b[90m━━━━━━━━━━━━━━━━━━━━━━━━━━━━━━━━━━━━━━━━\u001b[0m \u001b[32m0.0/242.7 kB\u001b[0m \u001b[31m?\u001b[0m eta \u001b[36m-:--:--\u001b[0m\r\u001b[2K   \u001b[90m━━━━━━━━━━━━━━━━━━━━━━━━━━━━━━━━━━━━━━━━\u001b[0m \u001b[32m242.7/242.7 kB\u001b[0m \u001b[31m16.7 MB/s\u001b[0m eta \u001b[36m0:00:00\u001b[0m\n",
            "\u001b[?25h"
          ]
        }
      ],
      "source": [
        "# Install the optuna library\n",
        "!pip install optuna -q"
      ]
    },
    {
      "cell_type": "code",
      "execution_count": 7,
      "id": "b0996335",
      "metadata": {
        "id": "b0996335"
      },
      "outputs": [],
      "source": [
        "#Hyperparameter optimization\n",
        "import optuna"
      ]
    },
    {
      "cell_type": "code",
      "execution_count": 8,
      "id": "9963d95c",
      "metadata": {
        "id": "9963d95c"
      },
      "outputs": [],
      "source": [
        "# Models Pipelines\n",
        "from sklearn.pipeline import Pipeline"
      ]
    },
    {
      "cell_type": "code",
      "execution_count": 9,
      "id": "c5d5c5e5",
      "metadata": {
        "id": "c5d5c5e5"
      },
      "outputs": [],
      "source": [
        "# Model evaluation\n",
        "from sklearn.model_selection import train_test_split\n",
        "from sklearn.metrics import mean_squared_error, mean_absolute_error, r2_score"
      ]
    },
    {
      "cell_type": "code",
      "execution_count": 12,
      "id": "10e17ed6",
      "metadata": {
        "id": "10e17ed6"
      },
      "outputs": [],
      "source": [
        "# Save model\n",
        "import joblib"
      ]
    },
    {
      "cell_type": "code",
      "execution_count": 13,
      "id": "H--Axxe1KTVX",
      "metadata": {
        "colab": {
          "base_uri": "https://localhost:8080/"
        },
        "id": "H--Axxe1KTVX",
        "outputId": "8a140705-4c75-408d-b628-a172c09bf45a"
      },
      "outputs": [
        {
          "name": "stdout",
          "output_type": "stream",
          "text": [
            "--2025-07-07 13:53:20--  https://raw.githubusercontent.com/santiago2588/distillation_column_training/main/data/transformed_data.csv\n",
            "Resolving raw.githubusercontent.com (raw.githubusercontent.com)... 185.199.110.133, 185.199.109.133, 185.199.111.133, ...\n",
            "Connecting to raw.githubusercontent.com (raw.githubusercontent.com)|185.199.110.133|:443... connected.\n",
            "HTTP request sent, awaiting response... 200 OK\n",
            "Length: 12344 (12K) [text/plain]\n",
            "Saving to: ‘transformed_data.csv’\n",
            "\n",
            "\rtransformed_data.cs   0%[                    ]       0  --.-KB/s               \rtransformed_data.cs 100%[===================>]  12.05K  --.-KB/s    in 0.001s  \n",
            "\n",
            "2025-07-07 13:53:20 (16.2 MB/s) - ‘transformed_data.csv’ saved [12344/12344]\n",
            "\n"
          ]
        }
      ],
      "source": [
        "!wget https://raw.githubusercontent.com/santiago2588/distillation_column_training/main/data/transformed_data.csv -O transformed_data.csv"
      ]
    },
    {
      "cell_type": "code",
      "execution_count": null,
      "id": "siFoxaLyKaZL",
      "metadata": {
        "colab": {
          "base_uri": "https://localhost:8080/",
          "height": 206
        },
        "id": "siFoxaLyKaZL",
        "outputId": "cfd3be34-a74e-4782-e88a-b35b905008a1"
      },
      "outputs": [
        {
          "data": {
            "application/vnd.google.colaboratory.intrinsic+json": {
              "summary": "{\n  \"name\": \"df\",\n  \"rows\": 253,\n  \"fields\": [\n    {\n      \"column\": \"PressureC1_diff\",\n      \"properties\": {\n        \"dtype\": \"number\",\n        \"std\": 5.363855071106938,\n        \"min\": -29.8827,\n        \"max\": 38.14160000000001,\n        \"num_unique_values\": 230,\n        \"samples\": [\n          1.5603000000000122,\n          0.2546000000000106,\n          0.034700000000015\n        ],\n        \"semantic_type\": \"\",\n        \"description\": \"\"\n      }\n    },\n    {\n      \"column\": \"FlowC1\",\n      \"properties\": {\n        \"dtype\": \"number\",\n        \"std\": 83.15947312147954,\n        \"min\": 181.798024,\n        \"max\": 493.493212,\n        \"num_unique_values\": 249,\n        \"samples\": [\n          411.9007,\n          493.493212,\n          216.8331\n        ],\n        \"semantic_type\": \"\",\n        \"description\": \"\"\n      }\n    },\n    {\n      \"column\": \"Temp1\",\n      \"properties\": {\n        \"dtype\": \"number\",\n        \"std\": 11.921749338605228,\n        \"min\": 113.9631,\n        \"max\": 164.12032,\n        \"num_unique_values\": 246,\n        \"samples\": [\n          135.0188,\n          120.8903,\n          134.0731\n        ],\n        \"semantic_type\": \"\",\n        \"description\": \"\"\n      }\n    },\n    {\n      \"column\": \"Yield\",\n      \"properties\": {\n        \"dtype\": \"number\",\n        \"std\": 1.3458767417516304,\n        \"min\": 65.20380122,\n        \"max\": 73.47196291,\n        \"num_unique_values\": 253,\n        \"samples\": [\n          69.47875431,\n          69.16105249,\n          68.97093693\n        ],\n        \"semantic_type\": \"\",\n        \"description\": \"\"\n      }\n    }\n  ]\n}",
              "type": "dataframe",
              "variable_name": "df"
            },
            "text/html": [
              "\n",
              "  <div id=\"df-99200dba-2b25-40ee-a908-eedd06c8040c\" class=\"colab-df-container\">\n",
              "    <div>\n",
              "<style scoped>\n",
              "    .dataframe tbody tr th:only-of-type {\n",
              "        vertical-align: middle;\n",
              "    }\n",
              "\n",
              "    .dataframe tbody tr th {\n",
              "        vertical-align: top;\n",
              "    }\n",
              "\n",
              "    .dataframe thead th {\n",
              "        text-align: right;\n",
              "    }\n",
              "</style>\n",
              "<table border=\"1\" class=\"dataframe\">\n",
              "  <thead>\n",
              "    <tr style=\"text-align: right;\">\n",
              "      <th></th>\n",
              "      <th>PressureC1_diff</th>\n",
              "      <th>FlowC1</th>\n",
              "      <th>Temp1</th>\n",
              "      <th>Yield</th>\n",
              "    </tr>\n",
              "  </thead>\n",
              "  <tbody>\n",
              "    <tr>\n",
              "      <th>0</th>\n",
              "      <td>0.0000</td>\n",
              "      <td>432.0636</td>\n",
              "      <td>139.9857</td>\n",
              "      <td>69.400623</td>\n",
              "    </tr>\n",
              "    <tr>\n",
              "      <th>1</th>\n",
              "      <td>-9.9628</td>\n",
              "      <td>487.4029</td>\n",
              "      <td>131.0470</td>\n",
              "      <td>66.532666</td>\n",
              "    </tr>\n",
              "    <tr>\n",
              "      <th>2</th>\n",
              "      <td>-0.0695</td>\n",
              "      <td>437.3516</td>\n",
              "      <td>118.2666</td>\n",
              "      <td>71.102193</td>\n",
              "    </tr>\n",
              "    <tr>\n",
              "      <th>3</th>\n",
              "      <td>0.2257</td>\n",
              "      <td>481.8314</td>\n",
              "      <td>118.1769</td>\n",
              "      <td>69.793481</td>\n",
              "    </tr>\n",
              "    <tr>\n",
              "      <th>4</th>\n",
              "      <td>-0.1678</td>\n",
              "      <td>412.6471</td>\n",
              "      <td>120.7891</td>\n",
              "      <td>71.489516</td>\n",
              "    </tr>\n",
              "  </tbody>\n",
              "</table>\n",
              "</div>\n",
              "    <div class=\"colab-df-buttons\">\n",
              "\n",
              "  <div class=\"colab-df-container\">\n",
              "    <button class=\"colab-df-convert\" onclick=\"convertToInteractive('df-99200dba-2b25-40ee-a908-eedd06c8040c')\"\n",
              "            title=\"Convert this dataframe to an interactive table.\"\n",
              "            style=\"display:none;\">\n",
              "\n",
              "  <svg xmlns=\"http://www.w3.org/2000/svg\" height=\"24px\" viewBox=\"0 -960 960 960\">\n",
              "    <path d=\"M120-120v-720h720v720H120Zm60-500h600v-160H180v160Zm220 220h160v-160H400v160Zm0 220h160v-160H400v160ZM180-400h160v-160H180v160Zm440 0h160v-160H620v160ZM180-180h160v-160H180v160Zm440 0h160v-160H620v160Z\"/>\n",
              "  </svg>\n",
              "    </button>\n",
              "\n",
              "  <style>\n",
              "    .colab-df-container {\n",
              "      display:flex;\n",
              "      gap: 12px;\n",
              "    }\n",
              "\n",
              "    .colab-df-convert {\n",
              "      background-color: #E8F0FE;\n",
              "      border: none;\n",
              "      border-radius: 50%;\n",
              "      cursor: pointer;\n",
              "      display: none;\n",
              "      fill: #1967D2;\n",
              "      height: 32px;\n",
              "      padding: 0 0 0 0;\n",
              "      width: 32px;\n",
              "    }\n",
              "\n",
              "    .colab-df-convert:hover {\n",
              "      background-color: #E2EBFA;\n",
              "      box-shadow: 0px 1px 2px rgba(60, 64, 67, 0.3), 0px 1px 3px 1px rgba(60, 64, 67, 0.15);\n",
              "      fill: #174EA6;\n",
              "    }\n",
              "\n",
              "    .colab-df-buttons div {\n",
              "      margin-bottom: 4px;\n",
              "    }\n",
              "\n",
              "    [theme=dark] .colab-df-convert {\n",
              "      background-color: #3B4455;\n",
              "      fill: #D2E3FC;\n",
              "    }\n",
              "\n",
              "    [theme=dark] .colab-df-convert:hover {\n",
              "      background-color: #434B5C;\n",
              "      box-shadow: 0px 1px 3px 1px rgba(0, 0, 0, 0.15);\n",
              "      filter: drop-shadow(0px 1px 2px rgba(0, 0, 0, 0.3));\n",
              "      fill: #FFFFFF;\n",
              "    }\n",
              "  </style>\n",
              "\n",
              "    <script>\n",
              "      const buttonEl =\n",
              "        document.querySelector('#df-99200dba-2b25-40ee-a908-eedd06c8040c button.colab-df-convert');\n",
              "      buttonEl.style.display =\n",
              "        google.colab.kernel.accessAllowed ? 'block' : 'none';\n",
              "\n",
              "      async function convertToInteractive(key) {\n",
              "        const element = document.querySelector('#df-99200dba-2b25-40ee-a908-eedd06c8040c');\n",
              "        const dataTable =\n",
              "          await google.colab.kernel.invokeFunction('convertToInteractive',\n",
              "                                                    [key], {});\n",
              "        if (!dataTable) return;\n",
              "\n",
              "        const docLinkHtml = 'Like what you see? Visit the ' +\n",
              "          '<a target=\"_blank\" href=https://colab.research.google.com/notebooks/data_table.ipynb>data table notebook</a>'\n",
              "          + ' to learn more about interactive tables.';\n",
              "        element.innerHTML = '';\n",
              "        dataTable['output_type'] = 'display_data';\n",
              "        await google.colab.output.renderOutput(dataTable, element);\n",
              "        const docLink = document.createElement('div');\n",
              "        docLink.innerHTML = docLinkHtml;\n",
              "        element.appendChild(docLink);\n",
              "      }\n",
              "    </script>\n",
              "  </div>\n",
              "\n",
              "\n",
              "    <div id=\"df-5398c320-c522-4292-9c04-2f201e589672\">\n",
              "      <button class=\"colab-df-quickchart\" onclick=\"quickchart('df-5398c320-c522-4292-9c04-2f201e589672')\"\n",
              "                title=\"Suggest charts\"\n",
              "                style=\"display:none;\">\n",
              "\n",
              "<svg xmlns=\"http://www.w3.org/2000/svg\" height=\"24px\"viewBox=\"0 0 24 24\"\n",
              "     width=\"24px\">\n",
              "    <g>\n",
              "        <path d=\"M19 3H5c-1.1 0-2 .9-2 2v14c0 1.1.9 2 2 2h14c1.1 0 2-.9 2-2V5c0-1.1-.9-2-2-2zM9 17H7v-7h2v7zm4 0h-2V7h2v10zm4 0h-2v-4h2v4z\"/>\n",
              "    </g>\n",
              "</svg>\n",
              "      </button>\n",
              "\n",
              "<style>\n",
              "  .colab-df-quickchart {\n",
              "      --bg-color: #E8F0FE;\n",
              "      --fill-color: #1967D2;\n",
              "      --hover-bg-color: #E2EBFA;\n",
              "      --hover-fill-color: #174EA6;\n",
              "      --disabled-fill-color: #AAA;\n",
              "      --disabled-bg-color: #DDD;\n",
              "  }\n",
              "\n",
              "  [theme=dark] .colab-df-quickchart {\n",
              "      --bg-color: #3B4455;\n",
              "      --fill-color: #D2E3FC;\n",
              "      --hover-bg-color: #434B5C;\n",
              "      --hover-fill-color: #FFFFFF;\n",
              "      --disabled-bg-color: #3B4455;\n",
              "      --disabled-fill-color: #666;\n",
              "  }\n",
              "\n",
              "  .colab-df-quickchart {\n",
              "    background-color: var(--bg-color);\n",
              "    border: none;\n",
              "    border-radius: 50%;\n",
              "    cursor: pointer;\n",
              "    display: none;\n",
              "    fill: var(--fill-color);\n",
              "    height: 32px;\n",
              "    padding: 0;\n",
              "    width: 32px;\n",
              "  }\n",
              "\n",
              "  .colab-df-quickchart:hover {\n",
              "    background-color: var(--hover-bg-color);\n",
              "    box-shadow: 0 1px 2px rgba(60, 64, 67, 0.3), 0 1px 3px 1px rgba(60, 64, 67, 0.15);\n",
              "    fill: var(--button-hover-fill-color);\n",
              "  }\n",
              "\n",
              "  .colab-df-quickchart-complete:disabled,\n",
              "  .colab-df-quickchart-complete:disabled:hover {\n",
              "    background-color: var(--disabled-bg-color);\n",
              "    fill: var(--disabled-fill-color);\n",
              "    box-shadow: none;\n",
              "  }\n",
              "\n",
              "  .colab-df-spinner {\n",
              "    border: 2px solid var(--fill-color);\n",
              "    border-color: transparent;\n",
              "    border-bottom-color: var(--fill-color);\n",
              "    animation:\n",
              "      spin 1s steps(1) infinite;\n",
              "  }\n",
              "\n",
              "  @keyframes spin {\n",
              "    0% {\n",
              "      border-color: transparent;\n",
              "      border-bottom-color: var(--fill-color);\n",
              "      border-left-color: var(--fill-color);\n",
              "    }\n",
              "    20% {\n",
              "      border-color: transparent;\n",
              "      border-left-color: var(--fill-color);\n",
              "      border-top-color: var(--fill-color);\n",
              "    }\n",
              "    30% {\n",
              "      border-color: transparent;\n",
              "      border-left-color: var(--fill-color);\n",
              "      border-top-color: var(--fill-color);\n",
              "      border-right-color: var(--fill-color);\n",
              "    }\n",
              "    40% {\n",
              "      border-color: transparent;\n",
              "      border-right-color: var(--fill-color);\n",
              "      border-top-color: var(--fill-color);\n",
              "    }\n",
              "    60% {\n",
              "      border-color: transparent;\n",
              "      border-right-color: var(--fill-color);\n",
              "    }\n",
              "    80% {\n",
              "      border-color: transparent;\n",
              "      border-right-color: var(--fill-color);\n",
              "      border-bottom-color: var(--fill-color);\n",
              "    }\n",
              "    90% {\n",
              "      border-color: transparent;\n",
              "      border-bottom-color: var(--fill-color);\n",
              "    }\n",
              "  }\n",
              "</style>\n",
              "\n",
              "      <script>\n",
              "        async function quickchart(key) {\n",
              "          const quickchartButtonEl =\n",
              "            document.querySelector('#' + key + ' button');\n",
              "          quickchartButtonEl.disabled = true;  // To prevent multiple clicks.\n",
              "          quickchartButtonEl.classList.add('colab-df-spinner');\n",
              "          try {\n",
              "            const charts = await google.colab.kernel.invokeFunction(\n",
              "                'suggestCharts', [key], {});\n",
              "          } catch (error) {\n",
              "            console.error('Error during call to suggestCharts:', error);\n",
              "          }\n",
              "          quickchartButtonEl.classList.remove('colab-df-spinner');\n",
              "          quickchartButtonEl.classList.add('colab-df-quickchart-complete');\n",
              "        }\n",
              "        (() => {\n",
              "          let quickchartButtonEl =\n",
              "            document.querySelector('#df-5398c320-c522-4292-9c04-2f201e589672 button');\n",
              "          quickchartButtonEl.style.display =\n",
              "            google.colab.kernel.accessAllowed ? 'block' : 'none';\n",
              "        })();\n",
              "      </script>\n",
              "    </div>\n",
              "\n",
              "    </div>\n",
              "  </div>\n"
            ],
            "text/plain": [
              "   PressureC1_diff    FlowC1     Temp1      Yield\n",
              "0           0.0000  432.0636  139.9857  69.400623\n",
              "1          -9.9628  487.4029  131.0470  66.532666\n",
              "2          -0.0695  437.3516  118.2666  71.102193\n",
              "3           0.2257  481.8314  118.1769  69.793481\n",
              "4          -0.1678  412.6471  120.7891  71.489516"
            ]
          },
          "execution_count": 14,
          "metadata": {},
          "output_type": "execute_result"
        }
      ],
      "source": [
        "import pandas as pd\n",
        "\n",
        "# Read the CSV file into a DataFrame\n",
        "df = pd.read_csv(\"transformed_data.csv\")\n",
        "\n",
        "# Display the first few rows to confirm it loaded correctly\n",
        "df.head()"
      ]
    },
    {
      "cell_type": "code",
      "execution_count": 15,
      "id": "4622d4db",
      "metadata": {
        "id": "4622d4db"
      },
      "outputs": [],
      "source": [
        "# Define features (X) and target variable (y)\n",
        "X = df.drop('Yield', axis=1)  # Features (all columns except 'Job Offer')\n",
        "y = df['Yield']  # Target variable"
      ]
    },
    {
      "cell_type": "code",
      "execution_count": 16,
      "id": "0000b366",
      "metadata": {
        "colab": {
          "base_uri": "https://localhost:8080/"
        },
        "id": "0000b366",
        "outputId": "0bfbe3cc-1c7d-49de-f66b-9ca426363236"
      },
      "outputs": [
        {
          "name": "stdout",
          "output_type": "stream",
          "text": [
            "Training data shape: (202, 3)\n",
            "Testing data shape: (51, 3)\n"
          ]
        }
      ],
      "source": [
        "from sklearn.model_selection import train_test_split\n",
        "# Split the data into training and testing sets\n",
        "X_train, X_test, y_train, y_test = train_test_split(X, y, test_size=0.2, random_state=42)\n",
        "# Check the shape of the data\n",
        "print(f\"Training data shape: {X_train.shape}\")\n",
        "print(f\"Testing data shape: {X_test.shape}\")"
      ]
    },
    {
      "cell_type": "code",
      "execution_count": 17,
      "id": "eea16c3d",
      "metadata": {
        "id": "eea16c3d"
      },
      "outputs": [],
      "source": [
        "def get_metrics(y_true, y_pred):\n",
        "\n",
        "    dict_metrics = {\n",
        "        'MSE': mean_squared_error(y_true, y_pred),\n",
        "        'MAE': mean_absolute_error(y_true, y_pred),\n",
        "        'R2 Score': r2_score(y_true, y_pred),\n",
        "\n",
        "    }\n",
        "    return dict_metrics"
      ]
    },
    {
      "cell_type": "code",
      "execution_count": 18,
      "id": "497a4f0e",
      "metadata": {
        "colab": {
          "base_uri": "https://localhost:8080/"
        },
        "id": "497a4f0e",
        "outputId": "fedf63f1-6a91-417e-b9cd-f50bc4346800"
      },
      "outputs": [
        {
          "data": {
            "text/plain": [
              "{'MSE': 0.5588840302677203,\n",
              " 'MAE': 0.5822903208509888,\n",
              " 'R2 Score': 0.7260009601685249}"
            ]
          },
          "execution_count": 18,
          "metadata": {},
          "output_type": "execute_result"
        }
      ],
      "source": [
        "# Creating pipeline with Random Forest\n",
        "pip_model_rf = Pipeline(steps=[\n",
        "    ('model', RandomForestRegressor(random_state=2023))\n",
        "])\n",
        "\n",
        "# Fit pipeline with PCA\n",
        "pip_model_rf.fit(X_train, y_train)\n",
        "\n",
        "# Generate Predictions using the correctly fitted pipeline\n",
        "y_pred = pip_model_rf.predict(X_test)\n",
        "\n",
        "# Evaluate Metrics\n",
        "metrics = get_metrics(y_test, y_pred)\n",
        "\n",
        "# View Results\n",
        "metrics"
      ]
    },
    {
      "cell_type": "code",
      "execution_count": 19,
      "id": "e62f28d8",
      "metadata": {
        "colab": {
          "base_uri": "https://localhost:8080/"
        },
        "collapsed": true,
        "id": "e62f28d8",
        "outputId": "fea4ac87-e584-414f-ed0e-8ba7998c2f4d"
      },
      "outputs": [
        {
          "name": "stderr",
          "output_type": "stream",
          "text": [
            "[I 2025-07-07 13:54:16,812] A new study created in memory with name: no-name-87f62cb2-3c4a-45d8-8904-f639321da9b3\n",
            "[I 2025-07-07 13:54:17,440] Trial 0 finished with value: 0.8520682015286412 and parameters: {'n_estimators': 159, 'max_depth': 18, 'min_samples_split': 19, 'min_samples_leaf': 6}. Best is trial 0 with value: 0.8520682015286412.\n",
            "[I 2025-07-07 13:54:17,564] Trial 1 finished with value: 1.0190996928209672 and parameters: {'n_estimators': 80, 'max_depth': 37, 'min_samples_split': 7, 'min_samples_leaf': 10}. Best is trial 0 with value: 0.8520682015286412.\n",
            "[I 2025-07-07 13:54:17,659] Trial 2 finished with value: 0.645820019699594 and parameters: {'n_estimators': 53, 'max_depth': 11, 'min_samples_split': 8, 'min_samples_leaf': 2}. Best is trial 2 with value: 0.645820019699594.\n",
            "[I 2025-07-07 13:54:17,790] Trial 3 finished with value: 0.737174861150199 and parameters: {'n_estimators': 76, 'max_depth': 33, 'min_samples_split': 8, 'min_samples_leaf': 4}. Best is trial 2 with value: 0.645820019699594.\n",
            "[I 2025-07-07 13:54:17,914] Trial 4 finished with value: 1.0208869868428685 and parameters: {'n_estimators': 62, 'max_depth': 29, 'min_samples_split': 5, 'min_samples_leaf': 10}. Best is trial 2 with value: 0.645820019699594.\n",
            "[I 2025-07-07 13:54:18,366] Trial 5 finished with value: 0.9235594351297459 and parameters: {'n_estimators': 298, 'max_depth': 32, 'min_samples_split': 6, 'min_samples_leaf': 8}. Best is trial 2 with value: 0.645820019699594.\n",
            "[I 2025-07-07 13:54:18,520] Trial 6 finished with value: 0.71127479554061 and parameters: {'n_estimators': 89, 'max_depth': 20, 'min_samples_split': 14, 'min_samples_leaf': 2}. Best is trial 2 with value: 0.645820019699594.\n",
            "[I 2025-07-07 13:54:18,859] Trial 7 finished with value: 0.8409047331504302 and parameters: {'n_estimators': 209, 'max_depth': 34, 'min_samples_split': 17, 'min_samples_leaf': 6}. Best is trial 2 with value: 0.645820019699594.\n",
            "[I 2025-07-07 13:54:19,210] Trial 8 finished with value: 0.7364158860708989 and parameters: {'n_estimators': 212, 'max_depth': 21, 'min_samples_split': 13, 'min_samples_leaf': 4}. Best is trial 2 with value: 0.645820019699594.\n",
            "[I 2025-07-07 13:54:19,468] Trial 9 finished with value: 0.8160497729489498 and parameters: {'n_estimators': 160, 'max_depth': 18, 'min_samples_split': 5, 'min_samples_leaf': 6}. Best is trial 2 with value: 0.645820019699594.\n",
            "[I 2025-07-07 13:54:19,711] Trial 10 finished with value: 0.6856498748526905 and parameters: {'n_estimators': 137, 'max_depth': 5, 'min_samples_split': 2, 'min_samples_leaf': 1}. Best is trial 2 with value: 0.645820019699594.\n",
            "[I 2025-07-07 13:54:19,953] Trial 11 finished with value: 0.7530261521257589 and parameters: {'n_estimators': 128, 'max_depth': 5, 'min_samples_split': 11, 'min_samples_leaf': 1}. Best is trial 2 with value: 0.645820019699594.\n",
            "[I 2025-07-07 13:54:20,186] Trial 12 finished with value: 0.6191608992252814 and parameters: {'n_estimators': 122, 'max_depth': 6, 'min_samples_split': 2, 'min_samples_leaf': 1}. Best is trial 12 with value: 0.6191608992252814.\n",
            "[I 2025-07-07 13:54:20,406] Trial 13 finished with value: 0.6647805538925268 and parameters: {'n_estimators': 112, 'max_depth': 49, 'min_samples_split': 2, 'min_samples_leaf': 3}. Best is trial 12 with value: 0.6191608992252814.\n",
            "[I 2025-07-07 13:54:20,532] Trial 14 finished with value: 0.6727553055378664 and parameters: {'n_estimators': 55, 'max_depth': 11, 'min_samples_split': 9, 'min_samples_leaf': 3}. Best is trial 12 with value: 0.6191608992252814.\n",
            "[I 2025-07-07 13:54:20,919] Trial 15 finished with value: 0.5465760955928589 and parameters: {'n_estimators': 199, 'max_depth': 12, 'min_samples_split': 3, 'min_samples_leaf': 1}. Best is trial 15 with value: 0.5465760955928589.\n",
            "[I 2025-07-07 13:54:21,346] Trial 16 finished with value: 0.5439775926701189 and parameters: {'n_estimators': 218, 'max_depth': 11, 'min_samples_split': 3, 'min_samples_leaf': 1}. Best is trial 16 with value: 0.5439775926701189.\n",
            "[I 2025-07-07 13:54:21,752] Trial 17 finished with value: 0.695286231872847 and parameters: {'n_estimators': 245, 'max_depth': 13, 'min_samples_split': 4, 'min_samples_leaf': 4}. Best is trial 16 with value: 0.5439775926701189.\n",
            "[I 2025-07-07 13:54:23,053] Trial 18 finished with value: 0.9231970534992334 and parameters: {'n_estimators': 206, 'max_depth': 25, 'min_samples_split': 10, 'min_samples_leaf': 8}. Best is trial 16 with value: 0.5439775926701189.\n",
            "[I 2025-07-07 13:54:25,161] Trial 19 finished with value: 0.5688821829710393 and parameters: {'n_estimators': 252, 'max_depth': 42, 'min_samples_split': 4, 'min_samples_leaf': 2}. Best is trial 16 with value: 0.5439775926701189.\n",
            "[I 2025-07-07 13:54:26,414] Trial 20 finished with value: 0.7658424007701004 and parameters: {'n_estimators': 245, 'max_depth': 14, 'min_samples_split': 12, 'min_samples_leaf': 5}. Best is trial 16 with value: 0.5439775926701189.\n",
            "[I 2025-07-07 13:54:27,470] Trial 21 finished with value: 0.5685923086740466 and parameters: {'n_estimators': 258, 'max_depth': 47, 'min_samples_split': 4, 'min_samples_leaf': 2}. Best is trial 16 with value: 0.5439775926701189.\n",
            "[I 2025-07-07 13:54:28,607] Trial 22 finished with value: 0.5418648912335524 and parameters: {'n_estimators': 277, 'max_depth': 41, 'min_samples_split': 4, 'min_samples_leaf': 1}. Best is trial 22 with value: 0.5418648912335524.\n",
            "[I 2025-07-07 13:54:29,367] Trial 23 finished with value: 0.5378536099916119 and parameters: {'n_estimators': 298, 'max_depth': 41, 'min_samples_split': 3, 'min_samples_leaf': 1}. Best is trial 23 with value: 0.5378536099916119.\n",
            "[I 2025-07-07 13:54:29,895] Trial 24 finished with value: 0.6363522213976349 and parameters: {'n_estimators': 297, 'max_depth': 40, 'min_samples_split': 6, 'min_samples_leaf': 3}. Best is trial 23 with value: 0.5378536099916119.\n",
            "[I 2025-07-07 13:54:30,409] Trial 25 finished with value: 0.5623121278004115 and parameters: {'n_estimators': 275, 'max_depth': 44, 'min_samples_split': 6, 'min_samples_leaf': 1}. Best is trial 23 with value: 0.5378536099916119.\n",
            "[I 2025-07-07 13:54:30,891] Trial 26 finished with value: 0.5699814070249443 and parameters: {'n_estimators': 272, 'max_depth': 38, 'min_samples_split': 3, 'min_samples_leaf': 2}. Best is trial 23 with value: 0.5378536099916119.\n",
            "[I 2025-07-07 13:54:31,290] Trial 27 finished with value: 0.7304204708481737 and parameters: {'n_estimators': 233, 'max_depth': 26, 'min_samples_split': 16, 'min_samples_leaf': 3}. Best is trial 23 with value: 0.5378536099916119.\n",
            "[I 2025-07-07 13:54:31,856] Trial 28 finished with value: 0.5805526204175421 and parameters: {'n_estimators': 280, 'max_depth': 45, 'min_samples_split': 7, 'min_samples_leaf': 1}. Best is trial 23 with value: 0.5378536099916119.\n",
            "[I 2025-07-07 13:54:32,209] Trial 29 finished with value: 0.8757282279617357 and parameters: {'n_estimators': 184, 'max_depth': 36, 'min_samples_split': 3, 'min_samples_leaf': 7}. Best is trial 23 with value: 0.5378536099916119.\n",
            "[I 2025-07-07 13:54:32,634] Trial 30 finished with value: 0.754291451704538 and parameters: {'n_estimators': 228, 'max_depth': 41, 'min_samples_split': 5, 'min_samples_leaf': 5}. Best is trial 23 with value: 0.5378536099916119.\n",
            "[I 2025-07-07 13:54:33,024] Trial 31 finished with value: 0.549851024475876 and parameters: {'n_estimators': 194, 'max_depth': 16, 'min_samples_split': 3, 'min_samples_leaf': 1}. Best is trial 23 with value: 0.5378536099916119.\n",
            "[I 2025-07-07 13:54:33,345] Trial 32 finished with value: 0.5959666722292102 and parameters: {'n_estimators': 169, 'max_depth': 9, 'min_samples_split': 2, 'min_samples_leaf': 2}. Best is trial 23 with value: 0.5378536099916119.\n",
            "[I 2025-07-07 13:54:33,790] Trial 33 finished with value: 0.7240437876124368 and parameters: {'n_estimators': 228, 'max_depth': 29, 'min_samples_split': 20, 'min_samples_leaf': 1}. Best is trial 23 with value: 0.5378536099916119.\n",
            "[I 2025-07-07 13:54:34,332] Trial 34 finished with value: 0.6046609880979709 and parameters: {'n_estimators': 286, 'max_depth': 22, 'min_samples_split': 8, 'min_samples_leaf': 2}. Best is trial 23 with value: 0.5378536099916119.\n",
            "[I 2025-07-07 13:54:34,830] Trial 35 finished with value: 0.6402505290971016 and parameters: {'n_estimators': 262, 'max_depth': 9, 'min_samples_split': 4, 'min_samples_leaf': 3}. Best is trial 23 with value: 0.5378536099916119.\n",
            "[I 2025-07-07 13:54:35,110] Trial 36 finished with value: 0.9656861533163702 and parameters: {'n_estimators': 150, 'max_depth': 50, 'min_samples_split': 7, 'min_samples_leaf': 9}. Best is trial 23 with value: 0.5378536099916119.\n",
            "[I 2025-07-07 13:54:35,675] Trial 37 finished with value: 0.571796950219291 and parameters: {'n_estimators': 187, 'max_depth': 38, 'min_samples_split': 5, 'min_samples_leaf': 1}. Best is trial 23 with value: 0.5378536099916119.\n",
            "[I 2025-07-07 13:54:36,648] Trial 38 finished with value: 0.5655406109329312 and parameters: {'n_estimators': 298, 'max_depth': 33, 'min_samples_split': 3, 'min_samples_leaf': 2}. Best is trial 23 with value: 0.5378536099916119.\n",
            "[I 2025-07-07 13:54:37,418] Trial 39 finished with value: 0.6967470494881219 and parameters: {'n_estimators': 223, 'max_depth': 16, 'min_samples_split': 6, 'min_samples_leaf': 4}. Best is trial 23 with value: 0.5378536099916119.\n",
            "[I 2025-07-07 13:54:38,092] Trial 40 finished with value: 0.6108689766909623 and parameters: {'n_estimators': 201, 'max_depth': 8, 'min_samples_split': 8, 'min_samples_leaf': 1}. Best is trial 23 with value: 0.5378536099916119.\n",
            "[I 2025-07-07 13:54:38,582] Trial 41 finished with value: 0.549851024475876 and parameters: {'n_estimators': 194, 'max_depth': 16, 'min_samples_split': 3, 'min_samples_leaf': 1}. Best is trial 23 with value: 0.5378536099916119.\n",
            "[I 2025-07-07 13:54:38,927] Trial 42 finished with value: 0.5941572257957762 and parameters: {'n_estimators': 174, 'max_depth': 13, 'min_samples_split': 3, 'min_samples_leaf': 2}. Best is trial 23 with value: 0.5378536099916119.\n",
            "[I 2025-07-07 13:54:39,357] Trial 43 finished with value: 0.5622100467380633 and parameters: {'n_estimators': 215, 'max_depth': 17, 'min_samples_split': 5, 'min_samples_leaf': 1}. Best is trial 23 with value: 0.5378536099916119.\n",
            "[I 2025-07-07 13:54:39,656] Trial 44 finished with value: 0.5945029775830024 and parameters: {'n_estimators': 158, 'max_depth': 19, 'min_samples_split': 2, 'min_samples_leaf': 2}. Best is trial 23 with value: 0.5378536099916119.\n",
            "[I 2025-07-07 13:54:40,158] Trial 45 finished with value: 0.541879096422586 and parameters: {'n_estimators': 266, 'max_depth': 23, 'min_samples_split': 4, 'min_samples_leaf': 1}. Best is trial 23 with value: 0.5378536099916119.\n",
            "[I 2025-07-07 13:54:40,689] Trial 46 finished with value: 0.5662280883519121 and parameters: {'n_estimators': 287, 'max_depth': 24, 'min_samples_split': 4, 'min_samples_leaf': 2}. Best is trial 23 with value: 0.5378536099916119.\n",
            "[I 2025-07-07 13:54:41,147] Trial 47 finished with value: 0.6399683646220633 and parameters: {'n_estimators': 267, 'max_depth': 30, 'min_samples_split': 6, 'min_samples_leaf': 3}. Best is trial 23 with value: 0.5378536099916119.\n",
            "[I 2025-07-07 13:54:41,597] Trial 48 finished with value: 0.5795733867768823 and parameters: {'n_estimators': 242, 'max_depth': 36, 'min_samples_split': 7, 'min_samples_leaf': 1}. Best is trial 23 with value: 0.5378536099916119.\n",
            "[I 2025-07-07 13:54:42,084] Trial 49 finished with value: 0.6945271801019747 and parameters: {'n_estimators': 288, 'max_depth': 31, 'min_samples_split': 2, 'min_samples_leaf': 4}. Best is trial 23 with value: 0.5378536099916119.\n"
          ]
        },
        {
          "name": "stdout",
          "output_type": "stream",
          "text": [
            "Best Parameters: {'n_estimators': 298, 'max_depth': 41, 'min_samples_split': 3, 'min_samples_leaf': 1}\n"
          ]
        }
      ],
      "source": [
        "#Hyperparameters optimization with Optuna\n",
        "\n",
        "# Define the objective function for Optuna\n",
        "def objective(trial):\n",
        "    # Suggest hyperparameters\n",
        "    n_estimators = trial.suggest_int('n_estimators', 50, 300)\n",
        "    max_depth = trial.suggest_int('max_depth', 5, 50)\n",
        "    min_samples_split = trial.suggest_int('min_samples_split', 2, 20)\n",
        "    min_samples_leaf = trial.suggest_int('min_samples_leaf', 1, 10)\n",
        "\n",
        "    # Create a pipeline with the suggested hyperparameters\n",
        "    pip_model_rf = Pipeline(steps=[\n",
        "        ('model', RandomForestRegressor(\n",
        "            n_estimators=n_estimators,\n",
        "            max_depth=max_depth,\n",
        "            min_samples_split=min_samples_split,\n",
        "            min_samples_leaf=min_samples_leaf,\n",
        "            random_state=2023\n",
        "        ))\n",
        "    ])\n",
        "\n",
        "    # Fit the pipeline\n",
        "    pip_model_rf.fit(X_train, y_train)\n",
        "\n",
        "    # Predict on the validation set\n",
        "    y_pred = pip_model_rf.predict(X_test)\n",
        "\n",
        "    # Calculate the mean squared error\n",
        "    mse = mean_squared_error(y_test, y_pred)\n",
        "    return mse\n",
        "\n",
        "# Create an Optuna study\n",
        "study = optuna.create_study(direction='minimize')  # Minimize MSE\n",
        "study.optimize(objective, n_trials=50)  # Run 50 trials\n",
        "\n",
        "# Get the best hyperparameters\n",
        "best_params = study.best_params\n",
        "print(\"Best Parameters:\", best_params)\n"
      ]
    },
    {
      "cell_type": "code",
      "execution_count": 21,
      "id": "9c6fc6e5",
      "metadata": {
        "colab": {
          "base_uri": "https://localhost:8080/"
        },
        "id": "9c6fc6e5",
        "outputId": "f2f957ce-5f66-4dc8-abc9-a50d72c8b0b4"
      },
      "outputs": [
        {
          "name": "stdout",
          "output_type": "stream",
          "text": [
            "Model Metrics:\n",
            "MSE: 0.5378536099916119\n",
            "MAE: 0.5706347047702236\n",
            "R2 Score: 0.7363113549030922\n",
            "\n",
            "Best Parameters:\n",
            "n_estimators: 298\n",
            "max_depth: 41\n",
            "min_samples_split: 3\n",
            "min_samples_leaf: 1\n"
          ]
        }
      ],
      "source": [
        "# Train the final model\n",
        "final_model = RandomForestRegressor(\n",
        "    n_estimators=best_params['n_estimators'],\n",
        "    max_depth=best_params['max_depth'],\n",
        "    min_samples_split=best_params['min_samples_split'],\n",
        "    min_samples_leaf=best_params['min_samples_leaf'],\n",
        "    random_state=2023\n",
        ")\n",
        "final_model.fit(X_train, y_train)\n",
        "\n",
        "# Log metrics\n",
        "y_pred = final_model.predict(X_test)\n",
        "metrics = get_metrics(y_test, y_pred)\n",
        "\n",
        "# Print metrics\n",
        "print(\"Model Metrics:\")\n",
        "for metric, value in metrics.items():\n",
        "    print(f\"{metric}: {value}\")\n",
        "\n",
        "# Print best parameters\n",
        "print(\"\\nBest Parameters:\")\n",
        "for param, value in best_params.items():\n",
        "    print(f\"{param}: {value}\")\n"
      ]
    },
    {
      "cell_type": "code",
      "execution_count": 22,
      "id": "adff19ec",
      "metadata": {
        "colab": {
          "base_uri": "https://localhost:8080/",
          "height": 542
        },
        "id": "adff19ec",
        "outputId": "9b29b5e6-33d3-4b2b-e132-4eb9ae239712"
      },
      "outputs": [
        {
          "data": {
            "text/html": [
              "<html>\n",
              "<head><meta charset=\"utf-8\" /></head>\n",
              "<body>\n",
              "    <div>            <script src=\"https://cdnjs.cloudflare.com/ajax/libs/mathjax/2.7.5/MathJax.js?config=TeX-AMS-MML_SVG\"></script><script type=\"text/javascript\">if (window.MathJax && window.MathJax.Hub && window.MathJax.Hub.Config) {window.MathJax.Hub.Config({SVG: {font: \"STIX-Web\"}});}</script>                <script type=\"text/javascript\">window.PlotlyConfig = {MathJaxConfig: 'local'};</script>\n",
              "        <script charset=\"utf-8\" src=\"https://cdn.plot.ly/plotly-2.35.2.min.js\"></script>                <div id=\"1524a433-ae7b-4789-8c37-d08c98f0e632\" class=\"plotly-graph-div\" style=\"height:525px; width:100%;\"></div>            <script type=\"text/javascript\">                                    window.PLOTLYENV=window.PLOTLYENV || {};                                    if (document.getElementById(\"1524a433-ae7b-4789-8c37-d08c98f0e632\")) {                    Plotly.newPlot(                        \"1524a433-ae7b-4789-8c37-d08c98f0e632\",                        [{\"mode\":\"markers\",\"name\":\"Objective Value\",\"x\":[0,1,2,3,4,5,6,7,8,9,10,11,12,13,14,15,16,17,18,19,20,21,22,23,24,25,26,27,28,29,30,31,32,33,34,35,36,37,38,39,40,41,42,43,44,45,46,47,48,49],\"y\":[0.8520682015286412,1.0190996928209672,0.645820019699594,0.737174861150199,1.0208869868428685,0.9235594351297459,0.71127479554061,0.8409047331504302,0.7364158860708989,0.8160497729489498,0.6856498748526905,0.7530261521257589,0.6191608992252814,0.6647805538925268,0.6727553055378664,0.5465760955928589,0.5439775926701189,0.695286231872847,0.9231970534992334,0.5688821829710393,0.7658424007701004,0.5685923086740466,0.5418648912335524,0.5378536099916119,0.6363522213976349,0.5623121278004115,0.5699814070249443,0.7304204708481737,0.5805526204175421,0.8757282279617357,0.754291451704538,0.549851024475876,0.5959666722292102,0.7240437876124368,0.6046609880979709,0.6402505290971016,0.9656861533163702,0.571796950219291,0.5655406109329312,0.6967470494881219,0.6108689766909623,0.549851024475876,0.5941572257957762,0.5622100467380633,0.5945029775830024,0.541879096422586,0.5662280883519121,0.6399683646220633,0.5795733867768823,0.6945271801019747],\"type\":\"scatter\"},{\"mode\":\"lines\",\"name\":\"Best Value\",\"x\":[0,1,2,3,4,5,6,7,8,9,10,11,12,13,14,15,16,17,18,19,20,21,22,23,24,25,26,27,28,29,30,31,32,33,34,35,36,37,38,39,40,41,42,43,44,45,46,47,48,49],\"y\":[0.8520682015286412,0.8520682015286412,0.645820019699594,0.645820019699594,0.645820019699594,0.645820019699594,0.645820019699594,0.645820019699594,0.645820019699594,0.645820019699594,0.645820019699594,0.645820019699594,0.6191608992252814,0.6191608992252814,0.6191608992252814,0.5465760955928589,0.5439775926701189,0.5439775926701189,0.5439775926701189,0.5439775926701189,0.5439775926701189,0.5439775926701189,0.5418648912335524,0.5378536099916119,0.5378536099916119,0.5378536099916119,0.5378536099916119,0.5378536099916119,0.5378536099916119,0.5378536099916119,0.5378536099916119,0.5378536099916119,0.5378536099916119,0.5378536099916119,0.5378536099916119,0.5378536099916119,0.5378536099916119,0.5378536099916119,0.5378536099916119,0.5378536099916119,0.5378536099916119,0.5378536099916119,0.5378536099916119,0.5378536099916119,0.5378536099916119,0.5378536099916119,0.5378536099916119,0.5378536099916119,0.5378536099916119,0.5378536099916119],\"type\":\"scatter\"},{\"marker\":{\"color\":\"#cccccc\"},\"mode\":\"markers\",\"name\":\"Infeasible Trial\",\"showlegend\":false,\"x\":[],\"y\":[],\"type\":\"scatter\"}],                        {\"title\":{\"text\":\"Optimization History Plot\"},\"xaxis\":{\"title\":{\"text\":\"Trial\"}},\"yaxis\":{\"title\":{\"text\":\"Objective Value\"}},\"template\":{\"data\":{\"histogram2dcontour\":[{\"type\":\"histogram2dcontour\",\"colorbar\":{\"outlinewidth\":0,\"ticks\":\"\"},\"colorscale\":[[0.0,\"#0d0887\"],[0.1111111111111111,\"#46039f\"],[0.2222222222222222,\"#7201a8\"],[0.3333333333333333,\"#9c179e\"],[0.4444444444444444,\"#bd3786\"],[0.5555555555555556,\"#d8576b\"],[0.6666666666666666,\"#ed7953\"],[0.7777777777777778,\"#fb9f3a\"],[0.8888888888888888,\"#fdca26\"],[1.0,\"#f0f921\"]]}],\"choropleth\":[{\"type\":\"choropleth\",\"colorbar\":{\"outlinewidth\":0,\"ticks\":\"\"}}],\"histogram2d\":[{\"type\":\"histogram2d\",\"colorbar\":{\"outlinewidth\":0,\"ticks\":\"\"},\"colorscale\":[[0.0,\"#0d0887\"],[0.1111111111111111,\"#46039f\"],[0.2222222222222222,\"#7201a8\"],[0.3333333333333333,\"#9c179e\"],[0.4444444444444444,\"#bd3786\"],[0.5555555555555556,\"#d8576b\"],[0.6666666666666666,\"#ed7953\"],[0.7777777777777778,\"#fb9f3a\"],[0.8888888888888888,\"#fdca26\"],[1.0,\"#f0f921\"]]}],\"heatmap\":[{\"type\":\"heatmap\",\"colorbar\":{\"outlinewidth\":0,\"ticks\":\"\"},\"colorscale\":[[0.0,\"#0d0887\"],[0.1111111111111111,\"#46039f\"],[0.2222222222222222,\"#7201a8\"],[0.3333333333333333,\"#9c179e\"],[0.4444444444444444,\"#bd3786\"],[0.5555555555555556,\"#d8576b\"],[0.6666666666666666,\"#ed7953\"],[0.7777777777777778,\"#fb9f3a\"],[0.8888888888888888,\"#fdca26\"],[1.0,\"#f0f921\"]]}],\"heatmapgl\":[{\"type\":\"heatmapgl\",\"colorbar\":{\"outlinewidth\":0,\"ticks\":\"\"},\"colorscale\":[[0.0,\"#0d0887\"],[0.1111111111111111,\"#46039f\"],[0.2222222222222222,\"#7201a8\"],[0.3333333333333333,\"#9c179e\"],[0.4444444444444444,\"#bd3786\"],[0.5555555555555556,\"#d8576b\"],[0.6666666666666666,\"#ed7953\"],[0.7777777777777778,\"#fb9f3a\"],[0.8888888888888888,\"#fdca26\"],[1.0,\"#f0f921\"]]}],\"contourcarpet\":[{\"type\":\"contourcarpet\",\"colorbar\":{\"outlinewidth\":0,\"ticks\":\"\"}}],\"contour\":[{\"type\":\"contour\",\"colorbar\":{\"outlinewidth\":0,\"ticks\":\"\"},\"colorscale\":[[0.0,\"#0d0887\"],[0.1111111111111111,\"#46039f\"],[0.2222222222222222,\"#7201a8\"],[0.3333333333333333,\"#9c179e\"],[0.4444444444444444,\"#bd3786\"],[0.5555555555555556,\"#d8576b\"],[0.6666666666666666,\"#ed7953\"],[0.7777777777777778,\"#fb9f3a\"],[0.8888888888888888,\"#fdca26\"],[1.0,\"#f0f921\"]]}],\"surface\":[{\"type\":\"surface\",\"colorbar\":{\"outlinewidth\":0,\"ticks\":\"\"},\"colorscale\":[[0.0,\"#0d0887\"],[0.1111111111111111,\"#46039f\"],[0.2222222222222222,\"#7201a8\"],[0.3333333333333333,\"#9c179e\"],[0.4444444444444444,\"#bd3786\"],[0.5555555555555556,\"#d8576b\"],[0.6666666666666666,\"#ed7953\"],[0.7777777777777778,\"#fb9f3a\"],[0.8888888888888888,\"#fdca26\"],[1.0,\"#f0f921\"]]}],\"mesh3d\":[{\"type\":\"mesh3d\",\"colorbar\":{\"outlinewidth\":0,\"ticks\":\"\"}}],\"scatter\":[{\"fillpattern\":{\"fillmode\":\"overlay\",\"size\":10,\"solidity\":0.2},\"type\":\"scatter\"}],\"parcoords\":[{\"type\":\"parcoords\",\"line\":{\"colorbar\":{\"outlinewidth\":0,\"ticks\":\"\"}}}],\"scatterpolargl\":[{\"type\":\"scatterpolargl\",\"marker\":{\"colorbar\":{\"outlinewidth\":0,\"ticks\":\"\"}}}],\"bar\":[{\"error_x\":{\"color\":\"#2a3f5f\"},\"error_y\":{\"color\":\"#2a3f5f\"},\"marker\":{\"line\":{\"color\":\"#E5ECF6\",\"width\":0.5},\"pattern\":{\"fillmode\":\"overlay\",\"size\":10,\"solidity\":0.2}},\"type\":\"bar\"}],\"scattergeo\":[{\"type\":\"scattergeo\",\"marker\":{\"colorbar\":{\"outlinewidth\":0,\"ticks\":\"\"}}}],\"scatterpolar\":[{\"type\":\"scatterpolar\",\"marker\":{\"colorbar\":{\"outlinewidth\":0,\"ticks\":\"\"}}}],\"histogram\":[{\"marker\":{\"pattern\":{\"fillmode\":\"overlay\",\"size\":10,\"solidity\":0.2}},\"type\":\"histogram\"}],\"scattergl\":[{\"type\":\"scattergl\",\"marker\":{\"colorbar\":{\"outlinewidth\":0,\"ticks\":\"\"}}}],\"scatter3d\":[{\"type\":\"scatter3d\",\"line\":{\"colorbar\":{\"outlinewidth\":0,\"ticks\":\"\"}},\"marker\":{\"colorbar\":{\"outlinewidth\":0,\"ticks\":\"\"}}}],\"scattermapbox\":[{\"type\":\"scattermapbox\",\"marker\":{\"colorbar\":{\"outlinewidth\":0,\"ticks\":\"\"}}}],\"scatterternary\":[{\"type\":\"scatterternary\",\"marker\":{\"colorbar\":{\"outlinewidth\":0,\"ticks\":\"\"}}}],\"scattercarpet\":[{\"type\":\"scattercarpet\",\"marker\":{\"colorbar\":{\"outlinewidth\":0,\"ticks\":\"\"}}}],\"carpet\":[{\"aaxis\":{\"endlinecolor\":\"#2a3f5f\",\"gridcolor\":\"white\",\"linecolor\":\"white\",\"minorgridcolor\":\"white\",\"startlinecolor\":\"#2a3f5f\"},\"baxis\":{\"endlinecolor\":\"#2a3f5f\",\"gridcolor\":\"white\",\"linecolor\":\"white\",\"minorgridcolor\":\"white\",\"startlinecolor\":\"#2a3f5f\"},\"type\":\"carpet\"}],\"table\":[{\"cells\":{\"fill\":{\"color\":\"#EBF0F8\"},\"line\":{\"color\":\"white\"}},\"header\":{\"fill\":{\"color\":\"#C8D4E3\"},\"line\":{\"color\":\"white\"}},\"type\":\"table\"}],\"barpolar\":[{\"marker\":{\"line\":{\"color\":\"#E5ECF6\",\"width\":0.5},\"pattern\":{\"fillmode\":\"overlay\",\"size\":10,\"solidity\":0.2}},\"type\":\"barpolar\"}],\"pie\":[{\"automargin\":true,\"type\":\"pie\"}]},\"layout\":{\"autotypenumbers\":\"strict\",\"colorway\":[\"#636efa\",\"#EF553B\",\"#00cc96\",\"#ab63fa\",\"#FFA15A\",\"#19d3f3\",\"#FF6692\",\"#B6E880\",\"#FF97FF\",\"#FECB52\"],\"font\":{\"color\":\"#2a3f5f\"},\"hovermode\":\"closest\",\"hoverlabel\":{\"align\":\"left\"},\"paper_bgcolor\":\"white\",\"plot_bgcolor\":\"#E5ECF6\",\"polar\":{\"bgcolor\":\"#E5ECF6\",\"angularaxis\":{\"gridcolor\":\"white\",\"linecolor\":\"white\",\"ticks\":\"\"},\"radialaxis\":{\"gridcolor\":\"white\",\"linecolor\":\"white\",\"ticks\":\"\"}},\"ternary\":{\"bgcolor\":\"#E5ECF6\",\"aaxis\":{\"gridcolor\":\"white\",\"linecolor\":\"white\",\"ticks\":\"\"},\"baxis\":{\"gridcolor\":\"white\",\"linecolor\":\"white\",\"ticks\":\"\"},\"caxis\":{\"gridcolor\":\"white\",\"linecolor\":\"white\",\"ticks\":\"\"}},\"coloraxis\":{\"colorbar\":{\"outlinewidth\":0,\"ticks\":\"\"}},\"colorscale\":{\"sequential\":[[0.0,\"#0d0887\"],[0.1111111111111111,\"#46039f\"],[0.2222222222222222,\"#7201a8\"],[0.3333333333333333,\"#9c179e\"],[0.4444444444444444,\"#bd3786\"],[0.5555555555555556,\"#d8576b\"],[0.6666666666666666,\"#ed7953\"],[0.7777777777777778,\"#fb9f3a\"],[0.8888888888888888,\"#fdca26\"],[1.0,\"#f0f921\"]],\"sequentialminus\":[[0.0,\"#0d0887\"],[0.1111111111111111,\"#46039f\"],[0.2222222222222222,\"#7201a8\"],[0.3333333333333333,\"#9c179e\"],[0.4444444444444444,\"#bd3786\"],[0.5555555555555556,\"#d8576b\"],[0.6666666666666666,\"#ed7953\"],[0.7777777777777778,\"#fb9f3a\"],[0.8888888888888888,\"#fdca26\"],[1.0,\"#f0f921\"]],\"diverging\":[[0,\"#8e0152\"],[0.1,\"#c51b7d\"],[0.2,\"#de77ae\"],[0.3,\"#f1b6da\"],[0.4,\"#fde0ef\"],[0.5,\"#f7f7f7\"],[0.6,\"#e6f5d0\"],[0.7,\"#b8e186\"],[0.8,\"#7fbc41\"],[0.9,\"#4d9221\"],[1,\"#276419\"]]},\"xaxis\":{\"gridcolor\":\"white\",\"linecolor\":\"white\",\"ticks\":\"\",\"title\":{\"standoff\":15},\"zerolinecolor\":\"white\",\"automargin\":true,\"zerolinewidth\":2},\"yaxis\":{\"gridcolor\":\"white\",\"linecolor\":\"white\",\"ticks\":\"\",\"title\":{\"standoff\":15},\"zerolinecolor\":\"white\",\"automargin\":true,\"zerolinewidth\":2},\"scene\":{\"xaxis\":{\"backgroundcolor\":\"#E5ECF6\",\"gridcolor\":\"white\",\"linecolor\":\"white\",\"showbackground\":true,\"ticks\":\"\",\"zerolinecolor\":\"white\",\"gridwidth\":2},\"yaxis\":{\"backgroundcolor\":\"#E5ECF6\",\"gridcolor\":\"white\",\"linecolor\":\"white\",\"showbackground\":true,\"ticks\":\"\",\"zerolinecolor\":\"white\",\"gridwidth\":2},\"zaxis\":{\"backgroundcolor\":\"#E5ECF6\",\"gridcolor\":\"white\",\"linecolor\":\"white\",\"showbackground\":true,\"ticks\":\"\",\"zerolinecolor\":\"white\",\"gridwidth\":2}},\"shapedefaults\":{\"line\":{\"color\":\"#2a3f5f\"}},\"annotationdefaults\":{\"arrowcolor\":\"#2a3f5f\",\"arrowhead\":0,\"arrowwidth\":1},\"geo\":{\"bgcolor\":\"white\",\"landcolor\":\"#E5ECF6\",\"subunitcolor\":\"white\",\"showland\":true,\"showlakes\":true,\"lakecolor\":\"white\"},\"title\":{\"x\":0.05},\"mapbox\":{\"style\":\"light\"}}}},                        {\"responsive\": true}                    ).then(function(){\n",
              "                            \n",
              "var gd = document.getElementById('1524a433-ae7b-4789-8c37-d08c98f0e632');\n",
              "var x = new MutationObserver(function (mutations, observer) {{\n",
              "        var display = window.getComputedStyle(gd).display;\n",
              "        if (!display || display === 'none') {{\n",
              "            console.log([gd, 'removed!']);\n",
              "            Plotly.purge(gd);\n",
              "            observer.disconnect();\n",
              "        }}\n",
              "}});\n",
              "\n",
              "// Listen for the removal of the full notebook cells\n",
              "var notebookContainer = gd.closest('#notebook-container');\n",
              "if (notebookContainer) {{\n",
              "    x.observe(notebookContainer, {childList: true});\n",
              "}}\n",
              "\n",
              "// Listen for the clearing of the current output cell\n",
              "var outputEl = gd.closest('.output');\n",
              "if (outputEl) {{\n",
              "    x.observe(outputEl, {childList: true});\n",
              "}}\n",
              "\n",
              "                        })                };                            </script>        </div>\n",
              "</body>\n",
              "</html>"
            ]
          },
          "metadata": {},
          "output_type": "display_data"
        }
      ],
      "source": [
        "# Visualize the optimization history\n",
        "optuna.visualization.plot_optimization_history(study).show()"
      ]
    },
    {
      "cell_type": "code",
      "execution_count": 23,
      "id": "ef688bd9",
      "metadata": {
        "colab": {
          "base_uri": "https://localhost:8080/",
          "height": 542
        },
        "id": "ef688bd9",
        "outputId": "05aae5e9-554f-4242-e5a7-98d789bf46b2"
      },
      "outputs": [
        {
          "data": {
            "text/html": [
              "<html>\n",
              "<head><meta charset=\"utf-8\" /></head>\n",
              "<body>\n",
              "    <div>            <script src=\"https://cdnjs.cloudflare.com/ajax/libs/mathjax/2.7.5/MathJax.js?config=TeX-AMS-MML_SVG\"></script><script type=\"text/javascript\">if (window.MathJax && window.MathJax.Hub && window.MathJax.Hub.Config) {window.MathJax.Hub.Config({SVG: {font: \"STIX-Web\"}});}</script>                <script type=\"text/javascript\">window.PlotlyConfig = {MathJaxConfig: 'local'};</script>\n",
              "        <script charset=\"utf-8\" src=\"https://cdn.plot.ly/plotly-2.35.2.min.js\"></script>                <div id=\"ff58682b-cb13-4b0a-854d-3bb315aa9e95\" class=\"plotly-graph-div\" style=\"height:525px; width:100%;\"></div>            <script type=\"text/javascript\">                                    window.PLOTLYENV=window.PLOTLYENV || {};                                    if (document.getElementById(\"ff58682b-cb13-4b0a-854d-3bb315aa9e95\")) {                    Plotly.newPlot(                        \"ff58682b-cb13-4b0a-854d-3bb315aa9e95\",                        [{\"cliponaxis\":false,\"hovertemplate\":[\"max_depth (IntDistribution): 0.007262086067666636\\u003cextra\\u003e\\u003c\\u002fextra\\u003e\",\"min_samples_split (IntDistribution): 0.01773038277898772\\u003cextra\\u003e\\u003c\\u002fextra\\u003e\",\"n_estimators (IntDistribution): 0.032286534288645044\\u003cextra\\u003e\\u003c\\u002fextra\\u003e\",\"min_samples_leaf (IntDistribution): 0.9427209968647005\\u003cextra\\u003e\\u003c\\u002fextra\\u003e\"],\"name\":\"Objective Value\",\"orientation\":\"h\",\"text\":[\"\\u003c0.01\",\"0.02\",\"0.03\",\"0.94\"],\"textposition\":\"outside\",\"x\":[0.007262086067666636,0.01773038277898772,0.032286534288645044,0.9427209968647005],\"y\":[\"max_depth\",\"min_samples_split\",\"n_estimators\",\"min_samples_leaf\"],\"type\":\"bar\"}],                        {\"title\":{\"text\":\"Hyperparameter Importances\"},\"xaxis\":{\"title\":{\"text\":\"Hyperparameter Importance\"}},\"yaxis\":{\"title\":{\"text\":\"Hyperparameter\"}},\"template\":{\"data\":{\"histogram2dcontour\":[{\"type\":\"histogram2dcontour\",\"colorbar\":{\"outlinewidth\":0,\"ticks\":\"\"},\"colorscale\":[[0.0,\"#0d0887\"],[0.1111111111111111,\"#46039f\"],[0.2222222222222222,\"#7201a8\"],[0.3333333333333333,\"#9c179e\"],[0.4444444444444444,\"#bd3786\"],[0.5555555555555556,\"#d8576b\"],[0.6666666666666666,\"#ed7953\"],[0.7777777777777778,\"#fb9f3a\"],[0.8888888888888888,\"#fdca26\"],[1.0,\"#f0f921\"]]}],\"choropleth\":[{\"type\":\"choropleth\",\"colorbar\":{\"outlinewidth\":0,\"ticks\":\"\"}}],\"histogram2d\":[{\"type\":\"histogram2d\",\"colorbar\":{\"outlinewidth\":0,\"ticks\":\"\"},\"colorscale\":[[0.0,\"#0d0887\"],[0.1111111111111111,\"#46039f\"],[0.2222222222222222,\"#7201a8\"],[0.3333333333333333,\"#9c179e\"],[0.4444444444444444,\"#bd3786\"],[0.5555555555555556,\"#d8576b\"],[0.6666666666666666,\"#ed7953\"],[0.7777777777777778,\"#fb9f3a\"],[0.8888888888888888,\"#fdca26\"],[1.0,\"#f0f921\"]]}],\"heatmap\":[{\"type\":\"heatmap\",\"colorbar\":{\"outlinewidth\":0,\"ticks\":\"\"},\"colorscale\":[[0.0,\"#0d0887\"],[0.1111111111111111,\"#46039f\"],[0.2222222222222222,\"#7201a8\"],[0.3333333333333333,\"#9c179e\"],[0.4444444444444444,\"#bd3786\"],[0.5555555555555556,\"#d8576b\"],[0.6666666666666666,\"#ed7953\"],[0.7777777777777778,\"#fb9f3a\"],[0.8888888888888888,\"#fdca26\"],[1.0,\"#f0f921\"]]}],\"heatmapgl\":[{\"type\":\"heatmapgl\",\"colorbar\":{\"outlinewidth\":0,\"ticks\":\"\"},\"colorscale\":[[0.0,\"#0d0887\"],[0.1111111111111111,\"#46039f\"],[0.2222222222222222,\"#7201a8\"],[0.3333333333333333,\"#9c179e\"],[0.4444444444444444,\"#bd3786\"],[0.5555555555555556,\"#d8576b\"],[0.6666666666666666,\"#ed7953\"],[0.7777777777777778,\"#fb9f3a\"],[0.8888888888888888,\"#fdca26\"],[1.0,\"#f0f921\"]]}],\"contourcarpet\":[{\"type\":\"contourcarpet\",\"colorbar\":{\"outlinewidth\":0,\"ticks\":\"\"}}],\"contour\":[{\"type\":\"contour\",\"colorbar\":{\"outlinewidth\":0,\"ticks\":\"\"},\"colorscale\":[[0.0,\"#0d0887\"],[0.1111111111111111,\"#46039f\"],[0.2222222222222222,\"#7201a8\"],[0.3333333333333333,\"#9c179e\"],[0.4444444444444444,\"#bd3786\"],[0.5555555555555556,\"#d8576b\"],[0.6666666666666666,\"#ed7953\"],[0.7777777777777778,\"#fb9f3a\"],[0.8888888888888888,\"#fdca26\"],[1.0,\"#f0f921\"]]}],\"surface\":[{\"type\":\"surface\",\"colorbar\":{\"outlinewidth\":0,\"ticks\":\"\"},\"colorscale\":[[0.0,\"#0d0887\"],[0.1111111111111111,\"#46039f\"],[0.2222222222222222,\"#7201a8\"],[0.3333333333333333,\"#9c179e\"],[0.4444444444444444,\"#bd3786\"],[0.5555555555555556,\"#d8576b\"],[0.6666666666666666,\"#ed7953\"],[0.7777777777777778,\"#fb9f3a\"],[0.8888888888888888,\"#fdca26\"],[1.0,\"#f0f921\"]]}],\"mesh3d\":[{\"type\":\"mesh3d\",\"colorbar\":{\"outlinewidth\":0,\"ticks\":\"\"}}],\"scatter\":[{\"fillpattern\":{\"fillmode\":\"overlay\",\"size\":10,\"solidity\":0.2},\"type\":\"scatter\"}],\"parcoords\":[{\"type\":\"parcoords\",\"line\":{\"colorbar\":{\"outlinewidth\":0,\"ticks\":\"\"}}}],\"scatterpolargl\":[{\"type\":\"scatterpolargl\",\"marker\":{\"colorbar\":{\"outlinewidth\":0,\"ticks\":\"\"}}}],\"bar\":[{\"error_x\":{\"color\":\"#2a3f5f\"},\"error_y\":{\"color\":\"#2a3f5f\"},\"marker\":{\"line\":{\"color\":\"#E5ECF6\",\"width\":0.5},\"pattern\":{\"fillmode\":\"overlay\",\"size\":10,\"solidity\":0.2}},\"type\":\"bar\"}],\"scattergeo\":[{\"type\":\"scattergeo\",\"marker\":{\"colorbar\":{\"outlinewidth\":0,\"ticks\":\"\"}}}],\"scatterpolar\":[{\"type\":\"scatterpolar\",\"marker\":{\"colorbar\":{\"outlinewidth\":0,\"ticks\":\"\"}}}],\"histogram\":[{\"marker\":{\"pattern\":{\"fillmode\":\"overlay\",\"size\":10,\"solidity\":0.2}},\"type\":\"histogram\"}],\"scattergl\":[{\"type\":\"scattergl\",\"marker\":{\"colorbar\":{\"outlinewidth\":0,\"ticks\":\"\"}}}],\"scatter3d\":[{\"type\":\"scatter3d\",\"line\":{\"colorbar\":{\"outlinewidth\":0,\"ticks\":\"\"}},\"marker\":{\"colorbar\":{\"outlinewidth\":0,\"ticks\":\"\"}}}],\"scattermapbox\":[{\"type\":\"scattermapbox\",\"marker\":{\"colorbar\":{\"outlinewidth\":0,\"ticks\":\"\"}}}],\"scatterternary\":[{\"type\":\"scatterternary\",\"marker\":{\"colorbar\":{\"outlinewidth\":0,\"ticks\":\"\"}}}],\"scattercarpet\":[{\"type\":\"scattercarpet\",\"marker\":{\"colorbar\":{\"outlinewidth\":0,\"ticks\":\"\"}}}],\"carpet\":[{\"aaxis\":{\"endlinecolor\":\"#2a3f5f\",\"gridcolor\":\"white\",\"linecolor\":\"white\",\"minorgridcolor\":\"white\",\"startlinecolor\":\"#2a3f5f\"},\"baxis\":{\"endlinecolor\":\"#2a3f5f\",\"gridcolor\":\"white\",\"linecolor\":\"white\",\"minorgridcolor\":\"white\",\"startlinecolor\":\"#2a3f5f\"},\"type\":\"carpet\"}],\"table\":[{\"cells\":{\"fill\":{\"color\":\"#EBF0F8\"},\"line\":{\"color\":\"white\"}},\"header\":{\"fill\":{\"color\":\"#C8D4E3\"},\"line\":{\"color\":\"white\"}},\"type\":\"table\"}],\"barpolar\":[{\"marker\":{\"line\":{\"color\":\"#E5ECF6\",\"width\":0.5},\"pattern\":{\"fillmode\":\"overlay\",\"size\":10,\"solidity\":0.2}},\"type\":\"barpolar\"}],\"pie\":[{\"automargin\":true,\"type\":\"pie\"}]},\"layout\":{\"autotypenumbers\":\"strict\",\"colorway\":[\"#636efa\",\"#EF553B\",\"#00cc96\",\"#ab63fa\",\"#FFA15A\",\"#19d3f3\",\"#FF6692\",\"#B6E880\",\"#FF97FF\",\"#FECB52\"],\"font\":{\"color\":\"#2a3f5f\"},\"hovermode\":\"closest\",\"hoverlabel\":{\"align\":\"left\"},\"paper_bgcolor\":\"white\",\"plot_bgcolor\":\"#E5ECF6\",\"polar\":{\"bgcolor\":\"#E5ECF6\",\"angularaxis\":{\"gridcolor\":\"white\",\"linecolor\":\"white\",\"ticks\":\"\"},\"radialaxis\":{\"gridcolor\":\"white\",\"linecolor\":\"white\",\"ticks\":\"\"}},\"ternary\":{\"bgcolor\":\"#E5ECF6\",\"aaxis\":{\"gridcolor\":\"white\",\"linecolor\":\"white\",\"ticks\":\"\"},\"baxis\":{\"gridcolor\":\"white\",\"linecolor\":\"white\",\"ticks\":\"\"},\"caxis\":{\"gridcolor\":\"white\",\"linecolor\":\"white\",\"ticks\":\"\"}},\"coloraxis\":{\"colorbar\":{\"outlinewidth\":0,\"ticks\":\"\"}},\"colorscale\":{\"sequential\":[[0.0,\"#0d0887\"],[0.1111111111111111,\"#46039f\"],[0.2222222222222222,\"#7201a8\"],[0.3333333333333333,\"#9c179e\"],[0.4444444444444444,\"#bd3786\"],[0.5555555555555556,\"#d8576b\"],[0.6666666666666666,\"#ed7953\"],[0.7777777777777778,\"#fb9f3a\"],[0.8888888888888888,\"#fdca26\"],[1.0,\"#f0f921\"]],\"sequentialminus\":[[0.0,\"#0d0887\"],[0.1111111111111111,\"#46039f\"],[0.2222222222222222,\"#7201a8\"],[0.3333333333333333,\"#9c179e\"],[0.4444444444444444,\"#bd3786\"],[0.5555555555555556,\"#d8576b\"],[0.6666666666666666,\"#ed7953\"],[0.7777777777777778,\"#fb9f3a\"],[0.8888888888888888,\"#fdca26\"],[1.0,\"#f0f921\"]],\"diverging\":[[0,\"#8e0152\"],[0.1,\"#c51b7d\"],[0.2,\"#de77ae\"],[0.3,\"#f1b6da\"],[0.4,\"#fde0ef\"],[0.5,\"#f7f7f7\"],[0.6,\"#e6f5d0\"],[0.7,\"#b8e186\"],[0.8,\"#7fbc41\"],[0.9,\"#4d9221\"],[1,\"#276419\"]]},\"xaxis\":{\"gridcolor\":\"white\",\"linecolor\":\"white\",\"ticks\":\"\",\"title\":{\"standoff\":15},\"zerolinecolor\":\"white\",\"automargin\":true,\"zerolinewidth\":2},\"yaxis\":{\"gridcolor\":\"white\",\"linecolor\":\"white\",\"ticks\":\"\",\"title\":{\"standoff\":15},\"zerolinecolor\":\"white\",\"automargin\":true,\"zerolinewidth\":2},\"scene\":{\"xaxis\":{\"backgroundcolor\":\"#E5ECF6\",\"gridcolor\":\"white\",\"linecolor\":\"white\",\"showbackground\":true,\"ticks\":\"\",\"zerolinecolor\":\"white\",\"gridwidth\":2},\"yaxis\":{\"backgroundcolor\":\"#E5ECF6\",\"gridcolor\":\"white\",\"linecolor\":\"white\",\"showbackground\":true,\"ticks\":\"\",\"zerolinecolor\":\"white\",\"gridwidth\":2},\"zaxis\":{\"backgroundcolor\":\"#E5ECF6\",\"gridcolor\":\"white\",\"linecolor\":\"white\",\"showbackground\":true,\"ticks\":\"\",\"zerolinecolor\":\"white\",\"gridwidth\":2}},\"shapedefaults\":{\"line\":{\"color\":\"#2a3f5f\"}},\"annotationdefaults\":{\"arrowcolor\":\"#2a3f5f\",\"arrowhead\":0,\"arrowwidth\":1},\"geo\":{\"bgcolor\":\"white\",\"landcolor\":\"#E5ECF6\",\"subunitcolor\":\"white\",\"showland\":true,\"showlakes\":true,\"lakecolor\":\"white\"},\"title\":{\"x\":0.05},\"mapbox\":{\"style\":\"light\"}}}},                        {\"responsive\": true}                    ).then(function(){\n",
              "                            \n",
              "var gd = document.getElementById('ff58682b-cb13-4b0a-854d-3bb315aa9e95');\n",
              "var x = new MutationObserver(function (mutations, observer) {{\n",
              "        var display = window.getComputedStyle(gd).display;\n",
              "        if (!display || display === 'none') {{\n",
              "            console.log([gd, 'removed!']);\n",
              "            Plotly.purge(gd);\n",
              "            observer.disconnect();\n",
              "        }}\n",
              "}});\n",
              "\n",
              "// Listen for the removal of the full notebook cells\n",
              "var notebookContainer = gd.closest('#notebook-container');\n",
              "if (notebookContainer) {{\n",
              "    x.observe(notebookContainer, {childList: true});\n",
              "}}\n",
              "\n",
              "// Listen for the clearing of the current output cell\n",
              "var outputEl = gd.closest('.output');\n",
              "if (outputEl) {{\n",
              "    x.observe(outputEl, {childList: true});\n",
              "}}\n",
              "\n",
              "                        })                };                            </script>        </div>\n",
              "</body>\n",
              "</html>"
            ]
          },
          "metadata": {},
          "output_type": "display_data"
        }
      ],
      "source": [
        "# Visualize the parameter importance\n",
        "optuna.visualization.plot_param_importances(study).show()"
      ]
    }
  ],
  "metadata": {
    "colab": {
      "include_colab_link": true,
      "provenance": []
    },
    "kernelspec": {
      "display_name": "Python (Poetry_dist_tower)",
      "language": "python",
      "name": "my_poetry_kernel"
    },
    "language_info": {
      "codemirror_mode": {
        "name": "ipython",
        "version": 3
      },
      "file_extension": ".py",
      "mimetype": "text/x-python",
      "name": "python",
      "nbconvert_exporter": "python",
      "pygments_lexer": "ipython3",
      "version": "3.10.14"
    }
  },
  "nbformat": 4,
  "nbformat_minor": 5
}
